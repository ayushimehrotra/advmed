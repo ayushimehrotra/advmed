{
 "cells": [
  {
   "cell_type": "code",
   "execution_count": 2,
   "id": "730a569f-6975-4632-b571-f3d352561ca5",
   "metadata": {},
   "outputs": [],
   "source": [
    "from IPython.display import clear_output\n",
    "!pip install torch\n",
    "!pip install torchvision\n",
    "!pip install captum\n",
    "!pip install opencv-python\n",
    "!pip install seaborn\n",
    "!pip install matplotlib\n",
    "!pip install cleverhans\n",
    "!pip install cachetools\n",
    "!pip install pandas\n",
    "!apt-get update && apt-get install ffmpeg libsm6 libxext6  -y\n",
    "clear_output()"
   ]
  },
  {
   "cell_type": "code",
   "execution_count": 2,
   "id": "a748fa53-e7cf-49a7-ac8e-1614d4ab1b43",
   "metadata": {},
   "outputs": [
    {
     "name": "stderr",
     "output_type": "stream",
     "text": [
      "/opt/conda/lib/python3.10/site-packages/torch/cuda/__init__.py:138: UserWarning: CUDA initialization: The NVIDIA driver on your system is too old (found version 11040). Please update your GPU driver by downloading and installing a new version from the URL: http://www.nvidia.com/Download/index.aspx Alternatively, go to: https://pytorch.org to install a PyTorch version that has been compiled with your version of the CUDA driver. (Triggered internally at ../c10/cuda/CUDAFunctions.cpp:108.)\n",
      "  return torch._C._cuda_getDeviceCount() > 0\n"
     ]
    }
   ],
   "source": [
    "import os, cv2,itertools\n",
    "import matplotlib.pyplot as plt\n",
    "import numpy as np\n",
    "import pandas as pd\n",
    "from tqdm import tqdm\n",
    "from glob import glob\n",
    "from PIL import Image\n",
    "\n",
    "# pytorch libraries\n",
    "import torch\n",
    "from torch import optim,nn\n",
    "from torch.autograd import Variable\n",
    "from torch.utils.data import DataLoader,Dataset\n",
    "from torchvision import models,transforms\n",
    "\n",
    "import gc\n",
    "from load_skin import load_skin_data\n",
    "import main\n",
    "import roc_curve\n",
    "\n",
    "# to make the results are reproducible\n",
    "np.random.seed(10)\n",
    "torch.manual_seed(10)\n",
    "torch.cuda.manual_seed(10)\n",
    "device = torch.device('cuda:0' if torch.cuda.is_available() else 'cpu')"
   ]
  },
  {
   "cell_type": "markdown",
   "id": "4c465aa6-1d86-4c20-b449-bb7b0fd76abe",
   "metadata": {},
   "source": [
    "## Dataset"
   ]
  },
  {
   "cell_type": "code",
   "execution_count": 3,
   "id": "8df425ff-5369-4c87-bd34-db642cf41900",
   "metadata": {},
   "outputs": [
    {
     "name": "stderr",
     "output_type": "stream",
     "text": [
      "/root/load_skin.py:107: FutureWarning: The frame.append method is deprecated and will be removed from pandas in a future version. Use pandas.concat instead.\n",
      "  df_train=df_train.append([df_train.loc[df_train['cell_type_idx'] == i,:]]*(data_aug_rate[i]-1), ignore_index=True)\n"
     ]
    }
   ],
   "source": [
    "train_loader, val_loader = load_skin_data()"
   ]
  },
  {
   "cell_type": "markdown",
   "id": "897ad29b-4c1d-42af-96c2-6c5d314cae62",
   "metadata": {},
   "source": [
    "## Model"
   ]
  },
  {
   "cell_type": "code",
   "execution_count": 4,
   "id": "4fa04aaa-21c2-4733-b27b-2b9d536c2d13",
   "metadata": {},
   "outputs": [],
   "source": [
    "model = torch.load('model/skin/model_skin.pth')"
   ]
  },
  {
   "cell_type": "markdown",
   "id": "b313ae11-d48c-49f2-82f6-b2ae1e27e7ba",
   "metadata": {},
   "source": [
    "## Attacks"
   ]
  },
  {
   "cell_type": "code",
   "execution_count": 5,
   "id": "586ac808-138c-44ec-a7cd-f851efbc5a5a",
   "metadata": {},
   "outputs": [],
   "source": [
    "from captum.attr import IntegratedGradients\n",
    "from captum.attr import Saliency\n",
    "from captum.attr import GradientShap\n",
    "from captum.attr import visualization as viz\n",
    "from cleverhans.torch.attacks.fast_gradient_method import fast_gradient_method\n",
    "from cleverhans.torch.attacks.carlini_wagner_l2 import carlini_wagner_l2\n",
    "from cleverhans.torch.attacks.projected_gradient_descent import (\n",
    "    projected_gradient_descent\n",
    ")"
   ]
  },
  {
   "cell_type": "code",
   "execution_count": 6,
   "id": "ee870794-5861-474d-89e8-2fbf4fab17d4",
   "metadata": {},
   "outputs": [],
   "source": [
    "eps = [8/255, 16/255, 32/255, 64/255]"
   ]
  },
  {
   "cell_type": "markdown",
   "id": "928a66cf-dabc-4dc2-8e7d-6ab2625dce9a",
   "metadata": {},
   "source": [
    "# GRAD"
   ]
  },
  {
   "cell_type": "code",
   "execution_count": 10,
   "id": "27e0b933-5f70-45d1-9260-e3533452b83f",
   "metadata": {},
   "outputs": [],
   "source": [
    "algorithm = Saliency(model)"
   ]
  },
  {
   "cell_type": "markdown",
   "id": "55b0c066-4ea2-4d74-a4b4-060e69fea5a9",
   "metadata": {},
   "source": [
    "## Benign Threshold"
   ]
  },
  {
   "cell_type": "code",
   "execution_count": 7,
   "id": "fd452804-0391-46db-90af-a32d937cf253",
   "metadata": {
    "tags": []
   },
   "outputs": [],
   "source": [
    "num_batches = 20\n",
    "spread = 0.15"
   ]
  },
  {
   "cell_type": "code",
   "execution_count": 8,
   "id": "dc3bd32a-aa6a-466a-8e5a-bca60188513c",
   "metadata": {},
   "outputs": [
    {
     "name": "stderr",
     "output_type": "stream",
     "text": [
      "/opt/conda/lib/python3.10/site-packages/captum/_utils/gradient.py:57: UserWarning: Input Tensor 0 did not already require gradients, required_grads has been set automatically.\n",
      "  warnings.warn(\n"
     ]
    },
    {
     "name": "stdout",
     "output_type": "stream",
     "text": [
      "Attribution for batch 0 complete\n",
      "Attribution for batch 1 complete\n",
      "Attribution for batch 2 complete\n",
      "Attribution for batch 3 complete\n",
      "Attribution for batch 4 complete\n",
      "Attribution for batch 5 complete\n",
      "Attribution for batch 6 complete\n",
      "Attribution for batch 7 complete\n",
      "Attribution for batch 8 complete\n",
      "Attribution for batch 9 complete\n",
      "Attribution for batch 10 complete\n",
      "Attribution for batch 11 complete\n",
      "Attribution for batch 12 complete\n",
      "Attribution for batch 13 complete\n",
      "Attribution for batch 14 complete\n",
      "Attribution for batch 15 complete\n",
      "Attribution for batch 16 complete\n",
      "Attribution for batch 17 complete\n",
      "Attribution for batch 18 complete\n",
      "Attribution for batch 19 complete\n"
     ]
    }
   ],
   "source": [
    "resgrad = main.run_benign_noise(algorithm, model, val_loader, num_batches, spread)"
   ]
  },
  {
   "cell_type": "markdown",
   "id": "7e184d90-50d0-498f-bafb-35543c70a534",
   "metadata": {},
   "source": [
    "## PGD (GRAD)"
   ]
  },
  {
   "cell_type": "code",
   "execution_count": 9,
   "id": "427873ed-6b6b-4111-a3ff-229b341ef11f",
   "metadata": {},
   "outputs": [
    {
     "name": "stdout",
     "output_type": "stream",
     "text": [
      "Attribution for batch 0 complete\n",
      "Attribution for batch 1 complete\n",
      "Attribution for batch 2 complete\n",
      "Attribution for batch 3 complete\n",
      "Attribution for batch 4 complete\n",
      "Attribution for batch 5 complete\n",
      "Attribution for batch 6 complete\n",
      "Attribution for batch 7 complete\n",
      "Attribution for batch 8 complete\n",
      "Attribution for batch 9 complete\n",
      "Attribution for batch 10 complete\n",
      "Attribution for batch 11 complete\n",
      "Attribution for batch 12 complete\n",
      "Attribution for batch 13 complete\n",
      "Attribution for batch 14 complete\n",
      "Attribution for batch 15 complete\n",
      "Attribution for batch 16 complete\n",
      "Attribution for batch 17 complete\n",
      "Attribution for batch 18 complete\n",
      "Attribution for batch 19 complete\n",
      "Attribution for batch 0 complete\n",
      "Attribution for batch 1 complete\n",
      "Attribution for batch 2 complete\n",
      "Attribution for batch 3 complete\n",
      "Attribution for batch 4 complete\n",
      "Attribution for batch 5 complete\n",
      "Attribution for batch 6 complete\n",
      "Attribution for batch 7 complete\n",
      "Attribution for batch 8 complete\n",
      "Attribution for batch 9 complete\n",
      "Attribution for batch 10 complete\n",
      "Attribution for batch 11 complete\n",
      "Attribution for batch 12 complete\n",
      "Attribution for batch 13 complete\n",
      "Attribution for batch 14 complete\n",
      "Attribution for batch 15 complete\n",
      "Attribution for batch 16 complete\n",
      "Attribution for batch 17 complete\n",
      "Attribution for batch 18 complete\n",
      "Attribution for batch 19 complete\n",
      "Attribution for batch 0 complete\n",
      "Attribution for batch 1 complete\n",
      "Attribution for batch 2 complete\n",
      "Attribution for batch 3 complete\n",
      "Attribution for batch 4 complete\n",
      "Attribution for batch 5 complete\n",
      "Attribution for batch 6 complete\n",
      "Attribution for batch 7 complete\n",
      "Attribution for batch 8 complete\n",
      "Attribution for batch 9 complete\n",
      "Attribution for batch 10 complete\n",
      "Attribution for batch 11 complete\n",
      "Attribution for batch 12 complete\n",
      "Attribution for batch 13 complete\n",
      "Attribution for batch 14 complete\n",
      "Attribution for batch 15 complete\n",
      "Attribution for batch 16 complete\n",
      "Attribution for batch 17 complete\n",
      "Attribution for batch 18 complete\n",
      "Attribution for batch 19 complete\n",
      "Attribution for batch 0 complete\n",
      "Attribution for batch 1 complete\n",
      "Attribution for batch 2 complete\n",
      "Attribution for batch 3 complete\n",
      "Attribution for batch 4 complete\n",
      "Attribution for batch 5 complete\n",
      "Attribution for batch 6 complete\n",
      "Attribution for batch 7 complete\n",
      "Attribution for batch 8 complete\n",
      "Attribution for batch 9 complete\n",
      "Attribution for batch 10 complete\n",
      "Attribution for batch 11 complete\n",
      "Attribution for batch 12 complete\n",
      "Attribution for batch 13 complete\n",
      "Attribution for batch 14 complete\n",
      "Attribution for batch 15 complete\n",
      "Attribution for batch 16 complete\n",
      "Attribution for batch 17 complete\n",
      "Attribution for batch 18 complete\n",
      "Attribution for batch 19 complete\n"
     ]
    }
   ],
   "source": [
    "res_pgd1 = main.run_pgd_noise(algorithm, model, val_loader, eps[0], num_batches, spread)\n",
    "res_pgd2 = main.run_pgd_noise(algorithm, model, val_loader, eps[1], num_batches, spread)\n",
    "res_pgd3 = main.run_pgd_noise(algorithm, model, val_loader, eps[2], num_batches, spread)\n",
    "res_pgd4 = main.run_pgd_noise(algorithm, model, val_loader, eps[3], num_batches, spread)"
   ]
  },
  {
   "cell_type": "code",
   "execution_count": 16,
   "id": "4f1cdb91-e458-49db-92c0-48bd4a2aee16",
   "metadata": {
    "tags": []
   },
   "outputs": [],
   "source": [
    "import pickle\n",
    "# skin_pgd_grad_noise = {}\n",
    "# skin_pgd_grad_noise['ben'] = resgrad\n",
    "# skin_pgd_grad_noise['pgd1'] = res_pgd1\n",
    "# skin_pgd_grad_noise['pgd2'] = res_pgd2\n",
    "# skin_pgd_grad_noise['pgd3'] = res_pgd3\n",
    "# skin_pgd_grad_noise['pgd4'] = res_pgd4\n",
    "# with open('skin_pgd_grad_noise.pkl', 'wb') as f:\n",
    "#     pickle.dump(skin_pgd_grad_noise, f)\n",
    "with open('skin_pgd_grad_noise.pkl', 'rb') as fp:\n",
    "    skin_pgd_grad_noise = pickle.load(fp)"
   ]
  },
  {
   "cell_type": "code",
   "execution_count": 11,
   "id": "589b2ce2-5582-46b2-8822-29abbe049f41",
   "metadata": {
    "tags": []
   },
   "outputs": [
    {
     "data": {
      "image/png": "[encoded data removed]",
      "text/plain": [
       "<Figure size 640x480 with 1 Axes>"
      ]
     },
     "metadata": {},
     "output_type": "display_data"
    }
   ],
   "source": [
    "plt.hist(skin_pgd_grad_noise['ben'], label='Benign', color='blue')\n",
    "plt.hist(skin_pgd_grad_noise['pgd1'], label='PGD 8/255', color='red')\n",
    "plt.hist(skin_pgd_grad_noise['pgd2'], label='PGD 16/255',  color='yellow')\n",
    "plt.hist(skin_pgd_grad_noise['pgd3'], label='PGD 32/255', color='green')\n",
    "plt.hist(skin_pgd_grad_noise['pgd4'], label='PGD 64/255',  color='purple')\n",
    "plt.legend()\n",
    "plt.show()"
   ]
  },
  {
   "cell_type": "markdown",
   "id": "dfc32228-b862-48e1-ab0e-ecdb6b0a90b8",
   "metadata": {},
   "source": [
    "## FGSM (GRAD)"
   ]
  },
  {
   "cell_type": "code",
   "execution_count": 14,
   "id": "a9eb5b3b-e561-4303-bf07-5246ef852d6a",
   "metadata": {
    "tags": []
   },
   "outputs": [
    {
     "name": "stdout",
     "output_type": "stream",
     "text": [
      "Attribution for batch 0 complete\n",
      "Attribution for batch 1 complete\n",
      "Attribution for batch 2 complete\n",
      "Attribution for batch 3 complete\n",
      "Attribution for batch 4 complete\n",
      "Attribution for batch 5 complete\n",
      "Attribution for batch 6 complete\n",
      "Attribution for batch 7 complete\n",
      "Attribution for batch 8 complete\n",
      "Attribution for batch 9 complete\n",
      "Attribution for batch 10 complete\n",
      "Attribution for batch 11 complete\n",
      "Attribution for batch 12 complete\n",
      "Attribution for batch 13 complete\n",
      "Attribution for batch 14 complete\n",
      "Attribution for batch 15 complete\n",
      "Attribution for batch 16 complete\n",
      "Attribution for batch 17 complete\n",
      "Attribution for batch 18 complete\n",
      "Attribution for batch 19 complete\n",
      "Attribution for batch 0 complete\n",
      "Attribution for batch 1 complete\n",
      "Attribution for batch 2 complete\n",
      "Attribution for batch 3 complete\n",
      "Attribution for batch 4 complete\n",
      "Attribution for batch 5 complete\n",
      "Attribution for batch 6 complete\n",
      "Attribution for batch 7 complete\n",
      "Attribution for batch 8 complete\n",
      "Attribution for batch 9 complete\n",
      "Attribution for batch 10 complete\n",
      "Attribution for batch 11 complete\n",
      "Attribution for batch 12 complete\n",
      "Attribution for batch 13 complete\n",
      "Attribution for batch 14 complete\n",
      "Attribution for batch 15 complete\n",
      "Attribution for batch 16 complete\n",
      "Attribution for batch 17 complete\n",
      "Attribution for batch 18 complete\n",
      "Attribution for batch 19 complete\n",
      "Attribution for batch 0 complete\n",
      "Attribution for batch 1 complete\n",
      "Attribution for batch 2 complete\n",
      "Attribution for batch 3 complete\n",
      "Attribution for batch 4 complete\n",
      "Attribution for batch 5 complete\n",
      "Attribution for batch 6 complete\n",
      "Attribution for batch 7 complete\n",
      "Attribution for batch 8 complete\n",
      "Attribution for batch 9 complete\n",
      "Attribution for batch 10 complete\n",
      "Attribution for batch 11 complete\n",
      "Attribution for batch 12 complete\n",
      "Attribution for batch 13 complete\n",
      "Attribution for batch 14 complete\n",
      "Attribution for batch 15 complete\n",
      "Attribution for batch 16 complete\n",
      "Attribution for batch 17 complete\n",
      "Attribution for batch 18 complete\n",
      "Attribution for batch 19 complete\n",
      "Attribution for batch 0 complete\n",
      "Attribution for batch 1 complete\n",
      "Attribution for batch 2 complete\n",
      "Attribution for batch 3 complete\n",
      "Attribution for batch 4 complete\n",
      "Attribution for batch 5 complete\n",
      "Attribution for batch 6 complete\n",
      "Attribution for batch 7 complete\n",
      "Attribution for batch 8 complete\n",
      "Attribution for batch 9 complete\n",
      "Attribution for batch 10 complete\n",
      "Attribution for batch 11 complete\n",
      "Attribution for batch 12 complete\n",
      "Attribution for batch 13 complete\n",
      "Attribution for batch 14 complete\n",
      "Attribution for batch 15 complete\n",
      "Attribution for batch 16 complete\n",
      "Attribution for batch 17 complete\n",
      "Attribution for batch 18 complete\n",
      "Attribution for batch 19 complete\n"
     ]
    }
   ],
   "source": [
    "res_fgsm1 = main.run_fgsm_noise(algorithm, model, val_loader, eps[0], num_batches, spread)\n",
    "res_fgsm2 = main.run_fgsm_noise(algorithm, model, val_loader, eps[1], num_batches, spread)\n",
    "res_fgsm3 = main.run_fgsm_noise(algorithm, model, val_loader, eps[2], num_batches, spread)\n",
    "res_fgsm4 = main.run_fgsm_noise(algorithm, model, val_loader, eps[3], num_batches, spread)"
   ]
  },
  {
   "cell_type": "code",
   "execution_count": 17,
   "id": "5c6d4de4-4ce4-4916-8c68-244bc9aef378",
   "metadata": {
    "tags": []
   },
   "outputs": [],
   "source": [
    "skin_fgsm_grad_noise = {}\n",
    "skin_fgsm_grad_noise['ben'] = skin_pgd_grad_noise['ben']\n",
    "skin_fgsm_grad_noise['fgsm1'] = res_fgsm1\n",
    "skin_fgsm_grad_noise['fgsm2'] = res_fgsm2\n",
    "skin_fgsm_grad_noise['fgsm3'] = res_fgsm3\n",
    "skin_fgsm_grad_noise['fgsm4'] = res_fgsm4\n",
    "with open('skin_fgsm_grad_noise.pkl', 'wb') as f:\n",
    "    pickle.dump(skin_fgsm_grad_noise, f)\n",
    "# with open('skin_fgsm_grad_noise.pkl', 'rb') as fp:\n",
    "#     skin_fgsm_grad_noise = pickle.load(fp)"
   ]
  },
  {
   "cell_type": "code",
   "execution_count": 20,
   "id": "c50e789a-16fa-406e-9ba9-2b292536ab47",
   "metadata": {
    "tags": []
   },
   "outputs": [
    {
     "data": {
      "image/png": "[encoded data removed]",
      "text/plain": [
       "<Figure size 640x480 with 1 Axes>"
      ]
     },
     "metadata": {},
     "output_type": "display_data"
    }
   ],
   "source": [
    "plt.hist(skin_fgsm_grad_noise['ben'], label='Benign', color='blue')\n",
    "plt.hist(skin_fgsm_grad_noise['fgsm1'], label='FGSM 8/255', color='red')\n",
    "plt.hist(skin_fgsm_grad_noise['fgsm2'], label='FGSM 16/255',  color='yellow')\n",
    "plt.hist(skin_fgsm_grad_noise['fgsm3'], label='FGSM 32/255', color='green')\n",
    "plt.hist(skin_fgsm_grad_noise['fgsm4'], label='FGSM 64/255',  color='purple')\n",
    "plt.legend()\n",
    "plt.show()"
   ]
  },
  {
   "cell_type": "code",
   "execution_count": 21,
   "id": "8e4c6246-a16b-4971-a77a-25fdba4a3222",
   "metadata": {
    "tags": []
   },
   "outputs": [
    {
     "name": "stdout",
     "output_type": "stream",
     "text": [
      "[0.1, 0.103125, 0.1, 0.1]\n",
      "[0.115625, 0.140625, 0.31875, 0.66875]\n"
     ]
    },
    {
     "data": {
      "image/png": "[encoded data removed]",
      "text/plain": [
       "<Figure size 640x480 with 1 Axes>"
      ]
     },
     "metadata": {},
     "output_type": "display_data"
    }
   ],
   "source": [
    "x1, y1 = roc_curve.min_roc_curve(skin_pgd_grad_noise['ben'], skin_pgd_grad_noise['pgd1'], 1000)\n",
    "x2, y2 = roc_curve.min_roc_curve(skin_pgd_grad_noise['ben'], skin_pgd_grad_noise['pgd2'], 1000)\n",
    "x3, y3 = roc_curve.min_roc_curve(skin_pgd_grad_noise['ben'], skin_pgd_grad_noise['pgd3'], 1000)\n",
    "x4, y4 = roc_curve.min_roc_curve(skin_pgd_grad_noise['ben'], skin_pgd_grad_noise['pgd4'], 1000)\n",
    "\n",
    "fpr_res = [0, 0, 0, 0]\n",
    "tpr_res = [0, 0, 0, 0]\n",
    "i = 0\n",
    "for a, b, c, d in zip(x1, x2, x3, x4):\n",
    "    if abs(a - 0.1) < abs(fpr_res[0] - 0.1):\n",
    "        fpr_res[0] = a\n",
    "        tpr_res[0] = y1[i]\n",
    "    if abs(b - 0.1) < abs(fpr_res[1] - 0.1):\n",
    "        fpr_res[1] = b\n",
    "        tpr_res[1] = y2[i]\n",
    "    if abs(c - 0.1) < abs(fpr_res[2] - 0.1):\n",
    "        fpr_res[2] = c\n",
    "        tpr_res[2] = y3[i]\n",
    "    if abs(d - 0.1) < abs(fpr_res[3] - 0.1):\n",
    "        fpr_res[3] = d\n",
    "        tpr_res[3] = y4[i]\n",
    "    i+=1\n",
    "        \n",
    "print(fpr_res)\n",
    "print(tpr_res)\n",
    "\n",
    "plt.title(\"PGD GRAD ROC for Skin\")\n",
    "plt.plot(x1, y1,   \"red\", linestyle = 'dotted', label = \"PGD 8/255\")\n",
    "plt.plot(x2, y2, \"blue\", linestyle = 'dotted', label = \"PGD 16/255\")\n",
    "plt.plot(x3, y3, \"green\", linestyle = 'dotted', label = \"PGD 32/255\")\n",
    "plt.plot(x4, y4, \"purple\", linestyle = 'dotted', label = \"PGD 64/255\")\n",
    "plt.show()"
   ]
  },
  {
   "cell_type": "code",
   "execution_count": 22,
   "id": "52b54091-cb82-49e0-b56f-b84b70341f2d",
   "metadata": {
    "tags": []
   },
   "outputs": [
    {
     "name": "stdout",
     "output_type": "stream",
     "text": [
      "[0.1, 0.1, 0.103125, 0.096875]\n",
      "[0.61875, 0.70625, 0.84375, 0.884375]\n"
     ]
    },
    {
     "data": {
      "image/png": "[encoded data removed]",
      "text/plain": [
       "<Figure size 640x480 with 1 Axes>"
      ]
     },
     "metadata": {},
     "output_type": "display_data"
    }
   ],
   "source": [
    "x1, y1 = roc_curve.min_roc_curve(skin_fgsm_grad_noise['ben'], skin_fgsm_grad_noise['fgsm1'], 1000)\n",
    "x2, y2 = roc_curve.min_roc_curve(skin_fgsm_grad_noise['ben'], skin_fgsm_grad_noise['fgsm2'], 1000)\n",
    "x3, y3 = roc_curve.min_roc_curve(skin_fgsm_grad_noise['ben'], skin_fgsm_grad_noise['fgsm3'], 1000)\n",
    "x4, y4 = roc_curve.min_roc_curve(skin_fgsm_grad_noise['ben'], skin_fgsm_grad_noise['fgsm4'], 1000)\n",
    "\n",
    "fpr_res = [0, 0, 0, 0]\n",
    "tpr_res = [0, 0, 0, 0]\n",
    "i = 0\n",
    "for a, b, c, d in zip(x1, x2, x3, x4):\n",
    "    if abs(a - 0.1) < abs(fpr_res[0] - 0.1):\n",
    "        fpr_res[0] = a\n",
    "        tpr_res[0] = y1[i]\n",
    "    if abs(b - 0.1) < abs(fpr_res[1] - 0.1):\n",
    "        fpr_res[1] = b\n",
    "        tpr_res[1] = y2[i]\n",
    "    if abs(c - 0.1) < abs(fpr_res[2] - 0.1):\n",
    "        fpr_res[2] = c\n",
    "        tpr_res[2] = y3[i]\n",
    "    if abs(d - 0.1) < abs(fpr_res[3] - 0.1):\n",
    "        fpr_res[3] = d\n",
    "        tpr_res[3] = y4[i]\n",
    "    i+=1\n",
    "        \n",
    "print(fpr_res)\n",
    "print(tpr_res)\n",
    "\n",
    "plt.title(\"FGSM ROC for Skin\")\n",
    "plt.plot(x1, y1, \"red\", linestyle = 'dotted')\n",
    "plt.plot(x2, y2, \"blue\", linestyle = 'dotted')\n",
    "plt.plot(x3, y3, \"green\", linestyle = 'dotted')\n",
    "plt.plot(x4, y4, \"purple\", linestyle = 'dotted')\n",
    "plt.show()"
   ]
  },
  {
   "cell_type": "markdown",
   "id": "0b917ced-73db-4149-90b5-b3c3a87ff457",
   "metadata": {},
   "source": [
    "# IG"
   ]
  },
  {
   "cell_type": "code",
   "execution_count": 10,
   "id": "4308aa8b-2aa9-4d42-affe-99691678d1b7",
   "metadata": {
    "tags": []
   },
   "outputs": [],
   "source": [
    "algorithm = IntegratedGradients(model)"
   ]
  },
  {
   "cell_type": "code",
   "execution_count": 9,
   "id": "ecbdcd27-efb5-4cb2-957e-c31c00a0d4a4",
   "metadata": {
    "tags": []
   },
   "outputs": [
    {
     "name": "stdout",
     "output_type": "stream",
     "text": [
      "Attribution for batch 0 complete\n",
      "Attribution for batch 1 complete\n",
      "Attribution for batch 2 complete\n",
      "Attribution for batch 3 complete\n",
      "Attribution for batch 4 complete\n",
      "Attribution for batch 5 complete\n",
      "Attribution for batch 6 complete\n",
      "Attribution for batch 7 complete\n",
      "Attribution for batch 8 complete\n",
      "Attribution for batch 9 complete\n",
      "Attribution for batch 10 complete\n",
      "Attribution for batch 11 complete\n",
      "Attribution for batch 12 complete\n",
      "Attribution for batch 13 complete\n",
      "Attribution for batch 14 complete\n",
      "Attribution for batch 15 complete\n",
      "Attribution for batch 16 complete\n",
      "Attribution for batch 17 complete\n",
      "Attribution for batch 18 complete\n",
      "Attribution for batch 19 complete\n"
     ]
    }
   ],
   "source": [
    "resig = main.run_benign_noise(algorithm, model, val_loader, num_batches, spread)"
   ]
  },
  {
   "cell_type": "markdown",
   "id": "a2cdfef1-0d3c-404d-bd4b-b8a85bf0dc4e",
   "metadata": {},
   "source": [
    "## PGD (IG)"
   ]
  },
  {
   "cell_type": "code",
   "execution_count": null,
   "id": "403644d3-1a98-4eb7-ad8f-7210b0815602",
   "metadata": {
    "tags": []
   },
   "outputs": [
    {
     "name": "stdout",
     "output_type": "stream",
     "text": [
      "Attribution for batch 0 complete\n",
      "Attribution for batch 1 complete\n",
      "Attribution for batch 2 complete\n",
      "Attribution for batch 3 complete\n",
      "Attribution for batch 4 complete\n",
      "Attribution for batch 5 complete\n",
      "Attribution for batch 6 complete\n",
      "Attribution for batch 7 complete\n",
      "Attribution for batch 8 complete\n",
      "Attribution for batch 9 complete\n",
      "Attribution for batch 10 complete\n",
      "Attribution for batch 11 complete\n",
      "Attribution for batch 12 complete\n",
      "Attribution for batch 13 complete\n",
      "Attribution for batch 14 complete\n",
      "Attribution for batch 15 complete\n",
      "Attribution for batch 16 complete\n",
      "Attribution for batch 17 complete\n",
      "Attribution for batch 18 complete\n",
      "Attribution for batch 19 complete\n",
      "Attribution for batch 0 complete\n",
      "Attribution for batch 1 complete\n",
      "Attribution for batch 2 complete\n",
      "Attribution for batch 3 complete\n",
      "Attribution for batch 4 complete\n",
      "Attribution for batch 5 complete\n",
      "Attribution for batch 6 complete\n",
      "Attribution for batch 7 complete\n",
      "Attribution for batch 8 complete\n",
      "Attribution for batch 9 complete\n",
      "Attribution for batch 10 complete\n",
      "Attribution for batch 11 complete\n",
      "Attribution for batch 12 complete\n",
      "Attribution for batch 13 complete\n",
      "Attribution for batch 14 complete\n",
      "Attribution for batch 15 complete\n",
      "Attribution for batch 16 complete\n",
      "Attribution for batch 17 complete\n",
      "Attribution for batch 18 complete\n",
      "Attribution for batch 19 complete\n",
      "Attribution for batch 0 complete\n",
      "Attribution for batch 1 complete\n",
      "Attribution for batch 2 complete\n",
      "Attribution for batch 3 complete\n",
      "Attribution for batch 4 complete\n",
      "Attribution for batch 5 complete\n",
      "Attribution for batch 6 complete\n",
      "Attribution for batch 7 complete\n",
      "Attribution for batch 8 complete\n",
      "Attribution for batch 9 complete\n",
      "Attribution for batch 10 complete\n",
      "Attribution for batch 11 complete\n",
      "Attribution for batch 12 complete\n",
      "Attribution for batch 13 complete\n",
      "Attribution for batch 14 complete\n",
      "Attribution for batch 15 complete\n",
      "Attribution for batch 16 complete\n",
      "Attribution for batch 17 complete\n",
      "Attribution for batch 18 complete\n",
      "Attribution for batch 19 complete\n",
      "Attribution for batch 0 complete\n",
      "Attribution for batch 1 complete\n",
      "Attribution for batch 2 complete\n",
      "Attribution for batch 3 complete\n",
      "Attribution for batch 4 complete\n",
      "Attribution for batch 5 complete\n",
      "Attribution for batch 6 complete\n",
      "Attribution for batch 7 complete\n",
      "Attribution for batch 8 complete\n",
      "Attribution for batch 9 complete\n",
      "Attribution for batch 10 complete\n",
      "Attribution for batch 11 complete\n",
      "Attribution for batch 12 complete\n",
      "Attribution for batch 13 complete\n",
      "Attribution for batch 14 complete\n",
      "Attribution for batch 15 complete\n",
      "Attribution for batch 16 complete\n",
      "Attribution for batch 17 complete\n",
      "Attribution for batch 18 complete\n",
      "Attribution for batch 19 complete\n"
     ]
    }
   ],
   "source": [
    "res_pgd1ig = main.run_pgd_noise(algorithm, model, val_loader, eps[0], num_batches, spread)\n",
    "res_pgd2ig = main.run_pgd_noise(algorithm, model, val_loader, eps[1], num_batches, spread)\n",
    "res_pgd3ig = main.run_pgd_noise(algorithm, model, val_loader, eps[2], num_batches, spread)\n",
    "res_pgd4ig = main.run_pgd_noise(algorithm, model, val_loader, eps[3], num_batches, spread)"
   ]
  },
  {
   "cell_type": "code",
   "execution_count": 8,
   "id": "f62618e3-66aa-4209-a4d4-9cdde6089732",
   "metadata": {
    "tags": []
   },
   "outputs": [],
   "source": [
    "import pickle\n",
    "skin_pgd_ig_noise = {}\n",
    "# skin_pgd_ig_noise['ben'] = resig\n",
    "# skin_pgd_ig_noise['pgd1'] = res_pgd1ig\n",
    "# skin_pgd_ig_noise['pgd2'] = res_pgd2ig\n",
    "# skin_pgd_ig_noise['pgd3'] = res_pgd3ig\n",
    "# skin_pgd_ig_noise['pgd4'] = res_pgd4ig\n",
    "# with open('skin_pgd_ig_noise.pkl', 'wb') as f:\n",
    "#     pickle.dump(skin_pgd_ig_noise, f)\n",
    "with open('skin_pgd_ig_noise.pkl', 'rb') as fp:\n",
    "    skin_pgd_ig_noise = pickle.load(fp)"
   ]
  },
  {
   "cell_type": "code",
   "execution_count": null,
   "id": "c88bbb11-a0fb-4b4f-99fd-c51c65b5aa9a",
   "metadata": {
    "tags": []
   },
   "outputs": [
    {
     "data": {
      "image/png": "[encoded data removed]",
      "text/plain": [
       "<Figure size 640x480 with 1 Axes>"
      ]
     },
     "metadata": {},
     "output_type": "display_data"
    }
   ],
   "source": [
    "plt.hist(skin_pgd_ig_noise['ben'], label='Benign', color='blue')\n",
    "plt.hist(skin_pgd_ig_noise['pgd1'], label='PGD 8/255', color='red')\n",
    "plt.hist(skin_pgd_ig_noise['pgd2'], label='PGD 16/255',  color='yellow')\n",
    "plt.hist(skin_pgd_ig_noise['pgd3'], label='PGD 32/255', color='green')\n",
    "plt.hist(skin_pgd_ig_noise['pgd4'], label='PGD 64/255',  color='purple')\n",
    "plt.legend()\n",
    "plt.show()"
   ]
  },
  {
   "cell_type": "markdown",
   "id": "aa8fb92d-1a2f-4966-b4af-7e964e9195a3",
   "metadata": {},
   "source": [
    "## FGSM (IG)"
   ]
  },
  {
   "cell_type": "code",
   "execution_count": 11,
   "id": "9eb8344b-d9b1-4003-bed2-f6b8c6026f86",
   "metadata": {
    "tags": []
   },
   "outputs": [
    {
     "name": "stdout",
     "output_type": "stream",
     "text": [
      "Attribution for batch 0 complete\n",
      "Attribution for batch 1 complete\n",
      "Attribution for batch 2 complete\n",
      "Attribution for batch 3 complete\n",
      "Attribution for batch 4 complete\n",
      "Attribution for batch 5 complete\n",
      "Attribution for batch 6 complete\n",
      "Attribution for batch 7 complete\n",
      "Attribution for batch 8 complete\n",
      "Attribution for batch 9 complete\n",
      "Attribution for batch 10 complete\n",
      "Attribution for batch 11 complete\n",
      "Attribution for batch 12 complete\n",
      "Attribution for batch 13 complete\n",
      "Attribution for batch 14 complete\n",
      "Attribution for batch 15 complete\n",
      "Attribution for batch 16 complete\n",
      "Attribution for batch 17 complete\n",
      "Attribution for batch 18 complete\n",
      "Attribution for batch 19 complete\n",
      "Attribution for batch 0 complete\n",
      "Attribution for batch 1 complete\n",
      "Attribution for batch 2 complete\n",
      "Attribution for batch 3 complete\n",
      "Attribution for batch 4 complete\n",
      "Attribution for batch 5 complete\n",
      "Attribution for batch 6 complete\n",
      "Attribution for batch 7 complete\n",
      "Attribution for batch 8 complete\n",
      "Attribution for batch 9 complete\n",
      "Attribution for batch 10 complete\n",
      "Attribution for batch 11 complete\n",
      "Attribution for batch 12 complete\n",
      "Attribution for batch 13 complete\n",
      "Attribution for batch 14 complete\n",
      "Attribution for batch 15 complete\n",
      "Attribution for batch 16 complete\n",
      "Attribution for batch 17 complete\n",
      "Attribution for batch 18 complete\n",
      "Attribution for batch 19 complete\n",
      "Attribution for batch 0 complete\n",
      "Attribution for batch 1 complete\n",
      "Attribution for batch 2 complete\n",
      "Attribution for batch 3 complete\n",
      "Attribution for batch 4 complete\n",
      "Attribution for batch 5 complete\n",
      "Attribution for batch 6 complete\n",
      "Attribution for batch 7 complete\n",
      "Attribution for batch 8 complete\n",
      "Attribution for batch 9 complete\n",
      "Attribution for batch 10 complete\n",
      "Attribution for batch 11 complete\n",
      "Attribution for batch 12 complete\n",
      "Attribution for batch 13 complete\n",
      "Attribution for batch 14 complete\n",
      "Attribution for batch 15 complete\n",
      "Attribution for batch 16 complete\n",
      "Attribution for batch 17 complete\n",
      "Attribution for batch 18 complete\n",
      "Attribution for batch 19 complete\n",
      "Attribution for batch 0 complete\n",
      "Attribution for batch 1 complete\n",
      "Attribution for batch 2 complete\n",
      "Attribution for batch 3 complete\n",
      "Attribution for batch 4 complete\n",
      "Attribution for batch 5 complete\n",
      "Attribution for batch 6 complete\n",
      "Attribution for batch 7 complete\n",
      "Attribution for batch 8 complete\n",
      "Attribution for batch 9 complete\n",
      "Attribution for batch 10 complete\n",
      "Attribution for batch 11 complete\n",
      "Attribution for batch 12 complete\n",
      "Attribution for batch 13 complete\n",
      "Attribution for batch 14 complete\n",
      "Attribution for batch 15 complete\n",
      "Attribution for batch 16 complete\n",
      "Attribution for batch 17 complete\n",
      "Attribution for batch 18 complete\n",
      "Attribution for batch 19 complete\n"
     ]
    }
   ],
   "source": [
    "res_fgsm1ig = main.run_fgsm_noise(algorithm, model, val_loader, eps[0], num_batches, spread)\n",
    "res_fgsm2ig = main.run_fgsm_noise(algorithm, model, val_loader, eps[1], num_batches, spread)\n",
    "res_fgsm3ig = main.run_fgsm_noise(algorithm, model, val_loader, eps[2], num_batches, spread)\n",
    "res_fgsm4ig = main.run_fgsm_noise(algorithm, model, val_loader, eps[3], num_batches, spread)"
   ]
  },
  {
   "cell_type": "code",
   "execution_count": 12,
   "id": "f7912555-23f4-426e-911e-0aa3221d85c0",
   "metadata": {
    "tags": []
   },
   "outputs": [],
   "source": [
    "skin_fgsm_ig_noise = {}\n",
    "skin_fgsm_ig_noise['ben'] = skin_pgd_ig_noise['ben'] \n",
    "skin_fgsm_ig_noise['fgsm1'] = res_fgsm1ig\n",
    "skin_fgsm_ig_noise['fgsm2'] = res_fgsm2ig\n",
    "skin_fgsm_ig_noise['fgsm3'] = res_fgsm3ig\n",
    "skin_fgsm_ig_noise['fgsm4'] = res_fgsm4ig\n",
    "with open('skin_fgsm_ig_noise.pkl', 'wb') as f:\n",
    "    pickle.dump(skin_fgsm_ig_noise, f)\n",
    "# with open('skin_fgsm_ig_noise.pkl', 'rb') as fp:\n",
    "#     skin_fgsm_ig_noise = pickle.load(fp)"
   ]
  },
  {
   "cell_type": "code",
   "execution_count": 14,
   "id": "b5c11835-ecb3-47e3-a5e1-2810f0f8c9a2",
   "metadata": {
    "tags": []
   },
   "outputs": [
    {
     "data": {
      "image/png": "[encoded data removed]",
      "text/plain": [
       "<Figure size 640x480 with 1 Axes>"
      ]
     },
     "metadata": {},
     "output_type": "display_data"
    }
   ],
   "source": [
    "plt.hist(skin_fgsm_ig_noise['ben'], label='Benign', color='blue')\n",
    "plt.hist(skin_fgsm_ig_noise['fgsm1'], label='FGSM 8/255', color='red')\n",
    "plt.hist(skin_fgsm_ig_noise['fgsm2'], label='FGSM 16/255',  color='yellow')\n",
    "plt.hist(skin_fgsm_ig_noise['fgsm3'], label='FGSM 32/255', color='green')\n",
    "plt.hist(skin_fgsm_ig_noise['fgsm4'], label='FGSM 64/255',  color='purple')\n",
    "plt.legend()\n",
    "plt.show()"
   ]
  },
  {
   "cell_type": "code",
   "execution_count": 15,
   "id": "0beb160f-670e-43f3-ab46-5253a2bdee92",
   "metadata": {
    "tags": []
   },
   "outputs": [
    {
     "name": "stdout",
     "output_type": "stream",
     "text": [
      "[0.1, 0.103125, 0.1, 0.1]\n",
      "[0.103125, 0.103125, 0.13125, 0.34375]\n"
     ]
    },
    {
     "data": {
      "image/png": "[encoded data removed]",
      "text/plain": [
       "<Figure size 640x480 with 1 Axes>"
      ]
     },
     "metadata": {},
     "output_type": "display_data"
    }
   ],
   "source": [
    "x1, y1 = roc_curve.min_roc_curve(skin_pgd_ig_noise['ben'], skin_pgd_ig_noise['pgd1'], 1000)\n",
    "x2, y2 = roc_curve.min_roc_curve(skin_pgd_ig_noise['ben'], skin_pgd_ig_noise['pgd2'], 1000)\n",
    "x3, y3 = roc_curve.min_roc_curve(skin_pgd_ig_noise['ben'], skin_pgd_ig_noise['pgd3'], 1000)\n",
    "x4, y4 = roc_curve.min_roc_curve(skin_pgd_ig_noise['ben'], skin_pgd_ig_noise['pgd4'], 1000)\n",
    "\n",
    "fpr_res = [0, 0, 0, 0]\n",
    "tpr_res = [0, 0, 0, 0]\n",
    "i = 0\n",
    "for a, b, c, d in zip(x1, x2, x3, x4):\n",
    "    if abs(a - 0.1) < abs(fpr_res[0] - 0.1):\n",
    "        fpr_res[0] = a\n",
    "        tpr_res[0] = y1[i]\n",
    "    if abs(b - 0.1) < abs(fpr_res[1] - 0.1):\n",
    "        fpr_res[1] = b\n",
    "        tpr_res[1] = y2[i]\n",
    "    if abs(c - 0.1) < abs(fpr_res[2] - 0.1):\n",
    "        fpr_res[2] = c\n",
    "        tpr_res[2] = y3[i]\n",
    "    if abs(d - 0.1) < abs(fpr_res[3] - 0.1):\n",
    "        fpr_res[3] = d\n",
    "        tpr_res[3] = y4[i]\n",
    "    i+=1\n",
    "        \n",
    "print(fpr_res)\n",
    "print(tpr_res)\n",
    "\n",
    "plt.title(\"PGD IG ROC for Skin\")\n",
    "plt.plot(x1, y1,   \"red\", linestyle = 'dotted', label = \"PGD 8/255\")\n",
    "plt.plot(x2, y2, \"blue\", linestyle = 'dotted', label = \"PGD 16/255\")\n",
    "plt.plot(x3, y3, \"green\", linestyle = 'dotted', label = \"PGD 32/255\")\n",
    "plt.plot(x4, y4, \"purple\", linestyle = 'dotted', label = \"PGD 64/255\")\n",
    "plt.show()"
   ]
  },
  {
   "cell_type": "code",
   "execution_count": 16,
   "id": "2a7926ef-d991-4187-9435-58e6dd75d0a9",
   "metadata": {
    "tags": []
   },
   "outputs": [
    {
     "name": "stdout",
     "output_type": "stream",
     "text": [
      "[0.1, 0.1, 0.103125, 0.096875]\n",
      "[0.24375, 0.35, 0.571875, 0.7875]\n"
     ]
    },
    {
     "data": {
      "image/png": "[encoded data removed]",
      "text/plain": [
       "<Figure size 640x480 with 1 Axes>"
      ]
     },
     "metadata": {},
     "output_type": "display_data"
    }
   ],
   "source": [
    "x1, y1 = roc_curve.min_roc_curve(skin_fgsm_ig_noise['ben'], skin_fgsm_ig_noise['fgsm1'], 1000)\n",
    "x2, y2 = roc_curve.min_roc_curve(skin_fgsm_ig_noise['ben'], skin_fgsm_ig_noise['fgsm2'], 1000)\n",
    "x3, y3 = roc_curve.min_roc_curve(skin_fgsm_ig_noise['ben'], skin_fgsm_ig_noise['fgsm3'], 1000)\n",
    "x4, y4 = roc_curve.min_roc_curve(skin_fgsm_ig_noise['ben'], skin_fgsm_ig_noise['fgsm4'], 1000)\n",
    "\n",
    "fpr_res = [0, 0, 0, 0]\n",
    "tpr_res = [0, 0, 0, 0]\n",
    "i = 0\n",
    "for a, b, c, d in zip(x1, x2, x3, x4):\n",
    "    if abs(a - 0.1) < abs(fpr_res[0] - 0.1):\n",
    "        fpr_res[0] = a\n",
    "        tpr_res[0] = y1[i]\n",
    "    if abs(b - 0.1) < abs(fpr_res[1] - 0.1):\n",
    "        fpr_res[1] = b\n",
    "        tpr_res[1] = y2[i]\n",
    "    if abs(c - 0.1) < abs(fpr_res[2] - 0.1):\n",
    "        fpr_res[2] = c\n",
    "        tpr_res[2] = y3[i]\n",
    "    if abs(d - 0.1) < abs(fpr_res[3] - 0.1):\n",
    "        fpr_res[3] = d\n",
    "        tpr_res[3] = y4[i]\n",
    "    i+=1\n",
    "        \n",
    "print(fpr_res)\n",
    "print(tpr_res)\n",
    "\n",
    "plt.title(\"FGSM IG ROC for Skin\")\n",
    "plt.plot(x1, y1, \"red\", linestyle = 'dotted')\n",
    "plt.plot(x2, y2, \"blue\", linestyle = 'dotted')\n",
    "plt.plot(x3, y3, \"green\", linestyle = 'dotted')\n",
    "plt.plot(x4, y4, \"purple\", linestyle = 'dotted')\n",
    "plt.show()"
   ]
  }
 ],
 "metadata": {
  "availableInstances": [
   {
    "_defaultOrder": 0,
    "_isFastLaunch": true,
    "category": "General purpose",
    "gpuNum": 0,
    "hideHardwareSpecs": false,
    "memoryGiB": 4,
    "name": "ml.t3.medium",
    "vcpuNum": 2
   },
   {
    "_defaultOrder": 1,
    "_isFastLaunch": false,
    "category": "General purpose",
    "gpuNum": 0,
    "hideHardwareSpecs": false,
    "memoryGiB": 8,
    "name": "ml.t3.large",
    "vcpuNum": 2
   },
   {
    "_defaultOrder": 2,
    "_isFastLaunch": false,
    "category": "General purpose",
    "gpuNum": 0,
    "hideHardwareSpecs": false,
    "memoryGiB": 16,
    "name": "ml.t3.xlarge",
    "vcpuNum": 4
   },
   {
    "_defaultOrder": 3,
    "_isFastLaunch": false,
    "category": "General purpose",
    "gpuNum": 0,
    "hideHardwareSpecs": false,
    "memoryGiB": 32,
    "name": "ml.t3.2xlarge",
    "vcpuNum": 8
   },
   {
    "_defaultOrder": 4,
    "_isFastLaunch": true,
    "category": "General purpose",
    "gpuNum": 0,
    "hideHardwareSpecs": false,
    "memoryGiB": 8,
    "name": "ml.m5.large",
    "vcpuNum": 2
   },
   {
    "_defaultOrder": 5,
    "_isFastLaunch": false,
    "category": "General purpose",
    "gpuNum": 0,
    "hideHardwareSpecs": false,
    "memoryGiB": 16,
    "name": "ml.m5.xlarge",
    "vcpuNum": 4
   },
   {
    "_defaultOrder": 6,
    "_isFastLaunch": false,
    "category": "General purpose",
    "gpuNum": 0,
    "hideHardwareSpecs": false,
    "memoryGiB": 32,
    "name": "ml.m5.2xlarge",
    "vcpuNum": 8
   },
   {
    "_defaultOrder": 7,
    "_isFastLaunch": false,
    "category": "General purpose",
    "gpuNum": 0,
    "hideHardwareSpecs": false,
    "memoryGiB": 64,
    "name": "ml.m5.4xlarge",
    "vcpuNum": 16
   },
   {
    "_defaultOrder": 8,
    "_isFastLaunch": false,
    "category": "General purpose",
    "gpuNum": 0,
    "hideHardwareSpecs": false,
    "memoryGiB": 128,
    "name": "ml.m5.8xlarge",
    "vcpuNum": 32
   },
   {
    "_defaultOrder": 9,
    "_isFastLaunch": false,
    "category": "General purpose",
    "gpuNum": 0,
    "hideHardwareSpecs": false,
    "memoryGiB": 192,
    "name": "ml.m5.12xlarge",
    "vcpuNum": 48
   },
   {
    "_defaultOrder": 10,
    "_isFastLaunch": false,
    "category": "General purpose",
    "gpuNum": 0,
    "hideHardwareSpecs": false,
    "memoryGiB": 256,
    "name": "ml.m5.16xlarge",
    "vcpuNum": 64
   },
   {
    "_defaultOrder": 11,
    "_isFastLaunch": false,
    "category": "General purpose",
    "gpuNum": 0,
    "hideHardwareSpecs": false,
    "memoryGiB": 384,
    "name": "ml.m5.24xlarge",
    "vcpuNum": 96
   },
   {
    "_defaultOrder": 12,
    "_isFastLaunch": false,
    "category": "General purpose",
    "gpuNum": 0,
    "hideHardwareSpecs": false,
    "memoryGiB": 8,
    "name": "ml.m5d.large",
    "vcpuNum": 2
   },
   {
    "_defaultOrder": 13,
    "_isFastLaunch": false,
    "category": "General purpose",
    "gpuNum": 0,
    "hideHardwareSpecs": false,
    "memoryGiB": 16,
    "name": "ml.m5d.xlarge",
    "vcpuNum": 4
   },
   {
    "_defaultOrder": 14,
    "_isFastLaunch": false,
    "category": "General purpose",
    "gpuNum": 0,
    "hideHardwareSpecs": false,
    "memoryGiB": 32,
    "name": "ml.m5d.2xlarge",
    "vcpuNum": 8
   },
   {
    "_defaultOrder": 15,
    "_isFastLaunch": false,
    "category": "General purpose",
    "gpuNum": 0,
    "hideHardwareSpecs": false,
    "memoryGiB": 64,
    "name": "ml.m5d.4xlarge",
    "vcpuNum": 16
   },
   {
    "_defaultOrder": 16,
    "_isFastLaunch": false,
    "category": "General purpose",
    "gpuNum": 0,
    "hideHardwareSpecs": false,
    "memoryGiB": 128,
    "name": "ml.m5d.8xlarge",
    "vcpuNum": 32
   },
   {
    "_defaultOrder": 17,
    "_isFastLaunch": false,
    "category": "General purpose",
    "gpuNum": 0,
    "hideHardwareSpecs": false,
    "memoryGiB": 192,
    "name": "ml.m5d.12xlarge",
    "vcpuNum": 48
   },
   {
    "_defaultOrder": 18,
    "_isFastLaunch": false,
    "category": "General purpose",
    "gpuNum": 0,
    "hideHardwareSpecs": false,
    "memoryGiB": 256,
    "name": "ml.m5d.16xlarge",
    "vcpuNum": 64
   },
   {
    "_defaultOrder": 19,
    "_isFastLaunch": false,
    "category": "General purpose",
    "gpuNum": 0,
    "hideHardwareSpecs": false,
    "memoryGiB": 384,
    "name": "ml.m5d.24xlarge",
    "vcpuNum": 96
   },
   {
    "_defaultOrder": 20,
    "_isFastLaunch": false,
    "category": "General purpose",
    "gpuNum": 0,
    "hideHardwareSpecs": true,
    "memoryGiB": 0,
    "name": "ml.geospatial.interactive",
    "supportedImageNames": [
     "sagemaker-geospatial-v1-0"
    ],
    "vcpuNum": 0
   },
   {
    "_defaultOrder": 21,
    "_isFastLaunch": true,
    "category": "Compute optimized",
    "gpuNum": 0,
    "hideHardwareSpecs": false,
    "memoryGiB": 4,
    "name": "ml.c5.large",
    "vcpuNum": 2
   },
   {
    "_defaultOrder": 22,
    "_isFastLaunch": false,
    "category": "Compute optimized",
    "gpuNum": 0,
    "hideHardwareSpecs": false,
    "memoryGiB": 8,
    "name": "ml.c5.xlarge",
    "vcpuNum": 4
   },
   {
    "_defaultOrder": 23,
    "_isFastLaunch": false,
    "category": "Compute optimized",
    "gpuNum": 0,
    "hideHardwareSpecs": false,
    "memoryGiB": 16,
    "name": "ml.c5.2xlarge",
    "vcpuNum": 8
   },
   {
    "_defaultOrder": 24,
    "_isFastLaunch": false,
    "category": "Compute optimized",
    "gpuNum": 0,
    "hideHardwareSpecs": false,
    "memoryGiB": 32,
    "name": "ml.c5.4xlarge",
    "vcpuNum": 16
   },
   {
    "_defaultOrder": 25,
    "_isFastLaunch": false,
    "category": "Compute optimized",
    "gpuNum": 0,
    "hideHardwareSpecs": false,
    "memoryGiB": 72,
    "name": "ml.c5.9xlarge",
    "vcpuNum": 36
   },
   {
    "_defaultOrder": 26,
    "_isFastLaunch": false,
    "category": "Compute optimized",
    "gpuNum": 0,
    "hideHardwareSpecs": false,
    "memoryGiB": 96,
    "name": "ml.c5.12xlarge",
    "vcpuNum": 48
   },
   {
    "_defaultOrder": 27,
    "_isFastLaunch": false,
    "category": "Compute optimized",
    "gpuNum": 0,
    "hideHardwareSpecs": false,
    "memoryGiB": 144,
    "name": "ml.c5.18xlarge",
    "vcpuNum": 72
   },
   {
    "_defaultOrder": 28,
    "_isFastLaunch": false,
    "category": "Compute optimized",
    "gpuNum": 0,
    "hideHardwareSpecs": false,
    "memoryGiB": 192,
    "name": "ml.c5.24xlarge",
    "vcpuNum": 96
   },
   {
    "_defaultOrder": 29,
    "_isFastLaunch": true,
    "category": "Accelerated computing",
    "gpuNum": 1,
    "hideHardwareSpecs": false,
    "memoryGiB": 16,
    "name": "ml.g4dn.xlarge",
    "vcpuNum": 4
   },
   {
    "_defaultOrder": 30,
    "_isFastLaunch": false,
    "category": "Accelerated computing",
    "gpuNum": 1,
    "hideHardwareSpecs": false,
    "memoryGiB": 32,
    "name": "ml.g4dn.2xlarge",
    "vcpuNum": 8
   },
   {
    "_defaultOrder": 31,
    "_isFastLaunch": false,
    "category": "Accelerated computing",
    "gpuNum": 1,
    "hideHardwareSpecs": false,
    "memoryGiB": 64,
    "name": "ml.g4dn.4xlarge",
    "vcpuNum": 16
   },
   {
    "_defaultOrder": 32,
    "_isFastLaunch": false,
    "category": "Accelerated computing",
    "gpuNum": 1,
    "hideHardwareSpecs": false,
    "memoryGiB": 128,
    "name": "ml.g4dn.8xlarge",
    "vcpuNum": 32
   },
   {
    "_defaultOrder": 33,
    "_isFastLaunch": false,
    "category": "Accelerated computing",
    "gpuNum": 4,
    "hideHardwareSpecs": false,
    "memoryGiB": 192,
    "name": "ml.g4dn.12xlarge",
    "vcpuNum": 48
   },
   {
    "_defaultOrder": 34,
    "_isFastLaunch": false,
    "category": "Accelerated computing",
    "gpuNum": 1,
    "hideHardwareSpecs": false,
    "memoryGiB": 256,
    "name": "ml.g4dn.16xlarge",
    "vcpuNum": 64
   },
   {
    "_defaultOrder": 35,
    "_isFastLaunch": false,
    "category": "Accelerated computing",
    "gpuNum": 1,
    "hideHardwareSpecs": false,
    "memoryGiB": 61,
    "name": "ml.p3.2xlarge",
    "vcpuNum": 8
   },
   {
    "_defaultOrder": 36,
    "_isFastLaunch": false,
    "category": "Accelerated computing",
    "gpuNum": 4,
    "hideHardwareSpecs": false,
    "memoryGiB": 244,
    "name": "ml.p3.8xlarge",
    "vcpuNum": 32
   },
   {
    "_defaultOrder": 37,
    "_isFastLaunch": false,
    "category": "Accelerated computing",
    "gpuNum": 8,
    "hideHardwareSpecs": false,
    "memoryGiB": 488,
    "name": "ml.p3.16xlarge",
    "vcpuNum": 64
   },
   {
    "_defaultOrder": 38,
    "_isFastLaunch": false,
    "category": "Accelerated computing",
    "gpuNum": 8,
    "hideHardwareSpecs": false,
    "memoryGiB": 768,
    "name": "ml.p3dn.24xlarge",
    "vcpuNum": 96
   },
   {
    "_defaultOrder": 39,
    "_isFastLaunch": false,
    "category": "Memory Optimized",
    "gpuNum": 0,
    "hideHardwareSpecs": false,
    "memoryGiB": 16,
    "name": "ml.r5.large",
    "vcpuNum": 2
   },
   {
    "_defaultOrder": 40,
    "_isFastLaunch": false,
    "category": "Memory Optimized",
    "gpuNum": 0,
    "hideHardwareSpecs": false,
    "memoryGiB": 32,
    "name": "ml.r5.xlarge",
    "vcpuNum": 4
   },
   {
    "_defaultOrder": 41,
    "_isFastLaunch": false,
    "category": "Memory Optimized",
    "gpuNum": 0,
    "hideHardwareSpecs": false,
    "memoryGiB": 64,
    "name": "ml.r5.2xlarge",
    "vcpuNum": 8
   },
   {
    "_defaultOrder": 42,
    "_isFastLaunch": false,
    "category": "Memory Optimized",
    "gpuNum": 0,
    "hideHardwareSpecs": false,
    "memoryGiB": 128,
    "name": "ml.r5.4xlarge",
    "vcpuNum": 16
   },
   {
    "_defaultOrder": 43,
    "_isFastLaunch": false,
    "category": "Memory Optimized",
    "gpuNum": 0,
    "hideHardwareSpecs": false,
    "memoryGiB": 256,
    "name": "ml.r5.8xlarge",
    "vcpuNum": 32
   },
   {
    "_defaultOrder": 44,
    "_isFastLaunch": false,
    "category": "Memory Optimized",
    "gpuNum": 0,
    "hideHardwareSpecs": false,
    "memoryGiB": 384,
    "name": "ml.r5.12xlarge",
    "vcpuNum": 48
   },
   {
    "_defaultOrder": 45,
    "_isFastLaunch": false,
    "category": "Memory Optimized",
    "gpuNum": 0,
    "hideHardwareSpecs": false,
    "memoryGiB": 512,
    "name": "ml.r5.16xlarge",
    "vcpuNum": 64
   },
   {
    "_defaultOrder": 46,
    "_isFastLaunch": false,
    "category": "Memory Optimized",
    "gpuNum": 0,
    "hideHardwareSpecs": false,
    "memoryGiB": 768,
    "name": "ml.r5.24xlarge",
    "vcpuNum": 96
   },
   {
    "_defaultOrder": 47,
    "_isFastLaunch": false,
    "category": "Accelerated computing",
    "gpuNum": 1,
    "hideHardwareSpecs": false,
    "memoryGiB": 16,
    "name": "ml.g5.xlarge",
    "vcpuNum": 4
   },
   {
    "_defaultOrder": 48,
    "_isFastLaunch": false,
    "category": "Accelerated computing",
    "gpuNum": 1,
    "hideHardwareSpecs": false,
    "memoryGiB": 32,
    "name": "ml.g5.2xlarge",
    "vcpuNum": 8
   },
   {
    "_defaultOrder": 49,
    "_isFastLaunch": false,
    "category": "Accelerated computing",
    "gpuNum": 1,
    "hideHardwareSpecs": false,
    "memoryGiB": 64,
    "name": "ml.g5.4xlarge",
    "vcpuNum": 16
   },
   {
    "_defaultOrder": 50,
    "_isFastLaunch": false,
    "category": "Accelerated computing",
    "gpuNum": 1,
    "hideHardwareSpecs": false,
    "memoryGiB": 128,
    "name": "ml.g5.8xlarge",
    "vcpuNum": 32
   },
   {
    "_defaultOrder": 51,
    "_isFastLaunch": false,
    "category": "Accelerated computing",
    "gpuNum": 1,
    "hideHardwareSpecs": false,
    "memoryGiB": 256,
    "name": "ml.g5.16xlarge",
    "vcpuNum": 64
   },
   {
    "_defaultOrder": 52,
    "_isFastLaunch": false,
    "category": "Accelerated computing",
    "gpuNum": 4,
    "hideHardwareSpecs": false,
    "memoryGiB": 192,
    "name": "ml.g5.12xlarge",
    "vcpuNum": 48
   },
   {
    "_defaultOrder": 53,
    "_isFastLaunch": false,
    "category": "Accelerated computing",
    "gpuNum": 4,
    "hideHardwareSpecs": false,
    "memoryGiB": 384,
    "name": "ml.g5.24xlarge",
    "vcpuNum": 96
   },
   {
    "_defaultOrder": 54,
    "_isFastLaunch": false,
    "category": "Accelerated computing",
    "gpuNum": 8,
    "hideHardwareSpecs": false,
    "memoryGiB": 768,
    "name": "ml.g5.48xlarge",
    "vcpuNum": 192
   },
   {
    "_defaultOrder": 55,
    "_isFastLaunch": false,
    "category": "Accelerated computing",
    "gpuNum": 8,
    "hideHardwareSpecs": false,
    "memoryGiB": 1152,
    "name": "ml.p4d.24xlarge",
    "vcpuNum": 96
   },
   {
    "_defaultOrder": 56,
    "_isFastLaunch": false,
    "category": "Accelerated computing",
    "gpuNum": 8,
    "hideHardwareSpecs": false,
    "memoryGiB": 1152,
    "name": "ml.p4de.24xlarge",
    "vcpuNum": 96
   }
  ],
  "kernelspec": {
   "display_name": "Python 3 (Data Science 3.0)",
   "language": "python",
   "name": "python3__SAGEMAKER_INTERNAL__arn:aws:sagemaker:us-east-2:429704687514:image/sagemaker-data-science-310-v1"
  },
  "language_info": {
   "codemirror_mode": {
    "name": "ipython",
    "version": 3
   },
   "file_extension": ".py",
   "mimetype": "text/x-python",
   "name": "python",
   "nbconvert_exporter": "python",
   "pygments_lexer": "ipython3",
   "version": "3.10.6"
  }
 },
 "nbformat": 4,
 "nbformat_minor": 5
}
