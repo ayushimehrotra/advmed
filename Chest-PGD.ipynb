{
 "cells": [
  {
   "cell_type": "markdown",
   "id": "e9f6860c-c195-4b07-a288-e8148c35a8ac",
   "metadata": {},
   "source": [
    "## Install Dependencies"
   ]
  },
  {
   "cell_type": "code",
   "execution_count": 2,
   "id": "6116810f-1737-4632-ad1f-c2f9a109ff75",
   "metadata": {
    "tags": []
   },
   "outputs": [],
   "source": [
    "from IPython.display import clear_output\n",
    "!pip install –upgrade pip\n",
    "!pip install torch\n",
    "!pip install numpy\n",
    "!pip install pandas\n",
    "!pip install matplotlib\n",
    "!pip install torchvision\n",
    "!pip install opencv-python\n",
    "!pip install cv2\n",
    "clear_output()"
   ]
  },
  {
   "cell_type": "code",
   "execution_count": 4,
   "id": "53cd633f-1f43-437b-9bf2-ed77e81e8585",
   "metadata": {
    "tags": []
   },
   "outputs": [],
   "source": [
    "import numpy as np \n",
    "import pandas as pd \n",
    "import matplotlib.pyplot as plt\n",
    "from matplotlib.image import imread\n",
    "import seaborn as sns\n",
    "import random\n",
    "# import cv2\n",
    "import copy\n",
    "import os\n",
    "from sklearn.model_selection import train_test_split\n",
    "import time\n",
    "\n",
    "import torch\n",
    "import torch.nn as nn\n",
    "import torch.nn.functional as F\n",
    "import torchvision\n",
    "import torchvision.models as models\n",
    "from torchvision.datasets import ImageFolder\n",
    "from torchvision.utils import make_grid\n",
    "import torchvision.transforms as transform\n",
    "from torch.utils.data import Dataset, DataLoader, ConcatDataset\n",
    "from PIL import Image\n",
    "import gc\n",
    "\n",
    "# from mlxtend.plotting import plot_confusion_matrix\n",
    "# from sklearn.metrics import confusion_matrix\n",
    " \n",
    "device = torch.device('cuda:0' if torch.cuda.is_available() else 'cpu')"
   ]
  },
  {
   "cell_type": "markdown",
   "id": "7e8d5e7c-c1db-4ff4-b51f-e877cc25c560",
   "metadata": {},
   "source": [
    "## Data Processing"
   ]
  },
  {
   "cell_type": "code",
   "execution_count": 5,
   "id": "f1c090d2-e306-40d9-84c4-9ebc1cbc18dd",
   "metadata": {
    "tags": []
   },
   "outputs": [],
   "source": [
    "path = '../data/chest_xray/chest_xray'"
   ]
  },
  {
   "cell_type": "code",
   "execution_count": 6,
   "id": "85e86e01-5b4d-47a1-ba00-adb90d532e40",
   "metadata": {
    "tags": []
   },
   "outputs": [],
   "source": [
    "transformer = {\n",
    "    'dataset1': transform.Compose([transform.Resize(255),\n",
    "                                            transform.CenterCrop(224),\n",
    "                                            transform.RandomHorizontalFlip(),\n",
    "                                            transform.RandomRotation(10),\n",
    "                                            transform.RandomGrayscale(),\n",
    "                                            transform.RandomAffine(translate=(0.05,0.05), degrees=0),\n",
    "                                            transform.ToTensor()\n",
    "                                           ]),\n",
    "    \n",
    "    'dataset2' : transform.Compose([transform.Resize(255),\n",
    "                                            transform.CenterCrop(224),\n",
    "                                            transform.RandomHorizontalFlip(p=1),\n",
    "                                            transform.RandomGrayscale(),\n",
    "                                            transform.RandomAffine(translate=(0.1,0.05), degrees=10),\n",
    "                                            transform.ToTensor()\n",
    "                                    \n",
    "                                           ]),\n",
    "    'dataset3' : transform.Compose([transform.Resize(255),\n",
    "                                            transform.CenterCrop(224),\n",
    "                                            transform.RandomHorizontalFlip(p=0.5),\n",
    "                                            transform.RandomRotation(15),\n",
    "                                            transform.RandomGrayscale(p=1),\n",
    "                                            transform.RandomAffine(translate=(0.08,0.1), degrees=15),\n",
    "                                            transform.ToTensor()\n",
    "                                           ]),\n",
    "}"
   ]
  },
  {
   "cell_type": "code",
   "execution_count": 7,
   "id": "ab9f6bdc-5001-4dba-a31c-c7d5fc1ab6c4",
   "metadata": {
    "tags": []
   },
   "outputs": [],
   "source": [
    "dataset1 = ImageFolder('data/chest_xray/chest_xray/train', \n",
    "                      transform=transformer['dataset1'])\n",
    "\n",
    "dataset2 = ImageFolder('data/chest_xray/chest_xray/train', \n",
    "                      transform=transformer['dataset2'])\n",
    "\n",
    "dataset3 = ImageFolder('data/chest_xray/chest_xray/train', \n",
    "                      transform=transformer['dataset3'])\n",
    "\n",
    "norm1, _ = train_test_split(dataset2, test_size= 3875/(1341+3875), shuffle=False)\n",
    "norm2, _ = train_test_split(dataset3, test_size= 4023/(1341+3875), shuffle=False)\n",
    "\n",
    "dataset = ConcatDataset([dataset1, norm1, norm2])"
   ]
  },
  {
   "cell_type": "code",
   "execution_count": 8,
   "id": "89ecd000-dfc9-4c30-b586-02f02e995468",
   "metadata": {},
   "outputs": [
    {
     "data": {
      "text/plain": [
       "(5425, 2325)"
      ]
     },
     "execution_count": 8,
     "metadata": {},
     "output_type": "execute_result"
    }
   ],
   "source": [
    "random_seed = 2020\n",
    "torch.manual_seed(random_seed);\n",
    "train_ds, val_ds = train_test_split(dataset, test_size=0.3, random_state=random_seed)\n",
    "len(train_ds), len(val_ds)"
   ]
  },
  {
   "cell_type": "code",
   "execution_count": 9,
   "id": "6fe5400d-0867-41b7-a43e-379cff92fa66",
   "metadata": {},
   "outputs": [],
   "source": [
    "batch_size=32\n",
    "\n",
    "train_dl = DataLoader(train_ds, batch_size, shuffle=True, num_workers=4, pin_memory=True)\n",
    "val_dl = DataLoader(val_ds, batch_size*2, num_workers=4, pin_memory=True)\n",
    "loaders = {'train':train_dl, 'val':val_dl}\n",
    "dataset_sizes = {'train':len(train_ds), 'val':len(val_ds)}"
   ]
  },
  {
   "cell_type": "markdown",
   "id": "8304d7f1-d670-40f6-82a7-abd9c5328dfc",
   "metadata": {},
   "source": [
    "## Model "
   ]
  },
  {
   "cell_type": "code",
   "execution_count": 10,
   "id": "4bc37055-7824-4008-ab36-9e66f64c9a46",
   "metadata": {},
   "outputs": [],
   "source": [
    "def accuracy(outputs, labels):\n",
    "    _, preds = torch.max(outputs, dim=1) \n",
    "    return torch.tensor(torch.sum(preds == labels).item() / len(preds)), preds"
   ]
  },
  {
   "cell_type": "code",
   "execution_count": 11,
   "id": "68e2f525-cfd7-4826-8cef-5892b28cac51",
   "metadata": {},
   "outputs": [
    {
     "name": "stderr",
     "output_type": "stream",
     "text": [
      "/opt/conda/lib/python3.10/site-packages/torchvision/models/_utils.py:208: UserWarning: The parameter 'pretrained' is deprecated since 0.13 and may be removed in the future, please use 'weights' instead.\n",
      "  warnings.warn(\n",
      "/opt/conda/lib/python3.10/site-packages/torchvision/models/_utils.py:223: UserWarning: Arguments other than a weight enum or `None` for 'weights' are deprecated since 0.13 and may be removed in the future. The current behavior is equivalent to passing `weights=DenseNet161_Weights.IMAGENET1K_V1`. You can also use `weights=DenseNet161_Weights.DEFAULT` to get the most up-to-date weights.\n",
      "  warnings.warn(msg)\n"
     ]
    }
   ],
   "source": [
    "model = torchvision.models.densenet161(pretrained=True)"
   ]
  },
  {
   "cell_type": "code",
   "execution_count": 12,
   "id": "076f1359-9adc-4f2d-9000-84e2a51dc683",
   "metadata": {},
   "outputs": [],
   "source": [
    "for param in model.parameters():\n",
    "    param.requires_grad = False\n",
    "    \n",
    "in_features = model.classifier.in_features\n",
    "\n",
    "model.classifier = nn.Linear(in_features, 2)"
   ]
  },
  {
   "cell_type": "code",
   "execution_count": 13,
   "id": "675f6665-a659-4242-b37c-aa43fe42d074",
   "metadata": {},
   "outputs": [],
   "source": [
    "losses = {'train':[], 'val':[]}\n",
    "accuracies = {'train':[], 'val':[]}"
   ]
  },
  {
   "cell_type": "markdown",
   "id": "baa1baf4-a0c4-4d8b-bdb3-427c387d8c41",
   "metadata": {},
   "source": [
    "## Training Model"
   ]
  },
  {
   "cell_type": "code",
   "execution_count": 14,
   "id": "55d4cdf8-0264-4cff-b2c7-c912fd03a389",
   "metadata": {},
   "outputs": [],
   "source": [
    "def train(model, criterion, optimizer, scheduler, epochs):\n",
    "    since = time.time()\n",
    "    best_model = copy.deepcopy(model.state_dict())\n",
    "    best_acc = 0.0\n",
    "    for epoch in range(epochs):\n",
    "        for phase in ['train', 'val']:\n",
    "            if phase == 'train':\n",
    "                model.train()\n",
    "            else:\n",
    "                model.eval()\n",
    "      \n",
    "            running_loss = 0.0\n",
    "            running_corrects = 0.0\n",
    "\n",
    "            for inputs, labels in loaders[phase]:\n",
    "                inputs, labels = inputs.to(device), labels.to(device)\n",
    "\n",
    "                optimizer.zero_grad()\n",
    "\n",
    "                with torch.set_grad_enabled(phase=='train'):\n",
    "                    outp = model(inputs)\n",
    "                    _, pred = torch.max(outp, 1)\n",
    "                    loss = criterion(outp, labels)\n",
    "\n",
    "                if phase == 'train':\n",
    "                    loss.backward()\n",
    "                    optimizer.step()\n",
    "\n",
    "                running_loss += loss.item()*inputs.size(0)\n",
    "                running_corrects += torch.sum(pred == labels.data)\n",
    "\n",
    "\n",
    "            epoch_loss = running_loss / dataset_sizes[phase]\n",
    "            epoch_acc = running_corrects.double()/dataset_sizes[phase]\n",
    "            losses[phase].append(epoch_loss)\n",
    "            accuracies[phase].append(epoch_acc)\n",
    "            if phase == 'train':\n",
    "                print('Epoch: {}/{}'.format(epoch+1, epochs))\n",
    "                print('{} - loss:{}, accuracy{}'.format(phase, epoch_loss, epoch_acc))\n",
    "\n",
    "            if phase == 'val':\n",
    "                print('Time: {}m {}s'.format((time.time()- since)//60, (time.time()- since)%60))\n",
    "\n",
    "            if phase == 'val' and epoch_acc > best_acc:\n",
    "                best_acc = epoch_acc\n",
    "                best_model = copy.deepcopy(model.state_dict())\n",
    "            scheduler.step()  \n",
    "    time_elapsed = time.time() - since\n",
    "    print('Training Time {}m {}s'.format(time_elapsed//60, time_elapsed%60)) \n",
    "    print('Best accuracy {}'.format(best_acc))\n",
    "\n",
    "    model.load_state_dict(best_model)\n",
    "    return model   "
   ]
  },
  {
   "cell_type": "code",
   "execution_count": 15,
   "id": "756a88aa-8635-4dbf-a49c-4938fcf1948e",
   "metadata": {
    "tags": []
   },
   "outputs": [],
   "source": [
    "criterion = nn.CrossEntropyLoss()\n",
    "optimizer = torch.optim.Adam(model.classifier.parameters(), lr = 0.001)\n",
    "scheduler = torch.optim.lr_scheduler.StepLR(optimizer, 4, gamma=0.1)"
   ]
  },
  {
   "cell_type": "code",
   "execution_count": 16,
   "id": "de459723-5696-463c-92cb-1e01759c385e",
   "metadata": {
    "tags": []
   },
   "outputs": [
    {
     "name": "stdout",
     "output_type": "stream",
     "text": [
      "Epoch: 1/10\n",
      "train - loss:0.2896675151119584, accuracy0.896774193548387\n",
      "Time: 0.0m 53.24266695976257s\n",
      "Epoch: 2/10\n",
      "train - loss:0.15600460740759076, accuracy0.9447004608294931\n",
      "Time: 1.0m 44.19484519958496s\n",
      "Epoch: 3/10\n",
      "train - loss:0.13539428920377783, accuracy0.9559447004608295\n",
      "Time: 2.0m 35.601651430130005s\n",
      "Epoch: 4/10\n",
      "train - loss:0.12914616085966613, accuracy0.9574193548387097\n",
      "Time: 3.0m 27.30038595199585s\n",
      "Epoch: 5/10\n",
      "train - loss:0.12612835740850817, accuracy0.9566820276497696\n",
      "Time: 4.0m 19.144429922103882s\n",
      "Epoch: 6/10\n",
      "train - loss:0.12703108531538793, accuracy0.9570506912442396\n",
      "Time: 5.0m 10.970044136047363s\n",
      "Epoch: 7/10\n",
      "train - loss:0.1203937387452697, accuracy0.9607373271889401\n",
      "Time: 6.0m 2.6899185180664062s\n",
      "Epoch: 8/10\n",
      "train - loss:0.12776818778108343, accuracy0.9581566820276498\n",
      "Time: 6.0m 54.086814880371094s\n",
      "Epoch: 9/10\n",
      "train - loss:0.1266072211672084, accuracy0.9564976958525345\n",
      "Time: 7.0m 44.52982759475708s\n",
      "Epoch: 10/10\n",
      "train - loss:0.12907067742284542, accuracy0.9594470046082949\n",
      "Time: 8.0m 34.90830659866333s\n",
      "Training Time 8.0m 34.90896034240723s\n",
      "Best accuracy 0.9595698924731183\n"
     ]
    }
   ],
   "source": [
    "model.to(device)\n",
    "epochs = 10\n",
    "model = train(model, criterion, optimizer, scheduler, epochs)"
   ]
  },
  {
   "cell_type": "markdown",
   "id": "fbb8c4f3-dd6e-4594-ab76-8d1155ec889f",
   "metadata": {},
   "source": [
    "## Attacks"
   ]
  },
  {
   "cell_type": "code",
   "execution_count": 17,
   "id": "c807168a-ed37-4c3c-b918-7e8d6f70fee4",
   "metadata": {
    "tags": []
   },
   "outputs": [],
   "source": [
    "!pip install captum\n",
    "!pip install cleverhans\n",
    "from captum.attr import IntegratedGradients\n",
    "from captum.attr import Saliency\n",
    "from captum.attr import DeepLift\n",
    "from captum.attr import NoiseTunnel\n",
    "from captum.attr import GradientShap\n",
    "from captum.attr import GuidedGradCam\n",
    "from captum.attr import LimeBase\n",
    "from captum.attr import KernelShap\n",
    "from captum.attr import Occlusion\n",
    "from captum.attr import visualization as viz\n",
    "from cleverhans.torch.attacks.fast_gradient_method import fast_gradient_method\n",
    "from cleverhans.torch.attacks.carlini_wagner_l2 import carlini_wagner_l2\n",
    "from cleverhans.torch.attacks.projected_gradient_descent import (\n",
    "    projected_gradient_descent\n",
    ")\n",
    "clear_output()"
   ]
  },
  {
   "cell_type": "markdown",
   "id": "f78b8ede-6b65-466c-9484-233b242679d3",
   "metadata": {},
   "source": [
    "## Statsitical Methods"
   ]
  },
  {
   "cell_type": "code",
   "execution_count": 18,
   "id": "4db5c20c-6dd3-44a4-9cbc-58e71a4eefc3",
   "metadata": {
    "tags": []
   },
   "outputs": [],
   "source": [
    "def compute_mean_abs_dev(attr): \n",
    "    scores = []\n",
    "    for i in range(len(attr)):\n",
    "        a = attr[i].flatten()\n",
    "        avg = np.mean(a)\n",
    "        deviation = a - avg \n",
    "        absolute_deviation = np.abs(deviation)\n",
    "        result = np.mean(absolute_deviation)\n",
    "        scores.append(result)\n",
    "    return scores    \n",
    "def compute_median_abs_dev(attr): \n",
    "    scores = []\n",
    "    for i in range(len(attr)):\n",
    "        a = attr[i].flatten()\n",
    "        med = np.median(a)\n",
    "        deviation = a - med \n",
    "        abs_deviation = np.abs(deviation)\n",
    "        result = np.median(abs_deviation)\n",
    "        scores.append(result)\n",
    "    return scores \n",
    "def compute_iqr(attr):\n",
    "    #inter-quartile range\n",
    "    scores = []\n",
    "    for i in range(len(attr)):\n",
    "        a = attr[i].flatten()\n",
    "        score_75 = np.percentile(a, 75)\n",
    "        score_25 = np.percentile(a, 25)\n",
    "        score_qt = score_75 - score_25\n",
    "        scores.append(score_qt)\n",
    "    return scores\n",
    "    \n",
    "def compute_coef_var(attr):\n",
    "    scores = []\n",
    "    for i in range(len(attr)):\n",
    "        a = attr[i].flatten()\n",
    "        m = np.mean(a)\n",
    "        st = np.std(attr[i])\n",
    "        sc = m/st\n",
    "        scores.append(sc)\n",
    "    return scores\n",
    "\n",
    "def compute_coef_iqr(attr):\n",
    "    scores = []\n",
    "    for i in range(len(attr)):\n",
    "        a = attr[i].flatten()\n",
    "        score_75 = np.percentile(a, 75)\n",
    "        score_25 = np.percentile(a, 25)\n",
    "        score_qt = (score_75 - score_25)/(score_75 + score_25)\n",
    "        scores.append(score_qt)\n",
    "    return scores\n",
    "    "
   ]
  },
  {
   "cell_type": "code",
   "execution_count": 19,
   "id": "66b451f4-2d20-40f6-b31b-8b123a139149",
   "metadata": {
    "tags": []
   },
   "outputs": [],
   "source": [
    "eps = [8/255, 16/255, 32/255, 64/255]"
   ]
  },
  {
   "cell_type": "code",
   "execution_count": null,
   "id": "3c241e6d-58d0-4e7a-a14f-b455a57afc31",
   "metadata": {},
   "outputs": [],
   "source": []
  },
  {
   "cell_type": "markdown",
   "id": "90fa686e-cc71-4928-b357-0d8cbb648eb5",
   "metadata": {},
   "source": [
    "## PGD & Integrated Gradient"
   ]
  },
  {
   "cell_type": "markdown",
   "id": "cc8f6fe7-4343-4933-a7cf-37288a84eb68",
   "metadata": {},
   "source": [
    "## Benign Images To Find Threshold"
   ]
  },
  {
   "cell_type": "code",
   "execution_count": 25,
   "id": "1100fe9a-b8f7-4dfd-8c1d-a0cf64a5cb70",
   "metadata": {
    "tags": []
   },
   "outputs": [],
   "source": [
    "gc.collect()\n",
    "torch.cuda.empty_cache()\n",
    "\n",
    "dataiter = iter(train_dl)\n",
    "ig = IntegratedGradients(model)\n",
    "\n",
    "igmedianAbs_ben = []\n",
    "igmeanAbs_ben = []\n",
    "igiqr_ben = []\n",
    "igcoef_var_ben=[]\n",
    "igcoef_iqr_ben = []\n",
    "\n",
    "for i in range(30):\n",
    "    images, labels = next(dataiter)\n",
    "    images = images.to(device)\n",
    "    labels = labels.to(device)\n",
    "    for ind in range(32):\n",
    "        gc.collect()\n",
    "        torch.cuda.empty_cache()\n",
    "        input1 = images[ind].unsqueeze(0)\n",
    "        x_logits = model(images)\n",
    "        a_batch_benign = ig.attribute(input1, target=labels[ind]).sum(axis=1).cpu().detach().numpy()\n",
    "        igmeanAbs_ben += compute_mean_abs_dev(a_batch_benign)\n",
    "        igmedianAbs_ben += compute_median_abs_dev(a_batch_benign)\n",
    "        igiqr_ben += compute_iqr(a_batch_benign)\n",
    "        igcoef_var_ben += compute_coef_var(a_batch_benign)\n",
    "        igcoef_iqr_ben += compute_coef_iqr(a_batch_benign)\n",
    "        gc.collect()\n",
    "        torch.cuda.empty_cache()\n"
   ]
  },
  {
   "cell_type": "code",
   "execution_count": null,
   "id": "7350b7c5-3b5d-4c83-8501-51f3fc921e5f",
   "metadata": {
    "tags": []
   },
   "outputs": [],
   "source": [
    "gc.collect()\n",
    "torch.cuda.empty_cache()\n",
    "\n",
    "dataiter1 = iter(val_dl)\n",
    "\n",
    "testigmedianAbs_ben = []\n",
    "testigmeanAbs_ben = []\n",
    "testigiqr_ben = []\n",
    "testigcoef_var_ben=[]\n",
    "testigcoef_iqr_ben = []\n",
    "\n",
    "testigmedianAbs_bena = []\n",
    "testigmeanAbs_bena = []\n",
    "testigiqr_bena = []\n",
    "testigcoef_var_bena=[]\n",
    "testigcoef_iqr_bena = []\n",
    "\n",
    "for ep in eps:\n",
    "    igmedianAbs_ben = []\n",
    "    igmeanAbs_ben = []\n",
    "    igiqr_ben = []\n",
    "    igcoef_var_ben=[]\n",
    "    igcoef_iqr_ben = []\n",
    "\n",
    "    igmedianAbs_bena = []\n",
    "    igmeanAbs_bena = []\n",
    "    igiqr_bena = []\n",
    "    igcoef_var_bena=[]\n",
    "    igcoef_iqr_bena = []\n",
    "    for i in range(10):\n",
    "        images, labels = next(dataiter1)\n",
    "        images = images.to(device)\n",
    "        labels = labels.to(device)\n",
    "        for ind in range(32):\n",
    "            gc.collect()\n",
    "            torch.cuda.empty_cache()\n",
    "            input1 = images[ind].unsqueeze(0)\n",
    "            x_logits = model(images)\n",
    "            a_batch_benign = ig.attribute(input1, target=labels[ind]).sum(axis=1).cpu().detach().numpy()\n",
    "            igmeanAbs_ben += compute_mean_abs_dev(a_batch_benign)\n",
    "            igmedianAbs_ben += compute_median_abs_dev(a_batch_benign)\n",
    "            igiqr_ben += compute_iqr(a_batch_benign)\n",
    "            igcoef_var_ben += compute_coef_var(a_batch_benign)\n",
    "            igcoef_iqr_ben += compute_coef_iqr(a_batch_benign)\n",
    "            alpha = ep/10\n",
    "            steps = int(alpha*ep)\n",
    "            images_pgd = projected_gradient_descent(model, input1, ep, alpha, steps, np.inf)\n",
    "            _, y_pred_pgd = model(images_pgd).max(1)\n",
    "            a_batch_attack = ig.attribute(inputs=images_pgd, target=y_pred_pgd).sum(axis=1).cpu().detach().numpy()\n",
    "            igmeanAbs_bena += compute_mean_abs_dev(a_batch_attack)\n",
    "            igmedianAbs_bena += compute_median_abs_dev(a_batch_attack)\n",
    "            igiqr_bena += compute_iqr(a_batch_attack)\n",
    "            igcoef_var_bena += compute_coef_var(a_batch_attack)\n",
    "            igcoef_iqr_bena += compute_coef_iqr(a_batch_attack)\n",
    "            gc.collect()\n",
    "            torch.cuda.empty_cache()\n",
    "    testigmedianAbs_ben.append(igmedianAbs_ben)\n",
    "    testigmeanAbs_ben.append(igmeanAbs_ben)\n",
    "    testigiqr_ben.append(igiqr_ben)\n",
    "    testigcoef_var_ben.append(igcoef_var_ben)\n",
    "    testigcoef_iqr_ben.append(igcoef_iqr_ben)\n",
    "\n",
    "    testigmedianAbs_bena.append(igmedianAbs_bena)\n",
    "    testigmeanAbs_bena.append(igmeanAbs_ben)\n",
    "    testigiqr_bena.append(igiqr_bena)\n",
    "    testigcoef_var_bena.append(igcoef_var_bena)\n",
    "    testigcoef_iqr_bena.append(igcoef_iqr_bena)\n"
   ]
  },
  {
   "cell_type": "markdown",
   "id": "422f2cfa-3219-4132-8b62-b686ee7dc962",
   "metadata": {},
   "source": [
    "### Median Abs Deviation"
   ]
  },
  {
   "cell_type": "code",
   "execution_count": null,
   "id": "dacef04c-b0a9-4b51-b8d2-4f237730d883",
   "metadata": {},
   "outputs": [],
   "source": [
    "min(igmedianAbs_ben), max(igmedianAbs_ben)\n",
    "\n",
    "igmedt1 = []\n",
    "igmedt2 = []\n",
    "fpr = []\n",
    "tpr = []\n",
    "for x, y in zip(igmedt1, igmedt2):\n",
    "    "
   ]
  },
  {
   "cell_type": "markdown",
   "id": "36ddcac2-c3d7-44b3-a416-d78d3650783e",
   "metadata": {},
   "source": [
    "### Mean Abs Deviation"
   ]
  },
  {
   "cell_type": "code",
   "execution_count": null,
   "id": "6f3459c2-ce87-4422-9e7a-0eb63a731eb1",
   "metadata": {},
   "outputs": [],
   "source": [
    "min(igmedianAbs_ben), max(igmedianAbs_ben)"
   ]
  },
  {
   "cell_type": "markdown",
   "id": "8bc72435-ea18-4d70-9618-8a0cb86dce23",
   "metadata": {},
   "source": [
    "## PGD & Saliency"
   ]
  },
  {
   "cell_type": "code",
   "execution_count": 21,
   "id": "3c7aefe5-98c9-4a7e-bb38-f4a8951cf535",
   "metadata": {
    "tags": []
   },
   "outputs": [
    {
     "name": "stderr",
     "output_type": "stream",
     "text": [
      "/opt/conda/lib/python3.10/site-packages/captum/_utils/gradient.py:57: UserWarning: Input Tensor 0 did not already require gradients, required_grads has been set automatically.\n",
      "  warnings.warn(\n"
     ]
    },
    {
     "data": {
      "image/png": "[encoded data removed]",
      "text/plain": [
       "<Figure size 640x480 with 1 Axes>"
      ]
     },
     "metadata": {},
     "output_type": "display_data"
    },
    {
     "data": {
      "image/png": "[encoded data removed]",
      "text/plain": [
       "<Figure size 640x480 with 1 Axes>"
      ]
     },
     "metadata": {},
     "output_type": "display_data"
    },
    {
     "data": {
      "image/png": "[encoded data removed]",
      "text/plain": [
       "<Figure size 640x480 with 1 Axes>"
      ]
     },
     "metadata": {},
     "output_type": "display_data"
    },
    {
     "ename": "IndexError",
     "evalue": "index 21 is out of bounds for dimension 0 with size 21",
     "output_type": "error",
     "traceback": [
      "\u001b[0;31m---------------------------------------------------------------------------\u001b[0m",
      "\u001b[0;31mIndexError\u001b[0m                                Traceback (most recent call last)",
      "Cell \u001b[0;32mIn[21], line 25\u001b[0m\n\u001b[1;32m     23\u001b[0m gc\u001b[38;5;241m.\u001b[39mcollect()\n\u001b[1;32m     24\u001b[0m torch\u001b[38;5;241m.\u001b[39mcuda\u001b[38;5;241m.\u001b[39mempty_cache()\n\u001b[0;32m---> 25\u001b[0m input1 \u001b[38;5;241m=\u001b[39m \u001b[43mimages\u001b[49m\u001b[43m[\u001b[49m\u001b[43mind\u001b[49m\u001b[43m]\u001b[49m\u001b[38;5;241m.\u001b[39munsqueeze(\u001b[38;5;241m0\u001b[39m)\n\u001b[1;32m     26\u001b[0m x_logits \u001b[38;5;241m=\u001b[39m model(images)\n\u001b[1;32m     27\u001b[0m ig \u001b[38;5;241m=\u001b[39m Saliency(model)\n",
      "\u001b[0;31mIndexError\u001b[0m: index 21 is out of bounds for dimension 0 with size 21"
     ]
    }
   ],
   "source": [
    "gc.collect()\n",
    "torch.cuda.empty_cache()\n",
    "\n",
    "dataiter = iter(val_dl)\n",
    "\n",
    "for ep in eps:\n",
    "    salmedianAbs_ben = []\n",
    "    salmeanAbs_ben = []\n",
    "    saliqr_ben = []\n",
    "    salcoef_var_ben=[]\n",
    "    salcoef_iqr_ben = []\n",
    "\n",
    "    salmedianAbs_bena = []\n",
    "    salmeanAbs_bena = []\n",
    "    saliqr_bena = []\n",
    "    salcoef_var_bena=[]\n",
    "    salcoef_iqr_bena = []\n",
    "    for i in range(10):\n",
    "        images, labels = next(dataiter)\n",
    "        images = images.to(device)\n",
    "        labels = labels.to(device)\n",
    "        for ind in range(32):\n",
    "            gc.collect()\n",
    "            torch.cuda.empty_cache()\n",
    "            input1 = images[ind].unsqueeze(0)\n",
    "            x_logits = model(images)\n",
    "            ig = Saliency(model)\n",
    "            a_batch_benign = ig.attribute(input1, target=labels[ind]).sum(axis=1).cpu().detach().numpy()\n",
    "            salmeanAbs_ben += compute_mean_abs_dev(a_batch_benign)\n",
    "            salmedianAbs_ben += compute_median_abs_dev(a_batch_benign)\n",
    "            saliqr_ben += compute_iqr(a_batch_benign)\n",
    "            salcoef_var_ben += compute_coef_var(a_batch_benign)\n",
    "            salcoef_iqr_ben += compute_coef_iqr(a_batch_benign)\n",
    "            alpha = ep/10\n",
    "            steps = int(alpha*ep)\n",
    "            images_pgd = projected_gradient_descent(model, input1, ep, alpha, steps, np.inf)\n",
    "            _, y_pred_pgd = model(images_pgd).max(1)\n",
    "            a_batch_attack = ig.attribute(inputs=images_pgd, target=y_pred_pgd).sum(axis=1).cpu().detach().numpy()\n",
    "            salmeanAbs_bena += compute_mean_abs_dev(a_batch_attack)\n",
    "            salmedianAbs_bena += compute_median_abs_dev(a_batch_attack)\n",
    "            saliqr_bena += compute_iqr(a_batch_attack)\n",
    "            salcoef_var_bena += compute_coef_var(a_batch_attack)\n",
    "            salcoef_iqr_bena += compute_coef_iqr(a_batch_attack)\n",
    "            gc.collect()\n",
    "            torch.cuda.empty_cache()\n",
    "    plt.hist(saliqr_ben, label='clean', color='blue')\n",
    "    plt.hist(saliqr_bena, label='adv', alpha=0.7, color='red')\n",
    "    plt.legend()\n",
    "    plt.show()\n"
   ]
  },
  {
   "cell_type": "markdown",
   "id": "d7c763ac-8ad2-4414-96e6-1ef16ea6acae",
   "metadata": {},
   "source": [
    "## PGD & GraidentSHAP"
   ]
  },
  {
   "cell_type": "code",
   "execution_count": 22,
   "id": "f41e7c9d-b09e-4a72-8a3d-b96f653079ab",
   "metadata": {
    "tags": []
   },
   "outputs": [
    {
     "name": "stderr",
     "output_type": "stream",
     "text": [
      "/tmp/ipykernel_21/890496051.py:38: RuntimeWarning: invalid value encountered in scalar divide\n",
      "  sc = m/st\n",
      "/tmp/ipykernel_21/890496051.py:48: RuntimeWarning: invalid value encountered in scalar divide\n",
      "  score_qt = (score_75 - score_25)/(score_75 + score_25)\n"
     ]
    },
    {
     "data": {
      "image/png": "[encoded data removed]",
      "text/plain": [
       "<Figure size 640x480 with 1 Axes>"
      ]
     },
     "metadata": {},
     "output_type": "display_data"
    },
    {
     "data": {
      "image/png": "[encoded data removed]",
      "text/plain": [
       "<Figure size 640x480 with 1 Axes>"
      ]
     },
     "metadata": {},
     "output_type": "display_data"
    },
    {
     "data": {
      "image/png": "[encoded data removed]",
      "text/plain": [
       "<Figure size 640x480 with 1 Axes>"
      ]
     },
     "metadata": {},
     "output_type": "display_data"
    },
    {
     "ename": "IndexError",
     "evalue": "index 21 is out of bounds for dimension 0 with size 21",
     "output_type": "error",
     "traceback": [
      "\u001b[0;31m---------------------------------------------------------------------------\u001b[0m",
      "\u001b[0;31mIndexError\u001b[0m                                Traceback (most recent call last)",
      "Cell \u001b[0;32mIn[22], line 25\u001b[0m\n\u001b[1;32m     23\u001b[0m gc\u001b[38;5;241m.\u001b[39mcollect()\n\u001b[1;32m     24\u001b[0m torch\u001b[38;5;241m.\u001b[39mcuda\u001b[38;5;241m.\u001b[39mempty_cache()\n\u001b[0;32m---> 25\u001b[0m input1 \u001b[38;5;241m=\u001b[39m \u001b[43mimages\u001b[49m\u001b[43m[\u001b[49m\u001b[43mind\u001b[49m\u001b[43m]\u001b[49m\u001b[38;5;241m.\u001b[39munsqueeze(\u001b[38;5;241m0\u001b[39m)\n\u001b[1;32m     26\u001b[0m x_logits \u001b[38;5;241m=\u001b[39m model(images)\n\u001b[1;32m     27\u001b[0m ig \u001b[38;5;241m=\u001b[39m GradientShap(model)\n",
      "\u001b[0;31mIndexError\u001b[0m: index 21 is out of bounds for dimension 0 with size 21"
     ]
    }
   ],
   "source": [
    "gc.collect()\n",
    "torch.cuda.empty_cache()\n",
    "\n",
    "dataiter = iter(val_dl)\n",
    "\n",
    "for ep in eps:\n",
    "    gradmedianAbs_ben = []\n",
    "    gradmeanAbs_ben = []\n",
    "    gradiqr_ben = []\n",
    "    gradcoef_var_ben=[]\n",
    "    gradcoef_iqr_ben = []\n",
    "\n",
    "    gradmedianAbs_bena = []\n",
    "    gradmeanAbs_bena = []\n",
    "    gradiqr_bena = []\n",
    "    gradcoef_var_bena=[]\n",
    "    gradcoef_iqr_bena = []\n",
    "    for i in range(10):\n",
    "        images, labels = next(dataiter)\n",
    "        images = images.to(device)\n",
    "        labels = labels.to(device)\n",
    "        for ind in range(32):\n",
    "            gc.collect()\n",
    "            torch.cuda.empty_cache()\n",
    "            input1 = images[ind].unsqueeze(0)\n",
    "            x_logits = model(images)\n",
    "            ig = GradientShap(model)\n",
    "            rand_img_dist = torch.cat([input1 * 0, input1 * 1])\n",
    "            a_batch_benign = ig.attribute(input1, target=labels[ind],baselines=rand_img_dist).sum(axis=1).cpu().detach().numpy()\n",
    "            gradmeanAbs_ben += compute_mean_abs_dev(a_batch_benign)\n",
    "            gradmedianAbs_ben += compute_median_abs_dev(a_batch_benign)\n",
    "            gradiqr_ben += compute_iqr(a_batch_benign)\n",
    "            gradcoef_var_ben += compute_coef_var(a_batch_benign)\n",
    "            gradcoef_iqr_ben += compute_coef_iqr(a_batch_benign)\n",
    "            alpha = ep/10\n",
    "            steps = int(alpha*ep)\n",
    "            images_pgd = projected_gradient_descent(model, input1, ep, alpha, steps, np.inf)\n",
    "            _, y_pred_pgd = model(images_pgd).max(1)\n",
    "            a_batch_attack = ig.attribute(inputs=images_pgd, target=y_pred_pgd,baselines=rand_img_dist).sum(axis=1).cpu().detach().numpy()\n",
    "            gradmeanAbs_bena += compute_mean_abs_dev(a_batch_attack)\n",
    "            gradmedianAbs_bena += compute_median_abs_dev(a_batch_attack)\n",
    "            gradiqr_bena += compute_iqr(a_batch_attack)\n",
    "            gradcoef_var_bena += compute_coef_var(a_batch_attack)\n",
    "            gradcoef_iqr_bena += compute_coef_iqr(a_batch_attack)\n",
    "            gc.collect()\n",
    "            torch.cuda.empty_cache()\n",
    "    plt.hist(gradmedianAbs_ben, label='clean', color='blue')\n",
    "    plt.hist(gradmedianAbs_bena, label='adv', alpha=0.7, color='red')\n",
    "    plt.legend()\n",
    "    plt.show()\n"
   ]
  }
 ],
 "metadata": {
  "availableInstances": [
   {
    "_defaultOrder": 0,
    "_isFastLaunch": true,
    "category": "General purpose",
    "gpuNum": 0,
    "hideHardwareSpecs": false,
    "memoryGiB": 4,
    "name": "ml.t3.medium",
    "vcpuNum": 2
   },
   {
    "_defaultOrder": 1,
    "_isFastLaunch": false,
    "category": "General purpose",
    "gpuNum": 0,
    "hideHardwareSpecs": false,
    "memoryGiB": 8,
    "name": "ml.t3.large",
    "vcpuNum": 2
   },
   {
    "_defaultOrder": 2,
    "_isFastLaunch": false,
    "category": "General purpose",
    "gpuNum": 0,
    "hideHardwareSpecs": false,
    "memoryGiB": 16,
    "name": "ml.t3.xlarge",
    "vcpuNum": 4
   },
   {
    "_defaultOrder": 3,
    "_isFastLaunch": false,
    "category": "General purpose",
    "gpuNum": 0,
    "hideHardwareSpecs": false,
    "memoryGiB": 32,
    "name": "ml.t3.2xlarge",
    "vcpuNum": 8
   },
   {
    "_defaultOrder": 4,
    "_isFastLaunch": true,
    "category": "General purpose",
    "gpuNum": 0,
    "hideHardwareSpecs": false,
    "memoryGiB": 8,
    "name": "ml.m5.large",
    "vcpuNum": 2
   },
   {
    "_defaultOrder": 5,
    "_isFastLaunch": false,
    "category": "General purpose",
    "gpuNum": 0,
    "hideHardwareSpecs": false,
    "memoryGiB": 16,
    "name": "ml.m5.xlarge",
    "vcpuNum": 4
   },
   {
    "_defaultOrder": 6,
    "_isFastLaunch": false,
    "category": "General purpose",
    "gpuNum": 0,
    "hideHardwareSpecs": false,
    "memoryGiB": 32,
    "name": "ml.m5.2xlarge",
    "vcpuNum": 8
   },
   {
    "_defaultOrder": 7,
    "_isFastLaunch": false,
    "category": "General purpose",
    "gpuNum": 0,
    "hideHardwareSpecs": false,
    "memoryGiB": 64,
    "name": "ml.m5.4xlarge",
    "vcpuNum": 16
   },
   {
    "_defaultOrder": 8,
    "_isFastLaunch": false,
    "category": "General purpose",
    "gpuNum": 0,
    "hideHardwareSpecs": false,
    "memoryGiB": 128,
    "name": "ml.m5.8xlarge",
    "vcpuNum": 32
   },
   {
    "_defaultOrder": 9,
    "_isFastLaunch": false,
    "category": "General purpose",
    "gpuNum": 0,
    "hideHardwareSpecs": false,
    "memoryGiB": 192,
    "name": "ml.m5.12xlarge",
    "vcpuNum": 48
   },
   {
    "_defaultOrder": 10,
    "_isFastLaunch": false,
    "category": "General purpose",
    "gpuNum": 0,
    "hideHardwareSpecs": false,
    "memoryGiB": 256,
    "name": "ml.m5.16xlarge",
    "vcpuNum": 64
   },
   {
    "_defaultOrder": 11,
    "_isFastLaunch": false,
    "category": "General purpose",
    "gpuNum": 0,
    "hideHardwareSpecs": false,
    "memoryGiB": 384,
    "name": "ml.m5.24xlarge",
    "vcpuNum": 96
   },
   {
    "_defaultOrder": 12,
    "_isFastLaunch": false,
    "category": "General purpose",
    "gpuNum": 0,
    "hideHardwareSpecs": false,
    "memoryGiB": 8,
    "name": "ml.m5d.large",
    "vcpuNum": 2
   },
   {
    "_defaultOrder": 13,
    "_isFastLaunch": false,
    "category": "General purpose",
    "gpuNum": 0,
    "hideHardwareSpecs": false,
    "memoryGiB": 16,
    "name": "ml.m5d.xlarge",
    "vcpuNum": 4
   },
   {
    "_defaultOrder": 14,
    "_isFastLaunch": false,
    "category": "General purpose",
    "gpuNum": 0,
    "hideHardwareSpecs": false,
    "memoryGiB": 32,
    "name": "ml.m5d.2xlarge",
    "vcpuNum": 8
   },
   {
    "_defaultOrder": 15,
    "_isFastLaunch": false,
    "category": "General purpose",
    "gpuNum": 0,
    "hideHardwareSpecs": false,
    "memoryGiB": 64,
    "name": "ml.m5d.4xlarge",
    "vcpuNum": 16
   },
   {
    "_defaultOrder": 16,
    "_isFastLaunch": false,
    "category": "General purpose",
    "gpuNum": 0,
    "hideHardwareSpecs": false,
    "memoryGiB": 128,
    "name": "ml.m5d.8xlarge",
    "vcpuNum": 32
   },
   {
    "_defaultOrder": 17,
    "_isFastLaunch": false,
    "category": "General purpose",
    "gpuNum": 0,
    "hideHardwareSpecs": false,
    "memoryGiB": 192,
    "name": "ml.m5d.12xlarge",
    "vcpuNum": 48
   },
   {
    "_defaultOrder": 18,
    "_isFastLaunch": false,
    "category": "General purpose",
    "gpuNum": 0,
    "hideHardwareSpecs": false,
    "memoryGiB": 256,
    "name": "ml.m5d.16xlarge",
    "vcpuNum": 64
   },
   {
    "_defaultOrder": 19,
    "_isFastLaunch": false,
    "category": "General purpose",
    "gpuNum": 0,
    "hideHardwareSpecs": false,
    "memoryGiB": 384,
    "name": "ml.m5d.24xlarge",
    "vcpuNum": 96
   },
   {
    "_defaultOrder": 20,
    "_isFastLaunch": false,
    "category": "General purpose",
    "gpuNum": 0,
    "hideHardwareSpecs": true,
    "memoryGiB": 0,
    "name": "ml.geospatial.interactive",
    "supportedImageNames": [
     "sagemaker-geospatial-v1-0"
    ],
    "vcpuNum": 0
   },
   {
    "_defaultOrder": 21,
    "_isFastLaunch": true,
    "category": "Compute optimized",
    "gpuNum": 0,
    "hideHardwareSpecs": false,
    "memoryGiB": 4,
    "name": "ml.c5.large",
    "vcpuNum": 2
   },
   {
    "_defaultOrder": 22,
    "_isFastLaunch": false,
    "category": "Compute optimized",
    "gpuNum": 0,
    "hideHardwareSpecs": false,
    "memoryGiB": 8,
    "name": "ml.c5.xlarge",
    "vcpuNum": 4
   },
   {
    "_defaultOrder": 23,
    "_isFastLaunch": false,
    "category": "Compute optimized",
    "gpuNum": 0,
    "hideHardwareSpecs": false,
    "memoryGiB": 16,
    "name": "ml.c5.2xlarge",
    "vcpuNum": 8
   },
   {
    "_defaultOrder": 24,
    "_isFastLaunch": false,
    "category": "Compute optimized",
    "gpuNum": 0,
    "hideHardwareSpecs": false,
    "memoryGiB": 32,
    "name": "ml.c5.4xlarge",
    "vcpuNum": 16
   },
   {
    "_defaultOrder": 25,
    "_isFastLaunch": false,
    "category": "Compute optimized",
    "gpuNum": 0,
    "hideHardwareSpecs": false,
    "memoryGiB": 72,
    "name": "ml.c5.9xlarge",
    "vcpuNum": 36
   },
   {
    "_defaultOrder": 26,
    "_isFastLaunch": false,
    "category": "Compute optimized",
    "gpuNum": 0,
    "hideHardwareSpecs": false,
    "memoryGiB": 96,
    "name": "ml.c5.12xlarge",
    "vcpuNum": 48
   },
   {
    "_defaultOrder": 27,
    "_isFastLaunch": false,
    "category": "Compute optimized",
    "gpuNum": 0,
    "hideHardwareSpecs": false,
    "memoryGiB": 144,
    "name": "ml.c5.18xlarge",
    "vcpuNum": 72
   },
   {
    "_defaultOrder": 28,
    "_isFastLaunch": false,
    "category": "Compute optimized",
    "gpuNum": 0,
    "hideHardwareSpecs": false,
    "memoryGiB": 192,
    "name": "ml.c5.24xlarge",
    "vcpuNum": 96
   },
   {
    "_defaultOrder": 29,
    "_isFastLaunch": true,
    "category": "Accelerated computing",
    "gpuNum": 1,
    "hideHardwareSpecs": false,
    "memoryGiB": 16,
    "name": "ml.g4dn.xlarge",
    "vcpuNum": 4
   },
   {
    "_defaultOrder": 30,
    "_isFastLaunch": false,
    "category": "Accelerated computing",
    "gpuNum": 1,
    "hideHardwareSpecs": false,
    "memoryGiB": 32,
    "name": "ml.g4dn.2xlarge",
    "vcpuNum": 8
   },
   {
    "_defaultOrder": 31,
    "_isFastLaunch": false,
    "category": "Accelerated computing",
    "gpuNum": 1,
    "hideHardwareSpecs": false,
    "memoryGiB": 64,
    "name": "ml.g4dn.4xlarge",
    "vcpuNum": 16
   },
   {
    "_defaultOrder": 32,
    "_isFastLaunch": false,
    "category": "Accelerated computing",
    "gpuNum": 1,
    "hideHardwareSpecs": false,
    "memoryGiB": 128,
    "name": "ml.g4dn.8xlarge",
    "vcpuNum": 32
   },
   {
    "_defaultOrder": 33,
    "_isFastLaunch": false,
    "category": "Accelerated computing",
    "gpuNum": 4,
    "hideHardwareSpecs": false,
    "memoryGiB": 192,
    "name": "ml.g4dn.12xlarge",
    "vcpuNum": 48
   },
   {
    "_defaultOrder": 34,
    "_isFastLaunch": false,
    "category": "Accelerated computing",
    "gpuNum": 1,
    "hideHardwareSpecs": false,
    "memoryGiB": 256,
    "name": "ml.g4dn.16xlarge",
    "vcpuNum": 64
   },
   {
    "_defaultOrder": 35,
    "_isFastLaunch": false,
    "category": "Accelerated computing",
    "gpuNum": 1,
    "hideHardwareSpecs": false,
    "memoryGiB": 61,
    "name": "ml.p3.2xlarge",
    "vcpuNum": 8
   },
   {
    "_defaultOrder": 36,
    "_isFastLaunch": false,
    "category": "Accelerated computing",
    "gpuNum": 4,
    "hideHardwareSpecs": false,
    "memoryGiB": 244,
    "name": "ml.p3.8xlarge",
    "vcpuNum": 32
   },
   {
    "_defaultOrder": 37,
    "_isFastLaunch": false,
    "category": "Accelerated computing",
    "gpuNum": 8,
    "hideHardwareSpecs": false,
    "memoryGiB": 488,
    "name": "ml.p3.16xlarge",
    "vcpuNum": 64
   },
   {
    "_defaultOrder": 38,
    "_isFastLaunch": false,
    "category": "Accelerated computing",
    "gpuNum": 8,
    "hideHardwareSpecs": false,
    "memoryGiB": 768,
    "name": "ml.p3dn.24xlarge",
    "vcpuNum": 96
   },
   {
    "_defaultOrder": 39,
    "_isFastLaunch": false,
    "category": "Memory Optimized",
    "gpuNum": 0,
    "hideHardwareSpecs": false,
    "memoryGiB": 16,
    "name": "ml.r5.large",
    "vcpuNum": 2
   },
   {
    "_defaultOrder": 40,
    "_isFastLaunch": false,
    "category": "Memory Optimized",
    "gpuNum": 0,
    "hideHardwareSpecs": false,
    "memoryGiB": 32,
    "name": "ml.r5.xlarge",
    "vcpuNum": 4
   },
   {
    "_defaultOrder": 41,
    "_isFastLaunch": false,
    "category": "Memory Optimized",
    "gpuNum": 0,
    "hideHardwareSpecs": false,
    "memoryGiB": 64,
    "name": "ml.r5.2xlarge",
    "vcpuNum": 8
   },
   {
    "_defaultOrder": 42,
    "_isFastLaunch": false,
    "category": "Memory Optimized",
    "gpuNum": 0,
    "hideHardwareSpecs": false,
    "memoryGiB": 128,
    "name": "ml.r5.4xlarge",
    "vcpuNum": 16
   },
   {
    "_defaultOrder": 43,
    "_isFastLaunch": false,
    "category": "Memory Optimized",
    "gpuNum": 0,
    "hideHardwareSpecs": false,
    "memoryGiB": 256,
    "name": "ml.r5.8xlarge",
    "vcpuNum": 32
   },
   {
    "_defaultOrder": 44,
    "_isFastLaunch": false,
    "category": "Memory Optimized",
    "gpuNum": 0,
    "hideHardwareSpecs": false,
    "memoryGiB": 384,
    "name": "ml.r5.12xlarge",
    "vcpuNum": 48
   },
   {
    "_defaultOrder": 45,
    "_isFastLaunch": false,
    "category": "Memory Optimized",
    "gpuNum": 0,
    "hideHardwareSpecs": false,
    "memoryGiB": 512,
    "name": "ml.r5.16xlarge",
    "vcpuNum": 64
   },
   {
    "_defaultOrder": 46,
    "_isFastLaunch": false,
    "category": "Memory Optimized",
    "gpuNum": 0,
    "hideHardwareSpecs": false,
    "memoryGiB": 768,
    "name": "ml.r5.24xlarge",
    "vcpuNum": 96
   },
   {
    "_defaultOrder": 47,
    "_isFastLaunch": false,
    "category": "Accelerated computing",
    "gpuNum": 1,
    "hideHardwareSpecs": false,
    "memoryGiB": 16,
    "name": "ml.g5.xlarge",
    "vcpuNum": 4
   },
   {
    "_defaultOrder": 48,
    "_isFastLaunch": false,
    "category": "Accelerated computing",
    "gpuNum": 1,
    "hideHardwareSpecs": false,
    "memoryGiB": 32,
    "name": "ml.g5.2xlarge",
    "vcpuNum": 8
   },
   {
    "_defaultOrder": 49,
    "_isFastLaunch": false,
    "category": "Accelerated computing",
    "gpuNum": 1,
    "hideHardwareSpecs": false,
    "memoryGiB": 64,
    "name": "ml.g5.4xlarge",
    "vcpuNum": 16
   },
   {
    "_defaultOrder": 50,
    "_isFastLaunch": false,
    "category": "Accelerated computing",
    "gpuNum": 1,
    "hideHardwareSpecs": false,
    "memoryGiB": 128,
    "name": "ml.g5.8xlarge",
    "vcpuNum": 32
   },
   {
    "_defaultOrder": 51,
    "_isFastLaunch": false,
    "category": "Accelerated computing",
    "gpuNum": 1,
    "hideHardwareSpecs": false,
    "memoryGiB": 256,
    "name": "ml.g5.16xlarge",
    "vcpuNum": 64
   },
   {
    "_defaultOrder": 52,
    "_isFastLaunch": false,
    "category": "Accelerated computing",
    "gpuNum": 4,
    "hideHardwareSpecs": false,
    "memoryGiB": 192,
    "name": "ml.g5.12xlarge",
    "vcpuNum": 48
   },
   {
    "_defaultOrder": 53,
    "_isFastLaunch": false,
    "category": "Accelerated computing",
    "gpuNum": 4,
    "hideHardwareSpecs": false,
    "memoryGiB": 384,
    "name": "ml.g5.24xlarge",
    "vcpuNum": 96
   },
   {
    "_defaultOrder": 54,
    "_isFastLaunch": false,
    "category": "Accelerated computing",
    "gpuNum": 8,
    "hideHardwareSpecs": false,
    "memoryGiB": 768,
    "name": "ml.g5.48xlarge",
    "vcpuNum": 192
   },
   {
    "_defaultOrder": 55,
    "_isFastLaunch": false,
    "category": "Accelerated computing",
    "gpuNum": 8,
    "hideHardwareSpecs": false,
    "memoryGiB": 1152,
    "name": "ml.p4d.24xlarge",
    "vcpuNum": 96
   },
   {
    "_defaultOrder": 56,
    "_isFastLaunch": false,
    "category": "Accelerated computing",
    "gpuNum": 8,
    "hideHardwareSpecs": false,
    "memoryGiB": 1152,
    "name": "ml.p4de.24xlarge",
    "vcpuNum": 96
   }
  ],
  "instance_type": "ml.g4dn.xlarge",
  "kernelspec": {
   "display_name": "Python 3 (Data Science 3.0)",
   "language": "python",
   "name": "python3__SAGEMAKER_INTERNAL__arn:aws:sagemaker:us-east-2:429704687514:image/sagemaker-data-science-310-v1"
  },
  "language_info": {
   "codemirror_mode": {
    "name": "ipython",
    "version": 3
   },
   "file_extension": ".py",
   "mimetype": "text/x-python",
   "name": "python",
   "nbconvert_exporter": "python",
   "pygments_lexer": "ipython3",
   "version": "3.10.6"
  }
 },
 "nbformat": 4,
 "nbformat_minor": 5
}
