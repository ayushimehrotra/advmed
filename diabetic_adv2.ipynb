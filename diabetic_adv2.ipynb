{
 "cells": [
  {
   "cell_type": "markdown",
   "id": "95eaff99-bc03-4198-8f21-00b0c9c05e77",
   "metadata": {},
   "source": [
    "## Install Dependencies"
   ]
  },
  {
   "cell_type": "code",
   "execution_count": null,
   "id": "525cc86b-4a44-426c-8688-21b48016fbe1",
   "metadata": {},
   "outputs": [],
   "source": [
    "from IPython.display import clear_output\n",
    "!pip install torch==1.13.1 torchvision==0.14.1 torchaudio==0.13.1\n",
    "!pip install captum\n",
    "!pip install opencv-python\n",
    "!pip install seaborn\n",
    "!pip install matplotlib\n",
    "!pip install cleverhans\n",
    "!pip install cachetools\n",
    "!pip install pandas\n",
    "!apt-get update && apt-get install ffmpeg libsm6 libxext6  -y\n",
    "!pip install captum\n",
    "!pip install cleverhans\n",
    "clear_output()"
   ]
  },
  {
   "cell_type": "code",
   "execution_count": 1,
   "id": "889e8fe6-75b0-4c3f-847e-0d5309b9d8de",
   "metadata": {
    "tags": []
   },
   "outputs": [
    {
     "name": "stderr",
     "output_type": "stream",
     "text": [
      "/opt/conda/lib/python3.10/site-packages/torch/cuda/__init__.py:138: UserWarning: CUDA initialization: The NVIDIA driver on your system is too old (found version 11040). Please update your GPU driver by downloading and installing a new version from the URL: http://www.nvidia.com/Download/index.aspx Alternatively, go to: https://pytorch.org to install a PyTorch version that has been compiled with your version of the CUDA driver. (Triggered internally at ../c10/cuda/CUDAFunctions.cpp:108.)\n",
      "  return torch._C._cuda_getDeviceCount() > 0\n"
     ]
    }
   ],
   "source": [
    "import os, cv2,itertools\n",
    "import matplotlib.pyplot as plt\n",
    "import numpy as np\n",
    "import pandas as pd\n",
    "from tqdm import tqdm\n",
    "from glob import glob\n",
    "from PIL import Image\n",
    "\n",
    "# pytorch libraries\n",
    "import torch\n",
    "from torch import optim,nn\n",
    "from torch.autograd import Variable\n",
    "from torch.utils.data import DataLoader,Dataset\n",
    "from torchvision import models,transforms\n",
    "\n",
    "# sklearn libraries\n",
    "from sklearn.metrics import confusion_matrix\n",
    "from sklearn.model_selection import train_test_split\n",
    "from sklearn.metrics import classification_report\n",
    "\n",
    "import pickle\n",
    "import main\n",
    "\n",
    "# to make the results are reproducible\n",
    "np.random.seed(10)\n",
    "torch.manual_seed(10)\n",
    "torch.cuda.manual_seed(10)\n",
    "\n",
    "import gc\n",
    "from load_diabetic import load_diabetic_data\n",
    "from adv2 import adv2, load_data\n",
    "device = torch.device('cuda:0' if torch.cuda.is_available() else 'cpu')"
   ]
  },
  {
   "cell_type": "code",
   "execution_count": 3,
   "id": "8aa393ee-44e1-4a48-8591-a525edd8a324",
   "metadata": {
    "tags": []
   },
   "outputs": [],
   "source": [
    "from IPython.display import clear_output\n",
    "from captum.attr import IntegratedGradients\n",
    "from captum.attr import Saliency\n",
    "from captum.attr import GradientShap\n",
    "from captum.attr import visualization as viz\n",
    "from cleverhans.torch.attacks.fast_gradient_method import fast_gradient_method\n",
    "from cleverhans.torch.attacks.carlini_wagner_l2 import carlini_wagner_l2\n",
    "from cleverhans.torch.attacks.projected_gradient_descent import (\n",
    "    projected_gradient_descent\n",
    ")\n",
    "clear_output()"
   ]
  },
  {
   "cell_type": "markdown",
   "id": "1517856d-6a42-44bd-99af-f4fba207b110",
   "metadata": {},
   "source": [
    "## Dataset"
   ]
  },
  {
   "cell_type": "code",
   "execution_count": 4,
   "id": "8c44ca05-12aa-44fb-9a92-5d78ff1243e7",
   "metadata": {
    "tags": []
   },
   "outputs": [],
   "source": [
    "train_loader, val_loader = load_diabetic_data()"
   ]
  },
  {
   "cell_type": "markdown",
   "id": "3daa4a41-fdcb-4503-a7cc-86a87548b152",
   "metadata": {},
   "source": [
    "## Model"
   ]
  },
  {
   "cell_type": "code",
   "execution_count": 5,
   "id": "056af452-3bd7-4c61-a44e-69e0aa9cff7f",
   "metadata": {
    "tags": []
   },
   "outputs": [],
   "source": [
    "model = torch.load('model/diabetic/model_diabetic.pth')"
   ]
  },
  {
   "cell_type": "code",
   "execution_count": 6,
   "id": "da04b9e8-e9d3-4965-aa1e-7c8bdfe3a9d7",
   "metadata": {},
   "outputs": [],
   "source": [
    "num_batches = 10"
   ]
  },
  {
   "cell_type": "code",
   "execution_count": 7,
   "id": "b9d796b7-bc11-436b-a259-2eb619a17597",
   "metadata": {
    "tags": []
   },
   "outputs": [
    {
     "name": "stderr",
     "output_type": "stream",
     "text": [
      "/opt/conda/lib/python3.10/site-packages/captum/_utils/gradient.py:57: UserWarning: Input Tensor 0 did not already require gradients, required_grads has been set automatically.\n",
      "  warnings.warn(\n"
     ]
    },
    {
     "name": "stdout",
     "output_type": "stream",
     "text": [
      "0\n"
     ]
    },
    {
     "name": "stderr",
     "output_type": "stream",
     "text": [
      "/root/adv2.py:235: UserWarning: Creating a tensor from a list of numpy.ndarrays is extremely slow. Please consider converting the list to a single numpy.ndarray with numpy.array() before converting to a tensor. (Triggered internally at ../torch/csrc/utils/tensor_new.cpp:261.)\n",
      "  bx, by, bm = [torch.tensor(arr, device=device) for arr in (bx_np, by_np, bm_np)]\n",
      "/root/adv2.py:119: UserWarning: Implicit dimension choice for log_softmax has been deprecated. Change the call to include dim=X as an argument.\n",
      "  adv_loss = F.nll_loss(F.log_softmax(logit), by, reduction='sum')\n",
      "/root/adv2.py:138: UserWarning: Implicit dimension choice for log_softmax has been deprecated. Change the call to include dim=X as an argument.\n",
      "  adv_loss = F.nll_loss(F.log_softmax(logit), by, reduction='sum')\n",
      "/root/adv2.py:61: UserWarning: Implicit dimension choice for log_softmax has been deprecated. Change the call to include dim=X as an argument.\n",
      "  loss = F.nll_loss(F.log_softmax(logit), by)\n",
      "/root/adv2.py:143: UserWarning: Implicit dimension choice for softmax has been deprecated. Change the call to include dim=X as an argument.\n",
      "  prob = F.softmax(logit).gather(1, by.view(n, -1)).view(n)\n",
      "/opt/conda/lib/python3.10/site-packages/numpy/core/fromnumeric.py:3504: RuntimeWarning: Mean of empty slice.\n",
      "  return _methods._mean(a, axis=axis, dtype=dtype,\n",
      "/opt/conda/lib/python3.10/site-packages/numpy/core/_methods.py:129: RuntimeWarning: invalid value encountered in divide\n",
      "  ret = ret.dtype.type(ret / rcount)\n"
     ]
    },
    {
     "name": "stdout",
     "output_type": "stream",
     "text": [
      "c 0.001 step 0 succeed: 0 conf: nan dist nan\n",
      "c 0.001 step 10 succeed: 13 conf: 0.9771031 dist 3559.6174\n",
      "c 0.001 step 20 succeed: 13 conf: 0.9903961 dist 3558.8062\n",
      "c 0.001 step 30 succeed: 13 conf: 0.99266243 dist 3558.7283\n",
      "c 0.001 step 40 succeed: 13 conf: 0.99405473 dist 3558.7068\n",
      "c 0.001 step 50 succeed: 13 conf: 0.99406695 dist 3558.706\n",
      "c 0.001 step 60 succeed: 13 conf: 0.99482733 dist 3558.7056\n",
      "c 0.001 step 70 succeed: 13 conf: 0.9952233 dist 3558.7021\n",
      "c 0.001 step 80 succeed: 13 conf: 0.99564797 dist 3558.6719\n",
      "c 0.001 step 90 succeed: 13 conf: 0.9956458 dist 3558.663\n",
      "c 0.001 step 100 succeed: 13 conf: 0.9956458 dist 3558.663\n",
      "1\n",
      "c 0.001 step 0 succeed: 1 conf: 0.8546874 dist 134.40878\n",
      "c 0.001 step 10 succeed: 14 conf: 0.9707464 dist 3659.303\n",
      "c 0.001 step 20 succeed: 15 conf: 0.9853688 dist 3449.599\n",
      "c 0.001 step 30 succeed: 15 conf: 0.98891944 dist 3449.546\n",
      "c 0.001 step 40 succeed: 15 conf: 0.98926395 dist 3449.5408\n",
      "c 0.001 step 50 succeed: 15 conf: 0.9900382 dist 3449.5369\n",
      "c 0.001 step 60 succeed: 15 conf: 0.99090767 dist 3449.5269\n",
      "c 0.001 step 70 succeed: 15 conf: 0.9909022 dist 3449.5237\n",
      "c 0.001 step 80 succeed: 15 conf: 0.9909386 dist 3449.5212\n",
      "c 0.001 step 90 succeed: 15 conf: 0.991421 dist 3449.515\n",
      "c 0.001 step 100 succeed: 15 conf: 0.99141735 dist 3449.514\n",
      "2\n",
      "c 0.001 step 0 succeed: 0 conf: nan dist nan\n",
      "c 0.001 step 10 succeed: 11 conf: 0.9884379 dist 3951.5789\n",
      "c 0.001 step 20 succeed: 13 conf: 0.971616 dist 3442.0222\n",
      "c 0.001 step 30 succeed: 13 conf: 0.97695565 dist 3441.9573\n",
      "c 0.001 step 40 succeed: 13 conf: 0.9797462 dist 3441.9338\n",
      "c 0.001 step 50 succeed: 13 conf: 0.9816987 dist 3441.8962\n",
      "c 0.001 step 60 succeed: 13 conf: 0.98208266 dist 3441.8877\n",
      "c 0.001 step 70 succeed: 13 conf: 0.98321944 dist 3441.8735\n",
      "c 0.001 step 80 succeed: 13 conf: 0.9832211 dist 3441.8728\n",
      "c 0.001 step 90 succeed: 13 conf: 0.9842894 dist 3441.8594\n",
      "c 0.001 step 100 succeed: 13 conf: 0.984792 dist 3441.8438\n",
      "3\n",
      "c 0.001 step 0 succeed: 0 conf: nan dist nan\n",
      "c 0.001 step 10 succeed: 13 conf: 0.97794193 dist 2848.887\n",
      "c 0.001 step 20 succeed: 14 conf: 0.9811459 dist 2979.6802\n",
      "c 0.001 step 30 succeed: 14 conf: 0.983699 dist 2979.6013\n",
      "c 0.001 step 40 succeed: 14 conf: 0.984251 dist 2979.5952\n",
      "c 0.001 step 50 succeed: 14 conf: 0.98589414 dist 2979.5532\n",
      "c 0.001 step 60 succeed: 14 conf: 0.9858939 dist 2979.5532\n",
      "c 0.001 step 70 succeed: 14 conf: 0.98593426 dist 2979.5454\n",
      "c 0.001 step 80 succeed: 14 conf: 0.9868174 dist 2979.5378\n",
      "c 0.001 step 90 succeed: 14 conf: 0.9869303 dist 2979.5332\n",
      "c 0.001 step 100 succeed: 14 conf: 0.9869252 dist 2979.5332\n",
      "4\n",
      "c 0.001 step 0 succeed: 0 conf: nan dist nan\n",
      "c 0.001 step 10 succeed: 16 conf: 0.9915477 dist 2749.067\n",
      "c 0.001 step 20 succeed: 16 conf: 0.99726456 dist 2749.0396\n",
      "c 0.001 step 30 succeed: 16 conf: 0.9982089 dist 2749.0376\n",
      "c 0.001 step 40 succeed: 16 conf: 0.99827707 dist 2749.0369\n",
      "c 0.001 step 50 succeed: 16 conf: 0.99828875 dist 2749.0366\n",
      "c 0.001 step 60 succeed: 16 conf: 0.9982996 dist 2749.0361\n",
      "c 0.001 step 70 succeed: 16 conf: 0.9983008 dist 2749.036\n",
      "c 0.001 step 80 succeed: 16 conf: 0.9983117 dist 2749.036\n",
      "c 0.001 step 90 succeed: 16 conf: 0.99832606 dist 2749.0356\n",
      "c 0.001 step 100 succeed: 16 conf: 0.99832267 dist 2749.0356\n",
      "5\n",
      "c 0.001 step 0 succeed: 0 conf: nan dist nan\n",
      "c 0.001 step 10 succeed: 14 conf: 0.9945177 dist 1641.1229\n",
      "c 0.001 step 20 succeed: 15 conf: 0.98845357 dist 1864.1667\n",
      "c 0.001 step 30 succeed: 15 conf: 0.9915691 dist 1864.0975\n",
      "c 0.001 step 40 succeed: 15 conf: 0.9930407 dist 1864.0859\n",
      "c 0.001 step 50 succeed: 15 conf: 0.99339414 dist 1864.0725\n",
      "c 0.001 step 60 succeed: 15 conf: 0.993398 dist 1864.0707\n",
      "c 0.001 step 70 succeed: 15 conf: 0.99342453 dist 1864.0658\n",
      "c 0.001 step 80 succeed: 15 conf: 0.99342453 dist 1864.0658\n",
      "c 0.001 step 90 succeed: 15 conf: 0.99342453 dist 1864.0658\n",
      "c 0.001 step 100 succeed: 15 conf: 0.99342453 dist 1864.0658\n",
      "6\n",
      "c 0.001 step 0 succeed: 0 conf: nan dist nan\n",
      "c 0.001 step 10 succeed: 12 conf: 0.98009586 dist 2057.777\n",
      "c 0.001 step 20 succeed: 13 conf: 0.9874315 dist 1916.86\n",
      "c 0.001 step 30 succeed: 13 conf: 0.9921876 dist 1916.7634\n",
      "c 0.001 step 40 succeed: 13 conf: 0.9923541 dist 1916.7604\n",
      "c 0.001 step 50 succeed: 13 conf: 0.9952067 dist 1916.7443\n",
      "c 0.001 step 60 succeed: 13 conf: 0.9952104 dist 1916.742\n",
      "c 0.001 step 70 succeed: 13 conf: 0.99528825 dist 1916.7391\n",
      "c 0.001 step 80 succeed: 13 conf: 0.99528825 dist 1916.7391\n",
      "c 0.001 step 90 succeed: 13 conf: 0.99528825 dist 1916.7391\n",
      "c 0.001 step 100 succeed: 13 conf: 0.9953267 dist 1916.7391\n",
      "7\n",
      "c 0.001 step 0 succeed: 0 conf: nan dist nan\n",
      "c 0.001 step 10 succeed: 15 conf: 0.99055946 dist 2940.7617\n",
      "c 0.001 step 20 succeed: 16 conf: 0.99404776 dist 3123.0579\n",
      "c 0.001 step 30 succeed: 16 conf: 0.9961897 dist 3123.0547\n",
      "c 0.001 step 40 succeed: 16 conf: 0.99627954 dist 3123.0542\n",
      "c 0.001 step 50 succeed: 16 conf: 0.9962879 dist 3123.054\n",
      "c 0.001 step 60 succeed: 16 conf: 0.9963511 dist 3123.0537\n",
      "c 0.001 step 70 succeed: 16 conf: 0.9963523 dist 3123.0537\n",
      "c 0.001 step 80 succeed: 16 conf: 0.9963644 dist 3123.0537\n",
      "c 0.001 step 90 succeed: 16 conf: 0.9963719 dist 3123.0537\n",
      "c 0.001 step 100 succeed: 16 conf: 0.996447 dist 3123.0535\n",
      "8\n",
      "c 0.001 step 0 succeed: 0 conf: nan dist nan\n",
      "c 0.001 step 10 succeed: 14 conf: 0.97953606 dist 2347.0884\n",
      "c 0.001 step 20 succeed: 14 conf: 0.9929175 dist 2346.6497\n",
      "c 0.001 step 30 succeed: 14 conf: 0.99453294 dist 2346.6406\n",
      "c 0.001 step 40 succeed: 14 conf: 0.9957757 dist 2346.6218\n",
      "c 0.001 step 50 succeed: 14 conf: 0.9958642 dist 2346.6206\n",
      "c 0.001 step 60 succeed: 14 conf: 0.9958642 dist 2346.6206\n",
      "c 0.001 step 70 succeed: 14 conf: 0.9959391 dist 2346.6196\n",
      "c 0.001 step 80 succeed: 14 conf: 0.9959444 dist 2346.6187\n",
      "c 0.001 step 90 succeed: 14 conf: 0.9959308 dist 2346.6177\n",
      "c 0.001 step 100 succeed: 14 conf: 0.9959753 dist 2346.6172\n",
      "9\n",
      "c 0.001 step 0 succeed: 0 conf: nan dist nan\n",
      "c 0.001 step 10 succeed: 12 conf: 0.9892151 dist 2453.4646\n",
      "c 0.001 step 20 succeed: 13 conf: 0.98249567 dist 2901.1558\n",
      "c 0.001 step 30 succeed: 13 conf: 0.98485225 dist 2900.9658\n",
      "c 0.001 step 40 succeed: 13 conf: 0.9859054 dist 2900.913\n",
      "c 0.001 step 50 succeed: 13 conf: 0.9867725 dist 2900.8777\n",
      "c 0.001 step 60 succeed: 13 conf: 0.9872477 dist 2900.8474\n",
      "c 0.001 step 70 succeed: 13 conf: 0.98735046 dist 2900.8374\n",
      "c 0.001 step 80 succeed: 13 conf: 0.98769754 dist 2900.817\n",
      "c 0.001 step 90 succeed: 13 conf: 0.9877287 dist 2900.8005\n",
      "c 0.001 step 100 succeed: 13 conf: 0.98773 dist 2900.8003\n"
     ]
    }
   ],
   "source": [
    "res = adv2(\"diabetic\", \"grad\", False, num_batches)\n",
    "with open(\"diabetic_grad_adv2\", \"wb\") as fp:   #Pickling\n",
    "    pickle.dump(res, fp)"
   ]
  },
  {
   "cell_type": "code",
   "execution_count": 6,
   "id": "2f40705b-2a29-4dfc-9743-c7267baa4c79",
   "metadata": {
    "tags": []
   },
   "outputs": [],
   "source": [
    "with open(\"diabetic_grad_adv2\", \"rb\") as fp:   # Unpickling\n",
    "     res = pickle.load(fp)"
   ]
  },
  {
   "cell_type": "code",
   "execution_count": 8,
   "id": "2b976cff-d93e-470c-bae1-d2cfdf913fe8",
   "metadata": {
    "tags": []
   },
   "outputs": [
    {
     "name": "stderr",
     "output_type": "stream",
     "text": [
      "Clipping input data to the valid range for imshow with RGB data ([0..1] for floats or [0..255] for integers).\n"
     ]
    },
    {
     "data": {
      "image/png": "[encoded data removed]",
      "text/plain": [
       "<Figure size 600x600 with 1 Axes>"
      ]
     },
     "metadata": {},
     "output_type": "display_data"
    }
   ],
   "source": [
    "_ = viz.visualize_image_attr(None, np.transpose(res[0]['best_adv'][0], (1, 2, 0)) , \n",
    "                      method=\"original_image\", title=\"Original Image\")\n",
    "# print(res[0]['best_adv'])"
   ]
  },
  {
   "cell_type": "markdown",
   "id": "0b6d9d6a-a3e8-46a7-ba8d-6d12f70002e8",
   "metadata": {},
   "source": [
    "## GRAD"
   ]
  },
  {
   "cell_type": "code",
   "execution_count": 9,
   "id": "4b0e468a-dfd2-410d-955d-d023d34ffbc8",
   "metadata": {
    "tags": []
   },
   "outputs": [],
   "source": [
    "algorithm = Saliency(model)"
   ]
  },
  {
   "cell_type": "code",
   "execution_count": 10,
   "id": "c394da2d-54e1-4373-af9d-a9bac1139390",
   "metadata": {
    "tags": []
   },
   "outputs": [
    {
     "name": "stdout",
     "output_type": "stream",
     "text": [
      "Attribution for batch 0 complete\n",
      "Attribution for batch 1 complete\n",
      "Attribution for batch 2 complete\n",
      "Attribution for batch 3 complete\n",
      "Attribution for batch 4 complete\n",
      "Attribution for batch 5 complete\n",
      "Attribution for batch 6 complete\n",
      "Attribution for batch 7 complete\n",
      "Attribution for batch 8 complete\n",
      "Attribution for batch 9 complete\n"
     ]
    }
   ],
   "source": [
    "benres = main.run_benign(algorithm, model, val_loader, num_batches)"
   ]
  },
  {
   "cell_type": "code",
   "execution_count": 11,
   "id": "2a9d032d-3528-4165-a57b-a52ebef6c0cd",
   "metadata": {
    "tags": []
   },
   "outputs": [
    {
     "name": "stdout",
     "output_type": "stream",
     "text": [
      "Attribution for batch 0 complete\n",
      "Attribution for batch 1 complete\n",
      "Attribution for batch 2 complete\n",
      "Attribution for batch 3 complete\n",
      "Attribution for batch 4 complete\n",
      "Attribution for batch 5 complete\n",
      "Attribution for batch 6 complete\n",
      "Attribution for batch 7 complete\n",
      "Attribution for batch 8 complete\n",
      "Attribution for batch 9 complete\n",
      "ADV2 Calculation Complete\n"
     ]
    }
   ],
   "source": [
    "adv2res = main.run_adv2(algorithm, model, res, val_loader, num_batches)"
   ]
  },
  {
   "cell_type": "code",
   "execution_count": 16,
   "id": "112b8257-d573-41e7-95c5-49b656edd178",
   "metadata": {
    "tags": []
   },
   "outputs": [],
   "source": [
    "diabetic_adv2_grad = {}\n",
    "diabetic_adv2_grad['ben'] = benres\n",
    "diabetic_adv2_grad['adv2'] = adv2res\n",
    "with open('diabetic_adv2_grad.pkl', 'wb') as f:\n",
    "    pickle.dump(diabetic_adv2_grad, f)\n",
    "# with open('diabetic_adv2_grad.pkl', 'rb') as fp:\n",
    "#     diabetic_adv2_grad = pickle.load(fp)"
   ]
  },
  {
   "cell_type": "code",
   "execution_count": 17,
   "id": "c284ced4-f3ef-472d-9090-23b24f2bf234",
   "metadata": {
    "tags": []
   },
   "outputs": [
    {
     "data": {
      "image/png": "[encoded data removed]",
      "text/plain": [
       "<Figure size 640x480 with 1 Axes>"
      ]
     },
     "metadata": {},
     "output_type": "display_data"
    }
   ],
   "source": [
    "ind = 1\n",
    "\n",
    "plt.hist(diabetic_adv2_grad['ben'][ind], label='Benign', color='blue')\n",
    "plt.hist(diabetic_adv2_grad['adv2'][ind], label='Adv2', alpha=0.7, color='red')\n",
    "plt.legend()\n",
    "plt.show()"
   ]
  },
  {
   "cell_type": "code",
   "execution_count": 27,
   "id": "9b37e3ff-6c55-46e7-aabe-5fa7e6e44b93",
   "metadata": {
    "tags": []
   },
   "outputs": [
    {
     "name": "stdout",
     "output_type": "stream",
     "text": [
      "0.1\n",
      "0.51875\n"
     ]
    },
    {
     "data": {
      "image/png": "[encoded data removed]",
      "text/plain": [
       "<Figure size 640x480 with 1 Axes>"
      ]
     },
     "metadata": {},
     "output_type": "display_data"
    }
   ],
   "source": [
    "import roc_curve\n",
    "x1, y1 = roc_curve.min_roc_curve(diabetic_adv2_grad['ben'][ind], diabetic_adv2_grad['adv2'][ind], 1000)\n",
    "\n",
    "fpr_res = 0\n",
    "tpr_res = 0\n",
    "i = 0\n",
    "for a in x1:\n",
    "    if abs(a - 0.1) < abs(fpr_res - 0.1):\n",
    "        fpr_res = a\n",
    "        tpr_res = y1[i]\n",
    "    i+=1\n",
    "        \n",
    "print(fpr_res)\n",
    "print(tpr_res)\n",
    "\n",
    "plt.title(\"PGD GRAD ROC for Skin\")\n",
    "plt.plot(x1, y1, \"red\", linestyle = 'dotted', label = \"ADV2\")\n",
    "plt.show()"
   ]
  },
  {
   "cell_type": "markdown",
   "id": "c6bceadc-9ef1-48ab-98c9-9ebc1888cb18",
   "metadata": {},
   "source": [
    "## IG"
   ]
  },
  {
   "cell_type": "code",
   "execution_count": 19,
   "id": "d67b66e3-bd59-4add-b2a7-1448ca3b8297",
   "metadata": {},
   "outputs": [],
   "source": [
    "algorithm = IntegratedGradients(model)"
   ]
  },
  {
   "cell_type": "code",
   "execution_count": 20,
   "id": "35b06466-9f0d-4045-a56e-04aedd3b2ad2",
   "metadata": {},
   "outputs": [
    {
     "name": "stdout",
     "output_type": "stream",
     "text": [
      "Attribution for batch 0 complete\n",
      "Attribution for batch 1 complete\n",
      "Attribution for batch 2 complete\n",
      "Attribution for batch 3 complete\n",
      "Attribution for batch 4 complete\n",
      "Attribution for batch 5 complete\n",
      "Attribution for batch 6 complete\n",
      "Attribution for batch 7 complete\n",
      "Attribution for batch 8 complete\n",
      "Attribution for batch 9 complete\n"
     ]
    }
   ],
   "source": [
    "benresig = main.run_benign(algorithm, model, val_loader, num_batches)"
   ]
  },
  {
   "cell_type": "code",
   "execution_count": 21,
   "id": "1d23a27d-a66b-400d-bf7e-f7570dcf866d",
   "metadata": {},
   "outputs": [
    {
     "name": "stderr",
     "output_type": "stream",
     "text": [
      "/root/main.py:93: RuntimeWarning: invalid value encountered in scalar divide\n",
      "  score_qt = (score_75 - score_25)/(score_75 + score_25)\n"
     ]
    },
    {
     "name": "stdout",
     "output_type": "stream",
     "text": [
      "Attribution for batch 0 complete\n",
      "Attribution for batch 1 complete\n",
      "Attribution for batch 2 complete\n",
      "Attribution for batch 3 complete\n",
      "Attribution for batch 4 complete\n",
      "Attribution for batch 5 complete\n",
      "Attribution for batch 6 complete\n",
      "Attribution for batch 7 complete\n",
      "Attribution for batch 8 complete\n",
      "Attribution for batch 9 complete\n",
      "ADV2 Calculation Complete\n"
     ]
    }
   ],
   "source": [
    "adv2resig = main.run_adv2(algorithm, model, res, val_loader, num_batches)"
   ]
  },
  {
   "cell_type": "code",
   "execution_count": 23,
   "id": "0b231122-28f0-4e62-b99a-07c46d913a25",
   "metadata": {},
   "outputs": [],
   "source": [
    "diabetic_adv2_ig = {}\n",
    "diabetic_adv2_ig['ben'] = benresig\n",
    "diabetic_adv2_ig['adv2'] = adv2resig\n",
    "with open('diabetic_adv2_ig.pkl', 'wb') as f:\n",
    "    pickle.dump(diabetic_adv2_ig, f)\n",
    "# with open('diabetic_adv2_ig.pkl', 'rb') as fp:\n",
    "#     diabetic_adv2_ig = pickle.load(fp)"
   ]
  },
  {
   "cell_type": "code",
   "execution_count": 24,
   "id": "6c1931be-4259-467c-a959-b571399be06b",
   "metadata": {},
   "outputs": [
    {
     "data": {
      "image/png": "[encoded data removed]",
      "text/plain": [
       "<Figure size 640x480 with 1 Axes>"
      ]
     },
     "metadata": {},
     "output_type": "display_data"
    }
   ],
   "source": [
    "ind = 1\n",
    "\n",
    "plt.hist(diabetic_adv2_ig['ben'][ind], label='Benign', color='blue')\n",
    "plt.hist(diabetic_adv2_ig['adv2'][ind], label='Adv2', alpha=0.7, color='red')\n",
    "plt.legend()\n",
    "plt.show()"
   ]
  },
  {
   "cell_type": "code",
   "execution_count": 26,
   "id": "fcc977f6-dc63-4a9f-a48e-bd7c6ba0001f",
   "metadata": {},
   "outputs": [
    {
     "name": "stdout",
     "output_type": "stream",
     "text": [
      "0.1\n",
      "0.7\n"
     ]
    },
    {
     "data": {
      "image/png": "[encoded data removed]",
      "text/plain": [
       "<Figure size 640x480 with 1 Axes>"
      ]
     },
     "metadata": {},
     "output_type": "display_data"
    }
   ],
   "source": [
    "x1, y1 = roc_curve.min_roc_curve(diabetic_adv2_ig['ben'][ind], diabetic_adv2_ig['adv2'][ind], 1000)\n",
    "\n",
    "fpr_res = 0\n",
    "tpr_res = 0\n",
    "i = 0\n",
    "for a in x1:\n",
    "    if abs(a - 0.1) < abs(fpr_res - 0.1):\n",
    "        fpr_res = a\n",
    "        tpr_res = y1[i]\n",
    "    i+=1\n",
    "        \n",
    "print(fpr_res)\n",
    "print(tpr_res)\n",
    "\n",
    "plt.title(\"PGD GRAD ROC for Skin\")\n",
    "plt.plot(x1, y1, \"red\", linestyle = 'dotted', label = \"ADV2\")\n",
    "plt.show()"
   ]
  },
  {
   "cell_type": "markdown",
   "id": "f89a789a-11ee-4ae5-88f0-78c344cf5349",
   "metadata": {},
   "source": [
    "## GRAD with Noise"
   ]
  },
  {
   "cell_type": "code",
   "execution_count": 28,
   "id": "96f0223e-ea78-4131-ae0c-2fe8e4dc9504",
   "metadata": {},
   "outputs": [],
   "source": [
    "algorithm = Saliency(model)\n",
    "spread = 0.15"
   ]
  },
  {
   "cell_type": "code",
   "execution_count": 29,
   "id": "0cd17f19-443f-492b-8eb4-4137f7d362e7",
   "metadata": {},
   "outputs": [
    {
     "name": "stdout",
     "output_type": "stream",
     "text": [
      "Attribution for batch 0 complete\n",
      "Attribution for batch 1 complete\n",
      "Attribution for batch 2 complete\n",
      "Attribution for batch 3 complete\n",
      "Attribution for batch 4 complete\n",
      "Attribution for batch 5 complete\n",
      "Attribution for batch 6 complete\n",
      "Attribution for batch 7 complete\n",
      "Attribution for batch 8 complete\n",
      "Attribution for batch 9 complete\n"
     ]
    }
   ],
   "source": [
    "resgradnoise = main.run_benign_noise(algorithm, model, val_loader, num_batches, spread)"
   ]
  },
  {
   "cell_type": "code",
   "execution_count": 31,
   "id": "b07d60cc-0934-4a51-8406-a799793135f9",
   "metadata": {},
   "outputs": [
    {
     "name": "stdout",
     "output_type": "stream",
     "text": [
      "Attribution for batch 0 complete\n",
      "Attribution for batch 1 complete\n",
      "Attribution for batch 2 complete\n",
      "Attribution for batch 3 complete\n",
      "Attribution for batch 4 complete\n",
      "Attribution for batch 5 complete\n",
      "Attribution for batch 6 complete\n",
      "Attribution for batch 7 complete\n",
      "Attribution for batch 8 complete\n",
      "Attribution for batch 9 complete\n",
      "ADV2 Calculation Complete\n"
     ]
    }
   ],
   "source": [
    "adv2resgradnoise = main.run_adv2_noise(algorithm, model, res, val_loader, num_batches, spread)"
   ]
  },
  {
   "cell_type": "code",
   "execution_count": 32,
   "id": "0b847383-0301-4e87-a678-b8ae8617d139",
   "metadata": {},
   "outputs": [],
   "source": [
    "diabetic_adv2_grad_noise = {}\n",
    "diabetic_adv2_grad_noise['ben'] = resgradnoise\n",
    "diabetic_adv2_grad_noise['adv2'] = adv2resgradnoise\n",
    "with open('diabetic_adv2_grad_noise.pkl', 'wb') as f:\n",
    "    pickle.dump(diabetic_adv2_grad_noise, f)\n",
    "# with open('skin_adv2_grad_noise.pkl', 'rb') as fp:\n",
    "#     skin_adv2_grad_noise = pickle.load(fp)"
   ]
  },
  {
   "cell_type": "code",
   "execution_count": 33,
   "id": "950976db-3a6a-4142-81e5-486700ede4f5",
   "metadata": {},
   "outputs": [
    {
     "data": {
      "image/png": "[encoded data removed]",
      "text/plain": [
       "<Figure size 640x480 with 1 Axes>"
      ]
     },
     "metadata": {},
     "output_type": "display_data"
    }
   ],
   "source": [
    "plt.hist(diabetic_adv2_grad_noise['ben'], label='Benign', color='blue')\n",
    "plt.hist(diabetic_adv2_grad_noise['adv2'], label='Adv2', alpha=0.7, color='red')\n",
    "plt.legend()\n",
    "plt.show()"
   ]
  },
  {
   "cell_type": "code",
   "execution_count": 34,
   "id": "de95098f-699e-4997-8e42-da2696a2a0b8",
   "metadata": {},
   "outputs": [
    {
     "name": "stdout",
     "output_type": "stream",
     "text": [
      "0.1\n",
      "0.50625\n"
     ]
    },
    {
     "data": {
      "image/png": "[encoded data removed]",
      "text/plain": [
       "<Figure size 640x480 with 1 Axes>"
      ]
     },
     "metadata": {},
     "output_type": "display_data"
    }
   ],
   "source": [
    "x1, y1 = roc_curve.min_roc_curve(diabetic_adv2_grad_noise['ben'], diabetic_adv2_grad_noise['adv2'], 1000)\n",
    "\n",
    "fpr_res = 0\n",
    "tpr_res = 0\n",
    "i = 0\n",
    "for a in x1:\n",
    "    if abs(a - 0.1) < abs(fpr_res - 0.1):\n",
    "        fpr_res = a\n",
    "        tpr_res = y1[i]\n",
    "    i+=1\n",
    "        \n",
    "print(fpr_res)\n",
    "print(tpr_res)\n",
    "\n",
    "plt.title(\"PGD GRAD ROC for Skin\")\n",
    "plt.plot(x1, y1, \"red\", linestyle = 'dotted', label = \"ADV2\")\n",
    "plt.show()"
   ]
  },
  {
   "cell_type": "markdown",
   "id": "007bdcc6-597d-46f1-8649-102d58cdec2d",
   "metadata": {},
   "source": [
    "## IG with Noise"
   ]
  },
  {
   "cell_type": "code",
   "execution_count": 35,
   "id": "80dddf7e-b967-4263-9a6f-69da1e86d6d6",
   "metadata": {},
   "outputs": [],
   "source": [
    "algorithm = IntegratedGradients(model)\n",
    "spread = 0.15"
   ]
  },
  {
   "cell_type": "code",
   "execution_count": 36,
   "id": "813375cb-a3ec-4d35-9cc2-7505a85bfc08",
   "metadata": {},
   "outputs": [
    {
     "name": "stdout",
     "output_type": "stream",
     "text": [
      "Attribution for batch 0 complete\n",
      "Attribution for batch 1 complete\n",
      "Attribution for batch 2 complete\n",
      "Attribution for batch 3 complete\n",
      "Attribution for batch 4 complete\n",
      "Attribution for batch 5 complete\n",
      "Attribution for batch 6 complete\n",
      "Attribution for batch 7 complete\n",
      "Attribution for batch 8 complete\n",
      "Attribution for batch 9 complete\n"
     ]
    }
   ],
   "source": [
    "resignoise = main.run_benign_noise(algorithm, model, val_loader, num_batches, spread)"
   ]
  },
  {
   "cell_type": "code",
   "execution_count": 37,
   "id": "e6ebef70-3dd2-4c4f-80ca-28fd9ac1ed79",
   "metadata": {},
   "outputs": [
    {
     "name": "stdout",
     "output_type": "stream",
     "text": [
      "Attribution for batch 0 complete\n",
      "Attribution for batch 1 complete\n",
      "Attribution for batch 2 complete\n",
      "Attribution for batch 3 complete\n",
      "Attribution for batch 4 complete\n",
      "Attribution for batch 5 complete\n",
      "Attribution for batch 6 complete\n",
      "Attribution for batch 7 complete\n",
      "Attribution for batch 8 complete\n",
      "Attribution for batch 9 complete\n",
      "ADV2 Calculation Complete\n"
     ]
    }
   ],
   "source": [
    "adv2resignoise = main.run_adv2_noise(algorithm, model, res, val_loader, num_batches, spread)"
   ]
  },
  {
   "cell_type": "code",
   "execution_count": 38,
   "id": "31d3685e-adb0-4288-9f58-db14afba9298",
   "metadata": {},
   "outputs": [],
   "source": [
    "diabetic_adv2_ig_noise = {}\n",
    "diabetic_adv2_ig_noise['ben'] = resignoise\n",
    "diabetic_adv2_ig_noise['adv2'] = adv2resignoise\n",
    "with open('diabetic_adv2_ig_noise.pkl', 'wb') as f:\n",
    "    pickle.dump(diabetic_adv2_ig_noise, f)\n",
    "# with open('skin_adv2_ig_noise.pkl', 'rb') as fp:\n",
    "#     skin_adv2_ig_noise = pickle.load(fp)"
   ]
  },
  {
   "cell_type": "code",
   "execution_count": 39,
   "id": "72648fa8-3dfc-4056-a24d-7ef74e287215",
   "metadata": {},
   "outputs": [
    {
     "data": {
      "image/png": "[encoded data removed]",
      "text/plain": [
       "<Figure size 640x480 with 1 Axes>"
      ]
     },
     "metadata": {},
     "output_type": "display_data"
    }
   ],
   "source": [
    "plt.hist(diabetic_adv2_ig_noise['ben'], label='Benign', color='blue')\n",
    "plt.hist(diabetic_adv2_ig_noise['adv2'], label='Adv2', alpha=0.7, color='red')\n",
    "plt.legend()\n",
    "plt.show()"
   ]
  },
  {
   "cell_type": "code",
   "execution_count": 40,
   "id": "2d6b70cc-05d2-4839-8d51-2d65b06113f0",
   "metadata": {},
   "outputs": [
    {
     "name": "stdout",
     "output_type": "stream",
     "text": [
      "0.1\n",
      "0.7375\n"
     ]
    },
    {
     "data": {
      "image/png": "[encoded data removed]",
      "text/plain": [
       "<Figure size 640x480 with 1 Axes>"
      ]
     },
     "metadata": {},
     "output_type": "display_data"
    }
   ],
   "source": [
    "x1, y1 = roc_curve.min_roc_curve(diabetic_adv2_ig_noise['ben'], diabetic_adv2_ig_noise['adv2'], 1000)\n",
    "\n",
    "fpr_res = 0\n",
    "tpr_res = 0\n",
    "i = 0\n",
    "for a in x1:\n",
    "    if abs(a - 0.1) < abs(fpr_res - 0.1):\n",
    "        fpr_res = a\n",
    "        tpr_res = y1[i]\n",
    "    i+=1\n",
    "        \n",
    "print(fpr_res)\n",
    "print(tpr_res)\n",
    "\n",
    "plt.title(\"PGD GRAD ROC for Skin\")\n",
    "plt.plot(x1, y1, \"red\", linestyle = 'dotted', label = \"ADV2\")\n",
    "plt.show()"
   ]
  }
 ],
 "metadata": {
  "availableInstances": [
   {
    "_defaultOrder": 0,
    "_isFastLaunch": true,
    "category": "General purpose",
    "gpuNum": 0,
    "hideHardwareSpecs": false,
    "memoryGiB": 4,
    "name": "ml.t3.medium",
    "vcpuNum": 2
   },
   {
    "_defaultOrder": 1,
    "_isFastLaunch": false,
    "category": "General purpose",
    "gpuNum": 0,
    "hideHardwareSpecs": false,
    "memoryGiB": 8,
    "name": "ml.t3.large",
    "vcpuNum": 2
   },
   {
    "_defaultOrder": 2,
    "_isFastLaunch": false,
    "category": "General purpose",
    "gpuNum": 0,
    "hideHardwareSpecs": false,
    "memoryGiB": 16,
    "name": "ml.t3.xlarge",
    "vcpuNum": 4
   },
   {
    "_defaultOrder": 3,
    "_isFastLaunch": false,
    "category": "General purpose",
    "gpuNum": 0,
    "hideHardwareSpecs": false,
    "memoryGiB": 32,
    "name": "ml.t3.2xlarge",
    "vcpuNum": 8
   },
   {
    "_defaultOrder": 4,
    "_isFastLaunch": true,
    "category": "General purpose",
    "gpuNum": 0,
    "hideHardwareSpecs": false,
    "memoryGiB": 8,
    "name": "ml.m5.large",
    "vcpuNum": 2
   },
   {
    "_defaultOrder": 5,
    "_isFastLaunch": false,
    "category": "General purpose",
    "gpuNum": 0,
    "hideHardwareSpecs": false,
    "memoryGiB": 16,
    "name": "ml.m5.xlarge",
    "vcpuNum": 4
   },
   {
    "_defaultOrder": 6,
    "_isFastLaunch": false,
    "category": "General purpose",
    "gpuNum": 0,
    "hideHardwareSpecs": false,
    "memoryGiB": 32,
    "name": "ml.m5.2xlarge",
    "vcpuNum": 8
   },
   {
    "_defaultOrder": 7,
    "_isFastLaunch": false,
    "category": "General purpose",
    "gpuNum": 0,
    "hideHardwareSpecs": false,
    "memoryGiB": 64,
    "name": "ml.m5.4xlarge",
    "vcpuNum": 16
   },
   {
    "_defaultOrder": 8,
    "_isFastLaunch": false,
    "category": "General purpose",
    "gpuNum": 0,
    "hideHardwareSpecs": false,
    "memoryGiB": 128,
    "name": "ml.m5.8xlarge",
    "vcpuNum": 32
   },
   {
    "_defaultOrder": 9,
    "_isFastLaunch": false,
    "category": "General purpose",
    "gpuNum": 0,
    "hideHardwareSpecs": false,
    "memoryGiB": 192,
    "name": "ml.m5.12xlarge",
    "vcpuNum": 48
   },
   {
    "_defaultOrder": 10,
    "_isFastLaunch": false,
    "category": "General purpose",
    "gpuNum": 0,
    "hideHardwareSpecs": false,
    "memoryGiB": 256,
    "name": "ml.m5.16xlarge",
    "vcpuNum": 64
   },
   {
    "_defaultOrder": 11,
    "_isFastLaunch": false,
    "category": "General purpose",
    "gpuNum": 0,
    "hideHardwareSpecs": false,
    "memoryGiB": 384,
    "name": "ml.m5.24xlarge",
    "vcpuNum": 96
   },
   {
    "_defaultOrder": 12,
    "_isFastLaunch": false,
    "category": "General purpose",
    "gpuNum": 0,
    "hideHardwareSpecs": false,
    "memoryGiB": 8,
    "name": "ml.m5d.large",
    "vcpuNum": 2
   },
   {
    "_defaultOrder": 13,
    "_isFastLaunch": false,
    "category": "General purpose",
    "gpuNum": 0,
    "hideHardwareSpecs": false,
    "memoryGiB": 16,
    "name": "ml.m5d.xlarge",
    "vcpuNum": 4
   },
   {
    "_defaultOrder": 14,
    "_isFastLaunch": false,
    "category": "General purpose",
    "gpuNum": 0,
    "hideHardwareSpecs": false,
    "memoryGiB": 32,
    "name": "ml.m5d.2xlarge",
    "vcpuNum": 8
   },
   {
    "_defaultOrder": 15,
    "_isFastLaunch": false,
    "category": "General purpose",
    "gpuNum": 0,
    "hideHardwareSpecs": false,
    "memoryGiB": 64,
    "name": "ml.m5d.4xlarge",
    "vcpuNum": 16
   },
   {
    "_defaultOrder": 16,
    "_isFastLaunch": false,
    "category": "General purpose",
    "gpuNum": 0,
    "hideHardwareSpecs": false,
    "memoryGiB": 128,
    "name": "ml.m5d.8xlarge",
    "vcpuNum": 32
   },
   {
    "_defaultOrder": 17,
    "_isFastLaunch": false,
    "category": "General purpose",
    "gpuNum": 0,
    "hideHardwareSpecs": false,
    "memoryGiB": 192,
    "name": "ml.m5d.12xlarge",
    "vcpuNum": 48
   },
   {
    "_defaultOrder": 18,
    "_isFastLaunch": false,
    "category": "General purpose",
    "gpuNum": 0,
    "hideHardwareSpecs": false,
    "memoryGiB": 256,
    "name": "ml.m5d.16xlarge",
    "vcpuNum": 64
   },
   {
    "_defaultOrder": 19,
    "_isFastLaunch": false,
    "category": "General purpose",
    "gpuNum": 0,
    "hideHardwareSpecs": false,
    "memoryGiB": 384,
    "name": "ml.m5d.24xlarge",
    "vcpuNum": 96
   },
   {
    "_defaultOrder": 20,
    "_isFastLaunch": false,
    "category": "General purpose",
    "gpuNum": 0,
    "hideHardwareSpecs": true,
    "memoryGiB": 0,
    "name": "ml.geospatial.interactive",
    "supportedImageNames": [
     "sagemaker-geospatial-v1-0"
    ],
    "vcpuNum": 0
   },
   {
    "_defaultOrder": 21,
    "_isFastLaunch": true,
    "category": "Compute optimized",
    "gpuNum": 0,
    "hideHardwareSpecs": false,
    "memoryGiB": 4,
    "name": "ml.c5.large",
    "vcpuNum": 2
   },
   {
    "_defaultOrder": 22,
    "_isFastLaunch": false,
    "category": "Compute optimized",
    "gpuNum": 0,
    "hideHardwareSpecs": false,
    "memoryGiB": 8,
    "name": "ml.c5.xlarge",
    "vcpuNum": 4
   },
   {
    "_defaultOrder": 23,
    "_isFastLaunch": false,
    "category": "Compute optimized",
    "gpuNum": 0,
    "hideHardwareSpecs": false,
    "memoryGiB": 16,
    "name": "ml.c5.2xlarge",
    "vcpuNum": 8
   },
   {
    "_defaultOrder": 24,
    "_isFastLaunch": false,
    "category": "Compute optimized",
    "gpuNum": 0,
    "hideHardwareSpecs": false,
    "memoryGiB": 32,
    "name": "ml.c5.4xlarge",
    "vcpuNum": 16
   },
   {
    "_defaultOrder": 25,
    "_isFastLaunch": false,
    "category": "Compute optimized",
    "gpuNum": 0,
    "hideHardwareSpecs": false,
    "memoryGiB": 72,
    "name": "ml.c5.9xlarge",
    "vcpuNum": 36
   },
   {
    "_defaultOrder": 26,
    "_isFastLaunch": false,
    "category": "Compute optimized",
    "gpuNum": 0,
    "hideHardwareSpecs": false,
    "memoryGiB": 96,
    "name": "ml.c5.12xlarge",
    "vcpuNum": 48
   },
   {
    "_defaultOrder": 27,
    "_isFastLaunch": false,
    "category": "Compute optimized",
    "gpuNum": 0,
    "hideHardwareSpecs": false,
    "memoryGiB": 144,
    "name": "ml.c5.18xlarge",
    "vcpuNum": 72
   },
   {
    "_defaultOrder": 28,
    "_isFastLaunch": false,
    "category": "Compute optimized",
    "gpuNum": 0,
    "hideHardwareSpecs": false,
    "memoryGiB": 192,
    "name": "ml.c5.24xlarge",
    "vcpuNum": 96
   },
   {
    "_defaultOrder": 29,
    "_isFastLaunch": true,
    "category": "Accelerated computing",
    "gpuNum": 1,
    "hideHardwareSpecs": false,
    "memoryGiB": 16,
    "name": "ml.g4dn.xlarge",
    "vcpuNum": 4
   },
   {
    "_defaultOrder": 30,
    "_isFastLaunch": false,
    "category": "Accelerated computing",
    "gpuNum": 1,
    "hideHardwareSpecs": false,
    "memoryGiB": 32,
    "name": "ml.g4dn.2xlarge",
    "vcpuNum": 8
   },
   {
    "_defaultOrder": 31,
    "_isFastLaunch": false,
    "category": "Accelerated computing",
    "gpuNum": 1,
    "hideHardwareSpecs": false,
    "memoryGiB": 64,
    "name": "ml.g4dn.4xlarge",
    "vcpuNum": 16
   },
   {
    "_defaultOrder": 32,
    "_isFastLaunch": false,
    "category": "Accelerated computing",
    "gpuNum": 1,
    "hideHardwareSpecs": false,
    "memoryGiB": 128,
    "name": "ml.g4dn.8xlarge",
    "vcpuNum": 32
   },
   {
    "_defaultOrder": 33,
    "_isFastLaunch": false,
    "category": "Accelerated computing",
    "gpuNum": 4,
    "hideHardwareSpecs": false,
    "memoryGiB": 192,
    "name": "ml.g4dn.12xlarge",
    "vcpuNum": 48
   },
   {
    "_defaultOrder": 34,
    "_isFastLaunch": false,
    "category": "Accelerated computing",
    "gpuNum": 1,
    "hideHardwareSpecs": false,
    "memoryGiB": 256,
    "name": "ml.g4dn.16xlarge",
    "vcpuNum": 64
   },
   {
    "_defaultOrder": 35,
    "_isFastLaunch": false,
    "category": "Accelerated computing",
    "gpuNum": 1,
    "hideHardwareSpecs": false,
    "memoryGiB": 61,
    "name": "ml.p3.2xlarge",
    "vcpuNum": 8
   },
   {
    "_defaultOrder": 36,
    "_isFastLaunch": false,
    "category": "Accelerated computing",
    "gpuNum": 4,
    "hideHardwareSpecs": false,
    "memoryGiB": 244,
    "name": "ml.p3.8xlarge",
    "vcpuNum": 32
   },
   {
    "_defaultOrder": 37,
    "_isFastLaunch": false,
    "category": "Accelerated computing",
    "gpuNum": 8,
    "hideHardwareSpecs": false,
    "memoryGiB": 488,
    "name": "ml.p3.16xlarge",
    "vcpuNum": 64
   },
   {
    "_defaultOrder": 38,
    "_isFastLaunch": false,
    "category": "Accelerated computing",
    "gpuNum": 8,
    "hideHardwareSpecs": false,
    "memoryGiB": 768,
    "name": "ml.p3dn.24xlarge",
    "vcpuNum": 96
   },
   {
    "_defaultOrder": 39,
    "_isFastLaunch": false,
    "category": "Memory Optimized",
    "gpuNum": 0,
    "hideHardwareSpecs": false,
    "memoryGiB": 16,
    "name": "ml.r5.large",
    "vcpuNum": 2
   },
   {
    "_defaultOrder": 40,
    "_isFastLaunch": false,
    "category": "Memory Optimized",
    "gpuNum": 0,
    "hideHardwareSpecs": false,
    "memoryGiB": 32,
    "name": "ml.r5.xlarge",
    "vcpuNum": 4
   },
   {
    "_defaultOrder": 41,
    "_isFastLaunch": false,
    "category": "Memory Optimized",
    "gpuNum": 0,
    "hideHardwareSpecs": false,
    "memoryGiB": 64,
    "name": "ml.r5.2xlarge",
    "vcpuNum": 8
   },
   {
    "_defaultOrder": 42,
    "_isFastLaunch": false,
    "category": "Memory Optimized",
    "gpuNum": 0,
    "hideHardwareSpecs": false,
    "memoryGiB": 128,
    "name": "ml.r5.4xlarge",
    "vcpuNum": 16
   },
   {
    "_defaultOrder": 43,
    "_isFastLaunch": false,
    "category": "Memory Optimized",
    "gpuNum": 0,
    "hideHardwareSpecs": false,
    "memoryGiB": 256,
    "name": "ml.r5.8xlarge",
    "vcpuNum": 32
   },
   {
    "_defaultOrder": 44,
    "_isFastLaunch": false,
    "category": "Memory Optimized",
    "gpuNum": 0,
    "hideHardwareSpecs": false,
    "memoryGiB": 384,
    "name": "ml.r5.12xlarge",
    "vcpuNum": 48
   },
   {
    "_defaultOrder": 45,
    "_isFastLaunch": false,
    "category": "Memory Optimized",
    "gpuNum": 0,
    "hideHardwareSpecs": false,
    "memoryGiB": 512,
    "name": "ml.r5.16xlarge",
    "vcpuNum": 64
   },
   {
    "_defaultOrder": 46,
    "_isFastLaunch": false,
    "category": "Memory Optimized",
    "gpuNum": 0,
    "hideHardwareSpecs": false,
    "memoryGiB": 768,
    "name": "ml.r5.24xlarge",
    "vcpuNum": 96
   },
   {
    "_defaultOrder": 47,
    "_isFastLaunch": false,
    "category": "Accelerated computing",
    "gpuNum": 1,
    "hideHardwareSpecs": false,
    "memoryGiB": 16,
    "name": "ml.g5.xlarge",
    "vcpuNum": 4
   },
   {
    "_defaultOrder": 48,
    "_isFastLaunch": false,
    "category": "Accelerated computing",
    "gpuNum": 1,
    "hideHardwareSpecs": false,
    "memoryGiB": 32,
    "name": "ml.g5.2xlarge",
    "vcpuNum": 8
   },
   {
    "_defaultOrder": 49,
    "_isFastLaunch": false,
    "category": "Accelerated computing",
    "gpuNum": 1,
    "hideHardwareSpecs": false,
    "memoryGiB": 64,
    "name": "ml.g5.4xlarge",
    "vcpuNum": 16
   },
   {
    "_defaultOrder": 50,
    "_isFastLaunch": false,
    "category": "Accelerated computing",
    "gpuNum": 1,
    "hideHardwareSpecs": false,
    "memoryGiB": 128,
    "name": "ml.g5.8xlarge",
    "vcpuNum": 32
   },
   {
    "_defaultOrder": 51,
    "_isFastLaunch": false,
    "category": "Accelerated computing",
    "gpuNum": 1,
    "hideHardwareSpecs": false,
    "memoryGiB": 256,
    "name": "ml.g5.16xlarge",
    "vcpuNum": 64
   },
   {
    "_defaultOrder": 52,
    "_isFastLaunch": false,
    "category": "Accelerated computing",
    "gpuNum": 4,
    "hideHardwareSpecs": false,
    "memoryGiB": 192,
    "name": "ml.g5.12xlarge",
    "vcpuNum": 48
   },
   {
    "_defaultOrder": 53,
    "_isFastLaunch": false,
    "category": "Accelerated computing",
    "gpuNum": 4,
    "hideHardwareSpecs": false,
    "memoryGiB": 384,
    "name": "ml.g5.24xlarge",
    "vcpuNum": 96
   },
   {
    "_defaultOrder": 54,
    "_isFastLaunch": false,
    "category": "Accelerated computing",
    "gpuNum": 8,
    "hideHardwareSpecs": false,
    "memoryGiB": 768,
    "name": "ml.g5.48xlarge",
    "vcpuNum": 192
   },
   {
    "_defaultOrder": 55,
    "_isFastLaunch": false,
    "category": "Accelerated computing",
    "gpuNum": 8,
    "hideHardwareSpecs": false,
    "memoryGiB": 1152,
    "name": "ml.p4d.24xlarge",
    "vcpuNum": 96
   },
   {
    "_defaultOrder": 56,
    "_isFastLaunch": false,
    "category": "Accelerated computing",
    "gpuNum": 8,
    "hideHardwareSpecs": false,
    "memoryGiB": 1152,
    "name": "ml.p4de.24xlarge",
    "vcpuNum": 96
   }
  ],
  "instance_type": "ml.g4dn.12xlarge",
  "kernelspec": {
   "display_name": "Python 3 (Data Science 3.0)",
   "language": "python",
   "name": "python3__SAGEMAKER_INTERNAL__arn:aws:sagemaker:us-east-2:429704687514:image/sagemaker-data-science-310-v1"
  },
  "language_info": {
   "codemirror_mode": {
    "name": "ipython",
    "version": 3
   },
   "file_extension": ".py",
   "mimetype": "text/x-python",
   "name": "python",
   "nbconvert_exporter": "python",
   "pygments_lexer": "ipython3",
   "version": "3.10.6"
  }
 },
 "nbformat": 4,
 "nbformat_minor": 5
}
