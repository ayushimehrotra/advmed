{
 "cells": [
  {
   "cell_type": "code",
   "execution_count": null,
   "id": "94f3afb6-8198-4f86-99dd-5e8f0c9a751d",
   "metadata": {},
   "outputs": [],
   "source": [
    "!pip install -q kaggle\n",
    "!mkdir ~/.kaggle\n",
    "!touch ~/.kaggle/kaggle.json\n",
    "\n",
    "api_token = {\"username\":\"\",\"key\":\"\"}\n",
    "\n",
    "import json\n",
    "\n",
    "with open('/root/.kaggle/kaggle.json', 'w') as file:\n",
    "    json.dump(api_token, file)\n",
    "\n",
    "!chmod 600 ~/.kaggle/kaggle.json\n",
    "\n",
    "!kaggle datasets download -d paultimothymooney/chest-xray-pneumonia\n",
    "\n",
    "import zipfile \n",
    "with zipfile.ZipFile('./chest-xray-pneumonia.zip', 'r') as zip_ref:\n",
    "    zip_ref.extractall('./data')"
   ]
  }
 ],
 "metadata": {
  "kernelspec": {
   "display_name": "",
   "name": ""
  },
  "language_info": {
   "name": ""
  }
 },
 "nbformat": 4,
 "nbformat_minor": 5
}
