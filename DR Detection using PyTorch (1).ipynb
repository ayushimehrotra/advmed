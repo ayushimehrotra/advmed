{
 "cells": [
  {
   "cell_type": "code",
   "execution_count": 5,
   "id": "b60b44c0-e705-4dc6-9d83-72ed42f112a7",
   "metadata": {
    "tags": []
   },
   "outputs": [
    {
     "name": "stdout",
     "output_type": "stream",
     "text": [
      "Collecting GPUtil\n",
      "  Using cached GPUtil-1.4.0-py3-none-any.whl\n",
      "Installing collected packages: GPUtil\n",
      "Successfully installed GPUtil-1.4.0\n",
      "\u001b[33mWARNING: Running pip as the 'root' user can result in broken permissions and conflicting behaviour with the system package manager. It is recommended to use a virtual environment instead: https://pip.pypa.io/warnings/venv\u001b[0m\u001b[33m\n",
      "\u001b[0m"
     ]
    }
   ],
   "source": [
    "!pip install GPUtil"
   ]
  },
  {
   "cell_type": "code",
   "execution_count": 15,
   "id": "be498a78-439e-4fc1-aa4a-2376e5cc4d94",
   "metadata": {
    "tags": []
   },
   "outputs": [
    {
     "name": "stdout",
     "output_type": "stream",
     "text": [
      "| ID | GPU | MEM |\n",
      "------------------\n",
      "|  0 |  0% |  4% |\n"
     ]
    }
   ],
   "source": [
    "import gc\n",
    "gc.collect()\n",
    "torch.cuda.empty_cache()\n",
    "\n",
    "\n",
    "from GPUtil import showUtilization as gpu_usage\n",
    "gpu_usage()                             \n"
   ]
  },
  {
   "cell_type": "code",
   "execution_count": 2,
   "id": "edc3a1d3-c9f5-4f66-a781-455d5851cc8d",
   "metadata": {
    "tags": []
   },
   "outputs": [],
   "source": [
    "from IPython.display import clear_output\n",
    "!pip install torch\n",
    "!pip install torchvision\n",
    "!pip install captum\n",
    "!pip install opencv-python\n",
    "!pip install seaborn\n",
    "!pip install matplotlib\n",
    "!pip install cleverhans\n",
    "!pip install cachetools\n",
    "!pip install pandas\n",
    "!apt-get update && apt-get install ffmpeg libsm6 libxext6  -y\n",
    "clear_output()"
   ]
  },
  {
   "cell_type": "code",
   "execution_count": 3,
   "id": "935897d4-1dbb-4304-bd79-a2860f412657",
   "metadata": {
    "tags": []
   },
   "outputs": [
    {
     "name": "stdout",
     "output_type": "stream",
     "text": [
      "\u001b[33mWARNING: Running pip as the 'root' user can result in broken permissions and conflicting behaviour with the system package manager. It is recommended to use a virtual environment instead: https://pip.pypa.io/warnings/venv\u001b[0m\u001b[33m\n",
      "\u001b[0mmkdir: cannot create directory ‘/root/.kaggle’: File exists\n",
      "Downloading aptos2019-blindness-detection.zip to /root\n",
      "100%|█████████████████████████████████████▉| 9.51G/9.51G [05:27<00:00, 30.8MB/s]\n",
      "100%|██████████████████████████████████████| 9.51G/9.51G [05:27<00:00, 31.2MB/s]\n"
     ]
    }
   ],
   "source": [
    "!pip install -q kaggle\n",
    "!mkdir ~/.kaggle\n",
    "!touch ~/.kaggle/kaggle.json\n",
    "\n",
    "api_token = {\"username\":\"ayushimehrotra123\",\"key\":\"5739f2d0b63b057c29700575e302ac01\"}\n",
    "\n",
    "import json\n",
    "\n",
    "with open('/root/.kaggle/kaggle.json', 'w') as file:\n",
    "    json.dump(api_token, file)\n",
    "\n",
    "!chmod 600 ~/.kaggle/kaggle.json\n",
    "\n",
    "!kaggle competitions download -c aptos2019-blindness-detection"
   ]
  },
  {
   "cell_type": "code",
   "execution_count": 4,
   "id": "6bfd807e-cdb8-4faf-8e54-3ee82a3a8229",
   "metadata": {
    "tags": []
   },
   "outputs": [],
   "source": [
    "import zipfile \n",
    "with zipfile.ZipFile('./aptos2019-blindness-detection.zip', 'r') as zip_ref:\n",
    "    zip_ref.extractall('./blindness')"
   ]
  },
  {
   "cell_type": "markdown",
   "id": "3e23b163",
   "metadata": {
    "papermill": {
     "duration": 0.019953,
     "end_time": "2021-08-14T14:01:00.907032",
     "exception": false,
     "start_time": "2021-08-14T14:01:00.887079",
     "status": "completed"
    },
    "tags": []
   },
   "source": [
    "## Import Libraries"
   ]
  },
  {
   "cell_type": "code",
   "execution_count": 3,
   "id": "56df674f",
   "metadata": {
    "papermill": {
     "duration": 1.402735,
     "end_time": "2021-08-14T14:01:02.329884",
     "exception": false,
     "start_time": "2021-08-14T14:01:00.927149",
     "status": "completed"
    },
    "tags": []
   },
   "outputs": [],
   "source": [
    "import pandas as pd #For reading csv files.\n",
    "import numpy as np \n",
    "import matplotlib.pyplot as plt #For plotting.\n",
    "\n",
    "import PIL.Image as Image #For working with image files.\n",
    "\n",
    "#Importing torch\n",
    "import torch\n",
    "import torch.nn as nn\n",
    "import torch.nn.functional as F\n",
    "\n",
    "from torch.utils.data import Dataset,DataLoader #For working with data.\n",
    "\n",
    "from torchvision import models,transforms #For pretrained models,image transformations."
   ]
  },
  {
   "cell_type": "code",
   "execution_count": 7,
   "id": "7322663a",
   "metadata": {
    "papermill": {
     "duration": 0.071576,
     "end_time": "2021-08-14T14:01:02.423193",
     "exception": false,
     "start_time": "2021-08-14T14:01:02.351617",
     "status": "completed"
    },
    "tags": []
   },
   "outputs": [
    {
     "name": "stdout",
     "output_type": "stream",
     "text": [
      "cuda\n"
     ]
    }
   ],
   "source": [
    "device = torch.device('cuda' if torch.cuda.is_available() else 'cpu') #Use GPU if it's available or else use CPU.\n",
    "print(device) #Prints the device we're using."
   ]
  },
  {
   "cell_type": "markdown",
   "id": "58850336",
   "metadata": {
    "papermill": {
     "duration": 0.020833,
     "end_time": "2021-08-14T14:01:02.465698",
     "exception": false,
     "start_time": "2021-08-14T14:01:02.444865",
     "status": "completed"
    },
    "tags": []
   },
   "source": [
    "## EDA"
   ]
  },
  {
   "cell_type": "markdown",
   "id": "f009c676",
   "metadata": {
    "papermill": {
     "duration": 0.019861,
     "end_time": "2021-08-14T14:01:02.505588",
     "exception": false,
     "start_time": "2021-08-14T14:01:02.485727",
     "status": "completed"
    },
    "tags": []
   },
   "source": [
    "I am using only the data from https://www.kaggle.com/c/aptos2019-blindness-detection/data. If you've more computing resources, you can also use the data from https://www.kaggle.com/c/diabetic-retinopathy-detection/data."
   ]
  },
  {
   "cell_type": "code",
   "execution_count": 8,
   "id": "80ae4e72",
   "metadata": {
    "papermill": {
     "duration": 0.058978,
     "end_time": "2021-08-14T14:01:02.584716",
     "exception": false,
     "start_time": "2021-08-14T14:01:02.525738",
     "status": "completed"
    },
    "tags": []
   },
   "outputs": [
    {
     "name": "stdout",
     "output_type": "stream",
     "text": [
      "No.of.training_samples: 3662\n",
      "No.of.testing_samples: 1928\n"
     ]
    }
   ],
   "source": [
    "path = \"blindness/\"\n",
    "\n",
    "train_df = pd.read_csv(f\"{path}train.csv\")\n",
    "print(f'No.of.training_samples: {len(train_df)}')\n",
    "\n",
    "test_df = pd.read_csv(f'{path}test.csv')\n",
    "print(f'No.of.testing_samples: {len(test_df)}')"
   ]
  },
  {
   "cell_type": "markdown",
   "id": "f3d13018",
   "metadata": {
    "papermill": {
     "duration": 0.023723,
     "end_time": "2021-08-14T14:01:08.719081",
     "exception": false,
     "start_time": "2021-08-14T14:01:08.695358",
     "status": "completed"
    },
    "tags": []
   },
   "source": [
    "## Preprocess the Data"
   ]
  },
  {
   "cell_type": "code",
   "execution_count": 9,
   "id": "d1fa4b80",
   "metadata": {
    "papermill": {
     "duration": 0.033772,
     "end_time": "2021-08-14T14:01:08.776882",
     "exception": false,
     "start_time": "2021-08-14T14:01:08.743110",
     "status": "completed"
    },
    "tags": []
   },
   "outputs": [],
   "source": [
    "class dataset(Dataset): # Inherits from the Dataset class.\n",
    "    '''\n",
    "    dataset class overloads the __init__, __len__, __getitem__ methods of the Dataset class. \n",
    "    \n",
    "    Attributes :\n",
    "        df:  DataFrame object for the csv file.\n",
    "        data_path: Location of the dataset.\n",
    "        image_transform: Transformations to apply to the image.\n",
    "        train: A boolean indicating whether it is a training_set or not.\n",
    "    '''\n",
    "    \n",
    "    def __init__(self,df,data_path,image_transform=None,train=True): # Constructor.\n",
    "        super(Dataset,self).__init__() #Calls the constructor of the Dataset class.\n",
    "        self.df = df\n",
    "        self.data_path = data_path\n",
    "        self.image_transform = image_transform\n",
    "        self.train = train\n",
    "        \n",
    "    def __len__(self):\n",
    "        return len(self.df) #Returns the number of samples in the dataset.\n",
    "    \n",
    "    def __getitem__(self,index):\n",
    "        image_id = self.df['id_code'][index]\n",
    "        image = Image.open(f'{self.data_path}/{image_id}.png') #Image.\n",
    "        if self.image_transform :\n",
    "            image = self.image_transform(image) #Applies transformation to the image.\n",
    "        \n",
    "        if self.train :\n",
    "            label = self.df['diagnosis'][index] #Label.\n",
    "            return image,label #If train == True, return image & label.\n",
    "        \n",
    "        else:\n",
    "            return image #If train != True, return image.\n",
    "            "
   ]
  },
  {
   "cell_type": "code",
   "execution_count": 10,
   "id": "941209e3",
   "metadata": {
    "papermill": {
     "duration": 0.034764,
     "end_time": "2021-08-14T14:01:08.835449",
     "exception": false,
     "start_time": "2021-08-14T14:01:08.800685",
     "status": "completed"
    },
    "tags": []
   },
   "outputs": [],
   "source": [
    "image_transform = transforms.Compose([transforms.Resize([512,512]),\n",
    "                                      transforms.ToTensor(),\n",
    "                                      transforms.Normalize((0.485, 0.456, 0.406), (0.229, 0.224, 0.225))]) #Transformations to apply to the image.\n",
    "data_set = dataset(train_df,f'{path}train_images',image_transform=image_transform)\n",
    "\n",
    "#Split the data_set so that valid_set contains 0.1 samples of the data_set. \n",
    "train_set,valid_set = torch.utils.data.random_split(data_set,[3302,360])"
   ]
  },
  {
   "cell_type": "code",
   "execution_count": 11,
   "id": "8d1b162d",
   "metadata": {
    "papermill": {
     "duration": 0.031069,
     "end_time": "2021-08-14T14:01:08.890652",
     "exception": false,
     "start_time": "2021-08-14T14:01:08.859583",
     "status": "completed"
    },
    "tags": []
   },
   "outputs": [],
   "source": [
    "train_dataloader = DataLoader(train_set,batch_size=32,shuffle=True) #DataLoader for train_set.\n",
    "valid_dataloader = DataLoader(valid_set,batch_size=15,shuffle=False) #DataLoader for validation_set."
   ]
  },
  {
   "cell_type": "markdown",
   "id": "68b55e7a",
   "metadata": {
    "papermill": {
     "duration": 0.023786,
     "end_time": "2021-08-14T14:01:08.938549",
     "exception": false,
     "start_time": "2021-08-14T14:01:08.914763",
     "status": "completed"
    },
    "tags": []
   },
   "source": [
    "## Build the Model"
   ]
  },
  {
   "cell_type": "code",
   "execution_count": 12,
   "id": "d472dc2d",
   "metadata": {
    "papermill": {
     "duration": 1.588248,
     "end_time": "2021-08-14T14:01:10.550514",
     "exception": false,
     "start_time": "2021-08-14T14:01:08.962266",
     "status": "completed"
    },
    "tags": []
   },
   "outputs": [
    {
     "name": "stderr",
     "output_type": "stream",
     "text": [
      "/opt/conda/lib/python3.10/site-packages/torchvision/models/_utils.py:208: UserWarning: The parameter 'pretrained' is deprecated since 0.13 and may be removed in the future, please use 'weights' instead.\n",
      "  warnings.warn(\n",
      "/opt/conda/lib/python3.10/site-packages/torchvision/models/_utils.py:223: UserWarning: Arguments other than a weight enum or `None` for 'weights' are deprecated since 0.13 and may be removed in the future. The current behavior is equivalent to passing `weights=ResNet34_Weights.IMAGENET1K_V1`. You can also use `weights=ResNet34_Weights.DEFAULT` to get the most up-to-date weights.\n",
      "  warnings.warn(msg)\n"
     ]
    }
   ],
   "source": [
    "#Since we've less data, we'll use Transfer learning.\n",
    "model = models.resnet34(pretrained=True) #Downloads the resnet18 model which is pretrained on Imagenet dataset.\n",
    "\n",
    "#Replace the Final layer of pretrained resnet18 with 4 new layers.\n",
    "model.fc = nn.Sequential(nn.Linear(512,256),nn.Linear(256,128),nn.Linear(128,64),nn.Linear(64,5))"
   ]
  },
  {
   "cell_type": "code",
   "execution_count": 13,
   "id": "c1f7f717-23eb-4067-b4a1-2bbd298c093a",
   "metadata": {},
   "outputs": [
    {
     "data": {
      "text/plain": [
       "<All keys matched successfully>"
      ]
     },
     "execution_count": 13,
     "metadata": {},
     "output_type": "execute_result"
    }
   ],
   "source": [
    "model.load_state_dict(torch.load('model/model.pth'))"
   ]
  },
  {
   "cell_type": "code",
   "execution_count": 14,
   "id": "b12db679",
   "metadata": {
    "papermill": {
     "duration": 0.062933,
     "end_time": "2021-08-14T14:01:10.638390",
     "exception": false,
     "start_time": "2021-08-14T14:01:10.575457",
     "status": "completed"
    },
    "tags": []
   },
   "outputs": [],
   "source": [
    "model = model.to(device) #Moves the model to the device."
   ]
  },
  {
   "cell_type": "markdown",
   "id": "255ca772",
   "metadata": {
    "papermill": {
     "duration": 0.025107,
     "end_time": "2021-08-14T14:01:10.688213",
     "exception": false,
     "start_time": "2021-08-14T14:01:10.663106",
     "status": "completed"
    },
    "tags": []
   },
   "source": [
    "## Create functions for Training & Validation"
   ]
  },
  {
   "cell_type": "code",
   "execution_count": 13,
   "id": "b26ea105",
   "metadata": {
    "papermill": {
     "duration": 0.034907,
     "end_time": "2021-08-14T14:01:10.747861",
     "exception": false,
     "start_time": "2021-08-14T14:01:10.712954",
     "status": "completed"
    },
    "tags": []
   },
   "outputs": [],
   "source": [
    "def train(dataloader,model,loss_fn,optimizer):\n",
    "    '''\n",
    "    train function updates the weights of the model based on the\n",
    "    loss using the optimizer in order to get a lower loss.\n",
    "    \n",
    "    Args :\n",
    "         dataloader: Iterator for the batches in the data_set.\n",
    "         model: Given an input produces an output by multiplying the input with the model weights.\n",
    "         loss_fn: Calculates the discrepancy between the label & the model's predictions.\n",
    "         optimizer: Updates the model weights.\n",
    "         \n",
    "    Returns :\n",
    "         Average loss per batch which is calculated by dividing the losses for all the batches\n",
    "         with the number of batches.\n",
    "    '''\n",
    "\n",
    "    model.train() #Sets the model for training.\n",
    "    \n",
    "    total = 0\n",
    "    correct = 0\n",
    "    running_loss = 0\n",
    "    \n",
    "    for batch,(x,y) in enumerate(dataloader): #Iterates through the batches.\n",
    "        \n",
    "        output = model(x.to(device)) #model's predictions.\n",
    "        loss   = loss_fn(output,y.to(device)) #loss calculation.\n",
    "       \n",
    "        running_loss += loss.item()\n",
    "        \n",
    "        total        += y.size(0)\n",
    "        predictions   = output.argmax(dim=1).cpu().detach() #Index for the highest score for all the samples in the batch.\n",
    "        correct      += (predictions == y.cpu().detach()).sum().item() #No.of.cases where model's predictions are equal to the label.\n",
    "        \n",
    "        optimizer.zero_grad() #Gradient values are set to zero.\n",
    "        loss.backward() #Calculates the gradients.\n",
    "        optimizer.step() #Updates the model weights.\n",
    "        gc.collect()\n",
    "        torch.cuda.empty_cache()\n",
    "             \n",
    "    \n",
    "    avg_loss = running_loss/len(dataloader) # Average loss for a single batch\n",
    "    \n",
    "    print(f'\\nTraining Loss per batch = {avg_loss:.6f}',end='\\t')\n",
    "    print(f'Accuracy on Training set = {100*(correct/total):.6f}% [{correct}/{total}]') #Prints the Accuracy.\n",
    "    \n",
    "    return avg_loss"
   ]
  },
  {
   "cell_type": "code",
   "execution_count": 14,
   "id": "a36bb6a1",
   "metadata": {
    "papermill": {
     "duration": 0.034128,
     "end_time": "2021-08-14T14:01:10.806321",
     "exception": false,
     "start_time": "2021-08-14T14:01:10.772193",
     "status": "completed"
    },
    "tags": []
   },
   "outputs": [],
   "source": [
    "def validate(dataloader,model,loss_fn):\n",
    "    '''\n",
    "    validate function calculates the average loss per batch and the accuracy of the model's predictions.\n",
    "    \n",
    "    Args :\n",
    "         dataloader: Iterator for the batches in the data_set.\n",
    "         model: Given an input produces an output by multiplying the input with the model weights.\n",
    "         loss_fn: Calculates the discrepancy between the label & the model's predictions.\n",
    "    \n",
    "    Returns :\n",
    "         Average loss per batch which is calculated by dividing the losses for all the batches\n",
    "         with the number of batches.\n",
    "    '''\n",
    "    \n",
    "    model.eval() #Sets the model for evaluation.\n",
    "    \n",
    "    total = 0\n",
    "    correct = 0\n",
    "    running_loss = 0\n",
    "    \n",
    "    with torch.no_grad(): #No need to calculate the gradients.\n",
    "        \n",
    "        for x,y in dataloader:\n",
    "            \n",
    "            output        = model(x.to(device)) #model's output.\n",
    "            loss          = loss_fn(output,y.to(device)).item() #loss calculation.\n",
    "            running_loss += loss\n",
    "            \n",
    "            total        += y.size(0)\n",
    "            predictions   = output.argmax(dim=1).cpu().detach()\n",
    "            correct      += (predictions == y.cpu().detach()).sum().item()\n",
    "            \n",
    "    avg_loss = running_loss/len(dataloader) #Average loss per batch.      \n",
    "    \n",
    "    print(f'\\nValidation Loss per batch = {avg_loss:.6f}',end='\\t')\n",
    "    print(f'Accuracy on Validation set = {100*(correct/total):.6f}% [{correct}/{total}]') #Prints the Accuracy.\n",
    "    gc.collect()\n",
    "    torch.cuda.empty_cache()\n",
    "    return avg_loss"
   ]
  },
  {
   "cell_type": "markdown",
   "id": "1d1b1994",
   "metadata": {
    "papermill": {
     "duration": 0.024312,
     "end_time": "2021-08-14T14:01:10.854931",
     "exception": false,
     "start_time": "2021-08-14T14:01:10.830619",
     "status": "completed"
    },
    "tags": []
   },
   "source": [
    "## Optimize the Model"
   ]
  },
  {
   "cell_type": "code",
   "execution_count": 15,
   "id": "4d2503fb",
   "metadata": {
    "papermill": {
     "duration": 0.033381,
     "end_time": "2021-08-14T14:01:10.912706",
     "exception": false,
     "start_time": "2021-08-14T14:01:10.879325",
     "status": "completed"
    },
    "tags": []
   },
   "outputs": [],
   "source": [
    "def optimize(train_dataloader,valid_dataloader,model,loss_fn,optimizer,nb_epochs):\n",
    "    '''\n",
    "    optimize function calls the train & validate functions for (nb_epochs) times.\n",
    "    \n",
    "    Args :\n",
    "        train_dataloader: DataLoader for the train_set.\n",
    "        valid_dataloader: DataLoader for the valid_set.\n",
    "        model: Given an input produces an output by multiplying the input with the model weights.\n",
    "        loss_fn: Calculates the discrepancy between the label & the model's predictions.\n",
    "        optimizer: Updates the model weights.\n",
    "        nb_epochs: Number of epochs.\n",
    "        \n",
    "    Returns :\n",
    "        Tuple of lists containing losses for all the epochs.\n",
    "    '''\n",
    "    #Lists to store losses for all the epochs.\n",
    "    train_losses = []\n",
    "    valid_losses = []\n",
    "\n",
    "    for epoch in range(nb_epochs):\n",
    "        print(f'\\nEpoch {epoch+1}/{nb_epochs}')\n",
    "        print('-------------------------------')\n",
    "        train_loss = train(train_dataloader,model,loss_fn,optimizer) #Calls the train function.\n",
    "        train_losses.append(train_loss)\n",
    "        valid_loss = validate(valid_dataloader,model,loss_fn) #Calls the validate function.\n",
    "        valid_losses.append(valid_loss)\n",
    "    \n",
    "    print('\\nTraining has completed!')\n",
    "    \n",
    "    return train_losses,valid_losses"
   ]
  },
  {
   "cell_type": "code",
   "execution_count": null,
   "id": "8cffcb96",
   "metadata": {
    "papermill": {
     "duration": 14567.186613,
     "end_time": "2021-08-14T18:03:58.123921",
     "exception": false,
     "start_time": "2021-08-14T14:01:10.937308",
     "status": "completed"
    },
    "tags": []
   },
   "outputs": [
    {
     "name": "stdout",
     "output_type": "stream",
     "text": [
      "\n",
      "Epoch 1/30\n",
      "-------------------------------\n",
      "\n",
      "Training Loss per batch = 1.605963\tAccuracy on Training set = 10.357359% [342/3302]\n",
      "\n",
      "Validation Loss per batch = 1.583905\tAccuracy on Validation set = 22.777778% [82/360]\n",
      "\n",
      "Epoch 2/30\n",
      "-------------------------------\n",
      "\n",
      "Training Loss per batch = 1.578422\tAccuracy on Training set = 37.976984% [1254/3302]\n",
      "\n",
      "Validation Loss per batch = 1.561573\tAccuracy on Validation set = 60.000000% [216/360]\n",
      "\n",
      "Epoch 3/30\n",
      "-------------------------------\n",
      "\n",
      "Training Loss per batch = 1.551222\tAccuracy on Training set = 66.989703% [2212/3302]\n",
      "\n",
      "Validation Loss per batch = 1.526716\tAccuracy on Validation set = 63.333333% [228/360]\n",
      "\n",
      "Epoch 4/30\n",
      "-------------------------------\n",
      "\n",
      "Training Loss per batch = 1.516833\tAccuracy on Training set = 64.688068% [2136/3302]\n",
      "\n",
      "Validation Loss per batch = 1.493306\tAccuracy on Validation set = 65.833333% [237/360]\n",
      "\n",
      "Epoch 5/30\n",
      "-------------------------------\n",
      "\n",
      "Training Loss per batch = 1.473782\tAccuracy on Training set = 65.263477% [2155/3302]\n",
      "\n",
      "Validation Loss per batch = 1.442193\tAccuracy on Validation set = 67.777778% [244/360]\n",
      "\n",
      "Epoch 6/30\n",
      "-------------------------------\n",
      "\n",
      "Training Loss per batch = 1.422930\tAccuracy on Training set = 67.110842% [2216/3302]\n",
      "\n",
      "Validation Loss per batch = 1.390622\tAccuracy on Validation set = 66.111111% [238/360]\n",
      "\n",
      "Epoch 7/30\n",
      "-------------------------------\n",
      "\n",
      "Training Loss per batch = 1.363844\tAccuracy on Training set = 66.565718% [2198/3302]\n",
      "\n",
      "Validation Loss per batch = 1.329917\tAccuracy on Validation set = 61.944444% [223/360]\n",
      "\n",
      "Epoch 8/30\n",
      "-------------------------------\n",
      "\n",
      "Training Loss per batch = 1.298390\tAccuracy on Training set = 65.414900% [2160/3302]\n",
      "\n",
      "Validation Loss per batch = 1.265100\tAccuracy on Validation set = 61.666667% [222/360]\n",
      "\n",
      "Epoch 9/30\n",
      "-------------------------------\n",
      "\n",
      "Training Loss per batch = 1.249242\tAccuracy on Training set = 65.505754% [2163/3302]\n",
      "\n",
      "Validation Loss per batch = 1.233883\tAccuracy on Validation set = 64.722222% [233/360]\n",
      "\n",
      "Epoch 10/30\n",
      "-------------------------------\n",
      "\n",
      "Training Loss per batch = 1.201162\tAccuracy on Training set = 68.110236% [2249/3302]\n",
      "\n",
      "Validation Loss per batch = 1.180835\tAccuracy on Validation set = 65.277778% [235/360]\n",
      "\n",
      "Epoch 11/30\n",
      "-------------------------------\n",
      "\n",
      "Training Loss per batch = 1.158927\tAccuracy on Training set = 69.351908% [2290/3302]\n",
      "\n",
      "Validation Loss per batch = 1.159605\tAccuracy on Validation set = 64.166667% [231/360]\n",
      "\n",
      "Epoch 12/30\n",
      "-------------------------------\n",
      "\n",
      "Training Loss per batch = 1.114527\tAccuracy on Training set = 69.473047% [2294/3302]\n",
      "\n",
      "Validation Loss per batch = 1.097763\tAccuracy on Validation set = 66.666667% [240/360]\n",
      "\n",
      "Epoch 13/30\n",
      "-------------------------------\n",
      "\n",
      "Training Loss per batch = 1.071203\tAccuracy on Training set = 70.866142% [2340/3302]\n",
      "\n",
      "Validation Loss per batch = 1.075001\tAccuracy on Validation set = 65.000000% [234/360]\n",
      "\n",
      "Epoch 14/30\n",
      "-------------------------------\n",
      "\n",
      "Training Loss per batch = 1.027267\tAccuracy on Training set = 71.744397% [2369/3302]\n",
      "\n",
      "Validation Loss per batch = 1.027021\tAccuracy on Validation set = 69.444444% [250/360]\n",
      "\n",
      "Epoch 15/30\n",
      "-------------------------------\n",
      "\n",
      "Training Loss per batch = 0.985438\tAccuracy on Training set = 71.956390% [2376/3302]\n",
      "\n",
      "Validation Loss per batch = 1.001114\tAccuracy on Validation set = 69.444444% [250/360]\n",
      "\n",
      "Epoch 16/30\n",
      "-------------------------------\n",
      "\n",
      "Training Loss per batch = 0.954174\tAccuracy on Training set = 72.683222% [2400/3302]\n",
      "\n",
      "Validation Loss per batch = 1.030391\tAccuracy on Validation set = 65.555556% [236/360]\n",
      "\n",
      "Epoch 17/30\n",
      "-------------------------------\n",
      "\n",
      "Training Loss per batch = 0.920517\tAccuracy on Training set = 73.046638% [2412/3302]\n",
      "\n",
      "Validation Loss per batch = 0.941873\tAccuracy on Validation set = 66.944444% [241/360]\n",
      "\n",
      "Epoch 18/30\n",
      "-------------------------------\n",
      "\n",
      "Training Loss per batch = 0.890563\tAccuracy on Training set = 74.894004% [2473/3302]\n",
      "\n",
      "Validation Loss per batch = 0.918527\tAccuracy on Validation set = 70.000000% [252/360]\n",
      "\n",
      "Epoch 19/30\n",
      "-------------------------------\n",
      "\n",
      "Training Loss per batch = 0.866387\tAccuracy on Training set = 75.923683% [2507/3302]\n",
      "\n",
      "Validation Loss per batch = 1.002501\tAccuracy on Validation set = 63.611111% [229/360]\n",
      "\n",
      "Epoch 20/30\n",
      "-------------------------------\n",
      "\n",
      "Training Loss per batch = 0.779139\tAccuracy on Training set = 77.468201% [2558/3302]\n",
      "\n",
      "Validation Loss per batch = 0.865853\tAccuracy on Validation set = 73.611111% [265/360]\n",
      "\n",
      "Epoch 24/30\n",
      "-------------------------------\n",
      "\n",
      "Training Loss per batch = 0.761085\tAccuracy on Training set = 78.346457% [2587/3302]\n",
      "\n",
      "Validation Loss per batch = 0.842016\tAccuracy on Validation set = 74.166667% [267/360]\n",
      "\n",
      "Epoch 25/30\n",
      "-------------------------------\n",
      "\n",
      "Training Loss per batch = 0.747507\tAccuracy on Training set = 79.224712% [2616/3302]\n",
      "\n",
      "Validation Loss per batch = 0.982861\tAccuracy on Validation set = 66.388889% [239/360]\n",
      "\n",
      "Epoch 26/30\n",
      "-------------------------------\n",
      "\n",
      "Training Loss per batch = 0.738012\tAccuracy on Training set = 78.831012% [2603/3302]\n",
      "\n",
      "Validation Loss per batch = 0.873510\tAccuracy on Validation set = 76.111111% [274/360]\n",
      "\n",
      "Epoch 27/30\n",
      "-------------------------------\n",
      "\n",
      "Training Loss per batch = 0.712198\tAccuracy on Training set = 80.224107% [2649/3302]\n",
      "\n",
      "Validation Loss per batch = 0.792451\tAccuracy on Validation set = 75.833333% [273/360]\n",
      "\n",
      "Epoch 28/30\n",
      "-------------------------------\n",
      "\n",
      "Training Loss per batch = 0.705139\tAccuracy on Training set = 80.769231% [2667/3302]\n",
      "\n",
      "Validation Loss per batch = 0.805768\tAccuracy on Validation set = 76.666667% [276/360]\n",
      "\n",
      "Epoch 29/30\n",
      "-------------------------------\n",
      "\n",
      "Training Loss per batch = 0.672006\tAccuracy on Training set = 81.980618% [2707/3302]\n",
      "\n",
      "Validation Loss per batch = 0.945932\tAccuracy on Validation set = 76.111111% [274/360]\n",
      "\n",
      "Epoch 30/30\n",
      "-------------------------------\n",
      "\n",
      "Training Loss per batch = 0.662301\tAccuracy on Training set = 82.071472% [2710/3302]\n",
      "\n",
      "Validation Loss per batch = 0.774997\tAccuracy on Validation set = 78.055556% [281/360]\n",
      "\n",
      "Training has completed!\n"
     ]
    }
   ],
   "source": [
    "loss_fn   = nn.CrossEntropyLoss(weight=class_weights) #CrossEntropyLoss with class_weights.\n",
    "optimizer = torch.optim.SGD(model.parameters(),lr=0.001) \n",
    "nb_epochs = 30\n",
    "#Call the optimize function.\n",
    "train_losses, valid_losses = optimize(train_dataloader,valid_dataloader,model,loss_fn,optimizer,nb_epochs)"
   ]
  },
  {
   "cell_type": "code",
   "execution_count": 23,
   "id": "df138b4c-c81d-491b-9543-7730e9cf4cbf",
   "metadata": {
    "tags": []
   },
   "outputs": [],
   "source": [
    "torch.save(model.state_dict(), 'model/model.pth')"
   ]
  },
  {
   "cell_type": "markdown",
   "id": "d434a28f",
   "metadata": {
    "papermill": {
     "duration": 0.041297,
     "end_time": "2021-08-14T18:03:58.431485",
     "exception": false,
     "start_time": "2021-08-14T18:03:58.390188",
     "status": "completed"
    },
    "tags": []
   },
   "source": [
    "## Testing the model"
   ]
  },
  {
   "cell_type": "code",
   "execution_count": 16,
   "id": "0ae93d89-2ae4-41c7-942e-6e2de4bc6f56",
   "metadata": {
    "tags": []
   },
   "outputs": [],
   "source": [
    "!pip install captum\n",
    "!pip install cleverhans\n",
    "from captum.attr import IntegratedGradients\n",
    "from captum.attr import Saliency\n",
    "from captum.attr import DeepLift\n",
    "from captum.attr import NoiseTunnel\n",
    "from captum.attr import GradientShap\n",
    "from captum.attr import GuidedGradCam\n",
    "from captum.attr import LimeBase\n",
    "from captum.attr import KernelShap\n",
    "from captum.attr import Occlusion\n",
    "from captum.attr import visualization as viz\n",
    "from cleverhans.torch.attacks.fast_gradient_method import fast_gradient_method\n",
    "# from cleverhans.torch.attacks.carlini_wagner_l2 import carlini_wagner_l2\n",
    "# from cleverhans.torch.attacks.projected_gradient_descent import (\n",
    "#     projected_gradient_descent\n",
    "# )\n",
    "clear_output()"
   ]
  },
  {
   "cell_type": "code",
   "execution_count": 17,
   "id": "43a5b1ba-16ec-42f7-bf56-14e7ef3fa4fe",
   "metadata": {
    "tags": []
   },
   "outputs": [],
   "source": [
    "def compute_mean_abs_dev(attr): \n",
    "    scores = []\n",
    "    for i in range(len(attr)):\n",
    "        a = attr[i].flatten()\n",
    "        avg = np.mean(a)\n",
    "        deviation = a - avg \n",
    "        absolute_deviation = np.abs(deviation)\n",
    "        result = np.mean(absolute_deviation)\n",
    "        scores.append(result)\n",
    "    return scores    \n",
    "def compute_median_abs_dev(attr): \n",
    "    scores = []\n",
    "    for i in range(len(attr)):\n",
    "        a = attr[i].flatten()\n",
    "        med = np.median(a)\n",
    "        deviation = a - med \n",
    "        abs_deviation = np.abs(deviation)\n",
    "        result = np.median(abs_deviation)\n",
    "        scores.append(result)\n",
    "    return scores \n",
    "def compute_iqr(attr):\n",
    "    #inter-quartile range\n",
    "    scores = []\n",
    "    for i in range(len(attr)):\n",
    "        a = attr[i].flatten()\n",
    "        score_75 = np.percentile(a, 75)\n",
    "        score_25 = np.percentile(a, 25)\n",
    "        score_qt = score_75 - score_25\n",
    "        scores.append(score_qt)\n",
    "    return scores\n",
    "    \n",
    "def compute_coef_var(attr):\n",
    "    scores = []\n",
    "    for i in range(len(attr)):\n",
    "        a = attr[i].flatten()\n",
    "        m = np.mean(a)\n",
    "        st = np.std(attr[i])\n",
    "        sc = m/st\n",
    "        scores.append(sc)\n",
    "    return scores\n",
    "\n",
    "def compute_coef_iqr(attr):\n",
    "    scores = []\n",
    "    for i in range(len(attr)):\n",
    "        a = attr[i].flatten()\n",
    "        score_75 = np.percentile(a, 75)\n",
    "        score_25 = np.percentile(a, 25)\n",
    "        score_qt = (score_75 - score_25)/(score_75 + score_25)\n",
    "        scores.append(score_qt)\n",
    "    return scores\n",
    "    "
   ]
  },
  {
   "cell_type": "code",
   "execution_count": 28,
   "id": "d5fff414-fb42-4b94-9d66-d6e2bf48213b",
   "metadata": {
    "tags": []
   },
   "outputs": [
    {
     "name": "stdout",
     "output_type": "stream",
     "text": [
      "Before Testing\n",
      "| ID | GPU | MEM |\n",
      "------------------\n",
      "|  0 |  0% | 11% |\n"
     ]
    }
   ],
   "source": [
    "gc.collect()\n",
    "torch.cuda.empty_cache()\n",
    "print(\"Before Testing\")\n",
    "gpu_usage()\n",
    "\n",
    "igmedianAbs_ben = []\n",
    "igmeanAbs_ben = []\n",
    "igiqr_ben = []\n",
    "igcoef_var_ben=[]\n",
    "igcoef_iqr_ben = []\n",
    "\n",
    "igmedianAbs_bena = []\n",
    "igmeanAbs_bena = []\n",
    "igiqr_bena = []\n",
    "igcoef_var_bena=[]\n",
    "igcoef_iqr_bena = []\n",
    "\n",
    "dataiter = iter(valid_dataloader)\n",
    "\n",
    "for batch,(images,labels) in enumerate(valid_dataloader):    \n",
    "    # (images,labels) = next(dataiter)\n",
    "    images = images.to(device)\n",
    "    for ind in range(15):\n",
    "        gc.collect()\n",
    "        torch.cuda.empty_cache()\n",
    "        input1 = images[ind].unsqueeze(0)\n",
    "        x_logits = model(input1)\n",
    "        ig = IntegratedGradients(model)\n",
    "        a_batch_benign = ig.attribute(input1, target=labels[ind]).sum(axis=1).cpu().detach().numpy()\n",
    "        igmeanAbs_ben += compute_mean_abs_dev(a_batch_benign)\n",
    "        igmedianAbs_ben += compute_median_abs_dev(a_batch_benign)\n",
    "        igiqr_ben += compute_iqr(a_batch_benign)\n",
    "        igcoef_var_ben += compute_coef_var(a_batch_benign)\n",
    "        igcoef_iqr_ben += compute_coef_iqr(a_batch_benign)\n",
    "        gc.collect()\n",
    "        torch.cuda.empty_cache()\n",
    "        images_pgd = fast_gradient_method(model, input1, 0.1, np.inf)\n",
    "        _, y_pred_pgd = model(input1).max(1)\n",
    "        gc.collect()\n",
    "        torch.cuda.empty_cache()\n",
    "        a_batch_attack = ig.attribute(inputs=images_pgd, target=y_pred_pgd).sum(axis=1).cpu().detach().numpy()\n",
    "        igmeanAbs_bena += compute_mean_abs_dev(a_batch_attack)\n",
    "        igmedianAbs_bena += compute_median_abs_dev(a_batch_attack)\n",
    "        igiqr_bena += compute_iqr(a_batch_attack)\n",
    "        igcoef_var_bena += compute_coef_var(a_batch_attack)\n",
    "        igcoef_iqr_bena += compute_coef_iqr(a_batch_attack)\n",
    "        gc.collect()\n",
    "        torch.cuda.empty_cache()\n",
    "        # print(\"Testing\")\n",
    "        # gpu_usage()\n"
   ]
  },
  {
   "cell_type": "code",
   "execution_count": 29,
   "id": "1335e5b5-f66f-4705-b6c4-4e7dca77f673",
   "metadata": {},
   "outputs": [
    {
     "data": {
      "image/png": "[encoded data removed]",
      "text/plain": [
       "<Figure size 640x480 with 1 Axes>"
      ]
     },
     "metadata": {},
     "output_type": "display_data"
    }
   ],
   "source": [
    "plt.hist(igiqr_ben, label='clean', color='blue')\n",
    "plt.hist(igiqr_bena, label='adv', alpha=0.7, color='red')\n",
    "plt.legend()\n",
    "plt.show()"
   ]
  },
  {
   "cell_type": "code",
   "execution_count": 30,
   "id": "9d5ad834-f8e2-4040-81dc-0dd760c59779",
   "metadata": {
    "tags": []
   },
   "outputs": [
    {
     "name": "stderr",
     "output_type": "stream",
     "text": [
      "/opt/conda/lib/python3.10/site-packages/captum/_utils/gradient.py:57: UserWarning: Input Tensor 0 did not already require gradients, required_grads has been set automatically.\n",
      "  warnings.warn(\n"
     ]
    }
   ],
   "source": [
    "gc.collect()\n",
    "torch.cuda.empty_cache()\n",
    "\n",
    "salmedianAbs_ben = []\n",
    "salmeanAbs_ben = []\n",
    "saliqr_ben = []\n",
    "salcoef_var_ben=[]\n",
    "salcoef_iqr_ben = []\n",
    "\n",
    "salmedianAbs_bena = []\n",
    "salmeanAbs_bena = []\n",
    "saliqr_bena = []\n",
    "salcoef_var_bena=[]\n",
    "salcoef_iqr_bena = []\n",
    "\n",
    "dataiter = iter(valid_dataloader)\n",
    "\n",
    "for batch,(images,labels) in enumerate(valid_dataloader):    \n",
    "    # (images,labels) = next(dataiter)\n",
    "    images = images.to(device)\n",
    "    for ind in range(15):\n",
    "        gc.collect()\n",
    "        torch.cuda.empty_cache()\n",
    "        input1 = images[ind].unsqueeze(0)\n",
    "        x_logits = model(images)\n",
    "        ig = Saliency(model)\n",
    "        a_batch_benign = ig.attribute(input1, target=labels[ind]).sum(axis=1).cpu().detach().numpy()\n",
    "        salmeanAbs_ben += compute_mean_abs_dev(a_batch_benign)\n",
    "        salmedianAbs_ben += compute_median_abs_dev(a_batch_benign)\n",
    "        saliqr_ben += compute_iqr(a_batch_benign)\n",
    "        salcoef_var_ben += compute_coef_var(a_batch_benign)\n",
    "        salcoef_iqr_ben += compute_coef_iqr(a_batch_benign)\n",
    "        gc.collect()\n",
    "        torch.cuda.empty_cache()\n",
    "        images_pgd = fast_gradient_method(model, input1, 0.1, np.inf)\n",
    "        _, y_pred_pgd = model(input1).max(1)\n",
    "        gc.collect()\n",
    "        torch.cuda.empty_cache()\n",
    "        a_batch_attack = ig.attribute(inputs=images_pgd, target=y_pred_pgd).sum(axis=1).cpu().detach().numpy()\n",
    "        salmeanAbs_bena += compute_mean_abs_dev(a_batch_attack)\n",
    "        salmedianAbs_bena += compute_median_abs_dev(a_batch_attack)\n",
    "        saliqr_bena += compute_iqr(a_batch_attack)\n",
    "        salcoef_var_bena += compute_coef_var(a_batch_attack)\n",
    "        salcoef_iqr_bena += compute_coef_iqr(a_batch_attack)\n",
    "        gc.collect()\n",
    "        torch.cuda.empty_cache()\n"
   ]
  },
  {
   "cell_type": "code",
   "execution_count": 31,
   "id": "b29504a4-01d2-4ba3-a745-0e5be5f786a9",
   "metadata": {
    "tags": []
   },
   "outputs": [
    {
     "data": {
      "image/png": "[encoded data removed]",
      "text/plain": [
       "<Figure size 640x480 with 1 Axes>"
      ]
     },
     "metadata": {},
     "output_type": "display_data"
    }
   ],
   "source": [
    "plt.hist(saliqr_ben, label='clean', color='blue')\n",
    "plt.hist(saliqr_bena, label='adv', alpha=0.7, color='red')\n",
    "plt.legend()\n",
    "plt.show()"
   ]
  },
  {
   "cell_type": "code",
   "execution_count": null,
   "id": "ad358f11-f258-4847-972d-a0c633a6cb31",
   "metadata": {
    "tags": []
   },
   "outputs": [
    {
     "name": "stderr",
     "output_type": "stream",
     "text": [
      "/tmp/ipykernel_19/890496051.py:38: RuntimeWarning: invalid value encountered in scalar divide\n",
      "  sc = m/st\n",
      "/tmp/ipykernel_19/890496051.py:48: RuntimeWarning: invalid value encountered in scalar divide\n",
      "  score_qt = (score_75 - score_25)/(score_75 + score_25)\n"
     ]
    }
   ],
   "source": [
    "gc.collect()\n",
    "torch.cuda.empty_cache()\n",
    "\n",
    "gradmedianAbs_ben = []\n",
    "gradmeanAbs_ben = []\n",
    "gradiqr_ben = []\n",
    "gradcoef_var_ben=[]\n",
    "gradcoef_iqr_ben = []\n",
    "\n",
    "gradmedianAbs_bena = []\n",
    "gradmeanAbs_bena = []\n",
    "gradiqr_bena = []\n",
    "gradcoef_var_bena=[]\n",
    "gradcoef_iqr_bena = []\n",
    "\n",
    "dataiter = iter(valid_dataloader)\n",
    "\n",
    "for batch,(images,labels) in enumerate(valid_dataloader):    \n",
    "    # (images,labels) = next(dataiter)\n",
    "    images = images.to(device)\n",
    "    for ind in range(15):\n",
    "        gc.collect()\n",
    "        torch.cuda.empty_cache()\n",
    "        input1 = images[ind].unsqueeze(0)\n",
    "        x_logits = model(images)\n",
    "        ig = GradientShap(model)\n",
    "        rand_img_dist = torch.cat([input1 * 0, input1 * 1])\n",
    "        a_batch_benign = ig.attribute(input1, target=labels[ind],baselines=rand_img_dist).sum(axis=1).cpu().detach().numpy()\n",
    "        gradmeanAbs_ben += compute_mean_abs_dev(a_batch_benign)\n",
    "        gradmedianAbs_ben += compute_median_abs_dev(a_batch_benign)\n",
    "        gradiqr_ben += compute_iqr(a_batch_benign)\n",
    "        gradcoef_var_ben += compute_coef_var(a_batch_benign)\n",
    "        gradcoef_iqr_ben += compute_coef_iqr(a_batch_benign)\n",
    "        gc.collect()\n",
    "        torch.cuda.empty_cache()\n",
    "        images_pgd = fast_gradient_method(model, input1, 0.05, np.inf)\n",
    "        _, y_pred_pgd = model(input1).max(1)\n",
    "        gc.collect()\n",
    "        torch.cuda.empty_cache()\n",
    "        a_batch_attack = ig.attribute(inputs=images_pgd, target=y_pred_pgd,baselines=rand_img_dist).sum(axis=1).cpu().detach().numpy()\n",
    "        gradmeanAbs_bena += compute_mean_abs_dev(a_batch_attack)\n",
    "        gradmedianAbs_bena += compute_median_abs_dev(a_batch_attack)\n",
    "        gradiqr_bena += compute_iqr(a_batch_attack)\n",
    "        gradcoef_var_bena += compute_coef_var(a_batch_attack)\n",
    "        gradcoef_iqr_bena += compute_coef_iqr(a_batch_attack)\n",
    "        gc.collect()\n",
    "        torch.cuda.empty_cache()\n"
   ]
  },
  {
   "cell_type": "code",
   "execution_count": null,
   "id": "557ab6dd-9fc6-4baa-96ce-cf694c3bfdb3",
   "metadata": {
    "tags": []
   },
   "outputs": [],
   "source": [
    "plt.hist(gradmedianAbs_ben, label='clean', color='blue')\n",
    "plt.hist(gradmedianAbs_bena, label='adv', alpha=0.7, color='red')\n",
    "plt.legend()\n",
    "plt.show()"
   ]
  },
  {
   "cell_type": "markdown",
   "id": "cd5d68ba",
   "metadata": {
    "papermill": {
     "duration": 0.042447,
     "end_time": "2021-08-14T18:06:31.734238",
     "exception": false,
     "start_time": "2021-08-14T18:06:31.691791",
     "status": "completed"
    },
    "tags": []
   },
   "source": [
    "We can able to increase the accuracy of the model by various ways, like increasing the dataset size, increasing the model complexity, using ensemble models, and increasing the number of epochs."
   ]
  }
 ],
 "metadata": {
  "availableInstances": [
   {
    "_defaultOrder": 0,
    "_isFastLaunch": true,
    "category": "General purpose",
    "gpuNum": 0,
    "hideHardwareSpecs": false,
    "memoryGiB": 4,
    "name": "ml.t3.medium",
    "vcpuNum": 2
   },
   {
    "_defaultOrder": 1,
    "_isFastLaunch": false,
    "category": "General purpose",
    "gpuNum": 0,
    "hideHardwareSpecs": false,
    "memoryGiB": 8,
    "name": "ml.t3.large",
    "vcpuNum": 2
   },
   {
    "_defaultOrder": 2,
    "_isFastLaunch": false,
    "category": "General purpose",
    "gpuNum": 0,
    "hideHardwareSpecs": false,
    "memoryGiB": 16,
    "name": "ml.t3.xlarge",
    "vcpuNum": 4
   },
   {
    "_defaultOrder": 3,
    "_isFastLaunch": false,
    "category": "General purpose",
    "gpuNum": 0,
    "hideHardwareSpecs": false,
    "memoryGiB": 32,
    "name": "ml.t3.2xlarge",
    "vcpuNum": 8
   },
   {
    "_defaultOrder": 4,
    "_isFastLaunch": true,
    "category": "General purpose",
    "gpuNum": 0,
    "hideHardwareSpecs": false,
    "memoryGiB": 8,
    "name": "ml.m5.large",
    "vcpuNum": 2
   },
   {
    "_defaultOrder": 5,
    "_isFastLaunch": false,
    "category": "General purpose",
    "gpuNum": 0,
    "hideHardwareSpecs": false,
    "memoryGiB": 16,
    "name": "ml.m5.xlarge",
    "vcpuNum": 4
   },
   {
    "_defaultOrder": 6,
    "_isFastLaunch": false,
    "category": "General purpose",
    "gpuNum": 0,
    "hideHardwareSpecs": false,
    "memoryGiB": 32,
    "name": "ml.m5.2xlarge",
    "vcpuNum": 8
   },
   {
    "_defaultOrder": 7,
    "_isFastLaunch": false,
    "category": "General purpose",
    "gpuNum": 0,
    "hideHardwareSpecs": false,
    "memoryGiB": 64,
    "name": "ml.m5.4xlarge",
    "vcpuNum": 16
   },
   {
    "_defaultOrder": 8,
    "_isFastLaunch": false,
    "category": "General purpose",
    "gpuNum": 0,
    "hideHardwareSpecs": false,
    "memoryGiB": 128,
    "name": "ml.m5.8xlarge",
    "vcpuNum": 32
   },
   {
    "_defaultOrder": 9,
    "_isFastLaunch": false,
    "category": "General purpose",
    "gpuNum": 0,
    "hideHardwareSpecs": false,
    "memoryGiB": 192,
    "name": "ml.m5.12xlarge",
    "vcpuNum": 48
   },
   {
    "_defaultOrder": 10,
    "_isFastLaunch": false,
    "category": "General purpose",
    "gpuNum": 0,
    "hideHardwareSpecs": false,
    "memoryGiB": 256,
    "name": "ml.m5.16xlarge",
    "vcpuNum": 64
   },
   {
    "_defaultOrder": 11,
    "_isFastLaunch": false,
    "category": "General purpose",
    "gpuNum": 0,
    "hideHardwareSpecs": false,
    "memoryGiB": 384,
    "name": "ml.m5.24xlarge",
    "vcpuNum": 96
   },
   {
    "_defaultOrder": 12,
    "_isFastLaunch": false,
    "category": "General purpose",
    "gpuNum": 0,
    "hideHardwareSpecs": false,
    "memoryGiB": 8,
    "name": "ml.m5d.large",
    "vcpuNum": 2
   },
   {
    "_defaultOrder": 13,
    "_isFastLaunch": false,
    "category": "General purpose",
    "gpuNum": 0,
    "hideHardwareSpecs": false,
    "memoryGiB": 16,
    "name": "ml.m5d.xlarge",
    "vcpuNum": 4
   },
   {
    "_defaultOrder": 14,
    "_isFastLaunch": false,
    "category": "General purpose",
    "gpuNum": 0,
    "hideHardwareSpecs": false,
    "memoryGiB": 32,
    "name": "ml.m5d.2xlarge",
    "vcpuNum": 8
   },
   {
    "_defaultOrder": 15,
    "_isFastLaunch": false,
    "category": "General purpose",
    "gpuNum": 0,
    "hideHardwareSpecs": false,
    "memoryGiB": 64,
    "name": "ml.m5d.4xlarge",
    "vcpuNum": 16
   },
   {
    "_defaultOrder": 16,
    "_isFastLaunch": false,
    "category": "General purpose",
    "gpuNum": 0,
    "hideHardwareSpecs": false,
    "memoryGiB": 128,
    "name": "ml.m5d.8xlarge",
    "vcpuNum": 32
   },
   {
    "_defaultOrder": 17,
    "_isFastLaunch": false,
    "category": "General purpose",
    "gpuNum": 0,
    "hideHardwareSpecs": false,
    "memoryGiB": 192,
    "name": "ml.m5d.12xlarge",
    "vcpuNum": 48
   },
   {
    "_defaultOrder": 18,
    "_isFastLaunch": false,
    "category": "General purpose",
    "gpuNum": 0,
    "hideHardwareSpecs": false,
    "memoryGiB": 256,
    "name": "ml.m5d.16xlarge",
    "vcpuNum": 64
   },
   {
    "_defaultOrder": 19,
    "_isFastLaunch": false,
    "category": "General purpose",
    "gpuNum": 0,
    "hideHardwareSpecs": false,
    "memoryGiB": 384,
    "name": "ml.m5d.24xlarge",
    "vcpuNum": 96
   },
   {
    "_defaultOrder": 20,
    "_isFastLaunch": false,
    "category": "General purpose",
    "gpuNum": 0,
    "hideHardwareSpecs": true,
    "memoryGiB": 0,
    "name": "ml.geospatial.interactive",
    "supportedImageNames": [
     "sagemaker-geospatial-v1-0"
    ],
    "vcpuNum": 0
   },
   {
    "_defaultOrder": 21,
    "_isFastLaunch": true,
    "category": "Compute optimized",
    "gpuNum": 0,
    "hideHardwareSpecs": false,
    "memoryGiB": 4,
    "name": "ml.c5.large",
    "vcpuNum": 2
   },
   {
    "_defaultOrder": 22,
    "_isFastLaunch": false,
    "category": "Compute optimized",
    "gpuNum": 0,
    "hideHardwareSpecs": false,
    "memoryGiB": 8,
    "name": "ml.c5.xlarge",
    "vcpuNum": 4
   },
   {
    "_defaultOrder": 23,
    "_isFastLaunch": false,
    "category": "Compute optimized",
    "gpuNum": 0,
    "hideHardwareSpecs": false,
    "memoryGiB": 16,
    "name": "ml.c5.2xlarge",
    "vcpuNum": 8
   },
   {
    "_defaultOrder": 24,
    "_isFastLaunch": false,
    "category": "Compute optimized",
    "gpuNum": 0,
    "hideHardwareSpecs": false,
    "memoryGiB": 32,
    "name": "ml.c5.4xlarge",
    "vcpuNum": 16
   },
   {
    "_defaultOrder": 25,
    "_isFastLaunch": false,
    "category": "Compute optimized",
    "gpuNum": 0,
    "hideHardwareSpecs": false,
    "memoryGiB": 72,
    "name": "ml.c5.9xlarge",
    "vcpuNum": 36
   },
   {
    "_defaultOrder": 26,
    "_isFastLaunch": false,
    "category": "Compute optimized",
    "gpuNum": 0,
    "hideHardwareSpecs": false,
    "memoryGiB": 96,
    "name": "ml.c5.12xlarge",
    "vcpuNum": 48
   },
   {
    "_defaultOrder": 27,
    "_isFastLaunch": false,
    "category": "Compute optimized",
    "gpuNum": 0,
    "hideHardwareSpecs": false,
    "memoryGiB": 144,
    "name": "ml.c5.18xlarge",
    "vcpuNum": 72
   },
   {
    "_defaultOrder": 28,
    "_isFastLaunch": false,
    "category": "Compute optimized",
    "gpuNum": 0,
    "hideHardwareSpecs": false,
    "memoryGiB": 192,
    "name": "ml.c5.24xlarge",
    "vcpuNum": 96
   },
   {
    "_defaultOrder": 29,
    "_isFastLaunch": true,
    "category": "Accelerated computing",
    "gpuNum": 1,
    "hideHardwareSpecs": false,
    "memoryGiB": 16,
    "name": "ml.g4dn.xlarge",
    "vcpuNum": 4
   },
   {
    "_defaultOrder": 30,
    "_isFastLaunch": false,
    "category": "Accelerated computing",
    "gpuNum": 1,
    "hideHardwareSpecs": false,
    "memoryGiB": 32,
    "name": "ml.g4dn.2xlarge",
    "vcpuNum": 8
   },
   {
    "_defaultOrder": 31,
    "_isFastLaunch": false,
    "category": "Accelerated computing",
    "gpuNum": 1,
    "hideHardwareSpecs": false,
    "memoryGiB": 64,
    "name": "ml.g4dn.4xlarge",
    "vcpuNum": 16
   },
   {
    "_defaultOrder": 32,
    "_isFastLaunch": false,
    "category": "Accelerated computing",
    "gpuNum": 1,
    "hideHardwareSpecs": false,
    "memoryGiB": 128,
    "name": "ml.g4dn.8xlarge",
    "vcpuNum": 32
   },
   {
    "_defaultOrder": 33,
    "_isFastLaunch": false,
    "category": "Accelerated computing",
    "gpuNum": 4,
    "hideHardwareSpecs": false,
    "memoryGiB": 192,
    "name": "ml.g4dn.12xlarge",
    "vcpuNum": 48
   },
   {
    "_defaultOrder": 34,
    "_isFastLaunch": false,
    "category": "Accelerated computing",
    "gpuNum": 1,
    "hideHardwareSpecs": false,
    "memoryGiB": 256,
    "name": "ml.g4dn.16xlarge",
    "vcpuNum": 64
   },
   {
    "_defaultOrder": 35,
    "_isFastLaunch": false,
    "category": "Accelerated computing",
    "gpuNum": 1,
    "hideHardwareSpecs": false,
    "memoryGiB": 61,
    "name": "ml.p3.2xlarge",
    "vcpuNum": 8
   },
   {
    "_defaultOrder": 36,
    "_isFastLaunch": false,
    "category": "Accelerated computing",
    "gpuNum": 4,
    "hideHardwareSpecs": false,
    "memoryGiB": 244,
    "name": "ml.p3.8xlarge",
    "vcpuNum": 32
   },
   {
    "_defaultOrder": 37,
    "_isFastLaunch": false,
    "category": "Accelerated computing",
    "gpuNum": 8,
    "hideHardwareSpecs": false,
    "memoryGiB": 488,
    "name": "ml.p3.16xlarge",
    "vcpuNum": 64
   },
   {
    "_defaultOrder": 38,
    "_isFastLaunch": false,
    "category": "Accelerated computing",
    "gpuNum": 8,
    "hideHardwareSpecs": false,
    "memoryGiB": 768,
    "name": "ml.p3dn.24xlarge",
    "vcpuNum": 96
   },
   {
    "_defaultOrder": 39,
    "_isFastLaunch": false,
    "category": "Memory Optimized",
    "gpuNum": 0,
    "hideHardwareSpecs": false,
    "memoryGiB": 16,
    "name": "ml.r5.large",
    "vcpuNum": 2
   },
   {
    "_defaultOrder": 40,
    "_isFastLaunch": false,
    "category": "Memory Optimized",
    "gpuNum": 0,
    "hideHardwareSpecs": false,
    "memoryGiB": 32,
    "name": "ml.r5.xlarge",
    "vcpuNum": 4
   },
   {
    "_defaultOrder": 41,
    "_isFastLaunch": false,
    "category": "Memory Optimized",
    "gpuNum": 0,
    "hideHardwareSpecs": false,
    "memoryGiB": 64,
    "name": "ml.r5.2xlarge",
    "vcpuNum": 8
   },
   {
    "_defaultOrder": 42,
    "_isFastLaunch": false,
    "category": "Memory Optimized",
    "gpuNum": 0,
    "hideHardwareSpecs": false,
    "memoryGiB": 128,
    "name": "ml.r5.4xlarge",
    "vcpuNum": 16
   },
   {
    "_defaultOrder": 43,
    "_isFastLaunch": false,
    "category": "Memory Optimized",
    "gpuNum": 0,
    "hideHardwareSpecs": false,
    "memoryGiB": 256,
    "name": "ml.r5.8xlarge",
    "vcpuNum": 32
   },
   {
    "_defaultOrder": 44,
    "_isFastLaunch": false,
    "category": "Memory Optimized",
    "gpuNum": 0,
    "hideHardwareSpecs": false,
    "memoryGiB": 384,
    "name": "ml.r5.12xlarge",
    "vcpuNum": 48
   },
   {
    "_defaultOrder": 45,
    "_isFastLaunch": false,
    "category": "Memory Optimized",
    "gpuNum": 0,
    "hideHardwareSpecs": false,
    "memoryGiB": 512,
    "name": "ml.r5.16xlarge",
    "vcpuNum": 64
   },
   {
    "_defaultOrder": 46,
    "_isFastLaunch": false,
    "category": "Memory Optimized",
    "gpuNum": 0,
    "hideHardwareSpecs": false,
    "memoryGiB": 768,
    "name": "ml.r5.24xlarge",
    "vcpuNum": 96
   },
   {
    "_defaultOrder": 47,
    "_isFastLaunch": false,
    "category": "Accelerated computing",
    "gpuNum": 1,
    "hideHardwareSpecs": false,
    "memoryGiB": 16,
    "name": "ml.g5.xlarge",
    "vcpuNum": 4
   },
   {
    "_defaultOrder": 48,
    "_isFastLaunch": false,
    "category": "Accelerated computing",
    "gpuNum": 1,
    "hideHardwareSpecs": false,
    "memoryGiB": 32,
    "name": "ml.g5.2xlarge",
    "vcpuNum": 8
   },
   {
    "_defaultOrder": 49,
    "_isFastLaunch": false,
    "category": "Accelerated computing",
    "gpuNum": 1,
    "hideHardwareSpecs": false,
    "memoryGiB": 64,
    "name": "ml.g5.4xlarge",
    "vcpuNum": 16
   },
   {
    "_defaultOrder": 50,
    "_isFastLaunch": false,
    "category": "Accelerated computing",
    "gpuNum": 1,
    "hideHardwareSpecs": false,
    "memoryGiB": 128,
    "name": "ml.g5.8xlarge",
    "vcpuNum": 32
   },
   {
    "_defaultOrder": 51,
    "_isFastLaunch": false,
    "category": "Accelerated computing",
    "gpuNum": 1,
    "hideHardwareSpecs": false,
    "memoryGiB": 256,
    "name": "ml.g5.16xlarge",
    "vcpuNum": 64
   },
   {
    "_defaultOrder": 52,
    "_isFastLaunch": false,
    "category": "Accelerated computing",
    "gpuNum": 4,
    "hideHardwareSpecs": false,
    "memoryGiB": 192,
    "name": "ml.g5.12xlarge",
    "vcpuNum": 48
   },
   {
    "_defaultOrder": 53,
    "_isFastLaunch": false,
    "category": "Accelerated computing",
    "gpuNum": 4,
    "hideHardwareSpecs": false,
    "memoryGiB": 384,
    "name": "ml.g5.24xlarge",
    "vcpuNum": 96
   },
   {
    "_defaultOrder": 54,
    "_isFastLaunch": false,
    "category": "Accelerated computing",
    "gpuNum": 8,
    "hideHardwareSpecs": false,
    "memoryGiB": 768,
    "name": "ml.g5.48xlarge",
    "vcpuNum": 192
   },
   {
    "_defaultOrder": 55,
    "_isFastLaunch": false,
    "category": "Accelerated computing",
    "gpuNum": 8,
    "hideHardwareSpecs": false,
    "memoryGiB": 1152,
    "name": "ml.p4d.24xlarge",
    "vcpuNum": 96
   },
   {
    "_defaultOrder": 56,
    "_isFastLaunch": false,
    "category": "Accelerated computing",
    "gpuNum": 8,
    "hideHardwareSpecs": false,
    "memoryGiB": 1152,
    "name": "ml.p4de.24xlarge",
    "vcpuNum": 96
   }
  ],
  "instance_type": "ml.g4dn.xlarge",
  "kernelspec": {
   "display_name": "Python 3 (Data Science 3.0)",
   "language": "python",
   "name": "python3__SAGEMAKER_INTERNAL__arn:aws:sagemaker:us-east-2:429704687514:image/sagemaker-data-science-310-v1"
  },
  "language_info": {
   "codemirror_mode": {
    "name": "ipython",
    "version": 3
   },
   "file_extension": ".py",
   "mimetype": "text/x-python",
   "name": "python",
   "nbconvert_exporter": "python",
   "pygments_lexer": "ipython3",
   "version": "3.10.6"
  },
  "papermill": {
   "default_parameters": {},
   "duration": 14739.300619,
   "end_time": "2021-08-14T18:06:33.735084",
   "environment_variables": {},
   "exception": null,
   "input_path": "__notebook__.ipynb",
   "output_path": "__notebook__.ipynb",
   "parameters": {},
   "start_time": "2021-08-14T14:00:54.434465",
   "version": "2.3.3"
  },
  "widgets": {
   "application/vnd.jupyter.widget-state+json": {
    "state": {
     "0db761a4d64c428fb40738eb7102eb72": {
      "model_module": "@jupyter-widgets/controls",
      "model_module_version": "1.5.0",
      "model_name": "DescriptionStyleModel",
      "state": {
       "_model_module": "@jupyter-widgets/controls",
       "_model_module_version": "1.5.0",
       "_model_name": "DescriptionStyleModel",
       "_view_count": null,
       "_view_module": "@jupyter-widgets/base",
       "_view_module_version": "1.2.0",
       "_view_name": "StyleView",
       "description_width": ""
      }
     },
     "3d4710cd7e6942b1ab6dcaca595702a6": {
      "model_module": "@jupyter-widgets/base",
      "model_module_version": "1.2.0",
      "model_name": "LayoutModel",
      "state": {
       "_model_module": "@jupyter-widgets/base",
       "_model_module_version": "1.2.0",
       "_model_name": "LayoutModel",
       "_view_count": null,
       "_view_module": "@jupyter-widgets/base",
       "_view_module_version": "1.2.0",
       "_view_name": "LayoutView",
       "align_content": null,
       "align_items": null,
       "align_self": null,
       "border": null,
       "bottom": null,
       "display": null,
       "flex": null,
       "flex_flow": null,
       "grid_area": null,
       "grid_auto_columns": null,
       "grid_auto_flow": null,
       "grid_auto_rows": null,
       "grid_column": null,
       "grid_gap": null,
       "grid_row": null,
       "grid_template_areas": null,
       "grid_template_columns": null,
       "grid_template_rows": null,
       "height": null,
       "justify_content": null,
       "justify_items": null,
       "left": null,
       "margin": null,
       "max_height": null,
       "max_width": null,
       "min_height": null,
       "min_width": null,
       "object_fit": null,
       "object_position": null,
       "order": null,
       "overflow": null,
       "overflow_x": null,
       "overflow_y": null,
       "padding": null,
       "right": null,
       "top": null,
       "visibility": null,
       "width": null
      }
     },
     "3f12ae83e1074f7da885b98d2a9cb492": {
      "model_module": "@jupyter-widgets/controls",
      "model_module_version": "1.5.0",
      "model_name": "HTMLModel",
      "state": {
       "_dom_classes": [],
       "_model_module": "@jupyter-widgets/controls",
       "_model_module_version": "1.5.0",
       "_model_name": "HTMLModel",
       "_view_count": null,
       "_view_module": "@jupyter-widgets/controls",
       "_view_module_version": "1.5.0",
       "_view_name": "HTMLView",
       "description": "",
       "description_tooltip": null,
       "layout": "IPY_MODEL_8e40af8bf0274805a09a2f728b5b9bf3",
       "placeholder": "​",
       "style": "IPY_MODEL_0db761a4d64c428fb40738eb7102eb72",
       "value": "100%"
      }
     },
     "58f64a5a910d403d94bf6245becc2d9a": {
      "model_module": "@jupyter-widgets/base",
      "model_module_version": "1.2.0",
      "model_name": "LayoutModel",
      "state": {
       "_model_module": "@jupyter-widgets/base",
       "_model_module_version": "1.2.0",
       "_model_name": "LayoutModel",
       "_view_count": null,
       "_view_module": "@jupyter-widgets/base",
       "_view_module_version": "1.2.0",
       "_view_name": "LayoutView",
       "align_content": null,
       "align_items": null,
       "align_self": null,
       "border": null,
       "bottom": null,
       "display": null,
       "flex": null,
       "flex_flow": null,
       "grid_area": null,
       "grid_auto_columns": null,
       "grid_auto_flow": null,
       "grid_auto_rows": null,
       "grid_column": null,
       "grid_gap": null,
       "grid_row": null,
       "grid_template_areas": null,
       "grid_template_columns": null,
       "grid_template_rows": null,
       "height": null,
       "justify_content": null,
       "justify_items": null,
       "left": null,
       "margin": null,
       "max_height": null,
       "max_width": null,
       "min_height": null,
       "min_width": null,
       "object_fit": null,
       "object_position": null,
       "order": null,
       "overflow": null,
       "overflow_x": null,
       "overflow_y": null,
       "padding": null,
       "right": null,
       "top": null,
       "visibility": null,
       "width": null
      }
     },
     "64ce717ebfad411faf6e93ed9d752e80": {
      "model_module": "@jupyter-widgets/controls",
      "model_module_version": "1.5.0",
      "model_name": "HBoxModel",
      "state": {
       "_dom_classes": [],
       "_model_module": "@jupyter-widgets/controls",
       "_model_module_version": "1.5.0",
       "_model_name": "HBoxModel",
       "_view_count": null,
       "_view_module": "@jupyter-widgets/controls",
       "_view_module_version": "1.5.0",
       "_view_name": "HBoxView",
       "box_style": "",
       "children": [
        "IPY_MODEL_3f12ae83e1074f7da885b98d2a9cb492",
        "IPY_MODEL_853ccdccda514c668f7cc1351039839a",
        "IPY_MODEL_b2f40ec73ba24d0d8d6ab7190d3ba1f6"
       ],
       "layout": "IPY_MODEL_ee2819ae3e7041629fba0d01145f8319"
      }
     },
     "6fecb59af22a4d7aa283b6d8635f0cb9": {
      "model_module": "@jupyter-widgets/controls",
      "model_module_version": "1.5.0",
      "model_name": "DescriptionStyleModel",
      "state": {
       "_model_module": "@jupyter-widgets/controls",
       "_model_module_version": "1.5.0",
       "_model_name": "DescriptionStyleModel",
       "_view_count": null,
       "_view_module": "@jupyter-widgets/base",
       "_view_module_version": "1.2.0",
       "_view_name": "StyleView",
       "description_width": ""
      }
     },
     "853ccdccda514c668f7cc1351039839a": {
      "model_module": "@jupyter-widgets/controls",
      "model_module_version": "1.5.0",
      "model_name": "FloatProgressModel",
      "state": {
       "_dom_classes": [],
       "_model_module": "@jupyter-widgets/controls",
       "_model_module_version": "1.5.0",
       "_model_name": "FloatProgressModel",
       "_view_count": null,
       "_view_module": "@jupyter-widgets/controls",
       "_view_module_version": "1.5.0",
       "_view_name": "ProgressView",
       "bar_style": "success",
       "description": "",
       "description_tooltip": null,
       "layout": "IPY_MODEL_3d4710cd7e6942b1ab6dcaca595702a6",
       "max": 87306240,
       "min": 0,
       "orientation": "horizontal",
       "style": "IPY_MODEL_ceff21c4101d446d8cd4d149a9fd692e",
       "value": 87306240
      }
     },
     "8e40af8bf0274805a09a2f728b5b9bf3": {
      "model_module": "@jupyter-widgets/base",
      "model_module_version": "1.2.0",
      "model_name": "LayoutModel",
      "state": {
       "_model_module": "@jupyter-widgets/base",
       "_model_module_version": "1.2.0",
       "_model_name": "LayoutModel",
       "_view_count": null,
       "_view_module": "@jupyter-widgets/base",
       "_view_module_version": "1.2.0",
       "_view_name": "LayoutView",
       "align_content": null,
       "align_items": null,
       "align_self": null,
       "border": null,
       "bottom": null,
       "display": null,
       "flex": null,
       "flex_flow": null,
       "grid_area": null,
       "grid_auto_columns": null,
       "grid_auto_flow": null,
       "grid_auto_rows": null,
       "grid_column": null,
       "grid_gap": null,
       "grid_row": null,
       "grid_template_areas": null,
       "grid_template_columns": null,
       "grid_template_rows": null,
       "height": null,
       "justify_content": null,
       "justify_items": null,
       "left": null,
       "margin": null,
       "max_height": null,
       "max_width": null,
       "min_height": null,
       "min_width": null,
       "object_fit": null,
       "object_position": null,
       "order": null,
       "overflow": null,
       "overflow_x": null,
       "overflow_y": null,
       "padding": null,
       "right": null,
       "top": null,
       "visibility": null,
       "width": null
      }
     },
     "b2f40ec73ba24d0d8d6ab7190d3ba1f6": {
      "model_module": "@jupyter-widgets/controls",
      "model_module_version": "1.5.0",
      "model_name": "HTMLModel",
      "state": {
       "_dom_classes": [],
       "_model_module": "@jupyter-widgets/controls",
       "_model_module_version": "1.5.0",
       "_model_name": "HTMLModel",
       "_view_count": null,
       "_view_module": "@jupyter-widgets/controls",
       "_view_module_version": "1.5.0",
       "_view_name": "HTMLView",
       "description": "",
       "description_tooltip": null,
       "layout": "IPY_MODEL_58f64a5a910d403d94bf6245becc2d9a",
       "placeholder": "​",
       "style": "IPY_MODEL_6fecb59af22a4d7aa283b6d8635f0cb9",
       "value": " 83.3M/83.3M [00:00&lt;00:00, 122MB/s]"
      }
     },
     "ceff21c4101d446d8cd4d149a9fd692e": {
      "model_module": "@jupyter-widgets/controls",
      "model_module_version": "1.5.0",
      "model_name": "ProgressStyleModel",
      "state": {
       "_model_module": "@jupyter-widgets/controls",
       "_model_module_version": "1.5.0",
       "_model_name": "ProgressStyleModel",
       "_view_count": null,
       "_view_module": "@jupyter-widgets/base",
       "_view_module_version": "1.2.0",
       "_view_name": "StyleView",
       "bar_color": null,
       "description_width": ""
      }
     },
     "ee2819ae3e7041629fba0d01145f8319": {
      "model_module": "@jupyter-widgets/base",
      "model_module_version": "1.2.0",
      "model_name": "LayoutModel",
      "state": {
       "_model_module": "@jupyter-widgets/base",
       "_model_module_version": "1.2.0",
       "_model_name": "LayoutModel",
       "_view_count": null,
       "_view_module": "@jupyter-widgets/base",
       "_view_module_version": "1.2.0",
       "_view_name": "LayoutView",
       "align_content": null,
       "align_items": null,
       "align_self": null,
       "border": null,
       "bottom": null,
       "display": null,
       "flex": null,
       "flex_flow": null,
       "grid_area": null,
       "grid_auto_columns": null,
       "grid_auto_flow": null,
       "grid_auto_rows": null,
       "grid_column": null,
       "grid_gap": null,
       "grid_row": null,
       "grid_template_areas": null,
       "grid_template_columns": null,
       "grid_template_rows": null,
       "height": null,
       "justify_content": null,
       "justify_items": null,
       "left": null,
       "margin": null,
       "max_height": null,
       "max_width": null,
       "min_height": null,
       "min_width": null,
       "object_fit": null,
       "object_position": null,
       "order": null,
       "overflow": null,
       "overflow_x": null,
       "overflow_y": null,
       "padding": null,
       "right": null,
       "top": null,
       "visibility": null,
       "width": null
      }
     }
    },
    "version_major": 2,
    "version_minor": 0
   }
  }
 },
 "nbformat": 4,
 "nbformat_minor": 5
}
