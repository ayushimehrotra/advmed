{
 "cells": [
  {
   "cell_type": "code",
   "execution_count": 25,
   "id": "3946a4eb-faf2-4528-9012-f2182e0bfe74",
   "metadata": {
    "tags": []
   },
   "outputs": [],
   "source": [
    "import gc\n",
    "gc.collect()\n",
    "torch.cuda.empty_cache()"
   ]
  },
  {
   "cell_type": "markdown",
   "id": "95eaff99-bc03-4198-8f21-00b0c9c05e77",
   "metadata": {},
   "source": [
    "## Install Dependencies"
   ]
  },
  {
   "cell_type": "code",
   "execution_count": 2,
   "id": "889e8fe6-75b0-4c3f-847e-0d5309b9d8de",
   "metadata": {
    "tags": []
   },
   "outputs": [
    {
     "name": "stdout",
     "output_type": "stream",
     "text": [
      "['HAM10000_images_part_1', 'ham10000_images_part_1', 'hmnist_28_28_L.csv', 'hmnist_8_8_L.csv', 'HAM10000_metadata.csv', 'hmnist_28_28_RGB.csv', 'hmnist_8_8_RGB.csv', 'HAM10000_images_part_2', 'ham10000_images_part_2']\n"
     ]
    }
   ],
   "source": [
    "from IPython.display import clear_output\n",
    "!pip install torch\n",
    "!pip install torchvision\n",
    "!pip install captum\n",
    "!pip install opencv-python\n",
    "!pip install seaborn\n",
    "!pip install matplotlib\n",
    "!pip install cleverhans\n",
    "!pip install cachetools\n",
    "!pip install pandas\n",
    "!apt-get update && apt-get install ffmpeg libsm6 libxext6  -y\n",
    "clear_output()\n",
    "\n",
    "import os, cv2,itertools\n",
    "import matplotlib.pyplot as plt\n",
    "import numpy as np\n",
    "import pandas as pd\n",
    "from tqdm import tqdm\n",
    "from glob import glob\n",
    "from PIL import Image\n",
    "\n",
    "# pytorch libraries\n",
    "import torch\n",
    "from torch import optim,nn\n",
    "from torch.autograd import Variable\n",
    "from torch.utils.data import DataLoader,Dataset\n",
    "from torchvision import models,transforms\n",
    "\n",
    "# sklearn libraries\n",
    "from sklearn.metrics import confusion_matrix\n",
    "from sklearn.model_selection import train_test_split\n",
    "from sklearn.metrics import classification_report\n",
    "\n",
    "# to make the results are reproducible\n",
    "np.random.seed(10)\n",
    "torch.manual_seed(10)\n",
    "torch.cuda.manual_seed(10)\n",
    "\n",
    "print(os.listdir(\"skin-cancer\"))"
   ]
  },
  {
   "cell_type": "markdown",
   "id": "d17bf042-1c4a-4dfb-9fbe-1abf8215d849",
   "metadata": {},
   "source": [
    "## Data Preprocessing"
   ]
  },
  {
   "cell_type": "code",
   "execution_count": 3,
   "id": "58a33d86-6e2d-4e20-950a-9f0820552f66",
   "metadata": {},
   "outputs": [],
   "source": [
    "data_dir = 'skin-cancer'\n",
    "all_image_path = glob(os.path.join(data_dir, '*', '*.jpg'))\n",
    "#extracts the image id to match it with the .csv label file\n",
    "imageid_path_dict = {os.path.splitext(os.path.basename(x))[0] : x for x in all_image_path}\n",
    "lesion_type_dict = {\n",
    "    'nv': 'Melanocytic nevi',\n",
    "    'mel': 'dermatofibroma',\n",
    "    'bkl': 'Benign keratosis-like lesions ',\n",
    "    'bcc': 'Basal cell carcinoma',\n",
    "    'akiec': 'Actinic keratoses',\n",
    "    'vasc': 'Vascular lesions',\n",
    "    'df': 'Dermatofibroma'\n",
    "}\n",
    "input_size = 224"
   ]
  },
  {
   "cell_type": "code",
   "execution_count": 6,
   "id": "3a37f0ce-e92e-4e1a-bdbf-944fc910e1c2",
   "metadata": {
    "tags": []
   },
   "outputs": [
    {
     "name": "stderr",
     "output_type": "stream",
     "text": [
      " 14%|█▍        | 2857/20030 [00:42<04:16, 66.95it/s]\n"
     ]
    },
    {
     "ename": "KeyboardInterrupt",
     "evalue": "",
     "output_type": "error",
     "traceback": [
      "\u001b[0;31m---------------------------------------------------------------------------\u001b[0m",
      "\u001b[0;31mKeyboardInterrupt\u001b[0m                         Traceback (most recent call last)",
      "Cell \u001b[0;32mIn[6], line 27\u001b[0m\n\u001b[1;32m     25\u001b[0m     \u001b[38;5;28mprint\u001b[39m(\u001b[38;5;124m\"\u001b[39m\u001b[38;5;124mnormStd = \u001b[39m\u001b[38;5;132;01m{}\u001b[39;00m\u001b[38;5;124m\"\u001b[39m\u001b[38;5;241m.\u001b[39mformat(stdevs))\n\u001b[1;32m     26\u001b[0m     \u001b[38;5;28;01mreturn\u001b[39;00m means,stdevs\n\u001b[0;32m---> 27\u001b[0m norm_mean,norm_std \u001b[38;5;241m=\u001b[39m \u001b[43mcompute_img_mean_std\u001b[49m\u001b[43m(\u001b[49m\u001b[43mall_image_path\u001b[49m\u001b[43m)\u001b[49m\n",
      "Cell \u001b[0;32mIn[6], line 7\u001b[0m, in \u001b[0;36mcompute_img_mean_std\u001b[0;34m(image_paths)\u001b[0m\n\u001b[1;32m      4\u001b[0m means, stdevs \u001b[38;5;241m=\u001b[39m [], []\n\u001b[1;32m      6\u001b[0m \u001b[38;5;28;01mfor\u001b[39;00m i \u001b[38;5;129;01min\u001b[39;00m tqdm(\u001b[38;5;28mrange\u001b[39m(\u001b[38;5;28mlen\u001b[39m(image_paths))):\n\u001b[0;32m----> 7\u001b[0m     img \u001b[38;5;241m=\u001b[39m \u001b[43mcv2\u001b[49m\u001b[38;5;241;43m.\u001b[39;49m\u001b[43mimread\u001b[49m\u001b[43m(\u001b[49m\u001b[43mimage_paths\u001b[49m\u001b[43m[\u001b[49m\u001b[43mi\u001b[49m\u001b[43m]\u001b[49m\u001b[43m)\u001b[49m\n\u001b[1;32m      8\u001b[0m     img \u001b[38;5;241m=\u001b[39m cv2\u001b[38;5;241m.\u001b[39mresize(img, (img_h, img_w))\n\u001b[1;32m      9\u001b[0m     imgs\u001b[38;5;241m.\u001b[39mappend(img)\n",
      "\u001b[0;31mKeyboardInterrupt\u001b[0m: "
     ]
    }
   ],
   "source": [
    "def compute_img_mean_std(image_paths):\n",
    "    img_h, img_w = 224, 224\n",
    "    imgs = []\n",
    "    means, stdevs = [], []\n",
    "\n",
    "    for i in tqdm(range(len(image_paths))):\n",
    "        img = cv2.imread(image_paths[i])\n",
    "        img = cv2.resize(img, (img_h, img_w))\n",
    "        imgs.append(img)\n",
    "\n",
    "    imgs = np.stack(imgs, axis=3)\n",
    "    print(imgs.shape)\n",
    "\n",
    "    imgs = imgs.astype(np.float32) / 255.\n",
    "\n",
    "    for i in range(3):\n",
    "        pixels = imgs[:, :, i, :].ravel() \n",
    "        means.append(np.mean(pixels))\n",
    "        stdevs.append(np.std(pixels))\n",
    "\n",
    "    means.reverse()  \n",
    "    stdevs.reverse()\n",
    "\n",
    "    print(\"normMean = {}\".format(means))\n",
    "    print(\"normStd = {}\".format(stdevs))\n",
    "    return means,stdevs\n",
    "norm_mean,norm_std = compute_img_mean_std(all_image_path)"
   ]
  },
  {
   "cell_type": "code",
   "execution_count": 4,
   "id": "ab5d0327-2fd2-41c1-9b67-3044ebf5a07c",
   "metadata": {},
   "outputs": [
    {
     "name": "stderr",
     "output_type": "stream",
     "text": [
      "/tmp/ipykernel_29/4162347508.py:46: FutureWarning: The frame.append method is deprecated and will be removed from pandas in a future version. Use pandas.concat instead.\n",
      "  df_train=df_train.append([df_train.loc[df_train['cell_type_idx'] == i,:]]*(data_aug_rate[i]-1), ignore_index=True)\n"
     ]
    },
    {
     "data": {
      "text/plain": [
       "Melanocytic nevi                  5822\n",
       "Dermatofibroma                    5350\n",
       "dermatofibroma                    5335\n",
       "Vascular lesions                  5160\n",
       "Benign keratosis-like lesions     5055\n",
       "Basal cell carcinoma              4790\n",
       "Actinic keratoses                 4455\n",
       "Name: cell_type, dtype: int64"
      ]
     },
     "execution_count": 4,
     "metadata": {},
     "output_type": "execute_result"
    }
   ],
   "source": [
    "df_original = pd.read_csv(os.path.join(data_dir, 'HAM10000_metadata.csv'))\n",
    "df_original['path'] = df_original['image_id'].map(imageid_path_dict.get)\n",
    "df_original['cell_type'] = df_original['dx'].map(lesion_type_dict.get)\n",
    "df_original['cell_type_idx'] = pd.Categorical(df_original['cell_type']).codes\n",
    "\n",
    "df_undup = df_original.groupby('lesion_id').count()\n",
    "# now we filter out lesion_id's that have only one image associated with it\n",
    "df_undup = df_undup[df_undup['image_id'] == 1]\n",
    "df_undup.reset_index(inplace=True)\n",
    "\n",
    "def get_duplicates(x):\n",
    "    unique_list = list(df_undup['lesion_id'])\n",
    "    if x in unique_list:\n",
    "        return 'unduplicated'\n",
    "    else:\n",
    "        return 'duplicated'\n",
    "\n",
    "# create a new colum that is a copy of the lesion_id column\n",
    "df_original['duplicates'] = df_original['lesion_id']\n",
    "# apply the function to this new column\n",
    "df_original['duplicates'] = df_original['duplicates'].apply(get_duplicates)\n",
    "\n",
    "df_undup = df_original[df_original['duplicates'] == 'unduplicated']\n",
    "y = df_undup['cell_type_idx']\n",
    "_, df_val = train_test_split(df_undup, test_size=0.2, random_state=101, stratify=y)\n",
    "\n",
    "def get_val_rows(x):\n",
    "    # create a list of all the lesion_id's in the val set\n",
    "    val_list = list(df_val['image_id'])\n",
    "    if str(x) in val_list:\n",
    "        return 'val'\n",
    "    else:\n",
    "        return 'train'\n",
    "\n",
    "# identify train and val rows\n",
    "# create a new colum that is a copy of the image_id column\n",
    "df_original['train_or_val'] = df_original['image_id']\n",
    "# apply the function to this new column\n",
    "df_original['train_or_val'] = df_original['train_or_val'].apply(get_val_rows)\n",
    "# filter out train rows\n",
    "df_train = df_original[df_original['train_or_val'] == 'train']\n",
    "\n",
    "data_aug_rate = [15,10,5,50,0,40,5]\n",
    "for i in range(7):\n",
    "    if data_aug_rate[i]:\n",
    "        df_train=df_train.append([df_train.loc[df_train['cell_type_idx'] == i,:]]*(data_aug_rate[i]-1), ignore_index=True)\n",
    "df_train['cell_type'].value_counts()\n"
   ]
  },
  {
   "cell_type": "code",
   "execution_count": 5,
   "id": "f2049b05-d640-48d0-a1a8-8fba25637aa0",
   "metadata": {
    "tags": []
   },
   "outputs": [],
   "source": [
    "df_train = df_train.reset_index()\n",
    "df_val = df_val.reset_index()"
   ]
  },
  {
   "cell_type": "code",
   "execution_count": 6,
   "id": "1c8962bf-61e2-4a3c-8c01-3493d9c9ce04",
   "metadata": {},
   "outputs": [],
   "source": [
    "def set_parameter_requires_grad(model, feature_extracting):\n",
    "    if feature_extracting:\n",
    "        for param in model.parameters():\n",
    "            param.requires_grad = False"
   ]
  },
  {
   "cell_type": "markdown",
   "id": "244c618c-4d67-49be-89fc-aa70ae767c57",
   "metadata": {},
   "source": [
    "## Model"
   ]
  },
  {
   "cell_type": "code",
   "execution_count": 7,
   "id": "1eab7346-0310-4e60-8f26-8e789c2bec37",
   "metadata": {},
   "outputs": [],
   "source": [
    "def initialize_model(model_name, num_classes, feature_extract, use_pretrained=True):\n",
    "    # Initialize these variables which will be set in this if statement. Each of these\n",
    "    #   variables is model specific.\n",
    "    model_ft = None\n",
    "    input_size = 0\n",
    "\n",
    "    if model_name == \"resnet\":\n",
    "        \"\"\" Resnet18, resnet34, resnet50, resnet101\n",
    "        \"\"\"\n",
    "        model_ft = models.resnet50(pretrained=use_pretrained)\n",
    "        set_parameter_requires_grad(model_ft, feature_extract)\n",
    "        num_ftrs = model_ft.fc.in_features\n",
    "        model_ft.fc = nn.Linear(num_ftrs, num_classes)\n",
    "        input_size = 224\n",
    "\n",
    "\n",
    "    elif model_name == \"vgg\":\n",
    "        \"\"\" VGG11_bn\n",
    "        \"\"\"\n",
    "        model_ft = models.vgg11_bn(pretrained=use_pretrained)\n",
    "        set_parameter_requires_grad(model_ft, feature_extract)\n",
    "        num_ftrs = model_ft.classifier[6].in_features\n",
    "        model_ft.classifier[6] = nn.Linear(num_ftrs,num_classes)\n",
    "        input_size = 224\n",
    "\n",
    "\n",
    "    elif model_name == \"densenet\":\n",
    "        \"\"\" Densenet121\n",
    "        \"\"\"\n",
    "        model_ft = models.densenet121(pretrained=use_pretrained)\n",
    "        set_parameter_requires_grad(model_ft, feature_extract)\n",
    "        num_ftrs = model_ft.classifier.in_features\n",
    "        model_ft.classifier = nn.Linear(num_ftrs, num_classes)\n",
    "        input_size = 224\n",
    "\n",
    "    elif model_name == \"inception\":\n",
    "        \"\"\" Inception v3\n",
    "        Be careful, expects (299,299) sized images and has auxiliary output\n",
    "        \"\"\"\n",
    "        model_ft = models.inception_v3(pretrained=use_pretrained)\n",
    "        set_parameter_requires_grad(model_ft, feature_extract)\n",
    "        # Handle the auxilary net\n",
    "        num_ftrs = model_ft.AuxLogits.fc.in_features\n",
    "        model_ft.AuxLogits.fc = nn.Linear(num_ftrs, num_classes)\n",
    "        # Handle the primary net\n",
    "        num_ftrs = model_ft.fc.in_features\n",
    "        model_ft.fc = nn.Linear(num_ftrs,num_classes)\n",
    "        input_size = 299\n",
    "\n",
    "    else:\n",
    "        print(\"Invalid model name, exiting...\")\n",
    "        exit()\n",
    "    return model_ft, input_size"
   ]
  },
  {
   "cell_type": "code",
   "execution_count": 8,
   "id": "2ecd10b8-8a2f-471b-b23c-9c52e9e42ec8",
   "metadata": {},
   "outputs": [
    {
     "name": "stderr",
     "output_type": "stream",
     "text": [
      "/opt/conda/lib/python3.10/site-packages/torchvision/models/_utils.py:208: UserWarning: The parameter 'pretrained' is deprecated since 0.13 and may be removed in the future, please use 'weights' instead.\n",
      "  warnings.warn(\n",
      "/opt/conda/lib/python3.10/site-packages/torchvision/models/_utils.py:223: UserWarning: Arguments other than a weight enum or `None` for 'weights' are deprecated since 0.13 and may be removed in the future. The current behavior is equivalent to passing `weights=DenseNet121_Weights.IMAGENET1K_V1`. You can also use `weights=DenseNet121_Weights.DEFAULT` to get the most up-to-date weights.\n",
      "  warnings.warn(msg)\n"
     ]
    }
   ],
   "source": [
    "model_name = 'densenet'\n",
    "num_classes = 7\n",
    "feature_extract = False\n",
    "# Initialize the model for this run\n",
    "model_ft, input_size = initialize_model(model_name, num_classes, feature_extract, use_pretrained=True)\n",
    "# Define the device:\n",
    "device = torch.device('cuda:0')\n",
    "# Put the model on the device:\n",
    "model = model_ft.to(device)"
   ]
  },
  {
   "cell_type": "code",
   "execution_count": 14,
   "id": "3ecdd01f-a245-4ebd-8aef-feece7b506c1",
   "metadata": {},
   "outputs": [],
   "source": [
    "norm_mean = (0.49139968, 0.48215827, 0.44653124)\n",
    "norm_std = (0.24703233, 0.24348505, 0.26158768)\n",
    "# define the transformation of the train images.\n",
    "train_transform = transforms.Compose([transforms.Resize((input_size,input_size)),transforms.RandomHorizontalFlip(),\n",
    "                                      transforms.RandomVerticalFlip(),transforms.RandomRotation(20),\n",
    "                                      transforms.ColorJitter(brightness=0.1, contrast=0.1, hue=0.1),\n",
    "                                        transforms.ToTensor(), transforms.Normalize(norm_mean, norm_std)])\n",
    "# define the transformation of the val images.\n",
    "val_transform = transforms.Compose([transforms.Resize((input_size,input_size)), transforms.ToTensor(),\n",
    "                                    transforms.Normalize(norm_mean, norm_std)])"
   ]
  },
  {
   "cell_type": "code",
   "execution_count": 15,
   "id": "e349c941-8f0c-43ff-8db6-7c57bec0e839",
   "metadata": {},
   "outputs": [],
   "source": [
    "class HAM10000(Dataset):\n",
    "    def __init__(self, df, transform=None):\n",
    "        self.df = df\n",
    "        self.transform = transform\n",
    "\n",
    "    def __len__(self):\n",
    "        return len(self.df)\n",
    "\n",
    "    def __getitem__(self, index):\n",
    "        # Load data and get label\n",
    "        X = Image.open(self.df['path'][index])\n",
    "        y = torch.tensor(int(self.df['cell_type_idx'][index]))\n",
    "\n",
    "        if self.transform:\n",
    "            X = self.transform(X)\n",
    "\n",
    "        return X, y"
   ]
  },
  {
   "cell_type": "code",
   "execution_count": 16,
   "id": "b050fc43-cc1c-4f39-9ffc-6554e23a88d1",
   "metadata": {},
   "outputs": [],
   "source": [
    "training_set = HAM10000(df_train, transform=train_transform)\n",
    "train_loader = DataLoader(training_set, batch_size=32, shuffle=True, num_workers=4)\n",
    "# Same for the validation set:\n",
    "validation_set = HAM10000(df_val, transform=train_transform)\n",
    "val_loader = DataLoader(validation_set, batch_size=32, shuffle=False, num_workers=4)"
   ]
  },
  {
   "cell_type": "code",
   "execution_count": 17,
   "id": "2fdba998-59ff-486f-a8e0-b731c42980cc",
   "metadata": {},
   "outputs": [],
   "source": [
    "optimizer = optim.Adam(model.parameters(), lr=1e-3)\n",
    "criterion = nn.CrossEntropyLoss().to(device)"
   ]
  },
  {
   "cell_type": "markdown",
   "id": "2d1ab1ca-5868-4e9d-afab-f135e12a2b28",
   "metadata": {},
   "source": [
    "## Training"
   ]
  },
  {
   "cell_type": "code",
   "execution_count": 18,
   "id": "1ea55261-f7fe-4cc9-805f-fb8d5e05674d",
   "metadata": {},
   "outputs": [],
   "source": [
    "class AverageMeter(object):\n",
    "    def __init__(self):\n",
    "        self.reset()\n",
    "\n",
    "    def reset(self):\n",
    "        self.val = 0\n",
    "        self.avg = 0\n",
    "        self.sum = 0\n",
    "        self.count = 0\n",
    "\n",
    "    def update(self, val, n=1):\n",
    "        self.val = val\n",
    "        self.sum += val * n\n",
    "        self.count += n\n",
    "        self.avg = self.sum / self.count"
   ]
  },
  {
   "cell_type": "code",
   "execution_count": 19,
   "id": "56f77ea7-2ce4-446f-9d1e-49b699f4fe29",
   "metadata": {},
   "outputs": [],
   "source": [
    "total_loss_train, total_acc_train = [],[]\n",
    "def train(train_loader, model, criterion, optimizer, epoch):\n",
    "    model.train()\n",
    "    train_loss = AverageMeter()\n",
    "    train_acc = AverageMeter()\n",
    "    curr_iter = (epoch - 1) * len(train_loader)\n",
    "    for i, data in enumerate(train_loader):\n",
    "        images, labels = data\n",
    "        N = images.size(0)\n",
    "        # print('image shape:',images.size(0), 'label shape',labels.size(0))\n",
    "        images = Variable(images).to(device)\n",
    "        labels = Variable(labels).to(device)\n",
    "\n",
    "        optimizer.zero_grad()\n",
    "        outputs = model(images)\n",
    "\n",
    "        loss = criterion(outputs, labels)\n",
    "        loss.backward()\n",
    "        optimizer.step()\n",
    "        prediction = outputs.max(1, keepdim=True)[1]\n",
    "        train_acc.update(prediction.eq(labels.view_as(prediction)).sum().item()/N)\n",
    "        train_loss.update(loss.item())\n",
    "        curr_iter += 1\n",
    "        if (i + 1) % 100 == 0:\n",
    "            print('[epoch %d], [iter %d / %d], [train loss %.5f], [train acc %.5f]' % (\n",
    "                epoch, i + 1, len(train_loader), train_loss.avg, train_acc.avg))\n",
    "            total_loss_train.append(train_loss.avg)\n",
    "            total_acc_train.append(train_acc.avg)\n",
    "    return train_loss.avg, train_acc.avg"
   ]
  },
  {
   "cell_type": "code",
   "execution_count": 20,
   "id": "ce959ec7-a23b-45b4-90b0-82df81a4cca8",
   "metadata": {},
   "outputs": [],
   "source": [
    "def validate(val_loader, model, criterion, optimizer, epoch):\n",
    "    model.eval()\n",
    "    val_loss = AverageMeter()\n",
    "    val_acc = AverageMeter()\n",
    "    with torch.no_grad():\n",
    "        for i, data in enumerate(val_loader):\n",
    "            images, labels = data\n",
    "            N = images.size(0)\n",
    "            images = Variable(images).to(device)\n",
    "            labels = Variable(labels).to(device)\n",
    "\n",
    "            outputs = model(images)\n",
    "            prediction = outputs.max(1, keepdim=True)[1]\n",
    "\n",
    "            val_acc.update(prediction.eq(labels.view_as(prediction)).sum().item()/N)\n",
    "\n",
    "            val_loss.update(criterion(outputs, labels).item())\n",
    "\n",
    "    print('------------------------------------------------------------')\n",
    "    print('[epoch %d], [val loss %.5f], [val acc %.5f]' % (epoch, val_loss.avg, val_acc.avg))\n",
    "    print('------------------------------------------------------------')\n",
    "    return val_loss.avg, val_acc.avg"
   ]
  },
  {
   "cell_type": "code",
   "execution_count": 21,
   "id": "51149dd8-dc47-41d2-92a1-ee5c4603c862",
   "metadata": {},
   "outputs": [
    {
     "name": "stdout",
     "output_type": "stream",
     "text": [
      "[epoch 1], [iter 100 / 1124], [train loss 1.27488], [train acc 0.52875]\n",
      "[epoch 1], [iter 200 / 1124], [train loss 1.16909], [train acc 0.57625]\n",
      "[epoch 1], [iter 300 / 1124], [train loss 1.09023], [train acc 0.60198]\n",
      "[epoch 1], [iter 400 / 1124], [train loss 1.03542], [train acc 0.61695]\n",
      "[epoch 1], [iter 500 / 1124], [train loss 0.99334], [train acc 0.63306]\n",
      "[epoch 1], [iter 600 / 1124], [train loss 0.95579], [train acc 0.64651]\n",
      "[epoch 1], [iter 700 / 1124], [train loss 0.92163], [train acc 0.65759]\n",
      "[epoch 1], [iter 800 / 1124], [train loss 0.89477], [train acc 0.66699]\n",
      "[epoch 1], [iter 900 / 1124], [train loss 0.87250], [train acc 0.67556]\n",
      "[epoch 1], [iter 1000 / 1124], [train loss 0.85145], [train acc 0.68388]\n",
      "[epoch 1], [iter 1100 / 1124], [train loss 0.83052], [train acc 0.69085]\n",
      "------------------------------------------------------------\n",
      "[epoch 1], [val loss 0.48323], [val acc 0.82643]\n",
      "------------------------------------------------------------\n",
      "*****************************************************\n",
      "best record: [epoch 1], [val loss 0.48323], [val acc 0.82643]\n",
      "*****************************************************\n",
      "[epoch 2], [iter 100 / 1124], [train loss 0.60492], [train acc 0.76656]\n",
      "[epoch 2], [iter 200 / 1124], [train loss 0.58855], [train acc 0.77344]\n",
      "[epoch 2], [iter 300 / 1124], [train loss 0.59942], [train acc 0.77094]\n",
      "[epoch 2], [iter 400 / 1124], [train loss 0.59018], [train acc 0.77648]\n",
      "[epoch 2], [iter 500 / 1124], [train loss 0.58178], [train acc 0.77944]\n",
      "[epoch 2], [iter 600 / 1124], [train loss 0.58142], [train acc 0.78016]\n",
      "[epoch 2], [iter 700 / 1124], [train loss 0.57405], [train acc 0.78295]\n",
      "[epoch 2], [iter 800 / 1124], [train loss 0.56793], [train acc 0.78418]\n",
      "[epoch 2], [iter 900 / 1124], [train loss 0.56142], [train acc 0.78674]\n",
      "[epoch 2], [iter 1000 / 1124], [train loss 0.55389], [train acc 0.78922]\n",
      "[epoch 2], [iter 1100 / 1124], [train loss 0.55451], [train acc 0.78875]\n",
      "------------------------------------------------------------\n",
      "[epoch 2], [val loss 0.39547], [val acc 0.86048]\n",
      "------------------------------------------------------------\n",
      "*****************************************************\n",
      "best record: [epoch 2], [val loss 0.39547], [val acc 0.86048]\n",
      "*****************************************************\n",
      "[epoch 3], [iter 100 / 1124], [train loss 0.49865], [train acc 0.80406]\n",
      "[epoch 3], [iter 200 / 1124], [train loss 0.48139], [train acc 0.81516]\n",
      "[epoch 3], [iter 300 / 1124], [train loss 0.47423], [train acc 0.81969]\n",
      "[epoch 3], [iter 400 / 1124], [train loss 0.47310], [train acc 0.81992]\n",
      "[epoch 3], [iter 500 / 1124], [train loss 0.47110], [train acc 0.82037]\n",
      "[epoch 3], [iter 600 / 1124], [train loss 0.46863], [train acc 0.82099]\n",
      "[epoch 3], [iter 700 / 1124], [train loss 0.46898], [train acc 0.82129]\n",
      "[epoch 3], [iter 800 / 1124], [train loss 0.46861], [train acc 0.82117]\n",
      "[epoch 3], [iter 900 / 1124], [train loss 0.46349], [train acc 0.82344]\n",
      "[epoch 3], [iter 1000 / 1124], [train loss 0.45890], [train acc 0.82459]\n",
      "[epoch 3], [iter 1100 / 1124], [train loss 0.45567], [train acc 0.82611]\n",
      "------------------------------------------------------------\n",
      "[epoch 3], [val loss 0.43329], [val acc 0.82732]\n",
      "------------------------------------------------------------\n",
      "[epoch 4], [iter 100 / 1124], [train loss 0.39547], [train acc 0.85156]\n",
      "[epoch 4], [iter 200 / 1124], [train loss 0.39332], [train acc 0.85000]\n",
      "[epoch 4], [iter 300 / 1124], [train loss 0.39017], [train acc 0.85292]\n",
      "[epoch 4], [iter 400 / 1124], [train loss 0.39421], [train acc 0.85094]\n",
      "[epoch 4], [iter 500 / 1124], [train loss 0.39188], [train acc 0.85056]\n",
      "[epoch 4], [iter 600 / 1124], [train loss 0.39045], [train acc 0.85219]\n",
      "[epoch 4], [iter 700 / 1124], [train loss 0.38904], [train acc 0.85259]\n",
      "[epoch 4], [iter 800 / 1124], [train loss 0.38600], [train acc 0.85324]\n",
      "[epoch 4], [iter 900 / 1124], [train loss 0.38780], [train acc 0.85253]\n",
      "[epoch 4], [iter 1000 / 1124], [train loss 0.38683], [train acc 0.85362]\n",
      "[epoch 4], [iter 1100 / 1124], [train loss 0.38234], [train acc 0.85472]\n",
      "------------------------------------------------------------\n",
      "[epoch 4], [val loss 0.39701], [val acc 0.86762]\n",
      "------------------------------------------------------------\n",
      "*****************************************************\n",
      "best record: [epoch 4], [val loss 0.39701], [val acc 0.86762]\n",
      "*****************************************************\n",
      "[epoch 5], [iter 100 / 1124], [train loss 0.33277], [train acc 0.87187]\n",
      "[epoch 5], [iter 200 / 1124], [train loss 0.34001], [train acc 0.87187]\n",
      "[epoch 5], [iter 300 / 1124], [train loss 0.33462], [train acc 0.87208]\n",
      "[epoch 5], [iter 400 / 1124], [train loss 0.32963], [train acc 0.87336]\n",
      "[epoch 5], [iter 500 / 1124], [train loss 0.33238], [train acc 0.87250]\n",
      "[epoch 5], [iter 600 / 1124], [train loss 0.33768], [train acc 0.87000]\n",
      "[epoch 5], [iter 700 / 1124], [train loss 0.34374], [train acc 0.86737]\n",
      "[epoch 5], [iter 800 / 1124], [train loss 0.33730], [train acc 0.87039]\n",
      "[epoch 5], [iter 900 / 1124], [train loss 0.33474], [train acc 0.87146]\n",
      "[epoch 5], [iter 1000 / 1124], [train loss 0.33517], [train acc 0.87109]\n",
      "[epoch 5], [iter 1100 / 1124], [train loss 0.33094], [train acc 0.87278]\n",
      "------------------------------------------------------------\n",
      "[epoch 5], [val loss 0.37384], [val acc 0.86393]\n",
      "------------------------------------------------------------\n",
      "[epoch 6], [iter 100 / 1124], [train loss 0.30173], [train acc 0.88219]\n",
      "[epoch 6], [iter 200 / 1124], [train loss 0.30395], [train acc 0.88266]\n",
      "[epoch 6], [iter 300 / 1124], [train loss 0.29777], [train acc 0.88385]\n",
      "[epoch 6], [iter 400 / 1124], [train loss 0.29648], [train acc 0.88516]\n",
      "[epoch 6], [iter 500 / 1124], [train loss 0.29418], [train acc 0.88713]\n",
      "[epoch 6], [iter 600 / 1124], [train loss 0.29366], [train acc 0.88807]\n",
      "[epoch 6], [iter 700 / 1124], [train loss 0.29524], [train acc 0.88804]\n",
      "[epoch 6], [iter 800 / 1124], [train loss 0.29768], [train acc 0.88754]\n",
      "[epoch 6], [iter 900 / 1124], [train loss 0.29325], [train acc 0.88969]\n",
      "[epoch 6], [iter 1000 / 1124], [train loss 0.29000], [train acc 0.89066]\n",
      "[epoch 6], [iter 1100 / 1124], [train loss 0.28614], [train acc 0.89196]\n",
      "------------------------------------------------------------\n",
      "[epoch 6], [val loss 0.41320], [val acc 0.87208]\n",
      "------------------------------------------------------------\n",
      "*****************************************************\n",
      "best record: [epoch 6], [val loss 0.41320], [val acc 0.87208]\n",
      "*****************************************************\n",
      "[epoch 7], [iter 100 / 1124], [train loss 0.23682], [train acc 0.91469]\n",
      "[epoch 7], [iter 200 / 1124], [train loss 0.24177], [train acc 0.91219]\n",
      "[epoch 7], [iter 300 / 1124], [train loss 0.24514], [train acc 0.91083]\n",
      "[epoch 7], [iter 400 / 1124], [train loss 0.24924], [train acc 0.90648]\n",
      "[epoch 7], [iter 500 / 1124], [train loss 0.24603], [train acc 0.90763]\n",
      "[epoch 7], [iter 600 / 1124], [train loss 0.24700], [train acc 0.90667]\n",
      "[epoch 7], [iter 700 / 1124], [train loss 0.25580], [train acc 0.90335]\n",
      "[epoch 7], [iter 800 / 1124], [train loss 0.25844], [train acc 0.90262]\n",
      "[epoch 7], [iter 900 / 1124], [train loss 0.25878], [train acc 0.90243]\n",
      "[epoch 7], [iter 1000 / 1124], [train loss 0.25434], [train acc 0.90428]\n",
      "[epoch 7], [iter 1100 / 1124], [train loss 0.25687], [train acc 0.90290]\n",
      "------------------------------------------------------------\n",
      "[epoch 7], [val loss 0.36166], [val acc 0.87476]\n",
      "------------------------------------------------------------\n",
      "*****************************************************\n",
      "best record: [epoch 7], [val loss 0.36166], [val acc 0.87476]\n",
      "*****************************************************\n",
      "[epoch 8], [iter 100 / 1124], [train loss 0.23754], [train acc 0.90875]\n",
      "[epoch 8], [iter 200 / 1124], [train loss 0.22406], [train acc 0.91609]\n",
      "[epoch 8], [iter 300 / 1124], [train loss 0.22045], [train acc 0.91625]\n",
      "[epoch 8], [iter 400 / 1124], [train loss 0.21847], [train acc 0.91609]\n",
      "[epoch 8], [iter 500 / 1124], [train loss 0.21451], [train acc 0.91650]\n",
      "[epoch 8], [iter 600 / 1124], [train loss 0.21272], [train acc 0.91812]\n",
      "[epoch 8], [iter 700 / 1124], [train loss 0.21505], [train acc 0.91777]\n",
      "[epoch 8], [iter 800 / 1124], [train loss 0.21463], [train acc 0.91789]\n",
      "[epoch 8], [iter 900 / 1124], [train loss 0.21662], [train acc 0.91705]\n",
      "[epoch 8], [iter 1000 / 1124], [train loss 0.21609], [train acc 0.91759]\n",
      "[epoch 8], [iter 1100 / 1124], [train loss 0.21933], [train acc 0.91707]\n",
      "------------------------------------------------------------\n",
      "[epoch 8], [val loss 0.35833], [val acc 0.88637]\n",
      "------------------------------------------------------------\n",
      "*****************************************************\n",
      "best record: [epoch 8], [val loss 0.35833], [val acc 0.88637]\n",
      "*****************************************************\n",
      "[epoch 9], [iter 100 / 1124], [train loss 0.19889], [train acc 0.92531]\n",
      "[epoch 9], [iter 200 / 1124], [train loss 0.19832], [train acc 0.92516]\n",
      "[epoch 9], [iter 300 / 1124], [train loss 0.18963], [train acc 0.92823]\n",
      "[epoch 9], [iter 400 / 1124], [train loss 0.19018], [train acc 0.92883]\n",
      "[epoch 9], [iter 500 / 1124], [train loss 0.19857], [train acc 0.92419]\n",
      "[epoch 9], [iter 600 / 1124], [train loss 0.19733], [train acc 0.92396]\n",
      "[epoch 9], [iter 700 / 1124], [train loss 0.20106], [train acc 0.92241]\n",
      "[epoch 9], [iter 800 / 1124], [train loss 0.20002], [train acc 0.92258]\n",
      "[epoch 9], [iter 900 / 1124], [train loss 0.19956], [train acc 0.92319]\n",
      "[epoch 9], [iter 1000 / 1124], [train loss 0.20303], [train acc 0.92188]\n",
      "[epoch 9], [iter 1100 / 1124], [train loss 0.20269], [train acc 0.92179]\n",
      "------------------------------------------------------------\n",
      "[epoch 9], [val loss 0.32211], [val acc 0.89185]\n",
      "------------------------------------------------------------\n",
      "*****************************************************\n",
      "best record: [epoch 9], [val loss 0.32211], [val acc 0.89185]\n",
      "*****************************************************\n",
      "[epoch 10], [iter 100 / 1124], [train loss 0.19144], [train acc 0.93125]\n",
      "[epoch 10], [iter 200 / 1124], [train loss 0.19488], [train acc 0.92937]\n",
      "[epoch 10], [iter 300 / 1124], [train loss 0.18892], [train acc 0.92948]\n",
      "[epoch 10], [iter 400 / 1124], [train loss 0.18544], [train acc 0.93000]\n",
      "[epoch 10], [iter 500 / 1124], [train loss 0.18519], [train acc 0.93037]\n",
      "[epoch 10], [iter 600 / 1124], [train loss 0.18457], [train acc 0.93078]\n",
      "[epoch 10], [iter 700 / 1124], [train loss 0.18735], [train acc 0.92978]\n",
      "[epoch 10], [iter 800 / 1124], [train loss 0.18791], [train acc 0.92953]\n",
      "[epoch 10], [iter 900 / 1124], [train loss 0.18708], [train acc 0.92997]\n",
      "[epoch 10], [iter 1000 / 1124], [train loss 0.18587], [train acc 0.93022]\n",
      "[epoch 10], [iter 1100 / 1124], [train loss 0.18392], [train acc 0.93088]\n",
      "------------------------------------------------------------\n",
      "[epoch 10], [val loss 0.37412], [val acc 0.88560]\n",
      "------------------------------------------------------------\n"
     ]
    }
   ],
   "source": [
    "epoch_num = 10\n",
    "best_val_acc = 0\n",
    "total_loss_val, total_acc_val = [],[]\n",
    "for epoch in range(1, epoch_num+1):\n",
    "    loss_train, acc_train = train(train_loader, model, criterion, optimizer, epoch)\n",
    "    loss_val, acc_val = validate(val_loader, model, criterion, optimizer, epoch)\n",
    "    total_loss_val.append(loss_val)\n",
    "    total_acc_val.append(acc_val)\n",
    "    if acc_val > best_val_acc:\n",
    "        best_val_acc = acc_val\n",
    "        print('*****************************************************')\n",
    "        print('best record: [epoch %d], [val loss %.5f], [val acc %.5f]' % (epoch, loss_val, acc_val))\n",
    "        print('*****************************************************')"
   ]
  },
  {
   "cell_type": "markdown",
   "id": "0b6d9d6a-a3e8-46a7-ba8d-6d12f70002e8",
   "metadata": {},
   "source": [
    "## Attacks"
   ]
  },
  {
   "cell_type": "code",
   "execution_count": 22,
   "id": "8aa393ee-44e1-4a48-8591-a525edd8a324",
   "metadata": {
    "tags": []
   },
   "outputs": [],
   "source": [
    "!pip install captum\n",
    "!pip install cleverhans\n",
    "from captum.attr import IntegratedGradients\n",
    "from captum.attr import Saliency\n",
    "from captum.attr import DeepLift\n",
    "from captum.attr import NoiseTunnel\n",
    "from captum.attr import GradientShap\n",
    "from captum.attr import GuidedGradCam\n",
    "from captum.attr import LimeBase\n",
    "from captum.attr import KernelShap\n",
    "from captum.attr import Occlusion\n",
    "from captum.attr import visualization as viz\n",
    "from cleverhans.torch.attacks.fast_gradient_method import fast_gradient_method\n",
    "from cleverhans.torch.attacks.carlini_wagner_l2 import carlini_wagner_l2\n",
    "from cleverhans.torch.attacks.projected_gradient_descent import (\n",
    "    projected_gradient_descent\n",
    ")\n",
    "clear_output()"
   ]
  },
  {
   "cell_type": "markdown",
   "id": "ad168e5f-454b-458f-a002-be41af6527a4",
   "metadata": {},
   "source": [
    "## Statisical Methods"
   ]
  },
  {
   "cell_type": "code",
   "execution_count": 26,
   "id": "31a6d0e7-329e-4500-9237-a4d3b4d5d996",
   "metadata": {
    "tags": []
   },
   "outputs": [],
   "source": [
    "def compute_mean_abs_dev(attr): \n",
    "    scores = []\n",
    "    for i in range(len(attr)):\n",
    "        a = attr[i].flatten()\n",
    "        avg = np.mean(a)\n",
    "        deviation = a - avg \n",
    "        absolute_deviation = np.abs(deviation)\n",
    "        result = np.mean(absolute_deviation)\n",
    "        scores.append(result)\n",
    "    return scores    \n",
    "def compute_median_abs_dev(attr): \n",
    "    scores = []\n",
    "    for i in range(len(attr)):\n",
    "        a = attr[i].flatten()\n",
    "        med = np.median(a)\n",
    "        deviation = a - med \n",
    "        abs_deviation = np.abs(deviation)\n",
    "        result = np.median(abs_deviation)\n",
    "        scores.append(result)\n",
    "    return scores \n",
    "def compute_iqr(attr):\n",
    "    #inter-quartile range\n",
    "    scores = []\n",
    "    for i in range(len(attr)):\n",
    "        a = attr[i].flatten()\n",
    "        score_75 = np.percentile(a, 75)\n",
    "        score_25 = np.percentile(a, 25)\n",
    "        score_qt = score_75 - score_25\n",
    "        scores.append(score_qt)\n",
    "    return scores\n",
    "    \n",
    "def compute_coef_var(attr):\n",
    "    scores = []\n",
    "    for i in range(len(attr)):\n",
    "        a = attr[i].flatten()\n",
    "        m = np.mean(a)\n",
    "        st = np.std(attr[i])\n",
    "        sc = m/st\n",
    "        scores.append(sc)\n",
    "    return scores\n",
    "\n",
    "def compute_coef_iqr(attr):\n",
    "    scores = []\n",
    "    for i in range(len(attr)):\n",
    "        a = attr[i].flatten()\n",
    "        score_75 = np.percentile(a, 75)\n",
    "        score_25 = np.percentile(a, 25)\n",
    "        score_qt = (score_75 - score_25)/(score_75 + score_25)\n",
    "        scores.append(score_qt)\n",
    "    return scores\n",
    "    "
   ]
  },
  {
   "cell_type": "markdown",
   "id": "8b6f1292-2e51-41b3-a8ef-ed814a88f73d",
   "metadata": {},
   "source": [
    "## FGSM & Integrated Gradient"
   ]
  },
  {
   "cell_type": "code",
   "execution_count": 39,
   "id": "2329fafc-fa70-4ef4-9cdd-fb0c7e6a788a",
   "metadata": {
    "tags": []
   },
   "outputs": [
    {
     "ename": "AssertionError",
     "evalue": "`inputs` must be a torch.Tensor or a tuple[torch.Tensor] but found: <class 'numpy.ndarray'>",
     "output_type": "error",
     "traceback": [
      "\u001b[0;31m---------------------------------------------------------------------------\u001b[0m",
      "\u001b[0;31mAssertionError\u001b[0m                            Traceback (most recent call last)",
      "Cell \u001b[0;32mIn[39], line 47\u001b[0m\n\u001b[1;32m     45\u001b[0m igcoef_iqr_bena \u001b[38;5;241m+\u001b[39m\u001b[38;5;241m=\u001b[39m compute_coef_iqr(a_batch_attack)\n\u001b[1;32m     46\u001b[0m images_pgd \u001b[38;5;241m=\u001b[39m np\u001b[38;5;241m.\u001b[39mtranspose((images[ind]\u001b[38;5;241m.\u001b[39mcpu()\u001b[38;5;241m.\u001b[39mdetach()\u001b[38;5;241m.\u001b[39mnumpy() \u001b[38;5;241m/\u001b[39m \u001b[38;5;241m2\u001b[39m) \u001b[38;5;241m+\u001b[39m \u001b[38;5;241m0.5\u001b[39m, (\u001b[38;5;241m1\u001b[39m, \u001b[38;5;241m2\u001b[39m, \u001b[38;5;241m0\u001b[39m))\n\u001b[0;32m---> 47\u001b[0m attr_ig \u001b[38;5;241m=\u001b[39m \u001b[43mig\u001b[49m\u001b[38;5;241;43m.\u001b[39;49m\u001b[43mattribute\u001b[49m\u001b[43m(\u001b[49m\u001b[43minputs\u001b[49m\u001b[38;5;241;43m=\u001b[39;49m\u001b[43mimages_pgd\u001b[49m\u001b[43m,\u001b[49m\u001b[43m \u001b[49m\u001b[43mtarget\u001b[49m\u001b[38;5;241;43m=\u001b[39;49m\u001b[43my_pred_pgd\u001b[49m\u001b[43m)\u001b[49m\n\u001b[1;32m     48\u001b[0m attr_ig \u001b[38;5;241m=\u001b[39m np\u001b[38;5;241m.\u001b[39mtranspose(attr_ig\u001b[38;5;241m.\u001b[39msqueeze()\u001b[38;5;241m.\u001b[39mcpu()\u001b[38;5;241m.\u001b[39mdetach()\u001b[38;5;241m.\u001b[39mnumpy(), (\u001b[38;5;241m1\u001b[39m, \u001b[38;5;241m2\u001b[39m, \u001b[38;5;241m0\u001b[39m))\n\u001b[1;32m     49\u001b[0m _ \u001b[38;5;241m=\u001b[39m viz\u001b[38;5;241m.\u001b[39mvisualize_image_attr(attr_ig, original_image, method\u001b[38;5;241m=\u001b[39m\u001b[38;5;124m\"\u001b[39m\u001b[38;5;124mblended_heat_map\u001b[39m\u001b[38;5;124m\"\u001b[39m,sign\u001b[38;5;241m=\u001b[39m\u001b[38;5;124m\"\u001b[39m\u001b[38;5;124mall\u001b[39m\u001b[38;5;124m\"\u001b[39m,\n\u001b[1;32m     50\u001b[0m                   show_colorbar\u001b[38;5;241m=\u001b[39m\u001b[38;5;28;01mTrue\u001b[39;00m, title\u001b[38;5;241m=\u001b[39m\u001b[38;5;124m\"\u001b[39m\u001b[38;5;124mOverlayed Integrated Gradients\u001b[39m\u001b[38;5;124m\"\u001b[39m)\n",
      "File \u001b[0;32m/opt/conda/lib/python3.10/site-packages/captum/log/__init__.py:42\u001b[0m, in \u001b[0;36mlog_usage.<locals>._log_usage.<locals>.wrapper\u001b[0;34m(*args, **kwargs)\u001b[0m\n\u001b[1;32m     40\u001b[0m \u001b[38;5;129m@wraps\u001b[39m(func)\n\u001b[1;32m     41\u001b[0m \u001b[38;5;28;01mdef\u001b[39;00m \u001b[38;5;21mwrapper\u001b[39m(\u001b[38;5;241m*\u001b[39margs, \u001b[38;5;241m*\u001b[39m\u001b[38;5;241m*\u001b[39mkwargs):\n\u001b[0;32m---> 42\u001b[0m     \u001b[38;5;28;01mreturn\u001b[39;00m \u001b[43mfunc\u001b[49m\u001b[43m(\u001b[49m\u001b[38;5;241;43m*\u001b[39;49m\u001b[43margs\u001b[49m\u001b[43m,\u001b[49m\u001b[43m \u001b[49m\u001b[38;5;241;43m*\u001b[39;49m\u001b[38;5;241;43m*\u001b[39;49m\u001b[43mkwargs\u001b[49m\u001b[43m)\u001b[49m\n",
      "File \u001b[0;32m/opt/conda/lib/python3.10/site-packages/captum/attr/_core/integrated_gradients.py:268\u001b[0m, in \u001b[0;36mIntegratedGradients.attribute\u001b[0;34m(self, inputs, baselines, target, additional_forward_args, n_steps, method, internal_batch_size, return_convergence_delta)\u001b[0m\n\u001b[1;32m    264\u001b[0m \u001b[38;5;66;03m# Keeps track whether original input is a tuple or not before\u001b[39;00m\n\u001b[1;32m    265\u001b[0m \u001b[38;5;66;03m# converting it into a tuple.\u001b[39;00m\n\u001b[1;32m    266\u001b[0m is_inputs_tuple \u001b[38;5;241m=\u001b[39m _is_tuple(inputs)\n\u001b[0;32m--> 268\u001b[0m inputs, baselines \u001b[38;5;241m=\u001b[39m \u001b[43m_format_input_baseline\u001b[49m\u001b[43m(\u001b[49m\u001b[43minputs\u001b[49m\u001b[43m,\u001b[49m\u001b[43m \u001b[49m\u001b[43mbaselines\u001b[49m\u001b[43m)\u001b[49m\n\u001b[1;32m    270\u001b[0m _validate_input(inputs, baselines, n_steps, method)\n\u001b[1;32m    272\u001b[0m \u001b[38;5;28;01mif\u001b[39;00m internal_batch_size \u001b[38;5;129;01mis\u001b[39;00m \u001b[38;5;129;01mnot\u001b[39;00m \u001b[38;5;28;01mNone\u001b[39;00m:\n",
      "File \u001b[0;32m/opt/conda/lib/python3.10/site-packages/captum/attr/_utils/common.py:88\u001b[0m, in \u001b[0;36m_format_input_baseline\u001b[0;34m(inputs, baselines)\u001b[0m\n\u001b[1;32m     85\u001b[0m \u001b[38;5;28;01mdef\u001b[39;00m \u001b[38;5;21m_format_input_baseline\u001b[39m(\n\u001b[1;32m     86\u001b[0m     inputs: Union[Tensor, Tuple[Tensor, \u001b[38;5;241m.\u001b[39m\u001b[38;5;241m.\u001b[39m\u001b[38;5;241m.\u001b[39m]], baselines: BaselineType\n\u001b[1;32m     87\u001b[0m ) \u001b[38;5;241m-\u001b[39m\u001b[38;5;241m>\u001b[39m Tuple[Tuple[Tensor, \u001b[38;5;241m.\u001b[39m\u001b[38;5;241m.\u001b[39m\u001b[38;5;241m.\u001b[39m], Tuple[Union[Tensor, \u001b[38;5;28mint\u001b[39m, \u001b[38;5;28mfloat\u001b[39m], \u001b[38;5;241m.\u001b[39m\u001b[38;5;241m.\u001b[39m\u001b[38;5;241m.\u001b[39m]]:\n\u001b[0;32m---> 88\u001b[0m     inputs \u001b[38;5;241m=\u001b[39m \u001b[43m_format_tensor_into_tuples\u001b[49m\u001b[43m(\u001b[49m\u001b[43minputs\u001b[49m\u001b[43m)\u001b[49m\n\u001b[1;32m     89\u001b[0m     baselines \u001b[38;5;241m=\u001b[39m _format_baseline(baselines, inputs)\n\u001b[1;32m     90\u001b[0m     \u001b[38;5;28;01mreturn\u001b[39;00m inputs, baselines\n",
      "File \u001b[0;32m/opt/conda/lib/python3.10/site-packages/captum/_utils/common.py:178\u001b[0m, in \u001b[0;36m_format_tensor_into_tuples\u001b[0;34m(inputs)\u001b[0m\n\u001b[1;32m    176\u001b[0m     \u001b[38;5;28;01mreturn\u001b[39;00m \u001b[38;5;28;01mNone\u001b[39;00m\n\u001b[1;32m    177\u001b[0m \u001b[38;5;28;01mif\u001b[39;00m \u001b[38;5;129;01mnot\u001b[39;00m \u001b[38;5;28misinstance\u001b[39m(inputs, \u001b[38;5;28mtuple\u001b[39m):\n\u001b[0;32m--> 178\u001b[0m     \u001b[38;5;28;01massert\u001b[39;00m \u001b[38;5;28misinstance\u001b[39m(inputs, torch\u001b[38;5;241m.\u001b[39mTensor), (\n\u001b[1;32m    179\u001b[0m         \u001b[38;5;124m\"\u001b[39m\u001b[38;5;124m`inputs` must be a torch.Tensor or a tuple[torch.Tensor] \u001b[39m\u001b[38;5;124m\"\u001b[39m\n\u001b[1;32m    180\u001b[0m         \u001b[38;5;124mf\u001b[39m\u001b[38;5;124m\"\u001b[39m\u001b[38;5;124mbut found: \u001b[39m\u001b[38;5;132;01m{\u001b[39;00m\u001b[38;5;28mtype\u001b[39m(inputs)\u001b[38;5;132;01m}\u001b[39;00m\u001b[38;5;124m\"\u001b[39m\n\u001b[1;32m    181\u001b[0m     )\n\u001b[1;32m    182\u001b[0m     inputs \u001b[38;5;241m=\u001b[39m (inputs,)\n\u001b[1;32m    183\u001b[0m \u001b[38;5;28;01mreturn\u001b[39;00m inputs\n",
      "\u001b[0;31mAssertionError\u001b[0m: `inputs` must be a torch.Tensor or a tuple[torch.Tensor] but found: <class 'numpy.ndarray'>"
     ]
    }
   ],
   "source": [
    "gc.collect()\n",
    "torch.cuda.empty_cache()\n",
    "\n",
    "dataiter = iter(val_loader)\n",
    "\n",
    "igmedianAbs_ben = []\n",
    "igmeanAbs_ben = []\n",
    "igiqr_ben = []\n",
    "igcoef_var_ben=[]\n",
    "igcoef_iqr_ben = []\n",
    "\n",
    "igmedianAbs_bena = []\n",
    "igmeanAbs_bena = []\n",
    "igiqr_bena = []\n",
    "igcoef_var_bena=[]\n",
    "igcoef_iqr_bena = []\n",
    "\n",
    "for i in range(1):\n",
    "    images, labels = next(dataiter)\n",
    "    images = images.to(device)\n",
    "    labels = labels.to(device)\n",
    "    for ind in range(1):\n",
    "        input1 = images[ind].unsqueeze(0)\n",
    "        x_logits = model(images)\n",
    "        ig = IntegratedGradients(model)\n",
    "        a_batch_benign = ig.attribute(input1, target=labels[ind]).sum(axis=1).cpu().detach().numpy()\n",
    "        attr_ig = ig.attribute(input1, target=labels[ind])\n",
    "        attr_ig = np.transpose(attr_ig.squeeze().cpu().detach().numpy(), (1, 2, 0))\n",
    "        igmeanAbs_ben += compute_mean_abs_dev(a_batch_benign)\n",
    "        igmedianAbs_ben += compute_median_abs_dev(a_batch_benign)\n",
    "        igiqr_ben += compute_iqr(a_batch_benign)\n",
    "        igcoef_var_ben += compute_coef_var(a_batch_benign)\n",
    "        igcoef_iqr_ben += compute_coef_iqr(a_batch_benign)\n",
    "        # torch.cuda.empty_cache()\n",
    "        images_pgd = fast_gradient_method(model, input1, 0.1, np.inf)\n",
    "        _, y_pred_pgd = model(input1).max(1)\n",
    "        # index = (y_pred_pgd != labels)\n",
    "        # pgd_images = images_pgd[index]\n",
    "        # y_pred_pgd = y_pred_pgd[index]\n",
    "        a_batch_attack = ig.attribute(inputs=images_pgd, target=y_pred_pgd).sum(axis=1).cpu().detach().numpy()\n",
    "        igmeanAbs_bena += compute_mean_abs_dev(a_batch_attack)\n",
    "        igmedianAbs_bena += compute_median_abs_dev(a_batch_attack)\n",
    "        igiqr_bena += compute_iqr(a_batch_attack)\n",
    "        igcoef_var_bena += compute_coef_var(a_batch_attack)\n",
    "        igcoef_iqr_bena += compute_coef_iqr(a_batch_attack)\n",
    "        images_pgd = np.transpose((images[ind].cpu().detach().numpy() / 2) + 0.5, (1, 2, 0))\n",
    "        attr_ig = ig.attribute(inputs=images_pgd, target=y_pred_pgd)\n",
    "        attr_ig = np.transpose(attr_ig.squeeze().cpu().detach().numpy(), (1, 2, 0))\n",
    "        _ = viz.visualize_image_attr(attr_ig, original_image, method=\"blended_heat_map\",sign=\"all\",\n",
    "                          show_colorbar=True, title=\"Overlayed Integrated Gradients\")\n",
    "    gc.collect()\n",
    "    torch.cuda.empty_cache()\n"
   ]
  },
  {
   "cell_type": "code",
   "execution_count": 34,
   "id": "c284ced4-f3ef-472d-9090-23b24f2bf234",
   "metadata": {
    "tags": []
   },
   "outputs": [
    {
     "data": {
      "image/png": "[encoded data removed]",
      "text/plain": [
       "<Figure size 640x480 with 1 Axes>"
      ]
     },
     "metadata": {},
     "output_type": "display_data"
    }
   ],
   "source": [
    "plt.hist(igiqr_ben, label='clean', color='blue')\n",
    "plt.hist(igiqr_bena, label='adv', alpha=0.7, color='red')\n",
    "plt.legend()\n",
    "plt.show()"
   ]
  },
  {
   "cell_type": "markdown",
   "id": "cf971e52-d104-4688-8603-4d2d7566cdc0",
   "metadata": {
    "tags": []
   },
   "source": [
    "## FGSM & Saliency"
   ]
  },
  {
   "cell_type": "code",
   "execution_count": 31,
   "id": "cd1813d0-3a42-4f22-a736-f06dd122783c",
   "metadata": {
    "tags": []
   },
   "outputs": [],
   "source": [
    "gc.collect()\n",
    "torch.cuda.empty_cache()\n",
    "\n",
    "ind = 2\n",
    "dataiter = iter(val_loader)\n",
    "images, labels = next(dataiter)\n",
    "images = images.to(device)\n",
    "labels = labels.to(device)\n",
    "\n",
    "\n",
    "salmedianAbs_ben = []\n",
    "salmeanAbs_ben = []\n",
    "saliqr_ben = []\n",
    "salcoef_var_ben=[]\n",
    "salcoef_iqr_ben = []\n",
    "\n",
    "salmedianAbs_bena = []\n",
    "salmeanAbs_bena = []\n",
    "saliqr_bena = []\n",
    "salcoef_var_bena=[]\n",
    "salcoef_iqr_bena = []\n",
    "\n",
    "for i in range(3):\n",
    "    dataiter = iter(val_loader)\n",
    "    images, labels = next(dataiter)\n",
    "    images = images.to(device)\n",
    "    labels = labels.to(device)\n",
    "    for ind in range(32):\n",
    "        gc.collect()\n",
    "        torch.cuda.empty_cache()\n",
    "        input1 = images[ind].unsqueeze(0)\n",
    "        x_logits = model(images)\n",
    "        ig = Saliency(model)\n",
    "        a_batch_benign = ig.attribute(input1, target=labels[ind]).sum(axis=1).cpu().detach().numpy()\n",
    "        salmeanAbs_ben += compute_mean_abs_dev(a_batch_benign)\n",
    "        salmedianAbs_ben += compute_median_abs_dev(a_batch_benign)\n",
    "        saliqr_ben += compute_iqr(a_batch_benign)\n",
    "        salcoef_var_ben += compute_coef_var(a_batch_benign)\n",
    "        salcoef_iqr_ben += compute_coef_iqr(a_batch_benign)\n",
    "        # torch.cuda.empty_cache()\n",
    "        images_pgd = fast_gradient_method(model, input1, 0.1, np.inf)\n",
    "        _, y_pred_pgd = model(input1).max(1)\n",
    "        # index = (y_pred_pgd != labels)\n",
    "        # pgd_images = images_pgd[index]\n",
    "        # y_pred_pgd = y_pred_pgd[index]\n",
    "        a_batch_attack = ig.attribute(inputs=images_pgd, target=y_pred_pgd).sum(axis=1).cpu().detach().numpy()\n",
    "        salmeanAbs_bena += compute_mean_abs_dev(a_batch_attack)\n",
    "        salmedianAbs_bena += compute_median_abs_dev(a_batch_attack)\n",
    "        saliqr_bena += compute_iqr(a_batch_attack)\n",
    "        salcoef_var_bena += compute_coef_var(a_batch_attack)\n",
    "        salcoef_iqr_bena += compute_coef_iqr(a_batch_attack)\n",
    "        gc.collect()\n",
    "        torch.cuda.empty_cache()\n"
   ]
  },
  {
   "cell_type": "code",
   "execution_count": 32,
   "id": "05b8c0ba-5451-40ad-b767-d19f1d5b5d1b",
   "metadata": {
    "tags": []
   },
   "outputs": [
    {
     "data": {
      "image/png": "[encoded data removed]",
      "text/plain": [
       "<Figure size 640x480 with 1 Axes>"
      ]
     },
     "metadata": {},
     "output_type": "display_data"
    }
   ],
   "source": [
    "plt.hist(saliqr_ben, label='clean', color='blue')\n",
    "plt.hist(saliqr_bena, label='adv', alpha=0.7, color='red')\n",
    "plt.legend()\n",
    "plt.show()"
   ]
  },
  {
   "cell_type": "markdown",
   "id": "dcc7f5aa-881a-4815-a199-1d8a8f22178a",
   "metadata": {
    "tags": []
   },
   "source": [
    "## FGSM & GraidentSHAP"
   ]
  },
  {
   "cell_type": "code",
   "execution_count": 37,
   "id": "37d4d4d9-c3c0-4a54-bffe-0bb73707d35a",
   "metadata": {
    "tags": []
   },
   "outputs": [
    {
     "name": "stderr",
     "output_type": "stream",
     "text": [
      "/tmp/ipykernel_3093/890496051.py:38: RuntimeWarning: invalid value encountered in scalar divide\n",
      "  sc = m/st\n",
      "/tmp/ipykernel_3093/890496051.py:48: RuntimeWarning: invalid value encountered in scalar divide\n",
      "  score_qt = (score_75 - score_25)/(score_75 + score_25)\n"
     ]
    }
   ],
   "source": [
    "gc.collect()\n",
    "torch.cuda.empty_cache()\n",
    "\n",
    "ind = 2\n",
    "dataiter = iter(val_loader)\n",
    "images, labels = next(dataiter)\n",
    "images = images.to(device)\n",
    "labels = labels.to(device)\n",
    "\n",
    "\n",
    "gradmedianAbs_ben = []\n",
    "gradmeanAbs_ben = []\n",
    "gradiqr_ben = []\n",
    "gradcoef_var_ben=[]\n",
    "gradcoef_iqr_ben = []\n",
    "\n",
    "gradmedianAbs_bena = []\n",
    "gradmeanAbs_bena = []\n",
    "gradiqr_bena = []\n",
    "gradcoef_var_bena=[]\n",
    "gradcoef_iqr_bena = []\n",
    "\n",
    "for i in range(3):\n",
    "    dataiter = iter(val_loader)\n",
    "    images, labels = next(dataiter)\n",
    "    images = images.to(device)\n",
    "    labels = labels.to(device)\n",
    "    for ind in range(32):\n",
    "        gc.collect()\n",
    "        torch.cuda.empty_cache()\n",
    "        input1 = images[ind].unsqueeze(0)\n",
    "        x_logits = model(images)\n",
    "        ig = GradientShap(model)\n",
    "        rand_img_dist = torch.cat([input1 * 0, input1 * 1])\n",
    "        a_batch_benign = ig.attribute(input1, target=labels[ind],baselines=rand_img_dist).sum(axis=1).cpu().detach().numpy()\n",
    "        gradmeanAbs_ben += compute_mean_abs_dev(a_batch_benign)\n",
    "        gradmedianAbs_ben += compute_median_abs_dev(a_batch_benign)\n",
    "        gradiqr_ben += compute_iqr(a_batch_benign)\n",
    "        gradcoef_var_ben += compute_coef_var(a_batch_benign)\n",
    "        gradcoef_iqr_ben += compute_coef_iqr(a_batch_benign)\n",
    "        # torch.cuda.empty_cache()\n",
    "        images_pgd = fast_gradient_method(model, input1, 0.05, np.inf)\n",
    "        _, y_pred_pgd = model(input1).max(1)\n",
    "        # index = (y_pred_pgd != labels)\n",
    "        # pgd_images = images_pgd[index]\n",
    "        # y_pred_pgd = y_pred_pgd[index]\n",
    "        a_batch_attack = ig.attribute(inputs=images_pgd, target=y_pred_pgd,baselines=rand_img_dist).sum(axis=1).cpu().detach().numpy()\n",
    "        gradmeanAbs_bena += compute_mean_abs_dev(a_batch_attack)\n",
    "        gradmedianAbs_bena += compute_median_abs_dev(a_batch_attack)\n",
    "        gradiqr_bena += compute_iqr(a_batch_attack)\n",
    "        gradcoef_var_bena += compute_coef_var(a_batch_attack)\n",
    "        gradcoef_iqr_bena += compute_coef_iqr(a_batch_attack)\n",
    "        gc.collect()\n",
    "        torch.cuda.empty_cache()\n"
   ]
  },
  {
   "cell_type": "code",
   "execution_count": 38,
   "id": "f9aa839b-c9b1-4e19-84b6-285269b50ae0",
   "metadata": {
    "tags": []
   },
   "outputs": [
    {
     "data": {
      "image/png": "[encoded data removed]",
      "text/plain": [
       "<Figure size 640x480 with 1 Axes>"
      ]
     },
     "metadata": {},
     "output_type": "display_data"
    }
   ],
   "source": [
    "plt.hist(gradmedianAbs_ben, label='clean', color='blue')\n",
    "plt.hist(gradmedianAbs_bena, label='adv', alpha=0.7, color='red')\n",
    "plt.legend()\n",
    "plt.show()"
   ]
  }
 ],
 "metadata": {
  "availableInstances": [
   {
    "_defaultOrder": 0,
    "_isFastLaunch": true,
    "category": "General purpose",
    "gpuNum": 0,
    "hideHardwareSpecs": false,
    "memoryGiB": 4,
    "name": "ml.t3.medium",
    "vcpuNum": 2
   },
   {
    "_defaultOrder": 1,
    "_isFastLaunch": false,
    "category": "General purpose",
    "gpuNum": 0,
    "hideHardwareSpecs": false,
    "memoryGiB": 8,
    "name": "ml.t3.large",
    "vcpuNum": 2
   },
   {
    "_defaultOrder": 2,
    "_isFastLaunch": false,
    "category": "General purpose",
    "gpuNum": 0,
    "hideHardwareSpecs": false,
    "memoryGiB": 16,
    "name": "ml.t3.xlarge",
    "vcpuNum": 4
   },
   {
    "_defaultOrder": 3,
    "_isFastLaunch": false,
    "category": "General purpose",
    "gpuNum": 0,
    "hideHardwareSpecs": false,
    "memoryGiB": 32,
    "name": "ml.t3.2xlarge",
    "vcpuNum": 8
   },
   {
    "_defaultOrder": 4,
    "_isFastLaunch": true,
    "category": "General purpose",
    "gpuNum": 0,
    "hideHardwareSpecs": false,
    "memoryGiB": 8,
    "name": "ml.m5.large",
    "vcpuNum": 2
   },
   {
    "_defaultOrder": 5,
    "_isFastLaunch": false,
    "category": "General purpose",
    "gpuNum": 0,
    "hideHardwareSpecs": false,
    "memoryGiB": 16,
    "name": "ml.m5.xlarge",
    "vcpuNum": 4
   },
   {
    "_defaultOrder": 6,
    "_isFastLaunch": false,
    "category": "General purpose",
    "gpuNum": 0,
    "hideHardwareSpecs": false,
    "memoryGiB": 32,
    "name": "ml.m5.2xlarge",
    "vcpuNum": 8
   },
   {
    "_defaultOrder": 7,
    "_isFastLaunch": false,
    "category": "General purpose",
    "gpuNum": 0,
    "hideHardwareSpecs": false,
    "memoryGiB": 64,
    "name": "ml.m5.4xlarge",
    "vcpuNum": 16
   },
   {
    "_defaultOrder": 8,
    "_isFastLaunch": false,
    "category": "General purpose",
    "gpuNum": 0,
    "hideHardwareSpecs": false,
    "memoryGiB": 128,
    "name": "ml.m5.8xlarge",
    "vcpuNum": 32
   },
   {
    "_defaultOrder": 9,
    "_isFastLaunch": false,
    "category": "General purpose",
    "gpuNum": 0,
    "hideHardwareSpecs": false,
    "memoryGiB": 192,
    "name": "ml.m5.12xlarge",
    "vcpuNum": 48
   },
   {
    "_defaultOrder": 10,
    "_isFastLaunch": false,
    "category": "General purpose",
    "gpuNum": 0,
    "hideHardwareSpecs": false,
    "memoryGiB": 256,
    "name": "ml.m5.16xlarge",
    "vcpuNum": 64
   },
   {
    "_defaultOrder": 11,
    "_isFastLaunch": false,
    "category": "General purpose",
    "gpuNum": 0,
    "hideHardwareSpecs": false,
    "memoryGiB": 384,
    "name": "ml.m5.24xlarge",
    "vcpuNum": 96
   },
   {
    "_defaultOrder": 12,
    "_isFastLaunch": false,
    "category": "General purpose",
    "gpuNum": 0,
    "hideHardwareSpecs": false,
    "memoryGiB": 8,
    "name": "ml.m5d.large",
    "vcpuNum": 2
   },
   {
    "_defaultOrder": 13,
    "_isFastLaunch": false,
    "category": "General purpose",
    "gpuNum": 0,
    "hideHardwareSpecs": false,
    "memoryGiB": 16,
    "name": "ml.m5d.xlarge",
    "vcpuNum": 4
   },
   {
    "_defaultOrder": 14,
    "_isFastLaunch": false,
    "category": "General purpose",
    "gpuNum": 0,
    "hideHardwareSpecs": false,
    "memoryGiB": 32,
    "name": "ml.m5d.2xlarge",
    "vcpuNum": 8
   },
   {
    "_defaultOrder": 15,
    "_isFastLaunch": false,
    "category": "General purpose",
    "gpuNum": 0,
    "hideHardwareSpecs": false,
    "memoryGiB": 64,
    "name": "ml.m5d.4xlarge",
    "vcpuNum": 16
   },
   {
    "_defaultOrder": 16,
    "_isFastLaunch": false,
    "category": "General purpose",
    "gpuNum": 0,
    "hideHardwareSpecs": false,
    "memoryGiB": 128,
    "name": "ml.m5d.8xlarge",
    "vcpuNum": 32
   },
   {
    "_defaultOrder": 17,
    "_isFastLaunch": false,
    "category": "General purpose",
    "gpuNum": 0,
    "hideHardwareSpecs": false,
    "memoryGiB": 192,
    "name": "ml.m5d.12xlarge",
    "vcpuNum": 48
   },
   {
    "_defaultOrder": 18,
    "_isFastLaunch": false,
    "category": "General purpose",
    "gpuNum": 0,
    "hideHardwareSpecs": false,
    "memoryGiB": 256,
    "name": "ml.m5d.16xlarge",
    "vcpuNum": 64
   },
   {
    "_defaultOrder": 19,
    "_isFastLaunch": false,
    "category": "General purpose",
    "gpuNum": 0,
    "hideHardwareSpecs": false,
    "memoryGiB": 384,
    "name": "ml.m5d.24xlarge",
    "vcpuNum": 96
   },
   {
    "_defaultOrder": 20,
    "_isFastLaunch": false,
    "category": "General purpose",
    "gpuNum": 0,
    "hideHardwareSpecs": true,
    "memoryGiB": 0,
    "name": "ml.geospatial.interactive",
    "supportedImageNames": [
     "sagemaker-geospatial-v1-0"
    ],
    "vcpuNum": 0
   },
   {
    "_defaultOrder": 21,
    "_isFastLaunch": true,
    "category": "Compute optimized",
    "gpuNum": 0,
    "hideHardwareSpecs": false,
    "memoryGiB": 4,
    "name": "ml.c5.large",
    "vcpuNum": 2
   },
   {
    "_defaultOrder": 22,
    "_isFastLaunch": false,
    "category": "Compute optimized",
    "gpuNum": 0,
    "hideHardwareSpecs": false,
    "memoryGiB": 8,
    "name": "ml.c5.xlarge",
    "vcpuNum": 4
   },
   {
    "_defaultOrder": 23,
    "_isFastLaunch": false,
    "category": "Compute optimized",
    "gpuNum": 0,
    "hideHardwareSpecs": false,
    "memoryGiB": 16,
    "name": "ml.c5.2xlarge",
    "vcpuNum": 8
   },
   {
    "_defaultOrder": 24,
    "_isFastLaunch": false,
    "category": "Compute optimized",
    "gpuNum": 0,
    "hideHardwareSpecs": false,
    "memoryGiB": 32,
    "name": "ml.c5.4xlarge",
    "vcpuNum": 16
   },
   {
    "_defaultOrder": 25,
    "_isFastLaunch": false,
    "category": "Compute optimized",
    "gpuNum": 0,
    "hideHardwareSpecs": false,
    "memoryGiB": 72,
    "name": "ml.c5.9xlarge",
    "vcpuNum": 36
   },
   {
    "_defaultOrder": 26,
    "_isFastLaunch": false,
    "category": "Compute optimized",
    "gpuNum": 0,
    "hideHardwareSpecs": false,
    "memoryGiB": 96,
    "name": "ml.c5.12xlarge",
    "vcpuNum": 48
   },
   {
    "_defaultOrder": 27,
    "_isFastLaunch": false,
    "category": "Compute optimized",
    "gpuNum": 0,
    "hideHardwareSpecs": false,
    "memoryGiB": 144,
    "name": "ml.c5.18xlarge",
    "vcpuNum": 72
   },
   {
    "_defaultOrder": 28,
    "_isFastLaunch": false,
    "category": "Compute optimized",
    "gpuNum": 0,
    "hideHardwareSpecs": false,
    "memoryGiB": 192,
    "name": "ml.c5.24xlarge",
    "vcpuNum": 96
   },
   {
    "_defaultOrder": 29,
    "_isFastLaunch": true,
    "category": "Accelerated computing",
    "gpuNum": 1,
    "hideHardwareSpecs": false,
    "memoryGiB": 16,
    "name": "ml.g4dn.xlarge",
    "vcpuNum": 4
   },
   {
    "_defaultOrder": 30,
    "_isFastLaunch": false,
    "category": "Accelerated computing",
    "gpuNum": 1,
    "hideHardwareSpecs": false,
    "memoryGiB": 32,
    "name": "ml.g4dn.2xlarge",
    "vcpuNum": 8
   },
   {
    "_defaultOrder": 31,
    "_isFastLaunch": false,
    "category": "Accelerated computing",
    "gpuNum": 1,
    "hideHardwareSpecs": false,
    "memoryGiB": 64,
    "name": "ml.g4dn.4xlarge",
    "vcpuNum": 16
   },
   {
    "_defaultOrder": 32,
    "_isFastLaunch": false,
    "category": "Accelerated computing",
    "gpuNum": 1,
    "hideHardwareSpecs": false,
    "memoryGiB": 128,
    "name": "ml.g4dn.8xlarge",
    "vcpuNum": 32
   },
   {
    "_defaultOrder": 33,
    "_isFastLaunch": false,
    "category": "Accelerated computing",
    "gpuNum": 4,
    "hideHardwareSpecs": false,
    "memoryGiB": 192,
    "name": "ml.g4dn.12xlarge",
    "vcpuNum": 48
   },
   {
    "_defaultOrder": 34,
    "_isFastLaunch": false,
    "category": "Accelerated computing",
    "gpuNum": 1,
    "hideHardwareSpecs": false,
    "memoryGiB": 256,
    "name": "ml.g4dn.16xlarge",
    "vcpuNum": 64
   },
   {
    "_defaultOrder": 35,
    "_isFastLaunch": false,
    "category": "Accelerated computing",
    "gpuNum": 1,
    "hideHardwareSpecs": false,
    "memoryGiB": 61,
    "name": "ml.p3.2xlarge",
    "vcpuNum": 8
   },
   {
    "_defaultOrder": 36,
    "_isFastLaunch": false,
    "category": "Accelerated computing",
    "gpuNum": 4,
    "hideHardwareSpecs": false,
    "memoryGiB": 244,
    "name": "ml.p3.8xlarge",
    "vcpuNum": 32
   },
   {
    "_defaultOrder": 37,
    "_isFastLaunch": false,
    "category": "Accelerated computing",
    "gpuNum": 8,
    "hideHardwareSpecs": false,
    "memoryGiB": 488,
    "name": "ml.p3.16xlarge",
    "vcpuNum": 64
   },
   {
    "_defaultOrder": 38,
    "_isFastLaunch": false,
    "category": "Accelerated computing",
    "gpuNum": 8,
    "hideHardwareSpecs": false,
    "memoryGiB": 768,
    "name": "ml.p3dn.24xlarge",
    "vcpuNum": 96
   },
   {
    "_defaultOrder": 39,
    "_isFastLaunch": false,
    "category": "Memory Optimized",
    "gpuNum": 0,
    "hideHardwareSpecs": false,
    "memoryGiB": 16,
    "name": "ml.r5.large",
    "vcpuNum": 2
   },
   {
    "_defaultOrder": 40,
    "_isFastLaunch": false,
    "category": "Memory Optimized",
    "gpuNum": 0,
    "hideHardwareSpecs": false,
    "memoryGiB": 32,
    "name": "ml.r5.xlarge",
    "vcpuNum": 4
   },
   {
    "_defaultOrder": 41,
    "_isFastLaunch": false,
    "category": "Memory Optimized",
    "gpuNum": 0,
    "hideHardwareSpecs": false,
    "memoryGiB": 64,
    "name": "ml.r5.2xlarge",
    "vcpuNum": 8
   },
   {
    "_defaultOrder": 42,
    "_isFastLaunch": false,
    "category": "Memory Optimized",
    "gpuNum": 0,
    "hideHardwareSpecs": false,
    "memoryGiB": 128,
    "name": "ml.r5.4xlarge",
    "vcpuNum": 16
   },
   {
    "_defaultOrder": 43,
    "_isFastLaunch": false,
    "category": "Memory Optimized",
    "gpuNum": 0,
    "hideHardwareSpecs": false,
    "memoryGiB": 256,
    "name": "ml.r5.8xlarge",
    "vcpuNum": 32
   },
   {
    "_defaultOrder": 44,
    "_isFastLaunch": false,
    "category": "Memory Optimized",
    "gpuNum": 0,
    "hideHardwareSpecs": false,
    "memoryGiB": 384,
    "name": "ml.r5.12xlarge",
    "vcpuNum": 48
   },
   {
    "_defaultOrder": 45,
    "_isFastLaunch": false,
    "category": "Memory Optimized",
    "gpuNum": 0,
    "hideHardwareSpecs": false,
    "memoryGiB": 512,
    "name": "ml.r5.16xlarge",
    "vcpuNum": 64
   },
   {
    "_defaultOrder": 46,
    "_isFastLaunch": false,
    "category": "Memory Optimized",
    "gpuNum": 0,
    "hideHardwareSpecs": false,
    "memoryGiB": 768,
    "name": "ml.r5.24xlarge",
    "vcpuNum": 96
   },
   {
    "_defaultOrder": 47,
    "_isFastLaunch": false,
    "category": "Accelerated computing",
    "gpuNum": 1,
    "hideHardwareSpecs": false,
    "memoryGiB": 16,
    "name": "ml.g5.xlarge",
    "vcpuNum": 4
   },
   {
    "_defaultOrder": 48,
    "_isFastLaunch": false,
    "category": "Accelerated computing",
    "gpuNum": 1,
    "hideHardwareSpecs": false,
    "memoryGiB": 32,
    "name": "ml.g5.2xlarge",
    "vcpuNum": 8
   },
   {
    "_defaultOrder": 49,
    "_isFastLaunch": false,
    "category": "Accelerated computing",
    "gpuNum": 1,
    "hideHardwareSpecs": false,
    "memoryGiB": 64,
    "name": "ml.g5.4xlarge",
    "vcpuNum": 16
   },
   {
    "_defaultOrder": 50,
    "_isFastLaunch": false,
    "category": "Accelerated computing",
    "gpuNum": 1,
    "hideHardwareSpecs": false,
    "memoryGiB": 128,
    "name": "ml.g5.8xlarge",
    "vcpuNum": 32
   },
   {
    "_defaultOrder": 51,
    "_isFastLaunch": false,
    "category": "Accelerated computing",
    "gpuNum": 1,
    "hideHardwareSpecs": false,
    "memoryGiB": 256,
    "name": "ml.g5.16xlarge",
    "vcpuNum": 64
   },
   {
    "_defaultOrder": 52,
    "_isFastLaunch": false,
    "category": "Accelerated computing",
    "gpuNum": 4,
    "hideHardwareSpecs": false,
    "memoryGiB": 192,
    "name": "ml.g5.12xlarge",
    "vcpuNum": 48
   },
   {
    "_defaultOrder": 53,
    "_isFastLaunch": false,
    "category": "Accelerated computing",
    "gpuNum": 4,
    "hideHardwareSpecs": false,
    "memoryGiB": 384,
    "name": "ml.g5.24xlarge",
    "vcpuNum": 96
   },
   {
    "_defaultOrder": 54,
    "_isFastLaunch": false,
    "category": "Accelerated computing",
    "gpuNum": 8,
    "hideHardwareSpecs": false,
    "memoryGiB": 768,
    "name": "ml.g5.48xlarge",
    "vcpuNum": 192
   },
   {
    "_defaultOrder": 55,
    "_isFastLaunch": false,
    "category": "Accelerated computing",
    "gpuNum": 8,
    "hideHardwareSpecs": false,
    "memoryGiB": 1152,
    "name": "ml.p4d.24xlarge",
    "vcpuNum": 96
   },
   {
    "_defaultOrder": 56,
    "_isFastLaunch": false,
    "category": "Accelerated computing",
    "gpuNum": 8,
    "hideHardwareSpecs": false,
    "memoryGiB": 1152,
    "name": "ml.p4de.24xlarge",
    "vcpuNum": 96
   }
  ],
  "instance_type": "ml.g4dn.2xlarge",
  "kernelspec": {
   "display_name": "Python 3 (Data Science 3.0)",
   "language": "python",
   "name": "python3__SAGEMAKER_INTERNAL__arn:aws:sagemaker:us-east-2:429704687514:image/sagemaker-data-science-310-v1"
  },
  "language_info": {
   "codemirror_mode": {
    "name": "ipython",
    "version": 3
   },
   "file_extension": ".py",
   "mimetype": "text/x-python",
   "name": "python",
   "nbconvert_exporter": "python",
   "pygments_lexer": "ipython3",
   "version": "3.10.6"
  }
 },
 "nbformat": 4,
 "nbformat_minor": 5
}
