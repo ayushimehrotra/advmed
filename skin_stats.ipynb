{
 "cells": [
  {
   "cell_type": "markdown",
   "id": "95eaff99-bc03-4198-8f21-00b0c9c05e77",
   "metadata": {},
   "source": [
    "## Install Dependencies"
   ]
  },
  {
   "cell_type": "code",
   "execution_count": 2,
   "id": "7dcf7486-64cc-41cb-b438-08d1cca515f9",
   "metadata": {
    "tags": []
   },
   "outputs": [],
   "source": [
    "from IPython.display import clear_output\n",
    "!pip install torch\n",
    "!pip install torchvision\n",
    "!pip install captum\n",
    "!pip install opencv-python\n",
    "!pip install seaborn\n",
    "!pip install matplotlib\n",
    "!pip install cleverhans\n",
    "!pip install cachetools\n",
    "!pip install pandas\n",
    "!apt-get update && apt-get install ffmpeg libsm6 libxext6  -y\n",
    "clear_output()"
   ]
  },
  {
   "cell_type": "code",
   "execution_count": 3,
   "id": "889e8fe6-75b0-4c3f-847e-0d5309b9d8de",
   "metadata": {
    "tags": []
   },
   "outputs": [
    {
     "name": "stderr",
     "output_type": "stream",
     "text": [
      "/opt/conda/lib/python3.10/site-packages/torch/cuda/__init__.py:138: UserWarning: CUDA initialization: The NVIDIA driver on your system is too old (found version 11040). Please update your GPU driver by downloading and installing a new version from the URL: http://www.nvidia.com/Download/index.aspx Alternatively, go to: https://pytorch.org to install a PyTorch version that has been compiled with your version of the CUDA driver. (Triggered internally at ../c10/cuda/CUDAFunctions.cpp:108.)\n",
      "  return torch._C._cuda_getDeviceCount() > 0\n"
     ]
    }
   ],
   "source": [
    "import os, cv2,itertools\n",
    "import matplotlib.pyplot as plt\n",
    "import numpy as np\n",
    "import pandas as pd\n",
    "from tqdm import tqdm\n",
    "from glob import glob\n",
    "from PIL import Image\n",
    "\n",
    "# pytorch libraries\n",
    "import torch\n",
    "from torch import optim,nn\n",
    "from torch.autograd import Variable\n",
    "from torch.utils.data import DataLoader,Dataset\n",
    "from torchvision import models,transforms\n",
    "\n",
    "import gc\n",
    "from load_skin import load_skin_data\n",
    "import main\n",
    "import roc_curve\n",
    "\n",
    "# to make the results are reproducible\n",
    "np.random.seed(10)\n",
    "torch.manual_seed(10)\n",
    "torch.cuda.manual_seed(10)\n",
    "device = torch.device('cuda:0' if torch.cuda.is_available() else 'cpu')"
   ]
  },
  {
   "cell_type": "markdown",
   "id": "d17bf042-1c4a-4dfb-9fbe-1abf8215d849",
   "metadata": {},
   "source": [
    "## Dataset"
   ]
  },
  {
   "cell_type": "code",
   "execution_count": 4,
   "id": "1c8962bf-61e2-4a3c-8c01-3493d9c9ce04",
   "metadata": {
    "tags": []
   },
   "outputs": [
    {
     "name": "stderr",
     "output_type": "stream",
     "text": [
      "/root/load_skin.py:107: FutureWarning: The frame.append method is deprecated and will be removed from pandas in a future version. Use pandas.concat instead.\n",
      "  df_train=df_train.append([df_train.loc[df_train['cell_type_idx'] == i,:]]*(data_aug_rate[i]-1), ignore_index=True)\n"
     ]
    }
   ],
   "source": [
    "train_loader, val_loader = load_skin_data()"
   ]
  },
  {
   "cell_type": "markdown",
   "id": "244c618c-4d67-49be-89fc-aa70ae767c57",
   "metadata": {},
   "source": [
    "## Model"
   ]
  },
  {
   "cell_type": "code",
   "execution_count": 5,
   "id": "2ecd10b8-8a2f-471b-b23c-9c52e9e42ec8",
   "metadata": {
    "tags": []
   },
   "outputs": [],
   "source": [
    "model = torch.load('model/skin/model_skin.pth')"
   ]
  },
  {
   "cell_type": "markdown",
   "id": "0b6d9d6a-a3e8-46a7-ba8d-6d12f70002e8",
   "metadata": {},
   "source": [
    "## Attacks"
   ]
  },
  {
   "cell_type": "code",
   "execution_count": 6,
   "id": "935df14f-192f-4bee-8af6-4ed2708dddb9",
   "metadata": {
    "tags": []
   },
   "outputs": [],
   "source": [
    "from IPython.display import clear_output\n",
    "!pip install captum\n",
    "!pip install cleverhans\n",
    "clear_output()"
   ]
  },
  {
   "cell_type": "code",
   "execution_count": 7,
   "id": "8aa393ee-44e1-4a48-8591-a525edd8a324",
   "metadata": {
    "tags": []
   },
   "outputs": [],
   "source": [
    "from captum.attr import IntegratedGradients\n",
    "from captum.attr import Saliency\n",
    "from captum.attr import GradientShap\n",
    "from captum.attr import visualization as viz\n",
    "from cleverhans.torch.attacks.fast_gradient_method import fast_gradient_method\n",
    "from cleverhans.torch.attacks.carlini_wagner_l2 import carlini_wagner_l2\n",
    "from cleverhans.torch.attacks.projected_gradient_descent import (\n",
    "    projected_gradient_descent\n",
    ")"
   ]
  },
  {
   "cell_type": "markdown",
   "id": "ad168e5f-454b-458f-a002-be41af6527a4",
   "metadata": {},
   "source": [
    "## Eps"
   ]
  },
  {
   "cell_type": "code",
   "execution_count": 8,
   "id": "adb80977-9edd-402b-b72e-2a418cbb88f6",
   "metadata": {
    "tags": []
   },
   "outputs": [],
   "source": [
    "eps = [8/255, 16/255, 32/255, 64/255]"
   ]
  },
  {
   "cell_type": "markdown",
   "id": "4af70684-e192-4a4a-b5de-d340067ebbda",
   "metadata": {},
   "source": [
    "# GRAD"
   ]
  },
  {
   "cell_type": "code",
   "execution_count": 9,
   "id": "6ccf9fd8-c891-48db-a56c-b9a080752b21",
   "metadata": {
    "tags": []
   },
   "outputs": [],
   "source": [
    "algorithm = Saliency(model)"
   ]
  },
  {
   "cell_type": "markdown",
   "id": "0e54ada7-d9f4-46ac-b1d5-8f335a7aea87",
   "metadata": {},
   "source": [
    "## Benign Images to Find Threshold (GRAD)"
   ]
  },
  {
   "cell_type": "code",
   "execution_count": 11,
   "id": "1a18f400-cdcf-48d3-9051-7907ad0544b8",
   "metadata": {
    "tags": []
   },
   "outputs": [
    {
     "name": "stderr",
     "output_type": "stream",
     "text": [
      "/opt/conda/lib/python3.10/site-packages/captum/_utils/gradient.py:57: UserWarning: Input Tensor 0 did not already require gradients, required_grads has been set automatically.\n",
      "  warnings.warn(\n"
     ]
    },
    {
     "name": "stdout",
     "output_type": "stream",
     "text": [
      "Attribution for batch 0 complete\n",
      "Attribution for batch 1 complete\n",
      "Attribution for batch 2 complete\n",
      "Attribution for batch 3 complete\n",
      "Attribution for batch 4 complete\n",
      "Attribution for batch 5 complete\n",
      "Attribution for batch 6 complete\n",
      "Attribution for batch 7 complete\n",
      "Attribution for batch 8 complete\n",
      "Attribution for batch 9 complete\n",
      "Attribution for batch 10 complete\n",
      "Attribution for batch 11 complete\n",
      "Attribution for batch 12 complete\n",
      "Attribution for batch 13 complete\n",
      "Attribution for batch 14 complete\n",
      "Attribution for batch 15 complete\n",
      "Attribution for batch 16 complete\n",
      "Attribution for batch 17 complete\n",
      "Attribution for batch 18 complete\n",
      "Attribution for batch 19 complete\n"
     ]
    }
   ],
   "source": [
    "num_batches = 20\n",
    "\n",
    "resgrad = main.run_benign(algorithm, model, val_loader, num_batches)"
   ]
  },
  {
   "cell_type": "markdown",
   "id": "d0a4be73-010a-4ad1-b3f0-e1c7b5260531",
   "metadata": {},
   "source": [
    "## PGD (GRAD)"
   ]
  },
  {
   "cell_type": "code",
   "execution_count": 13,
   "id": "0c3d84cc-4f2a-48ea-a251-b1037909a3d6",
   "metadata": {
    "tags": []
   },
   "outputs": [
    {
     "name": "stdout",
     "output_type": "stream",
     "text": [
      "Attribution for batch 0 complete\n",
      "Attribution for batch 1 complete\n",
      "Attribution for batch 2 complete\n",
      "Attribution for batch 3 complete\n",
      "Attribution for batch 4 complete\n",
      "Attribution for batch 5 complete\n",
      "Attribution for batch 6 complete\n",
      "Attribution for batch 7 complete\n",
      "Attribution for batch 8 complete\n",
      "Attribution for batch 9 complete\n",
      "Attribution for batch 10 complete\n",
      "Attribution for batch 11 complete\n",
      "Attribution for batch 12 complete\n",
      "Attribution for batch 13 complete\n",
      "Attribution for batch 14 complete\n",
      "Attribution for batch 15 complete\n",
      "Attribution for batch 16 complete\n",
      "Attribution for batch 17 complete\n",
      "Attribution for batch 18 complete\n",
      "Attribution for batch 19 complete\n",
      "PGD Calculation Complete\n",
      "Attribution for batch 0 complete\n",
      "Attribution for batch 1 complete\n",
      "Attribution for batch 2 complete\n",
      "Attribution for batch 3 complete\n",
      "Attribution for batch 4 complete\n",
      "Attribution for batch 5 complete\n",
      "Attribution for batch 6 complete\n",
      "Attribution for batch 7 complete\n",
      "Attribution for batch 8 complete\n",
      "Attribution for batch 9 complete\n",
      "Attribution for batch 10 complete\n",
      "Attribution for batch 11 complete\n",
      "Attribution for batch 12 complete\n",
      "Attribution for batch 13 complete\n",
      "Attribution for batch 14 complete\n",
      "Attribution for batch 15 complete\n",
      "Attribution for batch 16 complete\n",
      "Attribution for batch 17 complete\n",
      "Attribution for batch 18 complete\n",
      "Attribution for batch 19 complete\n",
      "PGD Calculation Complete\n",
      "Attribution for batch 0 complete\n",
      "Attribution for batch 1 complete\n",
      "Attribution for batch 2 complete\n",
      "Attribution for batch 3 complete\n",
      "Attribution for batch 4 complete\n",
      "Attribution for batch 5 complete\n",
      "Attribution for batch 6 complete\n",
      "Attribution for batch 7 complete\n",
      "Attribution for batch 8 complete\n",
      "Attribution for batch 9 complete\n",
      "Attribution for batch 10 complete\n",
      "Attribution for batch 11 complete\n",
      "Attribution for batch 12 complete\n",
      "Attribution for batch 13 complete\n",
      "Attribution for batch 14 complete\n",
      "Attribution for batch 15 complete\n",
      "Attribution for batch 16 complete\n",
      "Attribution for batch 17 complete\n",
      "Attribution for batch 18 complete\n",
      "Attribution for batch 19 complete\n",
      "PGD Calculation Complete\n",
      "Attribution for batch 0 complete\n",
      "Attribution for batch 1 complete\n",
      "Attribution for batch 2 complete\n",
      "Attribution for batch 3 complete\n",
      "Attribution for batch 4 complete\n",
      "Attribution for batch 5 complete\n",
      "Attribution for batch 6 complete\n",
      "Attribution for batch 7 complete\n",
      "Attribution for batch 8 complete\n",
      "Attribution for batch 9 complete\n",
      "Attribution for batch 10 complete\n",
      "Attribution for batch 11 complete\n",
      "Attribution for batch 12 complete\n",
      "Attribution for batch 13 complete\n",
      "Attribution for batch 14 complete\n",
      "Attribution for batch 15 complete\n",
      "Attribution for batch 16 complete\n",
      "Attribution for batch 17 complete\n",
      "Attribution for batch 18 complete\n",
      "Attribution for batch 19 complete\n",
      "PGD Calculation Complete\n"
     ]
    }
   ],
   "source": [
    "res_pgd1 = main.run_pgd(algorithm, model, val_loader, eps[0], num_batches)\n",
    "res_pgd2 = main.run_pgd(algorithm, model, val_loader, eps[1], num_batches)\n",
    "res_pgd3 = main.run_pgd(algorithm, model, val_loader, eps[2], num_batches)\n",
    "res_pgd4 = main.run_pgd(algorithm, model, val_loader, eps[3], num_batches)"
   ]
  },
  {
   "cell_type": "code",
   "execution_count": 10,
   "id": "d3000883-1e2b-4423-bf08-6a9c1989092b",
   "metadata": {
    "tags": []
   },
   "outputs": [],
   "source": [
    "import pickle\n",
    "skin_pgd_grad = {}\n",
    "# skin_pgd_grad['ben'] = resgrad\n",
    "# skin_pgd_grad['pgd1'] = res_pgd1\n",
    "# skin_pgd_grad['pgd2'] = res_pgd2\n",
    "# skin_pgd_grad['pgd3'] = res_pgd3\n",
    "# skin_pgd_grad['pgd4'] = res_pgd4\n",
    "# with open('skin_pgd_grad.pkl', 'wb') as f:\n",
    "#     pickle.dump(skin_pgd_grad, f)\n",
    "with open('skin_pgd_grad.pkl', 'rb') as fp:\n",
    "    skin_pgd_grad = pickle.load(fp)"
   ]
  },
  {
   "cell_type": "code",
   "execution_count": 11,
   "id": "f359106c-e416-4be4-9ffa-686785bbaa7c",
   "metadata": {
    "tags": []
   },
   "outputs": [],
   "source": [
    "temp = skin_pgd_grad['pgd1'][0]\n",
    "skin_pgd_grad['pgd1'][0] = skin_pgd_grad['pgd1'][1] \n",
    "skin_pgd_grad['pgd1'][1] = temp\n",
    "\n",
    "temp = skin_pgd_grad['pgd2'][0]\n",
    "skin_pgd_grad['pgd2'][0] = skin_pgd_grad['pgd2'][1] \n",
    "skin_pgd_grad['pgd2'][1] = temp\n",
    "\n",
    "temp = skin_pgd_grad['pgd3'][0]\n",
    "skin_pgd_grad['pgd3'][0] = skin_pgd_grad['pgd3'][1] \n",
    "skin_pgd_grad['pgd3'][1] = temp\n",
    "\n",
    "temp = skin_pgd_grad['pgd4'][0]\n",
    "skin_pgd_grad['pgd4'][0] = skin_pgd_grad['pgd4'][1] \n",
    "skin_pgd_grad['pgd4'][1] = temp"
   ]
  },
  {
   "cell_type": "code",
   "execution_count": 22,
   "id": "1e56f49a-be41-441a-8f35-7899ad32db3f",
   "metadata": {
    "tags": []
   },
   "outputs": [
    {
     "data": {
      "image/png": "[encoded data removed]",
      "text/plain": [
       "<Figure size 640x480 with 1 Axes>"
      ]
     },
     "metadata": {},
     "output_type": "display_data"
    }
   ],
   "source": [
    "ind = 1\n",
    "\n",
    "plt.hist(skin_pgd_grad['ben'][ind], label='Benign', color='blue')\n",
    "plt.hist(skin_pgd_grad['pgd1'][ind], label='PGD 8/255', color='red')\n",
    "plt.hist(skin_pgd_grad['pgd2'][ind], label='PGD 16/255',  color='yellow')\n",
    "plt.hist(skin_pgd_grad['pgd3'][ind], label='PGD 32/255', color='green')\n",
    "plt.hist(skin_pgd_grad['pgd4'][ind], label='PGD 64/255',  color='purple')\n",
    "plt.legend()\n",
    "plt.show()"
   ]
  },
  {
   "cell_type": "markdown",
   "id": "dd3135fb-05f2-4d44-ae56-0f4c50ec0acc",
   "metadata": {},
   "source": [
    "## FGSM (GRAD)"
   ]
  },
  {
   "cell_type": "code",
   "execution_count": 28,
   "id": "5bac9aca-63d4-4a98-8613-b2d0f794a0b5",
   "metadata": {
    "tags": []
   },
   "outputs": [
    {
     "name": "stdout",
     "output_type": "stream",
     "text": [
      "Attribution for batch 0 complete\n",
      "Attribution for batch 1 complete\n",
      "Attribution for batch 2 complete\n",
      "Attribution for batch 3 complete\n",
      "Attribution for batch 4 complete\n",
      "Attribution for batch 5 complete\n",
      "Attribution for batch 6 complete\n",
      "Attribution for batch 7 complete\n",
      "Attribution for batch 8 complete\n",
      "Attribution for batch 9 complete\n",
      "Attribution for batch 10 complete\n",
      "Attribution for batch 11 complete\n",
      "Attribution for batch 12 complete\n",
      "Attribution for batch 13 complete\n",
      "Attribution for batch 14 complete\n",
      "Attribution for batch 15 complete\n",
      "Attribution for batch 16 complete\n",
      "Attribution for batch 17 complete\n",
      "Attribution for batch 18 complete\n",
      "Attribution for batch 19 complete\n",
      "FGSM Calculation Complete\n",
      "Attribution for batch 0 complete\n",
      "Attribution for batch 1 complete\n",
      "Attribution for batch 2 complete\n",
      "Attribution for batch 3 complete\n",
      "Attribution for batch 4 complete\n",
      "Attribution for batch 5 complete\n",
      "Attribution for batch 6 complete\n",
      "Attribution for batch 7 complete\n",
      "Attribution for batch 8 complete\n",
      "Attribution for batch 9 complete\n",
      "Attribution for batch 10 complete\n",
      "Attribution for batch 11 complete\n",
      "Attribution for batch 12 complete\n",
      "Attribution for batch 13 complete\n",
      "Attribution for batch 14 complete\n",
      "Attribution for batch 15 complete\n",
      "Attribution for batch 16 complete\n",
      "Attribution for batch 17 complete\n",
      "Attribution for batch 18 complete\n",
      "Attribution for batch 19 complete\n",
      "FGSM Calculation Complete\n",
      "Attribution for batch 0 complete\n",
      "Attribution for batch 1 complete\n",
      "Attribution for batch 2 complete\n",
      "Attribution for batch 3 complete\n",
      "Attribution for batch 4 complete\n",
      "Attribution for batch 5 complete\n",
      "Attribution for batch 6 complete\n",
      "Attribution for batch 7 complete\n",
      "Attribution for batch 8 complete\n",
      "Attribution for batch 9 complete\n",
      "Attribution for batch 10 complete\n",
      "Attribution for batch 11 complete\n",
      "Attribution for batch 12 complete\n",
      "Attribution for batch 13 complete\n",
      "Attribution for batch 14 complete\n",
      "Attribution for batch 15 complete\n",
      "Attribution for batch 16 complete\n",
      "Attribution for batch 17 complete\n",
      "Attribution for batch 18 complete\n",
      "Attribution for batch 19 complete\n",
      "FGSM Calculation Complete\n",
      "Attribution for batch 0 complete\n",
      "Attribution for batch 1 complete\n",
      "Attribution for batch 2 complete\n",
      "Attribution for batch 3 complete\n",
      "Attribution for batch 4 complete\n",
      "Attribution for batch 5 complete\n",
      "Attribution for batch 6 complete\n",
      "Attribution for batch 7 complete\n",
      "Attribution for batch 8 complete\n",
      "Attribution for batch 9 complete\n",
      "Attribution for batch 10 complete\n",
      "Attribution for batch 11 complete\n",
      "Attribution for batch 12 complete\n",
      "Attribution for batch 13 complete\n",
      "Attribution for batch 14 complete\n",
      "Attribution for batch 15 complete\n",
      "Attribution for batch 16 complete\n",
      "Attribution for batch 17 complete\n",
      "Attribution for batch 18 complete\n",
      "Attribution for batch 19 complete\n",
      "FGSM Calculation Complete\n"
     ]
    }
   ],
   "source": [
    "res_fgsm1 = main.run_fgsm(algorithm, model, val_loader, eps[0], num_batches)\n",
    "res_fgsm2 = main.run_fgsm(algorithm, model, val_loader, eps[1], num_batches)\n",
    "res_fgsm3 = main.run_fgsm(algorithm, model, val_loader, eps[2], num_batches)\n",
    "res_fgsm4 = main.run_fgsm(algorithm, model, val_loader, eps[3], num_batches)"
   ]
  },
  {
   "cell_type": "code",
   "execution_count": 14,
   "id": "0a586df1-17ce-482b-8494-4f9ad2c2ad69",
   "metadata": {
    "tags": []
   },
   "outputs": [],
   "source": [
    "skin_fgsm_grad = {}\n",
    "# skin_fgsm_grad['ben'] = resgrad\n",
    "# skin_fgsm_grad['fgsm1'] = res_fgsm1\n",
    "# skin_fgsm_grad['fgsm2'] = res_fgsm2\n",
    "# skin_fgsm_grad['fgsm3'] = res_fgsm3\n",
    "# skin_fgsm_grad['fgsm4'] = res_fgsm4\n",
    "# with open('skin_fgsm_grad.pkl', 'wb') as f:\n",
    "#     pickle.dump(skin_fgsm_grad, f)\n",
    "with open('skin_fgsm_grad.pkl', 'rb') as fp:\n",
    "    skin_fgsm_grad = pickle.load(fp)"
   ]
  },
  {
   "cell_type": "code",
   "execution_count": 15,
   "id": "a90dbf84-0a42-416e-a2de-3d02c9d56562",
   "metadata": {
    "tags": []
   },
   "outputs": [],
   "source": [
    "temp = skin_fgsm_grad['fgsm1'][0]\n",
    "skin_fgsm_grad['fgsm1'][0] = skin_fgsm_grad['fgsm1'][1] \n",
    "skin_fgsm_grad['fgsm1'][1] = temp\n",
    "\n",
    "temp = skin_fgsm_grad['fgsm2'][0]\n",
    "skin_fgsm_grad['fgsm2'][0] = skin_fgsm_grad['fgsm2'][1] \n",
    "skin_fgsm_grad['fgsm2'][1] = temp\n",
    "\n",
    "temp = skin_fgsm_grad['fgsm3'][0]\n",
    "skin_fgsm_grad['fgsm3'][0] = skin_fgsm_grad['fgsm3'][1] \n",
    "skin_fgsm_grad['fgsm3'][1] = temp\n",
    "\n",
    "temp = skin_fgsm_grad['fgsm4'][0]\n",
    "skin_fgsm_grad['fgsm4'][0] = skin_fgsm_grad['fgsm4'][1] \n",
    "skin_fgsm_grad['fgsm4'][1] = temp"
   ]
  },
  {
   "cell_type": "code",
   "execution_count": 17,
   "id": "eff1a22a-b38d-4db8-8c49-04e7fd0e41e7",
   "metadata": {
    "tags": []
   },
   "outputs": [
    {
     "data": {
      "image/png": "[encoded data removed]",
      "text/plain": [
       "<Figure size 640x480 with 1 Axes>"
      ]
     },
     "metadata": {},
     "output_type": "display_data"
    }
   ],
   "source": [
    "ind = 1\n",
    "plt.hist(skin_fgsm_grad['ben'][ind], label='Benign', color='blue')\n",
    "plt.hist(skin_fgsm_grad['fgsm1'][ind], label='FGSM 8/255', color='red')\n",
    "plt.hist(skin_fgsm_grad['fgsm2'][ind], label='FGSM 16/255',  color='yellow')\n",
    "plt.hist(skin_fgsm_grad['fgsm3'][ind], label='FGSM 32/255',  color='green')\n",
    "plt.hist(skin_fgsm_grad['fgsm4'][ind], label='FGSM 64/255',  color='purple')\n",
    "plt.legend()\n",
    "plt.show()"
   ]
  },
  {
   "cell_type": "code",
   "execution_count": 28,
   "id": "4e524d22-6941-4f0f-b19f-30d5d1ef04f3",
   "metadata": {
    "tags": []
   },
   "outputs": [
    {
     "name": "stdout",
     "output_type": "stream",
     "text": [
      "[0.1, 0.1, 0.096875, 0.1]\n",
      "[0.109375, 0.153125, 0.3625, 0.675]\n"
     ]
    },
    {
     "data": {
      "image/png": "[encoded data removed]",
      "text/plain": [
       "<Figure size 640x480 with 1 Axes>"
      ]
     },
     "metadata": {},
     "output_type": "display_data"
    }
   ],
   "source": [
    "ind = 1\n",
    "x1, y1 = roc_curve.min_roc_curve(skin_pgd_grad['ben'][ind], skin_pgd_grad['pgd1'][ind], 1000)\n",
    "x2, y2 = roc_curve.min_roc_curve(skin_pgd_grad['ben'][ind], skin_pgd_grad['pgd2'][ind], 1000)\n",
    "x3, y3 = roc_curve.min_roc_curve(skin_pgd_grad['ben'][ind], skin_pgd_grad['pgd3'][ind], 1000)\n",
    "x4, y4 = roc_curve.min_roc_curve(skin_pgd_grad['ben'][ind], skin_pgd_grad['pgd4'][ind], 1000)\n",
    "\n",
    "fpr_res = [0, 0, 0, 0]\n",
    "tpr_res = [0, 0, 0, 0]\n",
    "i = 0\n",
    "for a, b, c, d in zip(x1, x2, x3, x4):\n",
    "    if abs(a - 0.1) < abs(fpr_res[0] - 0.1):\n",
    "        fpr_res[0] = a\n",
    "        tpr_res[0] = y1[i]\n",
    "    if abs(b - 0.1) < abs(fpr_res[1] - 0.1):\n",
    "        fpr_res[1] = b\n",
    "        tpr_res[1] = y2[i]\n",
    "    if abs(c - 0.1) < abs(fpr_res[2] - 0.1):\n",
    "        fpr_res[2] = c\n",
    "        tpr_res[2] = y3[i]\n",
    "    if abs(d - 0.1) < abs(fpr_res[3] - 0.1):\n",
    "        fpr_res[3] = d\n",
    "        tpr_res[3] = y4[i]\n",
    "    i+=1\n",
    "        \n",
    "print(fpr_res)\n",
    "print(tpr_res)\n",
    "\n",
    "plt.title(\"PGD GRAD ROC for Skin\")\n",
    "plt.plot(x1, y1,   \"red\", linestyle = 'dotted', label = \"PGD 8/255\")\n",
    "plt.plot(x2, y2, \"blue\", linestyle = 'dotted', label = \"PGD 16/255\")\n",
    "plt.plot(x3, y3, \"green\", linestyle = 'dotted', label = \"PGD 32/255\")\n",
    "plt.plot(x4, y4, \"purple\", linestyle = 'dotted', label = \"PGD 64/255\")\n",
    "plt.show()"
   ]
  },
  {
   "cell_type": "code",
   "execution_count": 27,
   "id": "892cfcac-4a0d-4dde-bcb6-8d5b458bf923",
   "metadata": {
    "tags": []
   },
   "outputs": [
    {
     "name": "stdout",
     "output_type": "stream",
     "text": [
      "[0.1, 0.1, 0.096875, 0.1]\n",
      "[0.653125, 0.78125, 0.91875, 0.98125]\n"
     ]
    },
    {
     "data": {
      "image/png": "[encoded data removed]",
      "text/plain": [
       "<Figure size 640x480 with 1 Axes>"
      ]
     },
     "metadata": {},
     "output_type": "display_data"
    }
   ],
   "source": [
    "ind = 1\n",
    "x1, y1 = roc_curve.min_roc_curve(skin_fgsm_grad['ben'][ind], skin_fgsm_grad['fgsm1'][ind], 1000)\n",
    "x2, y2 = roc_curve.min_roc_curve(skin_fgsm_grad['ben'][ind], skin_fgsm_grad['fgsm2'][ind], 1000)\n",
    "x3, y3 = roc_curve.min_roc_curve(skin_fgsm_grad['ben'][ind], skin_fgsm_grad['fgsm3'][ind], 1000)\n",
    "x4, y4 = roc_curve.min_roc_curve(skin_fgsm_grad['ben'][ind], skin_fgsm_grad['fgsm4'][ind], 1000)\n",
    "\n",
    "fpr_res = [0, 0, 0, 0]\n",
    "tpr_res = [0, 0, 0, 0]\n",
    "i = 0\n",
    "for a, b, c, d in zip(x1, x2, x3, x4):\n",
    "    if abs(a - 0.1) < abs(fpr_res[0] - 0.1):\n",
    "        fpr_res[0] = a\n",
    "        tpr_res[0] = y1[i]\n",
    "    if abs(b - 0.1) < abs(fpr_res[1] - 0.1):\n",
    "        fpr_res[1] = b\n",
    "        tpr_res[1] = y2[i]\n",
    "    if abs(c - 0.1) < abs(fpr_res[2] - 0.1):\n",
    "        fpr_res[2] = c\n",
    "        tpr_res[2] = y3[i]\n",
    "    if abs(d - 0.1) < abs(fpr_res[3] - 0.1):\n",
    "        fpr_res[3] = d\n",
    "        tpr_res[3] = y4[i]\n",
    "    i+=1\n",
    "        \n",
    "print(fpr_res)\n",
    "print(tpr_res)\n",
    "\n",
    "plt.title(\"FGSM ROC for Skin\")\n",
    "plt.plot(x1, y1, \"red\", linestyle = 'dotted')\n",
    "plt.plot(x2, y2, \"blue\", linestyle = 'dotted')\n",
    "plt.plot(x3, y3, \"green\", linestyle = 'dotted')\n",
    "plt.plot(x4, y4, \"purple\", linestyle = 'dotted')\n",
    "plt.show()"
   ]
  },
  {
   "cell_type": "markdown",
   "id": "8b6f1292-2e51-41b3-a8ef-ed814a88f73d",
   "metadata": {},
   "source": [
    "# IG"
   ]
  },
  {
   "cell_type": "code",
   "execution_count": 8,
   "id": "c27f2301-1d17-4175-8728-2b2893933a48",
   "metadata": {
    "tags": []
   },
   "outputs": [],
   "source": [
    "algorithm = IntegratedGradients(model)"
   ]
  },
  {
   "cell_type": "markdown",
   "id": "5a0eacba-16f1-4a9a-b05f-e99c58dd7600",
   "metadata": {},
   "source": [
    "## Benign Images to Find Threshold (IG)"
   ]
  },
  {
   "cell_type": "code",
   "execution_count": 9,
   "id": "b8fc2705-f468-4bb3-933d-d6a42264979b",
   "metadata": {
    "tags": []
   },
   "outputs": [
    {
     "name": "stdout",
     "output_type": "stream",
     "text": [
      "Attribution for batch 0 complete\n",
      "Attribution for batch 1 complete\n",
      "Attribution for batch 2 complete\n",
      "Attribution for batch 3 complete\n",
      "Attribution for batch 4 complete\n",
      "Attribution for batch 5 complete\n",
      "Attribution for batch 6 complete\n",
      "Attribution for batch 7 complete\n",
      "Attribution for batch 8 complete\n",
      "Attribution for batch 9 complete\n",
      "Attribution for batch 10 complete\n",
      "Attribution for batch 11 complete\n",
      "Attribution for batch 12 complete\n",
      "Attribution for batch 13 complete\n",
      "Attribution for batch 14 complete\n",
      "Attribution for batch 15 complete\n",
      "Attribution for batch 16 complete\n",
      "Attribution for batch 17 complete\n",
      "Attribution for batch 18 complete\n",
      "Attribution for batch 19 complete\n"
     ]
    }
   ],
   "source": [
    "num_batches = 20\n",
    "ind = 1\n",
    "\n",
    "resig = main.run_benign(algorithm, model, val_loader, num_batches)"
   ]
  },
  {
   "cell_type": "markdown",
   "id": "e14f22f5-4ddb-455f-bbde-8b06c35530f9",
   "metadata": {},
   "source": [
    "## PGD (IG)"
   ]
  },
  {
   "cell_type": "code",
   "execution_count": null,
   "id": "30cf3abf-7acc-4c41-b53c-8be1577ef927",
   "metadata": {
    "tags": []
   },
   "outputs": [
    {
     "name": "stdout",
     "output_type": "stream",
     "text": [
      "Attribution for batch 0 complete\n",
      "Attribution for batch 1 complete\n",
      "Attribution for batch 2 complete\n",
      "Attribution for batch 3 complete\n",
      "Attribution for batch 5 complete\n",
      "Attribution for batch 6 complete\n",
      "Attribution for batch 7 complete\n",
      "Attribution for batch 8 complete\n",
      "Attribution for batch 9 complete\n",
      "Attribution for batch 10 complete\n",
      "Attribution for batch 11 complete\n",
      "Attribution for batch 12 complete\n",
      "Attribution for batch 13 complete\n",
      "Attribution for batch 14 complete\n",
      "Attribution for batch 15 complete\n",
      "Attribution for batch 16 complete\n",
      "Attribution for batch 17 complete\n",
      "Attribution for batch 18 complete\n",
      "Attribution for batch 19 complete\n",
      "PGD Calculation Complete\n",
      "Attribution for batch 0 complete\n",
      "Attribution for batch 1 complete\n",
      "Attribution for batch 2 complete\n",
      "Attribution for batch 3 complete\n",
      "Attribution for batch 4 complete\n",
      "Attribution for batch 5 complete\n",
      "Attribution for batch 6 complete\n",
      "Attribution for batch 7 complete\n",
      "Attribution for batch 8 complete\n",
      "Attribution for batch 9 complete\n",
      "Attribution for batch 10 complete\n",
      "Attribution for batch 11 complete\n",
      "Attribution for batch 12 complete\n",
      "Attribution for batch 13 complete\n",
      "Attribution for batch 14 complete\n",
      "Attribution for batch 15 complete\n",
      "Attribution for batch 16 complete\n",
      "Attribution for batch 17 complete\n",
      "Attribution for batch 18 complete\n",
      "Attribution for batch 19 complete\n",
      "PGD Calculation Complete\n",
      "Attribution for batch 0 complete\n",
      "Attribution for batch 1 complete\n",
      "Attribution for batch 2 complete\n",
      "Attribution for batch 3 complete\n",
      "Attribution for batch 4 complete\n",
      "Attribution for batch 5 complete\n",
      "Attribution for batch 6 complete\n",
      "Attribution for batch 7 complete\n",
      "Attribution for batch 8 complete\n",
      "Attribution for batch 9 complete\n",
      "Attribution for batch 10 complete\n",
      "Attribution for batch 11 complete\n",
      "Attribution for batch 12 complete\n",
      "Attribution for batch 13 complete\n",
      "Attribution for batch 14 complete\n",
      "Attribution for batch 15 complete\n",
      "Attribution for batch 16 complete\n",
      "Attribution for batch 17 complete\n",
      "Attribution for batch 18 complete\n",
      "Attribution for batch 19 complete\n",
      "PGD Calculation Complete\n",
      "Attribution for batch 0 complete\n",
      "Attribution for batch 1 complete\n",
      "Attribution for batch 2 complete\n",
      "Attribution for batch 3 complete\n",
      "Attribution for batch 4 complete\n",
      "Attribution for batch 5 complete\n",
      "Attribution for batch 6 complete\n",
      "Attribution for batch 7 complete\n",
      "Attribution for batch 8 complete\n",
      "Attribution for batch 9 complete\n",
      "Attribution for batch 10 complete\n",
      "Attribution for batch 11 complete\n",
      "Attribution for batch 12 complete\n",
      "Attribution for batch 13 complete\n",
      "Attribution for batch 14 complete\n",
      "Attribution for batch 15 complete\n",
      "Attribution for batch 16 complete\n",
      "Attribution for batch 17 complete\n",
      "Attribution for batch 18 complete\n",
      "Attribution for batch 19 complete\n",
      "PGD Calculation Complete\n"
     ]
    }
   ],
   "source": [
    "res_pgd1ig = main.run_pgd(algorithm, model, val_loader, eps[0], num_batches)\n",
    "res_pgd2ig = main.run_pgd(algorithm, model, val_loader, eps[1], num_batches)\n",
    "res_pgd3ig = main.run_pgd(algorithm, model, val_loader, eps[2], num_batches)\n",
    "res_pgd4ig = main.run_pgd(algorithm, model, val_loader, eps[3], num_batches)"
   ]
  },
  {
   "cell_type": "code",
   "execution_count": 29,
   "id": "e37541a4-6261-4a11-bb2d-cd4d3b1bd821",
   "metadata": {
    "tags": []
   },
   "outputs": [],
   "source": [
    "import pickle\n",
    "\n",
    "skin_pgd_ig = {}\n",
    "# skin_pgd_ig['ben'] = resig\n",
    "# skin_pgd_ig['pgd1'] = res_pgd1ig\n",
    "# skin_pgd_ig['pgd2'] = res_pgd2ig\n",
    "# skin_pgd_ig['pgd3'] = res_pgd3ig\n",
    "# skin_pgd_ig['pgd4'] = res_pgd4ig\n",
    "# with open('skin_pgd_ig.pkl', 'wb') as f:\n",
    "#     pickle.dump(skin_pgd_ig, f)\n",
    "with open('skin_pgd_ig.pkl', 'rb') as fp:\n",
    "    skin_pgd_ig = pickle.load(fp)"
   ]
  },
  {
   "cell_type": "code",
   "execution_count": 30,
   "id": "e812d7c3-dd00-4acf-a9fa-05905ac3b52d",
   "metadata": {
    "tags": []
   },
   "outputs": [],
   "source": [
    "temp = skin_pgd_ig['pgd1'][0]\n",
    "skin_pgd_ig['pgd1'][0] = skin_pgd_ig['pgd1'][1] \n",
    "skin_pgd_ig['pgd1'][1] = temp\n",
    "\n",
    "temp = skin_pgd_ig['pgd2'][0]\n",
    "skin_pgd_ig['pgd2'][0] = skin_pgd_ig['pgd2'][1] \n",
    "skin_pgd_ig['pgd2'][1] = temp\n",
    "\n",
    "temp = skin_pgd_ig['pgd3'][0]\n",
    "skin_pgd_ig['pgd3'][0] = skin_pgd_ig['pgd3'][1] \n",
    "skin_pgd_ig['pgd3'][1] = temp\n",
    "\n",
    "temp = skin_pgd_ig['pgd4'][0]\n",
    "skin_pgd_ig['pgd4'][0] = skin_pgd_ig['pgd4'][1] \n",
    "skin_pgd_ig['pgd4'][1] = temp"
   ]
  },
  {
   "cell_type": "code",
   "execution_count": 34,
   "id": "872a607c-b754-4afa-8922-f1d22560386a",
   "metadata": {
    "tags": []
   },
   "outputs": [
    {
     "data": {
      "image/png": "[encoded data removed]",
      "text/plain": [
       "<Figure size 640x480 with 1 Axes>"
      ]
     },
     "metadata": {},
     "output_type": "display_data"
    }
   ],
   "source": [
    "ind = 1\n",
    "plt.hist(skin_pgd_ig['ben'][ind], label='Benign', color='blue')\n",
    "plt.hist(skin_pgd_ig['pgd1'][ind], label='PGD 8/255', color='red')\n",
    "plt.hist(skin_pgd_ig['pgd2'][ind], label='PGD 16/255',  color='yellow')\n",
    "plt.hist(skin_pgd_ig['pgd3'][ind], label='PGD 32/255',  color='green')\n",
    "plt.hist(skin_pgd_ig['pgd4'][ind], label='PGD 64/255',  color='purple')\n",
    "plt.legend()\n",
    "plt.show()"
   ]
  },
  {
   "cell_type": "markdown",
   "id": "fa021130-bedb-4628-b1e9-c2ca24f3c4c2",
   "metadata": {},
   "source": [
    "## FGSM (IG)"
   ]
  },
  {
   "cell_type": "code",
   "execution_count": null,
   "id": "7fcd613a-d555-4b76-b8ff-b342aa2f6320",
   "metadata": {},
   "outputs": [
    {
     "name": "stdout",
     "output_type": "stream",
     "text": [
      "Attribution for batch 0 complete\n",
      "Attribution for batch 1 complete\n",
      "Attribution for batch 2 complete\n",
      "Attribution for batch 3 complete\n",
      "Attribution for batch 4 complete\n",
      "Attribution for batch 5 complete\n",
      "Attribution for batch 6 complete\n",
      "Attribution for batch 7 complete\n",
      "Attribution for batch 8 complete\n",
      "Attribution for batch 9 complete\n",
      "Attribution for batch 10 complete\n",
      "Attribution for batch 11 complete\n",
      "Attribution for batch 12 complete\n",
      "Attribution for batch 13 complete\n",
      "Attribution for batch 14 complete\n",
      "Attribution for batch 15 complete\n",
      "Attribution for batch 16 complete\n",
      "Attribution for batch 17 complete\n",
      "Attribution for batch 18 complete\n",
      "Attribution for batch 19 complete\n",
      "FGSM Calculation Complete\n",
      "Attribution for batch 0 complete\n",
      "Attribution for batch 1 complete\n",
      "Attribution for batch 2 complete\n",
      "Attribution for batch 3 complete\n",
      "Attribution for batch 4 complete\n",
      "Attribution for batch 5 complete\n",
      "Attribution for batch 6 complete\n",
      "Attribution for batch 7 complete\n",
      "Attribution for batch 8 complete\n",
      "Attribution for batch 9 complete\n",
      "Attribution for batch 10 complete\n",
      "Attribution for batch 11 complete\n",
      "Attribution for batch 12 complete\n",
      "Attribution for batch 13 complete\n",
      "Attribution for batch 14 complete\n",
      "Attribution for batch 15 complete\n",
      "Attribution for batch 16 complete\n",
      "Attribution for batch 17 complete\n",
      "Attribution for batch 18 complete\n",
      "Attribution for batch 19 complete\n",
      "FGSM Calculation Complete\n",
      "Attribution for batch 0 complete\n",
      "Attribution for batch 1 complete\n",
      "Attribution for batch 2 complete\n",
      "Attribution for batch 3 complete\n",
      "Attribution for batch 4 complete\n",
      "Attribution for batch 5 complete\n",
      "Attribution for batch 6 complete\n",
      "Attribution for batch 7 complete\n",
      "Attribution for batch 8 complete\n",
      "Attribution for batch 9 complete\n",
      "Attribution for batch 10 complete\n",
      "Attribution for batch 11 complete\n",
      "Attribution for batch 12 complete\n",
      "Attribution for batch 13 complete\n",
      "Attribution for batch 14 complete\n",
      "Attribution for batch 15 complete\n",
      "Attribution for batch 16 complete\n",
      "Attribution for batch 1 complete\n",
      "Attribution for batch 2 complete\n",
      "Attribution for batch 3 complete\n",
      "Attribution for batch 4 complete\n",
      "Attribution for batch 5 complete\n",
      "Attribution for batch 6 complete\n",
      "Attribution for batch 7 complete\n",
      "Attribution for batch 8 complete\n",
      "Attribution for batch 9 complete\n",
      "Attribution for batch 10 complete\n",
      "Attribution for batch 11 complete\n",
      "Attribution for batch 12 complete\n",
      "Attribution for batch 13 complete\n",
      "Attribution for batch 14 complete\n",
      "Attribution for batch 16 complete\n",
      "Attribution for batch 17 complete\n",
      "Attribution for batch 18 complete\n",
      "Attribution for batch 19 complete\n",
      "FGSM Calculation Complete\n"
     ]
    }
   ],
   "source": [
    "res_fgsm1ig = main.run_fgsm(algorithm, model, val_loader, eps[0], num_batches)\n",
    "res_fgsm2ig = main.run_fgsm(algorithm, model, val_loader, eps[1], num_batches)\n",
    "res_fgsm3ig = main.run_fgsm(algorithm, model, val_loader, eps[2], num_batches)\n",
    "res_fgsm4ig = main.run_fgsm(algorithm, model, val_loader, eps[3], num_batches)"
   ]
  },
  {
   "cell_type": "code",
   "execution_count": 35,
   "id": "81aeb2e3-b4cc-4953-9da1-a7f167bb0767",
   "metadata": {
    "tags": []
   },
   "outputs": [],
   "source": [
    "skin_fgsm_ig = {}\n",
    "# skin_fgsm_ig['ben'] = resig\n",
    "# skin_fgsm_ig['fgsm1'] = res_fgsm1ig\n",
    "# skin_fgsm_ig['fgsm2'] = res_fgsm2ig\n",
    "# skin_fgsm_ig['fgsm3'] = res_fgsm3ig\n",
    "# skin_fgsm_ig['fgsm4'] = res_fgsm4ig\n",
    "# with open('skin_fgsm_ig.pkl', 'wb') as f:\n",
    "#     pickle.dump(skin_fgsm_ig, f)\n",
    "with open('skin_fgsm_ig.pkl', 'rb') as fp:\n",
    "    skin_fgsm_ig = pickle.load(fp)"
   ]
  },
  {
   "cell_type": "code",
   "execution_count": 36,
   "id": "b87eb54b-5a58-4cb4-8eb7-90a65d2d24f1",
   "metadata": {
    "tags": []
   },
   "outputs": [],
   "source": [
    "temp = skin_fgsm_ig['fgsm1'][0]\n",
    "skin_fgsm_ig['fgsm1'][0] = skin_fgsm_ig['fgsm1'][1] \n",
    "skin_fgsm_ig['fgsm1'][1] = temp\n",
    "\n",
    "temp = skin_fgsm_ig['fgsm2'][0]\n",
    "skin_fgsm_ig['fgsm2'][0] = skin_fgsm_ig['fgsm2'][1] \n",
    "skin_fgsm_ig['fgsm2'][1] = temp\n",
    "\n",
    "temp = skin_fgsm_ig['fgsm3'][0]\n",
    "skin_fgsm_ig['fgsm3'][0] = skin_fgsm_ig['fgsm3'][1] \n",
    "skin_fgsm_ig['fgsm3'][1] = temp\n",
    "\n",
    "temp = skin_fgsm_ig['fgsm4'][0]\n",
    "skin_fgsm_ig['fgsm4'][0] = skin_fgsm_ig['fgsm4'][1] \n",
    "skin_fgsm_ig['fgsm4'][1] = temp"
   ]
  },
  {
   "cell_type": "code",
   "execution_count": 38,
   "id": "6934830b-69ed-458a-a160-a8d007421a25",
   "metadata": {},
   "outputs": [
    {
     "data": {
      "image/png": "[encoded data removed]",
      "text/plain": [
       "<Figure size 640x480 with 1 Axes>"
      ]
     },
     "metadata": {},
     "output_type": "display_data"
    }
   ],
   "source": [
    "ind = 1\n",
    "plt.hist(skin_fgsm_ig['ben'][ind], label='Benign', color='blue')\n",
    "plt.hist(skin_fgsm_ig['fgsm1'][ind], label='FGSM 8/255',  color='red')\n",
    "plt.hist(skin_fgsm_ig['fgsm2'][ind], label='FGSM 16/255',  color='yellow')\n",
    "plt.hist(skin_fgsm_ig['fgsm3'][ind], label='FGSM 32/255',  color='green')\n",
    "plt.hist(skin_fgsm_ig['fgsm4'][ind], label='FGSM 64/255',  color='purple')\n",
    "plt.legend()\n",
    "plt.show()"
   ]
  },
  {
   "cell_type": "code",
   "execution_count": 39,
   "id": "c62d0349-c542-47e8-a536-810f27f046c7",
   "metadata": {
    "tags": []
   },
   "outputs": [
    {
     "name": "stdout",
     "output_type": "stream",
     "text": [
      "[0.1, 0.1, 0.1, 0.1]\n",
      "[0.1, 0.09375, 0.1125, 0.35625]\n"
     ]
    },
    {
     "data": {
      "image/png": "[encoded data removed]",
      "text/plain": [
       "<Figure size 640x480 with 1 Axes>"
      ]
     },
     "metadata": {},
     "output_type": "display_data"
    }
   ],
   "source": [
    "ind = 1\n",
    "x1, y1 = roc_curve.min_roc_curve(skin_pgd_ig['ben'][ind], skin_pgd_ig['pgd1'][ind], 1000)\n",
    "x2, y2 = roc_curve.min_roc_curve(skin_pgd_ig['ben'][ind], skin_pgd_ig['pgd2'][ind], 1000)\n",
    "x3, y3 = roc_curve.min_roc_curve(skin_pgd_ig['ben'][ind], skin_pgd_ig['pgd3'][ind], 1000)\n",
    "x4, y4 = roc_curve.min_roc_curve(skin_pgd_ig['ben'][ind], skin_pgd_ig['pgd4'][ind], 1000)\n",
    "\n",
    "fpr_res = [0, 0, 0, 0]\n",
    "tpr_res = [0, 0, 0, 0]\n",
    "i = 0\n",
    "for a, b, c, d in zip(x1, x2, x3, x4):\n",
    "    if abs(a - 0.1) < abs(fpr_res[0] - 0.1):\n",
    "        fpr_res[0] = a\n",
    "        tpr_res[0] = y1[i]\n",
    "    if abs(b - 0.1) < abs(fpr_res[1] - 0.1):\n",
    "        fpr_res[1] = b\n",
    "        tpr_res[1] = y2[i]\n",
    "    if abs(c - 0.1) < abs(fpr_res[2] - 0.1):\n",
    "        fpr_res[2] = c\n",
    "        tpr_res[2] = y3[i]\n",
    "    if abs(d - 0.1) < abs(fpr_res[3] - 0.1):\n",
    "        fpr_res[3] = d\n",
    "        tpr_res[3] = y4[i]\n",
    "    i+=1\n",
    "        \n",
    "print(fpr_res)\n",
    "print(tpr_res)\n",
    "\n",
    "plt.title(\"PGD IG ROC for Skin\")\n",
    "plt.plot(x1, y1,   \"red\", linestyle = 'dotted', label = \"PGD 8/255\")\n",
    "plt.plot(x2, y2, \"blue\", linestyle = 'dotted', label = \"PGD 16/255\")\n",
    "plt.plot(x3, y3, \"green\", linestyle = 'dotted', label = \"PGD 32/255\")\n",
    "plt.plot(x4, y4, \"purple\", linestyle = 'dotted', label = \"PGD 64/255\")\n",
    "plt.show()"
   ]
  },
  {
   "cell_type": "code",
   "execution_count": 40,
   "id": "a97a3dc4-0ef3-42f6-9250-68f606fe2b43",
   "metadata": {
    "tags": []
   },
   "outputs": [
    {
     "name": "stdout",
     "output_type": "stream",
     "text": [
      "[0.1, 0.1, 0.1, 0.1]\n",
      "[0.275, 0.409375, 0.63125, 0.903125]\n"
     ]
    },
    {
     "data": {
      "image/png": "[encoded data removed]",
      "text/plain": [
       "<Figure size 640x480 with 1 Axes>"
      ]
     },
     "metadata": {},
     "output_type": "display_data"
    }
   ],
   "source": [
    "ind = 1\n",
    "x1, y1 = roc_curve.min_roc_curve(skin_fgsm_ig['ben'][ind], skin_fgsm_ig['fgsm1'][ind], 1000)\n",
    "x2, y2 = roc_curve.min_roc_curve(skin_fgsm_ig['ben'][ind], skin_fgsm_ig['fgsm2'][ind], 1000)\n",
    "x3, y3 = roc_curve.min_roc_curve(skin_fgsm_ig['ben'][ind], skin_fgsm_ig['fgsm3'][ind], 1000)\n",
    "x4, y4 = roc_curve.min_roc_curve(skin_fgsm_ig['ben'][ind], skin_fgsm_ig['fgsm4'][ind], 1000)\n",
    "\n",
    "fpr_res = [0, 0, 0, 0]\n",
    "tpr_res = [0, 0, 0, 0]\n",
    "i = 0\n",
    "for a, b, c, d in zip(x1, x2, x3, x4):\n",
    "    if abs(a - 0.1) < abs(fpr_res[0] - 0.1):\n",
    "        fpr_res[0] = a\n",
    "        tpr_res[0] = y1[i]\n",
    "    if abs(b - 0.1) < abs(fpr_res[1] - 0.1):\n",
    "        fpr_res[1] = b\n",
    "        tpr_res[1] = y2[i]\n",
    "    if abs(c - 0.1) < abs(fpr_res[2] - 0.1):\n",
    "        fpr_res[2] = c\n",
    "        tpr_res[2] = y3[i]\n",
    "    if abs(d - 0.1) < abs(fpr_res[3] - 0.1):\n",
    "        fpr_res[3] = d\n",
    "        tpr_res[3] = y4[i]\n",
    "    i+=1\n",
    "        \n",
    "print(fpr_res)\n",
    "print(tpr_res)\n",
    "\n",
    "plt.title(\"FGSM IG ROC for Skin\")\n",
    "plt.plot(x1, y1,   \"red\", linestyle = 'dotted', label = \"FGSM 8/255\")\n",
    "plt.plot(x2, y2, \"blue\", linestyle = 'dotted', label = \"FGSM 16/255\")\n",
    "plt.plot(x3, y3, \"green\", linestyle = 'dotted', label = \"FGSM 32/255\")\n",
    "plt.plot(x4, y4, \"purple\", linestyle = 'dotted', label = \"FGSM 64/255\")\n",
    "plt.show()"
   ]
  }
 ],
 "metadata": {
  "availableInstances": [
   {
    "_defaultOrder": 0,
    "_isFastLaunch": true,
    "category": "General purpose",
    "gpuNum": 0,
    "hideHardwareSpecs": false,
    "memoryGiB": 4,
    "name": "ml.t3.medium",
    "vcpuNum": 2
   },
   {
    "_defaultOrder": 1,
    "_isFastLaunch": false,
    "category": "General purpose",
    "gpuNum": 0,
    "hideHardwareSpecs": false,
    "memoryGiB": 8,
    "name": "ml.t3.large",
    "vcpuNum": 2
   },
   {
    "_defaultOrder": 2,
    "_isFastLaunch": false,
    "category": "General purpose",
    "gpuNum": 0,
    "hideHardwareSpecs": false,
    "memoryGiB": 16,
    "name": "ml.t3.xlarge",
    "vcpuNum": 4
   },
   {
    "_defaultOrder": 3,
    "_isFastLaunch": false,
    "category": "General purpose",
    "gpuNum": 0,
    "hideHardwareSpecs": false,
    "memoryGiB": 32,
    "name": "ml.t3.2xlarge",
    "vcpuNum": 8
   },
   {
    "_defaultOrder": 4,
    "_isFastLaunch": true,
    "category": "General purpose",
    "gpuNum": 0,
    "hideHardwareSpecs": false,
    "memoryGiB": 8,
    "name": "ml.m5.large",
    "vcpuNum": 2
   },
   {
    "_defaultOrder": 5,
    "_isFastLaunch": false,
    "category": "General purpose",
    "gpuNum": 0,
    "hideHardwareSpecs": false,
    "memoryGiB": 16,
    "name": "ml.m5.xlarge",
    "vcpuNum": 4
   },
   {
    "_defaultOrder": 6,
    "_isFastLaunch": false,
    "category": "General purpose",
    "gpuNum": 0,
    "hideHardwareSpecs": false,
    "memoryGiB": 32,
    "name": "ml.m5.2xlarge",
    "vcpuNum": 8
   },
   {
    "_defaultOrder": 7,
    "_isFastLaunch": false,
    "category": "General purpose",
    "gpuNum": 0,
    "hideHardwareSpecs": false,
    "memoryGiB": 64,
    "name": "ml.m5.4xlarge",
    "vcpuNum": 16
   },
   {
    "_defaultOrder": 8,
    "_isFastLaunch": false,
    "category": "General purpose",
    "gpuNum": 0,
    "hideHardwareSpecs": false,
    "memoryGiB": 128,
    "name": "ml.m5.8xlarge",
    "vcpuNum": 32
   },
   {
    "_defaultOrder": 9,
    "_isFastLaunch": false,
    "category": "General purpose",
    "gpuNum": 0,
    "hideHardwareSpecs": false,
    "memoryGiB": 192,
    "name": "ml.m5.12xlarge",
    "vcpuNum": 48
   },
   {
    "_defaultOrder": 10,
    "_isFastLaunch": false,
    "category": "General purpose",
    "gpuNum": 0,
    "hideHardwareSpecs": false,
    "memoryGiB": 256,
    "name": "ml.m5.16xlarge",
    "vcpuNum": 64
   },
   {
    "_defaultOrder": 11,
    "_isFastLaunch": false,
    "category": "General purpose",
    "gpuNum": 0,
    "hideHardwareSpecs": false,
    "memoryGiB": 384,
    "name": "ml.m5.24xlarge",
    "vcpuNum": 96
   },
   {
    "_defaultOrder": 12,
    "_isFastLaunch": false,
    "category": "General purpose",
    "gpuNum": 0,
    "hideHardwareSpecs": false,
    "memoryGiB": 8,
    "name": "ml.m5d.large",
    "vcpuNum": 2
   },
   {
    "_defaultOrder": 13,
    "_isFastLaunch": false,
    "category": "General purpose",
    "gpuNum": 0,
    "hideHardwareSpecs": false,
    "memoryGiB": 16,
    "name": "ml.m5d.xlarge",
    "vcpuNum": 4
   },
   {
    "_defaultOrder": 14,
    "_isFastLaunch": false,
    "category": "General purpose",
    "gpuNum": 0,
    "hideHardwareSpecs": false,
    "memoryGiB": 32,
    "name": "ml.m5d.2xlarge",
    "vcpuNum": 8
   },
   {
    "_defaultOrder": 15,
    "_isFastLaunch": false,
    "category": "General purpose",
    "gpuNum": 0,
    "hideHardwareSpecs": false,
    "memoryGiB": 64,
    "name": "ml.m5d.4xlarge",
    "vcpuNum": 16
   },
   {
    "_defaultOrder": 16,
    "_isFastLaunch": false,
    "category": "General purpose",
    "gpuNum": 0,
    "hideHardwareSpecs": false,
    "memoryGiB": 128,
    "name": "ml.m5d.8xlarge",
    "vcpuNum": 32
   },
   {
    "_defaultOrder": 17,
    "_isFastLaunch": false,
    "category": "General purpose",
    "gpuNum": 0,
    "hideHardwareSpecs": false,
    "memoryGiB": 192,
    "name": "ml.m5d.12xlarge",
    "vcpuNum": 48
   },
   {
    "_defaultOrder": 18,
    "_isFastLaunch": false,
    "category": "General purpose",
    "gpuNum": 0,
    "hideHardwareSpecs": false,
    "memoryGiB": 256,
    "name": "ml.m5d.16xlarge",
    "vcpuNum": 64
   },
   {
    "_defaultOrder": 19,
    "_isFastLaunch": false,
    "category": "General purpose",
    "gpuNum": 0,
    "hideHardwareSpecs": false,
    "memoryGiB": 384,
    "name": "ml.m5d.24xlarge",
    "vcpuNum": 96
   },
   {
    "_defaultOrder": 20,
    "_isFastLaunch": false,
    "category": "General purpose",
    "gpuNum": 0,
    "hideHardwareSpecs": true,
    "memoryGiB": 0,
    "name": "ml.geospatial.interactive",
    "supportedImageNames": [
     "sagemaker-geospatial-v1-0"
    ],
    "vcpuNum": 0
   },
   {
    "_defaultOrder": 21,
    "_isFastLaunch": true,
    "category": "Compute optimized",
    "gpuNum": 0,
    "hideHardwareSpecs": false,
    "memoryGiB": 4,
    "name": "ml.c5.large",
    "vcpuNum": 2
   },
   {
    "_defaultOrder": 22,
    "_isFastLaunch": false,
    "category": "Compute optimized",
    "gpuNum": 0,
    "hideHardwareSpecs": false,
    "memoryGiB": 8,
    "name": "ml.c5.xlarge",
    "vcpuNum": 4
   },
   {
    "_defaultOrder": 23,
    "_isFastLaunch": false,
    "category": "Compute optimized",
    "gpuNum": 0,
    "hideHardwareSpecs": false,
    "memoryGiB": 16,
    "name": "ml.c5.2xlarge",
    "vcpuNum": 8
   },
   {
    "_defaultOrder": 24,
    "_isFastLaunch": false,
    "category": "Compute optimized",
    "gpuNum": 0,
    "hideHardwareSpecs": false,
    "memoryGiB": 32,
    "name": "ml.c5.4xlarge",
    "vcpuNum": 16
   },
   {
    "_defaultOrder": 25,
    "_isFastLaunch": false,
    "category": "Compute optimized",
    "gpuNum": 0,
    "hideHardwareSpecs": false,
    "memoryGiB": 72,
    "name": "ml.c5.9xlarge",
    "vcpuNum": 36
   },
   {
    "_defaultOrder": 26,
    "_isFastLaunch": false,
    "category": "Compute optimized",
    "gpuNum": 0,
    "hideHardwareSpecs": false,
    "memoryGiB": 96,
    "name": "ml.c5.12xlarge",
    "vcpuNum": 48
   },
   {
    "_defaultOrder": 27,
    "_isFastLaunch": false,
    "category": "Compute optimized",
    "gpuNum": 0,
    "hideHardwareSpecs": false,
    "memoryGiB": 144,
    "name": "ml.c5.18xlarge",
    "vcpuNum": 72
   },
   {
    "_defaultOrder": 28,
    "_isFastLaunch": false,
    "category": "Compute optimized",
    "gpuNum": 0,
    "hideHardwareSpecs": false,
    "memoryGiB": 192,
    "name": "ml.c5.24xlarge",
    "vcpuNum": 96
   },
   {
    "_defaultOrder": 29,
    "_isFastLaunch": true,
    "category": "Accelerated computing",
    "gpuNum": 1,
    "hideHardwareSpecs": false,
    "memoryGiB": 16,
    "name": "ml.g4dn.xlarge",
    "vcpuNum": 4
   },
   {
    "_defaultOrder": 30,
    "_isFastLaunch": false,
    "category": "Accelerated computing",
    "gpuNum": 1,
    "hideHardwareSpecs": false,
    "memoryGiB": 32,
    "name": "ml.g4dn.2xlarge",
    "vcpuNum": 8
   },
   {
    "_defaultOrder": 31,
    "_isFastLaunch": false,
    "category": "Accelerated computing",
    "gpuNum": 1,
    "hideHardwareSpecs": false,
    "memoryGiB": 64,
    "name": "ml.g4dn.4xlarge",
    "vcpuNum": 16
   },
   {
    "_defaultOrder": 32,
    "_isFastLaunch": false,
    "category": "Accelerated computing",
    "gpuNum": 1,
    "hideHardwareSpecs": false,
    "memoryGiB": 128,
    "name": "ml.g4dn.8xlarge",
    "vcpuNum": 32
   },
   {
    "_defaultOrder": 33,
    "_isFastLaunch": false,
    "category": "Accelerated computing",
    "gpuNum": 4,
    "hideHardwareSpecs": false,
    "memoryGiB": 192,
    "name": "ml.g4dn.12xlarge",
    "vcpuNum": 48
   },
   {
    "_defaultOrder": 34,
    "_isFastLaunch": false,
    "category": "Accelerated computing",
    "gpuNum": 1,
    "hideHardwareSpecs": false,
    "memoryGiB": 256,
    "name": "ml.g4dn.16xlarge",
    "vcpuNum": 64
   },
   {
    "_defaultOrder": 35,
    "_isFastLaunch": false,
    "category": "Accelerated computing",
    "gpuNum": 1,
    "hideHardwareSpecs": false,
    "memoryGiB": 61,
    "name": "ml.p3.2xlarge",
    "vcpuNum": 8
   },
   {
    "_defaultOrder": 36,
    "_isFastLaunch": false,
    "category": "Accelerated computing",
    "gpuNum": 4,
    "hideHardwareSpecs": false,
    "memoryGiB": 244,
    "name": "ml.p3.8xlarge",
    "vcpuNum": 32
   },
   {
    "_defaultOrder": 37,
    "_isFastLaunch": false,
    "category": "Accelerated computing",
    "gpuNum": 8,
    "hideHardwareSpecs": false,
    "memoryGiB": 488,
    "name": "ml.p3.16xlarge",
    "vcpuNum": 64
   },
   {
    "_defaultOrder": 38,
    "_isFastLaunch": false,
    "category": "Accelerated computing",
    "gpuNum": 8,
    "hideHardwareSpecs": false,
    "memoryGiB": 768,
    "name": "ml.p3dn.24xlarge",
    "vcpuNum": 96
   },
   {
    "_defaultOrder": 39,
    "_isFastLaunch": false,
    "category": "Memory Optimized",
    "gpuNum": 0,
    "hideHardwareSpecs": false,
    "memoryGiB": 16,
    "name": "ml.r5.large",
    "vcpuNum": 2
   },
   {
    "_defaultOrder": 40,
    "_isFastLaunch": false,
    "category": "Memory Optimized",
    "gpuNum": 0,
    "hideHardwareSpecs": false,
    "memoryGiB": 32,
    "name": "ml.r5.xlarge",
    "vcpuNum": 4
   },
   {
    "_defaultOrder": 41,
    "_isFastLaunch": false,
    "category": "Memory Optimized",
    "gpuNum": 0,
    "hideHardwareSpecs": false,
    "memoryGiB": 64,
    "name": "ml.r5.2xlarge",
    "vcpuNum": 8
   },
   {
    "_defaultOrder": 42,
    "_isFastLaunch": false,
    "category": "Memory Optimized",
    "gpuNum": 0,
    "hideHardwareSpecs": false,
    "memoryGiB": 128,
    "name": "ml.r5.4xlarge",
    "vcpuNum": 16
   },
   {
    "_defaultOrder": 43,
    "_isFastLaunch": false,
    "category": "Memory Optimized",
    "gpuNum": 0,
    "hideHardwareSpecs": false,
    "memoryGiB": 256,
    "name": "ml.r5.8xlarge",
    "vcpuNum": 32
   },
   {
    "_defaultOrder": 44,
    "_isFastLaunch": false,
    "category": "Memory Optimized",
    "gpuNum": 0,
    "hideHardwareSpecs": false,
    "memoryGiB": 384,
    "name": "ml.r5.12xlarge",
    "vcpuNum": 48
   },
   {
    "_defaultOrder": 45,
    "_isFastLaunch": false,
    "category": "Memory Optimized",
    "gpuNum": 0,
    "hideHardwareSpecs": false,
    "memoryGiB": 512,
    "name": "ml.r5.16xlarge",
    "vcpuNum": 64
   },
   {
    "_defaultOrder": 46,
    "_isFastLaunch": false,
    "category": "Memory Optimized",
    "gpuNum": 0,
    "hideHardwareSpecs": false,
    "memoryGiB": 768,
    "name": "ml.r5.24xlarge",
    "vcpuNum": 96
   },
   {
    "_defaultOrder": 47,
    "_isFastLaunch": false,
    "category": "Accelerated computing",
    "gpuNum": 1,
    "hideHardwareSpecs": false,
    "memoryGiB": 16,
    "name": "ml.g5.xlarge",
    "vcpuNum": 4
   },
   {
    "_defaultOrder": 48,
    "_isFastLaunch": false,
    "category": "Accelerated computing",
    "gpuNum": 1,
    "hideHardwareSpecs": false,
    "memoryGiB": 32,
    "name": "ml.g5.2xlarge",
    "vcpuNum": 8
   },
   {
    "_defaultOrder": 49,
    "_isFastLaunch": false,
    "category": "Accelerated computing",
    "gpuNum": 1,
    "hideHardwareSpecs": false,
    "memoryGiB": 64,
    "name": "ml.g5.4xlarge",
    "vcpuNum": 16
   },
   {
    "_defaultOrder": 50,
    "_isFastLaunch": false,
    "category": "Accelerated computing",
    "gpuNum": 1,
    "hideHardwareSpecs": false,
    "memoryGiB": 128,
    "name": "ml.g5.8xlarge",
    "vcpuNum": 32
   },
   {
    "_defaultOrder": 51,
    "_isFastLaunch": false,
    "category": "Accelerated computing",
    "gpuNum": 1,
    "hideHardwareSpecs": false,
    "memoryGiB": 256,
    "name": "ml.g5.16xlarge",
    "vcpuNum": 64
   },
   {
    "_defaultOrder": 52,
    "_isFastLaunch": false,
    "category": "Accelerated computing",
    "gpuNum": 4,
    "hideHardwareSpecs": false,
    "memoryGiB": 192,
    "name": "ml.g5.12xlarge",
    "vcpuNum": 48
   },
   {
    "_defaultOrder": 53,
    "_isFastLaunch": false,
    "category": "Accelerated computing",
    "gpuNum": 4,
    "hideHardwareSpecs": false,
    "memoryGiB": 384,
    "name": "ml.g5.24xlarge",
    "vcpuNum": 96
   },
   {
    "_defaultOrder": 54,
    "_isFastLaunch": false,
    "category": "Accelerated computing",
    "gpuNum": 8,
    "hideHardwareSpecs": false,
    "memoryGiB": 768,
    "name": "ml.g5.48xlarge",
    "vcpuNum": 192
   },
   {
    "_defaultOrder": 55,
    "_isFastLaunch": false,
    "category": "Accelerated computing",
    "gpuNum": 8,
    "hideHardwareSpecs": false,
    "memoryGiB": 1152,
    "name": "ml.p4d.24xlarge",
    "vcpuNum": 96
   },
   {
    "_defaultOrder": 56,
    "_isFastLaunch": false,
    "category": "Accelerated computing",
    "gpuNum": 8,
    "hideHardwareSpecs": false,
    "memoryGiB": 1152,
    "name": "ml.p4de.24xlarge",
    "vcpuNum": 96
   }
  ],
  "kernelspec": {
   "display_name": "Python 3 (Data Science 3.0)",
   "language": "python",
   "name": "python3__SAGEMAKER_INTERNAL__arn:aws:sagemaker:us-east-2:429704687514:image/sagemaker-data-science-310-v1"
  },
  "language_info": {
   "codemirror_mode": {
    "name": "ipython",
    "version": 3
   },
   "file_extension": ".py",
   "mimetype": "text/x-python",
   "name": "python",
   "nbconvert_exporter": "python",
   "pygments_lexer": "ipython3",
   "version": "3.10.6"
  }
 },
 "nbformat": 4,
 "nbformat_minor": 5
}
