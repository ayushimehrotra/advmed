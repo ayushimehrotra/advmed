{
 "cells": [
  {
   "cell_type": "markdown",
   "id": "7c1bca5b-17ca-43ea-b701-5ce149722883",
   "metadata": {},
   "source": [
    "## Libraries"
   ]
  },
  {
   "cell_type": "code",
   "execution_count": 2,
   "id": "1218985f-620e-4419-af65-9fb0c8f59b14",
   "metadata": {
    "tags": []
   },
   "outputs": [],
   "source": [
    "from IPython.display import clear_output\n",
    "!pip install torch\n",
    "!pip install torchvision\n",
    "!pip install opencv-python\n",
    "!pip install seaborn\n",
    "!pip install matplotlib\n",
    "!pip install cleverhans\n",
    "!pip install cachetools\n",
    "!pip install pandas==1.3\n",
    "!pip install foolbox\n",
    "!apt-get update && apt-get install ffmpeg libsm6 libxext6  -y\n",
    "clear_output()"
   ]
  },
  {
   "cell_type": "code",
   "execution_count": 3,
   "id": "678c020a-2b27-4adf-8cdb-5c9269e18669",
   "metadata": {
    "tags": []
   },
   "outputs": [
    {
     "name": "stdout",
     "output_type": "stream",
     "text": [
      "Collecting pandas==1.3.3\n",
      "  Using cached pandas-1.3.3-cp310-cp310-manylinux_2_17_x86_64.manylinux2014_x86_64.whl (11.5 MB)\n",
      "Requirement already satisfied: numpy>=1.17.3 in /opt/conda/lib/python3.10/site-packages (from pandas==1.3.3) (1.26.2)\n",
      "Requirement already satisfied: python-dateutil>=2.7.3 in /opt/conda/lib/python3.10/site-packages (from pandas==1.3.3) (2.8.2)\n",
      "Requirement already satisfied: pytz>=2017.3 in /opt/conda/lib/python3.10/site-packages (from pandas==1.3.3) (2022.1)\n",
      "Requirement already satisfied: six>=1.5 in /opt/conda/lib/python3.10/site-packages (from python-dateutil>=2.7.3->pandas==1.3.3) (1.16.0)\n",
      "Installing collected packages: pandas\n",
      "  Attempting uninstall: pandas\n",
      "    Found existing installation: pandas 2.1.3\n",
      "    Uninstalling pandas-2.1.3:\n",
      "      Successfully uninstalled pandas-2.1.3\n",
      "\u001b[31mERROR: pip's dependency resolver does not currently take into account all the packages that are installed. This behaviour is the source of the following dependency conflicts.\n",
      "panel 0.13.1 requires bokeh<2.5.0,>=2.4.0, but you have bokeh 3.3.2 which is incompatible.\n",
      "sagemaker 2.199.0 requires urllib3<1.27, but you have urllib3 2.1.0 which is incompatible.\n",
      "sagemaker-datawrangler 0.4.3 requires sagemaker-data-insights==0.4.0, but you have sagemaker-data-insights 0.3.3 which is incompatible.\u001b[0m\u001b[31m\n",
      "\u001b[0mSuccessfully installed pandas-1.3.3\n",
      "\u001b[33mWARNING: Running pip as the 'root' user can result in broken permissions and conflicting behaviour with the system package manager. It is recommended to use a virtual environment instead: https://pip.pypa.io/warnings/venv\u001b[0m\u001b[33m\n",
      "\u001b[0m\n",
      "\u001b[1m[\u001b[0m\u001b[34;49mnotice\u001b[0m\u001b[1;39;49m]\u001b[0m\u001b[39;49m A new release of pip is available: \u001b[0m\u001b[31;49m23.3.1\u001b[0m\u001b[39;49m -> \u001b[0m\u001b[32;49m23.3.2\u001b[0m\n",
      "\u001b[1m[\u001b[0m\u001b[34;49mnotice\u001b[0m\u001b[1;39;49m]\u001b[0m\u001b[39;49m To update, run: \u001b[0m\u001b[32;49mpip install --upgrade pip\u001b[0m\n"
     ]
    }
   ],
   "source": [
    "!pip install pandas==1.3.3"
   ]
  },
  {
   "cell_type": "code",
   "execution_count": 4,
   "id": "ad193faa-6fc1-431a-96d2-1364b8575e99",
   "metadata": {
    "tags": []
   },
   "outputs": [],
   "source": [
    "import os,itertools\n",
    "import numpy as np\n",
    "import pandas as pd\n",
    "from tqdm import tqdm\n",
    "from glob import glob\n",
    "from PIL import Image\n",
    "import gc\n",
    "import matplotlib.pyplot as plt"
   ]
  },
  {
   "cell_type": "code",
   "execution_count": 5,
   "id": "3f58edf6-f83a-40c4-b3a1-659efb169eaa",
   "metadata": {
    "tags": []
   },
   "outputs": [],
   "source": [
    "import torch\n",
    "from torch.utils.data import DataLoader,Dataset\n",
    "from torchvision import models, transforms\n",
    "from load_diabetic import load_diabetic_data\n",
    "from load_skin import load_skin_data"
   ]
  },
  {
   "cell_type": "code",
   "execution_count": 6,
   "id": "1979bfdf-5313-49c0-92f8-e41266450829",
   "metadata": {
    "tags": []
   },
   "outputs": [],
   "source": [
    "device = torch.device('cuda:0' if torch.cuda.is_available() else 'cpu')"
   ]
  },
  {
   "cell_type": "markdown",
   "id": "7c3f86cd-7267-4664-bbf7-c689dfe3aa89",
   "metadata": {},
   "source": [
    "## Load Data"
   ]
  },
  {
   "cell_type": "code",
   "execution_count": 7,
   "id": "197d2941-588a-406e-8f18-5afa83beb92a",
   "metadata": {
    "tags": []
   },
   "outputs": [
    {
     "name": "stdout",
     "output_type": "stream",
     "text": [
      "2248\n"
     ]
    }
   ],
   "source": [
    "train_loader, val_loader = load_skin_data()\n",
    "print(len(train_loader))"
   ]
  },
  {
   "cell_type": "markdown",
   "id": "2c53f3c7-469a-4b9d-9f45-4678e9e5e039",
   "metadata": {},
   "source": [
    "## Model"
   ]
  },
  {
   "cell_type": "code",
   "execution_count": 8,
   "id": "323f1630-e187-4ff3-9817-853191621213",
   "metadata": {
    "tags": []
   },
   "outputs": [],
   "source": [
    "from torch import optim,nn\n",
    "\n",
    "num_classes = 7"
   ]
  },
  {
   "cell_type": "code",
   "execution_count": 7,
   "id": "52449021-cdcb-4290-a77d-cb0628e17c21",
   "metadata": {
    "tags": []
   },
   "outputs": [
    {
     "name": "stderr",
     "output_type": "stream",
     "text": [
      "/opt/conda/lib/python3.10/site-packages/torchvision/models/_utils.py:208: UserWarning: The parameter 'pretrained' is deprecated since 0.13 and may be removed in the future, please use 'weights' instead.\n",
      "  warnings.warn(\n",
      "/opt/conda/lib/python3.10/site-packages/torchvision/models/_utils.py:223: UserWarning: Arguments other than a weight enum or `None` for 'weights' are deprecated since 0.13 and may be removed in the future. The current behavior is equivalent to passing `weights=ResNet50_Weights.IMAGENET1K_V1`. You can also use `weights=ResNet50_Weights.DEFAULT` to get the most up-to-date weights.\n",
      "  warnings.warn(msg)\n"
     ]
    }
   ],
   "source": [
    "model_ft = models.resnet50(pretrained=True)\n",
    "model_ft.fc = nn.Linear(model_ft.fc.in_features, num_classes)\n",
    "model = model_ft.to(device)"
   ]
  },
  {
   "cell_type": "code",
   "execution_count": 8,
   "id": "e26acd4e-9939-46ad-93f9-b1fa3b593325",
   "metadata": {
    "tags": []
   },
   "outputs": [],
   "source": [
    "criterion = nn.CrossEntropyLoss().to(device)\n",
    "optimizer = optim.SGD(model.parameters(), lr=1e-3, momentum=0.9)"
   ]
  },
  {
   "cell_type": "markdown",
   "id": "a6182664-59d7-4638-abc8-1b1ab252550a",
   "metadata": {},
   "source": [
    "### Training"
   ]
  },
  {
   "cell_type": "code",
   "execution_count": 9,
   "id": "fb0e29c8-428f-4012-929f-0d11338946a8",
   "metadata": {
    "tags": []
   },
   "outputs": [],
   "source": [
    "class AverageMeter(object):\n",
    "    def __init__(self):\n",
    "        self.reset()\n",
    "\n",
    "    def reset(self):\n",
    "        self.val = 0\n",
    "        self.avg = 0\n",
    "        self.sum = 0\n",
    "        self.count = 0\n",
    "\n",
    "    def update(self, val, n=1):\n",
    "        self.val = val\n",
    "        self.sum += val * n\n",
    "        self.count += n\n",
    "        self.avg = self.sum / self.count"
   ]
  },
  {
   "cell_type": "code",
   "execution_count": 13,
   "id": "5d7e4241-ca50-48be-a7e0-0803c2bf7b49",
   "metadata": {
    "tags": []
   },
   "outputs": [],
   "source": [
    "total_loss_train, total_acc_train = [],[]\n",
    "def train(train_loader, model, criterion, optimizer):\n",
    "    model.train()\n",
    "    train_loss = AverageMeter()\n",
    "    train_acc = AverageMeter()\n",
    "    for i, data in enumerate(train_loader):\n",
    "        images, labels = data\n",
    "        N = images.size(0);\n",
    "        optimizer.zero_grad()\n",
    "        \n",
    "        outputs = model(images)\n",
    "        loss = criterion(outputs, labels)\n",
    "        loss.backward()\n",
    "        optimizer.step()\n",
    "        \n",
    "        prediction = outputs.max(1, keepdim=True)[1]\n",
    "        train_acc.update(prediction.eq(labels.view_as(prediction)).sum().item()/N)\n",
    "        train_loss.update(loss.item())\n",
    "        if (i + 1) % 100 == 0:\n",
    "            print('[train loss %.5f], [train acc %.5f]' % (train_loss.avg, train_acc.avg))\n",
    "            total_loss_train.append(train_loss.avg)\n",
    "            total_acc_train.append(train_acc.avg)\n",
    "    print('[Train loss %.5f], [Train acc %.5f]' % (total_loss_train[-1], total_acc_train[-1]))"
   ]
  },
  {
   "cell_type": "code",
   "execution_count": 14,
   "id": "ed97578e-8c83-4d59-aa45-5ba42c12d4b7",
   "metadata": {
    "tags": []
   },
   "outputs": [],
   "source": [
    "def validate(val_loader, model, criterion, optimizer, epoch):\n",
    "    model.eval()\n",
    "    val_loss = AverageMeter()\n",
    "    val_acc = AverageMeter()\n",
    "    with torch.no_grad():\n",
    "        for i, data in enumerate(val_loader):\n",
    "            gc.collect()\n",
    "            torch.cuda.empty_cache()\n",
    "            images, labels = data\n",
    "            N = images.size(0)\n",
    "            images = images.to(device)\n",
    "            labels = labels.to(device)\n",
    "\n",
    "            outputs = model(images)\n",
    "            prediction = outputs.max(1, keepdim=True)[1]\n",
    "\n",
    "            val_acc.update(prediction.eq(labels.view_as(prediction)).sum().item()/N)\n",
    "\n",
    "            val_loss.update(criterion(outputs, labels).item())\n",
    "\n",
    "    print('------------------------------------------------------------')\n",
    "    print('[epoch %d], [val loss %.5f], [val acc %.5f]' % (epoch, val_loss.avg, val_acc.avg))\n",
    "    print('------------------------------------------------------------')"
   ]
  },
  {
   "cell_type": "code",
   "execution_count": 15,
   "id": "df882845-0319-4148-94f4-31f3d873b3b7",
   "metadata": {
    "tags": []
   },
   "outputs": [
    {
     "name": "stdout",
     "output_type": "stream",
     "text": [
      "0\n",
      "[train loss 0.88797], [train acc 0.67688]\n",
      "[Train loss 0.88797], [Train acc 0.67688]\n",
      "Training Done\n",
      "------------------------------------------------------------\n",
      "[epoch 0], [val loss 0.67871], [val acc 0.73719]\n",
      "------------------------------------------------------------\n",
      "1\n",
      "[train loss 0.59822], [train acc 0.77563]\n",
      "[Train loss 0.59822], [Train acc 0.77563]\n",
      "Training Done\n",
      "------------------------------------------------------------\n",
      "[epoch 1], [val loss 0.54804], [val acc 0.82046]\n",
      "------------------------------------------------------------\n",
      "2\n",
      "[train loss 0.52878], [train acc 0.80625]\n",
      "[Train loss 0.52878], [Train acc 0.80625]\n",
      "Training Done\n",
      "------------------------------------------------------------\n",
      "[epoch 2], [val loss 0.54124], [val acc 0.80377]\n",
      "------------------------------------------------------------\n",
      "3\n",
      "[train loss 0.50016], [train acc 0.81250]\n",
      "[Train loss 0.50016], [Train acc 0.81250]\n",
      "Training Done\n",
      "------------------------------------------------------------\n",
      "[epoch 3], [val loss 0.51467], [val acc 0.82686]\n",
      "------------------------------------------------------------\n"
     ]
    }
   ],
   "source": [
    "\n",
    "\n",
    "epochs = 4\n",
    "\n",
    "for i in range(epochs):\n",
    "    gc.collect()\n",
    "    torch.cuda.empty_cache()\n",
    "    print(i)\n",
    "    train(train_loader, model, criterion, optimizer)\n",
    "    print(\"Training Done\")\n",
    "    validate(val_loader, model, criterion, optimizer, i)"
   ]
  },
  {
   "cell_type": "code",
   "execution_count": 16,
   "id": "91a06a85-d7ab-4ddc-a11c-deda0ae3fe7a",
   "metadata": {
    "tags": []
   },
   "outputs": [],
   "source": [
    "torch.save(model, 'model/model_diabetic_exploration.pth')"
   ]
  },
  {
   "cell_type": "code",
   "execution_count": 9,
   "id": "a830c87b-b9e2-42f4-ae10-3195be3d578f",
   "metadata": {
    "tags": []
   },
   "outputs": [
    {
     "data": {
      "text/plain": [
       "ResNet(\n",
       "  (conv1): Conv2d(3, 64, kernel_size=(7, 7), stride=(2, 2), padding=(3, 3), bias=False)\n",
       "  (bn1): BatchNorm2d(64, eps=1e-05, momentum=0.1, affine=True, track_running_stats=True)\n",
       "  (relu): ReLU(inplace=True)\n",
       "  (maxpool): MaxPool2d(kernel_size=3, stride=2, padding=1, dilation=1, ceil_mode=False)\n",
       "  (layer1): Sequential(\n",
       "    (0): Bottleneck(\n",
       "      (conv1): Conv2d(64, 64, kernel_size=(1, 1), stride=(1, 1), bias=False)\n",
       "      (bn1): BatchNorm2d(64, eps=1e-05, momentum=0.1, affine=True, track_running_stats=True)\n",
       "      (conv2): Conv2d(64, 64, kernel_size=(3, 3), stride=(1, 1), padding=(1, 1), bias=False)\n",
       "      (bn2): BatchNorm2d(64, eps=1e-05, momentum=0.1, affine=True, track_running_stats=True)\n",
       "      (conv3): Conv2d(64, 256, kernel_size=(1, 1), stride=(1, 1), bias=False)\n",
       "      (bn3): BatchNorm2d(256, eps=1e-05, momentum=0.1, affine=True, track_running_stats=True)\n",
       "      (relu): ReLU(inplace=True)\n",
       "      (downsample): Sequential(\n",
       "        (0): Conv2d(64, 256, kernel_size=(1, 1), stride=(1, 1), bias=False)\n",
       "        (1): BatchNorm2d(256, eps=1e-05, momentum=0.1, affine=True, track_running_stats=True)\n",
       "      )\n",
       "    )\n",
       "    (1): Bottleneck(\n",
       "      (conv1): Conv2d(256, 64, kernel_size=(1, 1), stride=(1, 1), bias=False)\n",
       "      (bn1): BatchNorm2d(64, eps=1e-05, momentum=0.1, affine=True, track_running_stats=True)\n",
       "      (conv2): Conv2d(64, 64, kernel_size=(3, 3), stride=(1, 1), padding=(1, 1), bias=False)\n",
       "      (bn2): BatchNorm2d(64, eps=1e-05, momentum=0.1, affine=True, track_running_stats=True)\n",
       "      (conv3): Conv2d(64, 256, kernel_size=(1, 1), stride=(1, 1), bias=False)\n",
       "      (bn3): BatchNorm2d(256, eps=1e-05, momentum=0.1, affine=True, track_running_stats=True)\n",
       "      (relu): ReLU(inplace=True)\n",
       "    )\n",
       "    (2): Bottleneck(\n",
       "      (conv1): Conv2d(256, 64, kernel_size=(1, 1), stride=(1, 1), bias=False)\n",
       "      (bn1): BatchNorm2d(64, eps=1e-05, momentum=0.1, affine=True, track_running_stats=True)\n",
       "      (conv2): Conv2d(64, 64, kernel_size=(3, 3), stride=(1, 1), padding=(1, 1), bias=False)\n",
       "      (bn2): BatchNorm2d(64, eps=1e-05, momentum=0.1, affine=True, track_running_stats=True)\n",
       "      (conv3): Conv2d(64, 256, kernel_size=(1, 1), stride=(1, 1), bias=False)\n",
       "      (bn3): BatchNorm2d(256, eps=1e-05, momentum=0.1, affine=True, track_running_stats=True)\n",
       "      (relu): ReLU(inplace=True)\n",
       "    )\n",
       "  )\n",
       "  (layer2): Sequential(\n",
       "    (0): Bottleneck(\n",
       "      (conv1): Conv2d(256, 128, kernel_size=(1, 1), stride=(1, 1), bias=False)\n",
       "      (bn1): BatchNorm2d(128, eps=1e-05, momentum=0.1, affine=True, track_running_stats=True)\n",
       "      (conv2): Conv2d(128, 128, kernel_size=(3, 3), stride=(2, 2), padding=(1, 1), bias=False)\n",
       "      (bn2): BatchNorm2d(128, eps=1e-05, momentum=0.1, affine=True, track_running_stats=True)\n",
       "      (conv3): Conv2d(128, 512, kernel_size=(1, 1), stride=(1, 1), bias=False)\n",
       "      (bn3): BatchNorm2d(512, eps=1e-05, momentum=0.1, affine=True, track_running_stats=True)\n",
       "      (relu): ReLU(inplace=True)\n",
       "      (downsample): Sequential(\n",
       "        (0): Conv2d(256, 512, kernel_size=(1, 1), stride=(2, 2), bias=False)\n",
       "        (1): BatchNorm2d(512, eps=1e-05, momentum=0.1, affine=True, track_running_stats=True)\n",
       "      )\n",
       "    )\n",
       "    (1): Bottleneck(\n",
       "      (conv1): Conv2d(512, 128, kernel_size=(1, 1), stride=(1, 1), bias=False)\n",
       "      (bn1): BatchNorm2d(128, eps=1e-05, momentum=0.1, affine=True, track_running_stats=True)\n",
       "      (conv2): Conv2d(128, 128, kernel_size=(3, 3), stride=(1, 1), padding=(1, 1), bias=False)\n",
       "      (bn2): BatchNorm2d(128, eps=1e-05, momentum=0.1, affine=True, track_running_stats=True)\n",
       "      (conv3): Conv2d(128, 512, kernel_size=(1, 1), stride=(1, 1), bias=False)\n",
       "      (bn3): BatchNorm2d(512, eps=1e-05, momentum=0.1, affine=True, track_running_stats=True)\n",
       "      (relu): ReLU(inplace=True)\n",
       "    )\n",
       "    (2): Bottleneck(\n",
       "      (conv1): Conv2d(512, 128, kernel_size=(1, 1), stride=(1, 1), bias=False)\n",
       "      (bn1): BatchNorm2d(128, eps=1e-05, momentum=0.1, affine=True, track_running_stats=True)\n",
       "      (conv2): Conv2d(128, 128, kernel_size=(3, 3), stride=(1, 1), padding=(1, 1), bias=False)\n",
       "      (bn2): BatchNorm2d(128, eps=1e-05, momentum=0.1, affine=True, track_running_stats=True)\n",
       "      (conv3): Conv2d(128, 512, kernel_size=(1, 1), stride=(1, 1), bias=False)\n",
       "      (bn3): BatchNorm2d(512, eps=1e-05, momentum=0.1, affine=True, track_running_stats=True)\n",
       "      (relu): ReLU(inplace=True)\n",
       "    )\n",
       "    (3): Bottleneck(\n",
       "      (conv1): Conv2d(512, 128, kernel_size=(1, 1), stride=(1, 1), bias=False)\n",
       "      (bn1): BatchNorm2d(128, eps=1e-05, momentum=0.1, affine=True, track_running_stats=True)\n",
       "      (conv2): Conv2d(128, 128, kernel_size=(3, 3), stride=(1, 1), padding=(1, 1), bias=False)\n",
       "      (bn2): BatchNorm2d(128, eps=1e-05, momentum=0.1, affine=True, track_running_stats=True)\n",
       "      (conv3): Conv2d(128, 512, kernel_size=(1, 1), stride=(1, 1), bias=False)\n",
       "      (bn3): BatchNorm2d(512, eps=1e-05, momentum=0.1, affine=True, track_running_stats=True)\n",
       "      (relu): ReLU(inplace=True)\n",
       "    )\n",
       "  )\n",
       "  (layer3): Sequential(\n",
       "    (0): Bottleneck(\n",
       "      (conv1): Conv2d(512, 256, kernel_size=(1, 1), stride=(1, 1), bias=False)\n",
       "      (bn1): BatchNorm2d(256, eps=1e-05, momentum=0.1, affine=True, track_running_stats=True)\n",
       "      (conv2): Conv2d(256, 256, kernel_size=(3, 3), stride=(2, 2), padding=(1, 1), bias=False)\n",
       "      (bn2): BatchNorm2d(256, eps=1e-05, momentum=0.1, affine=True, track_running_stats=True)\n",
       "      (conv3): Conv2d(256, 1024, kernel_size=(1, 1), stride=(1, 1), bias=False)\n",
       "      (bn3): BatchNorm2d(1024, eps=1e-05, momentum=0.1, affine=True, track_running_stats=True)\n",
       "      (relu): ReLU(inplace=True)\n",
       "      (downsample): Sequential(\n",
       "        (0): Conv2d(512, 1024, kernel_size=(1, 1), stride=(2, 2), bias=False)\n",
       "        (1): BatchNorm2d(1024, eps=1e-05, momentum=0.1, affine=True, track_running_stats=True)\n",
       "      )\n",
       "    )\n",
       "    (1): Bottleneck(\n",
       "      (conv1): Conv2d(1024, 256, kernel_size=(1, 1), stride=(1, 1), bias=False)\n",
       "      (bn1): BatchNorm2d(256, eps=1e-05, momentum=0.1, affine=True, track_running_stats=True)\n",
       "      (conv2): Conv2d(256, 256, kernel_size=(3, 3), stride=(1, 1), padding=(1, 1), bias=False)\n",
       "      (bn2): BatchNorm2d(256, eps=1e-05, momentum=0.1, affine=True, track_running_stats=True)\n",
       "      (conv3): Conv2d(256, 1024, kernel_size=(1, 1), stride=(1, 1), bias=False)\n",
       "      (bn3): BatchNorm2d(1024, eps=1e-05, momentum=0.1, affine=True, track_running_stats=True)\n",
       "      (relu): ReLU(inplace=True)\n",
       "    )\n",
       "    (2): Bottleneck(\n",
       "      (conv1): Conv2d(1024, 256, kernel_size=(1, 1), stride=(1, 1), bias=False)\n",
       "      (bn1): BatchNorm2d(256, eps=1e-05, momentum=0.1, affine=True, track_running_stats=True)\n",
       "      (conv2): Conv2d(256, 256, kernel_size=(3, 3), stride=(1, 1), padding=(1, 1), bias=False)\n",
       "      (bn2): BatchNorm2d(256, eps=1e-05, momentum=0.1, affine=True, track_running_stats=True)\n",
       "      (conv3): Conv2d(256, 1024, kernel_size=(1, 1), stride=(1, 1), bias=False)\n",
       "      (bn3): BatchNorm2d(1024, eps=1e-05, momentum=0.1, affine=True, track_running_stats=True)\n",
       "      (relu): ReLU(inplace=True)\n",
       "    )\n",
       "    (3): Bottleneck(\n",
       "      (conv1): Conv2d(1024, 256, kernel_size=(1, 1), stride=(1, 1), bias=False)\n",
       "      (bn1): BatchNorm2d(256, eps=1e-05, momentum=0.1, affine=True, track_running_stats=True)\n",
       "      (conv2): Conv2d(256, 256, kernel_size=(3, 3), stride=(1, 1), padding=(1, 1), bias=False)\n",
       "      (bn2): BatchNorm2d(256, eps=1e-05, momentum=0.1, affine=True, track_running_stats=True)\n",
       "      (conv3): Conv2d(256, 1024, kernel_size=(1, 1), stride=(1, 1), bias=False)\n",
       "      (bn3): BatchNorm2d(1024, eps=1e-05, momentum=0.1, affine=True, track_running_stats=True)\n",
       "      (relu): ReLU(inplace=True)\n",
       "    )\n",
       "    (4): Bottleneck(\n",
       "      (conv1): Conv2d(1024, 256, kernel_size=(1, 1), stride=(1, 1), bias=False)\n",
       "      (bn1): BatchNorm2d(256, eps=1e-05, momentum=0.1, affine=True, track_running_stats=True)\n",
       "      (conv2): Conv2d(256, 256, kernel_size=(3, 3), stride=(1, 1), padding=(1, 1), bias=False)\n",
       "      (bn2): BatchNorm2d(256, eps=1e-05, momentum=0.1, affine=True, track_running_stats=True)\n",
       "      (conv3): Conv2d(256, 1024, kernel_size=(1, 1), stride=(1, 1), bias=False)\n",
       "      (bn3): BatchNorm2d(1024, eps=1e-05, momentum=0.1, affine=True, track_running_stats=True)\n",
       "      (relu): ReLU(inplace=True)\n",
       "    )\n",
       "    (5): Bottleneck(\n",
       "      (conv1): Conv2d(1024, 256, kernel_size=(1, 1), stride=(1, 1), bias=False)\n",
       "      (bn1): BatchNorm2d(256, eps=1e-05, momentum=0.1, affine=True, track_running_stats=True)\n",
       "      (conv2): Conv2d(256, 256, kernel_size=(3, 3), stride=(1, 1), padding=(1, 1), bias=False)\n",
       "      (bn2): BatchNorm2d(256, eps=1e-05, momentum=0.1, affine=True, track_running_stats=True)\n",
       "      (conv3): Conv2d(256, 1024, kernel_size=(1, 1), stride=(1, 1), bias=False)\n",
       "      (bn3): BatchNorm2d(1024, eps=1e-05, momentum=0.1, affine=True, track_running_stats=True)\n",
       "      (relu): ReLU(inplace=True)\n",
       "    )\n",
       "  )\n",
       "  (layer4): Sequential(\n",
       "    (0): Bottleneck(\n",
       "      (conv1): Conv2d(1024, 512, kernel_size=(1, 1), stride=(1, 1), bias=False)\n",
       "      (bn1): BatchNorm2d(512, eps=1e-05, momentum=0.1, affine=True, track_running_stats=True)\n",
       "      (conv2): Conv2d(512, 512, kernel_size=(3, 3), stride=(2, 2), padding=(1, 1), bias=False)\n",
       "      (bn2): BatchNorm2d(512, eps=1e-05, momentum=0.1, affine=True, track_running_stats=True)\n",
       "      (conv3): Conv2d(512, 2048, kernel_size=(1, 1), stride=(1, 1), bias=False)\n",
       "      (bn3): BatchNorm2d(2048, eps=1e-05, momentum=0.1, affine=True, track_running_stats=True)\n",
       "      (relu): ReLU(inplace=True)\n",
       "      (downsample): Sequential(\n",
       "        (0): Conv2d(1024, 2048, kernel_size=(1, 1), stride=(2, 2), bias=False)\n",
       "        (1): BatchNorm2d(2048, eps=1e-05, momentum=0.1, affine=True, track_running_stats=True)\n",
       "      )\n",
       "    )\n",
       "    (1): Bottleneck(\n",
       "      (conv1): Conv2d(2048, 512, kernel_size=(1, 1), stride=(1, 1), bias=False)\n",
       "      (bn1): BatchNorm2d(512, eps=1e-05, momentum=0.1, affine=True, track_running_stats=True)\n",
       "      (conv2): Conv2d(512, 512, kernel_size=(3, 3), stride=(1, 1), padding=(1, 1), bias=False)\n",
       "      (bn2): BatchNorm2d(512, eps=1e-05, momentum=0.1, affine=True, track_running_stats=True)\n",
       "      (conv3): Conv2d(512, 2048, kernel_size=(1, 1), stride=(1, 1), bias=False)\n",
       "      (bn3): BatchNorm2d(2048, eps=1e-05, momentum=0.1, affine=True, track_running_stats=True)\n",
       "      (relu): ReLU(inplace=True)\n",
       "    )\n",
       "    (2): Bottleneck(\n",
       "      (conv1): Conv2d(2048, 512, kernel_size=(1, 1), stride=(1, 1), bias=False)\n",
       "      (bn1): BatchNorm2d(512, eps=1e-05, momentum=0.1, affine=True, track_running_stats=True)\n",
       "      (conv2): Conv2d(512, 512, kernel_size=(3, 3), stride=(1, 1), padding=(1, 1), bias=False)\n",
       "      (bn2): BatchNorm2d(512, eps=1e-05, momentum=0.1, affine=True, track_running_stats=True)\n",
       "      (conv3): Conv2d(512, 2048, kernel_size=(1, 1), stride=(1, 1), bias=False)\n",
       "      (bn3): BatchNorm2d(2048, eps=1e-05, momentum=0.1, affine=True, track_running_stats=True)\n",
       "      (relu): ReLU(inplace=True)\n",
       "    )\n",
       "  )\n",
       "  (avgpool): AdaptiveAvgPool2d(output_size=(1, 1))\n",
       "  (fc): Linear(in_features=2048, out_features=7, bias=True)\n",
       ")"
      ]
     },
     "execution_count": 9,
     "metadata": {},
     "output_type": "execute_result"
    }
   ],
   "source": [
    "model = torch.load('model/skin/model_skin.pth')\n",
    "model.cuda()"
   ]
  },
  {
   "cell_type": "markdown",
   "id": "85b4e753-009c-46e3-bc21-c0bdaeda0971",
   "metadata": {},
   "source": [
    "## Attacks"
   ]
  },
  {
   "cell_type": "code",
   "execution_count": 10,
   "id": "12a7f7fe-885c-444a-8678-5b33a1c643a6",
   "metadata": {
    "tags": []
   },
   "outputs": [],
   "source": [
    "from IPython.display import clear_output\n",
    "!pip install captum\n",
    "!pip install cleverhans\n",
    "!pip install -U numba\n",
    "clear_output()"
   ]
  },
  {
   "cell_type": "code",
   "execution_count": 11,
   "id": "9fddf97d-5797-4da3-9aff-b96c49fc395a",
   "metadata": {
    "tags": []
   },
   "outputs": [],
   "source": [
    "from captum.attr import IntegratedGradients\n",
    "from captum.attr import Saliency\n",
    "from captum.attr import visualization as viz\n",
    "from cleverhans.torch.attacks.fast_gradient_method import fast_gradient_method\n",
    "from cleverhans.torch.attacks.projected_gradient_descent import projected_gradient_descent"
   ]
  },
  {
   "cell_type": "code",
   "execution_count": 12,
   "id": "b83a27d6-8e02-4890-b5a1-2f36cb6486bc",
   "metadata": {
    "tags": []
   },
   "outputs": [],
   "source": [
    "ep = [4/255, 8/255, 16/255, 32/255]"
   ]
  },
  {
   "cell_type": "code",
   "execution_count": 24,
   "id": "f916de2a-448c-4fbc-b568-bca8861219bd",
   "metadata": {
    "tags": []
   },
   "outputs": [],
   "source": [
    "def validate_attack(val_loader, model, eps, algorithm):\n",
    "    model.eval()\n",
    "    val_acc = AverageMeter()\n",
    "    dataiter = iter(val_loader)\n",
    "    \n",
    "    for i in range(len(val_loader)):\n",
    "        gc.collect()\n",
    "        torch.cuda.empty_cache()\n",
    "        images, labels = next(dataiter)\n",
    "        images = images.to(device)\n",
    "        labels = labels.to(device)\n",
    "        for ind in range(len(images)):\n",
    "            input = images[ind].unsqueeze(0)\n",
    "            \n",
    "            if algorithm == \"pgd\":\n",
    "                    alpha = eps/10\n",
    "                    steps = 5\n",
    "                    input = projected_gradient_descent(model, input, eps, alpha, steps, np.inf)\n",
    "            elif algorithm == \"fgsm\":\n",
    "                input = fast_gradient_method(model, input, eps, np.inf)\n",
    "            elif algorithm == \"bim\":\n",
    "                alpha = eps/10\n",
    "                steps = 5\n",
    "                input = projected_gradient_descent(model, input, eps, alpha, steps, np.inf, rand_init=False)\n",
    "                    \n",
    "            _, prediction = model(input).max(1)\n",
    "            \n",
    "            val_acc.update(prediction.eq(labels[ind].view_as(prediction)).sum().item())\n",
    "            \n",
    "            \n",
    "\n",
    "    print('------------------------------------------------------------')\n",
    "    print('[val acc %.5f]' % (val_acc.avg))\n",
    "    print('------------------------------------------------------------')"
   ]
  },
  {
   "cell_type": "code",
   "execution_count": 28,
   "id": "0bdb4d45-c7df-4285-9751-dab9c14b3e2b",
   "metadata": {
    "tags": []
   },
   "outputs": [
    {
     "name": "stdout",
     "output_type": "stream",
     "text": [
      "------------------------------------------------------------\n",
      "[val acc 0.20490]\n",
      "------------------------------------------------------------\n",
      "------------------------------------------------------------\n",
      "[val acc 0.13690]\n",
      "------------------------------------------------------------\n",
      "------------------------------------------------------------\n",
      "[val acc 0.15231]\n",
      "------------------------------------------------------------\n",
      "------------------------------------------------------------\n",
      "[val acc 0.44424]\n",
      "------------------------------------------------------------\n"
     ]
    }
   ],
   "source": [
    "for eps in ep:\n",
    "    validate_attack(val_loader, model, eps, \"fgsm\")"
   ]
  },
  {
   "cell_type": "code",
   "execution_count": 29,
   "id": "5c7d63ca-c2e0-4772-be42-f90f1407589b",
   "metadata": {
    "tags": []
   },
   "outputs": [
    {
     "name": "stdout",
     "output_type": "stream",
     "text": [
      "------------------------------------------------------------\n",
      "[val acc 0.13509]\n",
      "------------------------------------------------------------\n",
      "------------------------------------------------------------\n",
      "[val acc 0.05168]\n",
      "------------------------------------------------------------\n",
      "------------------------------------------------------------\n",
      "[val acc 0.05077]\n",
      "------------------------------------------------------------\n",
      "------------------------------------------------------------\n",
      "[val acc 0.05440]\n",
      "------------------------------------------------------------\n"
     ]
    }
   ],
   "source": [
    "for eps in ep:\n",
    "    validate_attack(val_loader, model, eps, \"pgd\")"
   ]
  },
  {
   "cell_type": "code",
   "execution_count": 30,
   "id": "03a3b051-5641-4145-9fb9-cb17f7e45082",
   "metadata": {
    "tags": []
   },
   "outputs": [
    {
     "name": "stdout",
     "output_type": "stream",
     "text": [
      "------------------------------------------------------------\n",
      "[val acc 0.09429]\n",
      "------------------------------------------------------------\n",
      "------------------------------------------------------------\n",
      "[val acc 0.04986]\n",
      "------------------------------------------------------------\n",
      "------------------------------------------------------------\n",
      "[val acc 0.05077]\n",
      "------------------------------------------------------------\n",
      "------------------------------------------------------------\n",
      "[val acc 0.05077]\n",
      "------------------------------------------------------------\n"
     ]
    }
   ],
   "source": [
    "for eps in ep:\n",
    "    validate_attack(val_loader, model, eps, \"bim\")"
   ]
  },
  {
   "cell_type": "markdown",
   "id": "108bd0e8-9ccc-4887-826a-14295513e26f",
   "metadata": {},
   "source": [
    "## Statistical Methods"
   ]
  },
  {
   "cell_type": "code",
   "execution_count": 13,
   "id": "1d728378-ea3f-4011-a1e2-55594eb29384",
   "metadata": {
    "tags": []
   },
   "outputs": [],
   "source": [
    "from main import compute_mean_abs_dev, compute_median_abs_dev, compute_iqr"
   ]
  },
  {
   "cell_type": "code",
   "execution_count": 14,
   "id": "4c7b68b9-a358-41ad-a61b-04b4b1a972fe",
   "metadata": {
    "tags": []
   },
   "outputs": [],
   "source": [
    "import torch.nn.functional as F\n",
    "\n",
    "def gradient(model, x, target):\n",
    "    input = x.unsqueeze(0)\n",
    "    if target is None:\n",
    "        _, target = model(input).max(1)\n",
    "    xai = Saliency(model)\n",
    "    return xai.attribute(input, target=target, abs=True)[0]"
   ]
  },
  {
   "cell_type": "code",
   "execution_count": 15,
   "id": "dd466d4f-3500-4c64-8cb9-74c1f423887a",
   "metadata": {
    "tags": []
   },
   "outputs": [],
   "source": [
    "def ig(model, x, target):\n",
    "    input = x.unsqueeze(0)\n",
    "    if target is None:\n",
    "        _, target = model(input).max(1)\n",
    "    xai = IntegratedGradients(model)\n",
    "    return xai.attribute(input, target=target)[0]"
   ]
  },
  {
   "cell_type": "code",
   "execution_count": 16,
   "id": "a458bae9-38a6-4275-a853-325170901159",
   "metadata": {},
   "outputs": [],
   "source": [
    "def m1(model, x, target):\n",
    "    grad = gradient(model, x, target)\n",
    "    input = x * grad\n",
    "    input = input.detach()\n",
    "    return gradient(model, input, target)"
   ]
  },
  {
   "cell_type": "code",
   "execution_count": 17,
   "id": "8c103eaa-c895-45b6-9903-764538a77165",
   "metadata": {
    "tags": []
   },
   "outputs": [],
   "source": [
    "def m2(model, x, alpha, target):\n",
    "    grad = gradient(model, x, target)\n",
    "    input = x + alpha * grad\n",
    "    input = input.detach()\n",
    "    return gradient(model, input, target)"
   ]
  },
  {
   "cell_type": "code",
   "execution_count": null,
   "id": "0cb1d030-f3b4-4b21-b3aa-41ea63f6e4f1",
   "metadata": {
    "tags": []
   },
   "outputs": [],
   "source": [
    "count = 0\n",
    "ind = 3\n",
    "for i, data in enumerate(val_loader):\n",
    "    images, labels = data\n",
    "    input = images[ind]\n",
    "    _, y = model(input.unsqueeze(0)).max(1)\n",
    "    grad = gradient(model, input, y)\n",
    "    grad = np.array(grad).flatten()\n",
    "    input = fast_gradient_method(model, input.unsqueeze(0), ep[0], np.inf)[0]\n",
    "    _, y = model(input.unsqueeze(0)).max(1)\n",
    "    grad_adv = gradient(model, input, y)\n",
    "    grad_adv = np.array(grad_adv).flatten()\n",
    "    plt.hist(grad, label='Benign', color='blue')\n",
    "    plt.hist(grad_adv, label='FGSM 8/255',color='red', alpha=0.7)\n",
    "    plt.show()\n",
    "    count+=1\n",
    "    if count == 3: \n",
    "        break"
   ]
  },
  {
   "cell_type": "code",
   "execution_count": null,
   "id": "6bd0e15d-2b40-4385-ae24-99af427f3f32",
   "metadata": {
    "tags": []
   },
   "outputs": [],
   "source": [
    "count = 0\n",
    "ind = 3\n",
    "for i, data in enumerate(val_loader):\n",
    "    images, labels = data\n",
    "    input = images[ind]\n",
    "    _, y = model(input.unsqueeze(0)).max(1)\n",
    "    grad = m2(model, input, 2, y)\n",
    "    plt.imshow(grad.permute(1, 2, 0))\n",
    "    plt.show()\n",
    "    input = fast_gradient_method(model, input.unsqueeze(0), ep[0], np.inf)[0]\n",
    "    _, y = model(input.unsqueeze(0)).max(1)\n",
    "    grad = m2(model, input, 2, y)\n",
    "    plt.imshow(grad.permute(1, 2, 0))\n",
    "    plt.show()\n",
    "    count+=1\n",
    "    if count == 3: \n",
    "        break"
   ]
  },
  {
   "cell_type": "markdown",
   "id": "c627b6bc-e1a5-443e-8558-e69f80a5a269",
   "metadata": {},
   "source": [
    "## Results"
   ]
  },
  {
   "cell_type": "code",
   "execution_count": 18,
   "id": "91cc1e28-238d-4205-abb8-a38903bd6fc5",
   "metadata": {},
   "outputs": [],
   "source": [
    "from main import topk\n",
    "\n",
    "def run(model, val_loader, eps, attack, defense):\n",
    "    gc.collect()\n",
    "    torch.cuda.empty_cache()\n",
    "    \n",
    "    dataiter = iter(val_loader)\n",
    "    \n",
    "    meanAbs_bena = []\n",
    "    meanAbs_ben = []\n",
    "    \n",
    "    for i in range(len(val_loader)):\n",
    "        images, labels = next(dataiter)\n",
    "        images = images.to(device)\n",
    "        labels = labels.to(device)\n",
    "        for ind in range(len(images)):\n",
    "            gc.collect()\n",
    "            torch.cuda.empty_cache()\n",
    "            input = images[ind]\n",
    "            \n",
    "            _, y = model(input.unsqueeze(0)).max(1)\n",
    "            \n",
    "            if defense == \"m1\":\n",
    "                ben = gradient(model, input, y).sum(axis=1).cpu().detach().numpy()\n",
    "            elif defense == \"m2\":\n",
    "                ben = ig(model, input, y).sum(axis=1).cpu().detach().numpy()\n",
    "            elif defense == \"m3\":\n",
    "                ben = m1(model, input, y).sum(axis=1).cpu().detach().numpy()\n",
    "            elif defense == \"m4\":\n",
    "                ben = m2(model, input, 1, y).sum(axis=1).cpu().detach().numpy()\n",
    "            \n",
    "            temp = []\n",
    "            temp.append(ben)\n",
    "            meanAbs_ben += compute_mean_abs_dev(temp)\n",
    "            \n",
    "            if attack == \"pgd\":\n",
    "                alpha = eps/10\n",
    "                steps = 20\n",
    "                input = projected_gradient_descent(model, input.unsqueeze(0), eps, alpha, steps, np.inf)[0]\n",
    "            elif attack == \"fgsm\":\n",
    "                input = fast_gradient_method(model, input.unsqueeze(0), eps, np.inf)[0]\n",
    "            elif attack == \"bim\":\n",
    "                alpha = eps/10\n",
    "                steps = 20\n",
    "                input = projected_gradient_descent(model, input.unsqueeze(0), eps, alpha, steps, np.inf, rand_init=False)[0]\n",
    "            \n",
    "            _, y = model(input.unsqueeze(0)).max(1)\n",
    "            \n",
    "            if defense == \"m1\":\n",
    "                adv = gradient(model, input, y).sum(axis=1).cpu().detach().numpy()\n",
    "            elif defense == \"m2\":\n",
    "                adv = ig(model, input, y).sum(axis=1).cpu().detach().numpy()\n",
    "            elif defense == \"m3\":\n",
    "                adv = m1(model, input, y).sum(axis=1).cpu().detach().numpy()\n",
    "            elif defense == \"m4\":\n",
    "                adv = m2(model, input, 1, y).sum(axis=1).cpu().detach().numpy()\n",
    "                            \n",
    "            temp = []\n",
    "            temp.append(adv)\n",
    "            meanAbs_bena += compute_mean_abs_dev(temp)\n",
    "            \n",
    "            gc.collect()\n",
    "            torch.cuda.empty_cache()\n",
    "                   \n",
    "    print(\"Attribution Complete\")\n",
    "    \n",
    "    return meanAbs_ben, meanAbs_bena"
   ]
  },
  {
   "cell_type": "markdown",
   "id": "e4079ba4-355d-4130-b97f-8149eeb3b43a",
   "metadata": {},
   "source": [
    "## x+grad"
   ]
  },
  {
   "cell_type": "code",
   "execution_count": null,
   "id": "504a3d51-d726-4d08-8ce6-db71a362c4e4",
   "metadata": {
    "tags": []
   },
   "outputs": [],
   "source": [
    "gc.collect()\n",
    "torch.cuda.empty_cache()\n",
    "\n",
    "ben_res = [] \n",
    "adv_res = []\n",
    "for eps in ep:\n",
    "    gc.collect()\n",
    "    torch.cuda.empty_cache()\n",
    "    x, y = run(model, val_loader, eps, \"fgsm\", \"m2\")\n",
    "    ben_res.append(x)\n",
    "    adv_res.append(y)"
   ]
  },
  {
   "cell_type": "code",
   "execution_count": null,
   "id": "85ecac8d-0fae-4004-9fe1-15cf9c430fd9",
   "metadata": {
    "tags": []
   },
   "outputs": [],
   "source": [
    "plt.title(\"ISIC FGSM M2\")\n",
    "plt.hist(ben_res[0], label='Benign', color='blue', bins=30)\n",
    "plt.hist(adv_res[0], label='FGSM 4/255',color='red', alpha=0.7, bins=30)\n",
    "plt.hist(adv_res[1], label='FGSM 8/255',color='green', alpha=0.7, bins=30)\n",
    "plt.hist(adv_res[2], label='FGSM 16/255',color='purple', alpha=0.7, bins=30)\n",
    "plt.hist(adv_res[3], label='FGSM 32/255',color='yellow', alpha=0.7, bins=30)\n",
    "\n",
    "plt.legend()\n",
    "plt.show()\n",
    "import roc_curve\n",
    "x1, y1 = roc_curve.min_roc_curve(ben_res[0], adv_res[0], 1000)\n",
    "x2, y2 = roc_curve.min_roc_curve(ben_res[1], adv_res[1], 1000)\n",
    "x3, y3 = roc_curve.min_roc_curve(ben_res[2], adv_res[2], 1000)\n",
    "x4, y4 = roc_curve.min_roc_curve(ben_res[3], adv_res[3], 1000)\n",
    "\n",
    "fpr_res = [0, 0, 0, 0]\n",
    "tpr_res = [0, 0, 0, 0]\n",
    "i = 0\n",
    "for a, b, c, d in zip(x1, x2, x3, x4):\n",
    "    if abs(a - 0.1) < abs(fpr_res[0] - 0.1):\n",
    "        fpr_res[0] = a\n",
    "        tpr_res[0] = y1[i]\n",
    "    if abs(b - 0.1) < abs(fpr_res[1] - 0.1):\n",
    "        fpr_res[1] = b\n",
    "        tpr_res[1] = y2[i]\n",
    "    if abs(c - 0.1) < abs(fpr_res[2] - 0.1):\n",
    "        fpr_res[2] = c\n",
    "        tpr_res[2] = y3[i]\n",
    "    if abs(d - 0.1) < abs(fpr_res[3] - 0.1):\n",
    "        fpr_res[3] = d\n",
    "        tpr_res[3] = y4[i]\n",
    "    i+=1\n",
    "        \n",
    "print(fpr_res)\n",
    "print(tpr_res)\n",
    "\n",
    "plt.title(\"ISIC FGSM M2\")\n",
    "plt.plot(x1, y1,   \"red\", linestyle = 'dotted', label = 'BIM 4/255')\n",
    "plt.plot(x2, y2, \"blue\", linestyle = 'dotted', label = 'BIM 8/255')\n",
    "plt.plot(x3, y3, \"green\", linestyle = 'dotted', label = 'BIM 16/255')\n",
    "plt.plot(x4, y4, \"purple\", linestyle = 'dotted', label = 'BIM 32/255')\n",
    "plt.show()"
   ]
  },
  {
   "cell_type": "markdown",
   "id": "8ffdaade-e85e-4ab8-bb9c-95353af5fffb",
   "metadata": {},
   "source": [
    "## x*grad"
   ]
  },
  {
   "cell_type": "code",
   "execution_count": 26,
   "id": "fa7a9d5e-ecdd-477e-829e-42abf4827fe3",
   "metadata": {
    "tags": []
   },
   "outputs": [
    {
     "name": "stdout",
     "output_type": "stream",
     "text": [
      "Attribution Complete\n",
      "Attribution Complete\n",
      "Attribution Complete\n",
      "Attribution Complete\n"
     ]
    }
   ],
   "source": [
    "ben_res = [] \n",
    "adv_res = []\n",
    "for eps in ep:\n",
    "    x, y = run(model, val_loader, eps, \"fgsm\", \"m1\")\n",
    "    ben_res.append(x)\n",
    "    adv_res.append(y)"
   ]
  },
  {
   "cell_type": "code",
   "execution_count": 27,
   "id": "6dc483e4-9399-4527-9da0-5b26675711d3",
   "metadata": {
    "tags": []
   },
   "outputs": [
    {
     "data": {
      "image/png": "[encoded data removed]",
      "text/plain": [
       "<Figure size 640x480 with 1 Axes>"
      ]
     },
     "metadata": {},
     "output_type": "display_data"
    },
    {
     "name": "stdout",
     "output_type": "stream",
     "text": [
      "[0.0994550408719346, 0.0994550408719346, 0.0994550408719346, 0.09809264305177112]\n",
      "[0.46321525885558584, 0.46321525885558584, 0.47002724795640327, 0.09400544959128065]\n"
     ]
    },
    {
     "data": {
      "image/png": "[encoded data removed]",
      "text/plain": [
       "<Figure size 640x480 with 1 Axes>"
      ]
     },
     "metadata": {},
     "output_type": "display_data"
    }
   ],
   "source": [
    "plt.hist(ben_res[0], label='Benign', color='blue', bins=30)\n",
    "plt.hist(adv_res[0], label='FGSM 4/255',color='red', alpha=0.7, bins=30)\n",
    "plt.hist(adv_res[1], label='FGSM 8/255',color='green', alpha=0.7, bins=30)\n",
    "plt.hist(adv_res[2], label='FGSM 16/255',color='purple', alpha=0.7, bins=30)\n",
    "plt.hist(adv_res[3], label='FGSM 32/255',color='yellow', alpha=0.7, bins=30)\n",
    "\n",
    "plt.legend()\n",
    "plt.show()\n",
    "import roc_curve\n",
    "x1, y1 = roc_curve.min_roc_curve(ben_res[0], adv_res[0], 1000)\n",
    "x2, y2 = roc_curve.min_roc_curve(ben_res[1], adv_res[1], 1000)\n",
    "x3, y3 = roc_curve.min_roc_curve(ben_res[2], adv_res[2], 1000)\n",
    "x4, y4 = roc_curve.min_roc_curve(ben_res[3], adv_res[3], 1000)\n",
    "\n",
    "fpr_res = [0, 0, 0, 0]\n",
    "tpr_res = [0, 0, 0, 0]\n",
    "i = 0\n",
    "for a, b, c, d in zip(x1, x2, x3, x4):\n",
    "    if abs(a - 0.1) < abs(fpr_res[0] - 0.1):\n",
    "        fpr_res[0] = a\n",
    "        tpr_res[0] = y1[i]\n",
    "    if abs(b - 0.1) < abs(fpr_res[1] - 0.1):\n",
    "        fpr_res[1] = b\n",
    "        tpr_res[1] = y2[i]\n",
    "    if abs(c - 0.1) < abs(fpr_res[2] - 0.1):\n",
    "        fpr_res[2] = c\n",
    "        tpr_res[2] = y3[i]\n",
    "    if abs(d - 0.1) < abs(fpr_res[3] - 0.1):\n",
    "        fpr_res[3] = d\n",
    "        tpr_res[3] = y4[i]\n",
    "    i+=1\n",
    "        \n",
    "print(fpr_res)\n",
    "print(tpr_res)\n",
    "\n",
    "plt.plot(x1, y1,   \"red\", linestyle = 'dotted', label = 'FGSM 4/255')\n",
    "plt.plot(x2, y2, \"blue\", linestyle = 'dotted', label = 'FGSM 8/255')\n",
    "plt.plot(x3, y3, \"green\", linestyle = 'dotted', label = 'FGSM 16/255')\n",
    "plt.plot(x4, y4, \"purple\", linestyle = 'dotted', label = 'FGSM 32/255')\n",
    "plt.show()"
   ]
  },
  {
   "cell_type": "markdown",
   "id": "3a59ce96-44ac-49cd-9a6b-dd7bf4fd72dc",
   "metadata": {},
   "source": [
    "## GRAD"
   ]
  },
  {
   "cell_type": "code",
   "execution_count": 49,
   "id": "b832a7ab-925e-4f76-b32e-d061849f5bf2",
   "metadata": {},
   "outputs": [
    {
     "name": "stdout",
     "output_type": "stream",
     "text": [
      "Attribution for batch 0 complete\n",
      "Attribution for batch 1 complete\n",
      "Attribution for batch 2 complete\n",
      "Attribution for batch 3 complete\n",
      "Attribution for batch 4 complete\n",
      "Attribution for batch 5 complete\n",
      "Attribution for batch 6 complete\n",
      "Attribution for batch 7 complete\n",
      "Attribution for batch 8 complete\n",
      "Attribution for batch 9 complete\n",
      "Attribution for batch 10 complete\n",
      "Attribution for batch 11 complete\n",
      "Attribution for batch 12 complete\n",
      "Attribution for batch 13 complete\n",
      "Attribution for batch 14 complete\n",
      "Attribution for batch 15 complete\n",
      "Attribution for batch 16 complete\n",
      "Attribution for batch 17 complete\n",
      "Attribution for batch 18 complete\n",
      "Attribution for batch 19 complete\n",
      "Attribution for batch 20 complete\n",
      "Attribution for batch 21 complete\n",
      "Attribution for batch 22 complete\n",
      "Attribution for batch 23 complete\n",
      "Attribution for batch 24 complete\n",
      "Attribution for batch 25 complete\n",
      "Attribution for batch 26 complete\n",
      "Attribution for batch 27 complete\n",
      "Attribution for batch 28 complete\n",
      "Attribution for batch 29 complete\n",
      "Attribution for batch 30 complete\n",
      "Attribution for batch 31 complete\n",
      "Attribution for batch 32 complete\n",
      "Attribution for batch 33 complete\n",
      "Attribution for batch 34 complete\n",
      "Attribution for batch 35 complete\n",
      "Attribution for batch 36 complete\n",
      "Attribution for batch 37 complete\n",
      "Attribution for batch 38 complete\n",
      "Attribution for batch 39 complete\n",
      "Attribution for batch 40 complete\n",
      "Attribution for batch 41 complete\n",
      "Attribution for batch 42 complete\n",
      "Attribution for batch 43 complete\n",
      "Attribution for batch 44 complete\n",
      "Attribution for batch 45 complete\n",
      "Attribution Complete\n"
     ]
    }
   ],
   "source": [
    "ben_res, adv_res = run(model, val_loader, ep[0], \"fgsm\", \"grad\")"
   ]
  },
  {
   "cell_type": "code",
   "execution_count": 50,
   "id": "68a15253-154c-43c0-bb1e-ff44c48bd515",
   "metadata": {
    "tags": []
   },
   "outputs": [
    {
     "data": {
      "image/png": "[encoded data removed]",
      "text/plain": [
       "<Figure size 640x480 with 1 Axes>"
      ]
     },
     "metadata": {},
     "output_type": "display_data"
    },
    {
     "name": "stdout",
     "output_type": "stream",
     "text": [
      "[0.0994550408719346, 0, 0, 0]\n",
      "[0.5749318801089919, 0, 0, 0]\n"
     ]
    },
    {
     "data": {
      "image/png": "[encoded data removed]",
      "text/plain": [
       "<Figure size 640x480 with 1 Axes>"
      ]
     },
     "metadata": {},
     "output_type": "display_data"
    }
   ],
   "source": [
    "ind = 2\n",
    "plt.hist(ben_res[ind], label='Benign', color='blue', bins=30)\n",
    "plt.hist(adv_res[ind], label='FGSM 8/255',color='red', alpha=0.7, bins=30)\n",
    "\n",
    "\n",
    "plt.legend()\n",
    "plt.show()\n",
    "import roc_curve\n",
    "x1, y1 = roc_curve.min_roc_curve(ben_res[ind], adv_res[ind], 1000)\n",
    "\n",
    "fpr_res = [0, 0, 0, 0]\n",
    "tpr_res = [0, 0, 0, 0]\n",
    "i = 0\n",
    "for a in x1:\n",
    "    if abs(a - 0.1) < abs(fpr_res[0] - 0.1):\n",
    "        fpr_res[0] = a\n",
    "        tpr_res[0] = y1[i]\n",
    "    i+=1\n",
    "        \n",
    "print(fpr_res)\n",
    "print(tpr_res)\n",
    "\n",
    "plt.plot(x1, y1, \"red\", linestyle = 'dotted')\n",
    "plt.show()"
   ]
  },
  {
   "cell_type": "markdown",
   "id": "ea057bf3-d6a8-4f65-893a-2313e1270f6d",
   "metadata": {},
   "source": [
    "## Topk m1"
   ]
  },
  {
   "cell_type": "code",
   "execution_count": 18,
   "id": "90bb6a53-2723-4541-bdd4-38f9c10fe900",
   "metadata": {
    "tags": []
   },
   "outputs": [],
   "source": [
    "def runk(model, val_loader, eps, attack, defense):\n",
    "    gc.collect()\n",
    "    torch.cuda.empty_cache()\n",
    "    \n",
    "    dataiter = iter(val_loader)\n",
    "    \n",
    "    meanAbs_bena = []\n",
    "    meanAbs_ben = []\n",
    "    \n",
    "    for i in range(len(val_loader)):\n",
    "        images, labels = next(dataiter)\n",
    "        images = images.to(device)\n",
    "        labels = labels.to(device)\n",
    "        for ind in range(len(images)):\n",
    "            gc.collect()\n",
    "            torch.cuda.empty_cache()\n",
    "            input = images[ind]\n",
    "            \n",
    "            _, y = model(input.unsqueeze(0)).max(1)\n",
    "            \n",
    "            if defense == \"grad\":\n",
    "                ben = gradient(model, input, y).sum(axis=1).cpu().detach().numpy()\n",
    "            elif defense == \"ig\":\n",
    "                ben = ig(model, input, y).sum(axis=1).cpu().detach().numpy()\n",
    "            elif defense == \"m1\":\n",
    "                ben = m1(model, input, y).sum(axis=1).cpu().detach().numpy()\n",
    "            elif defense == \"m2,1\":\n",
    "                ben = m2(model, input, 1, y).sum(axis=1).cpu().detach().numpy()\n",
    "            \n",
    "            ben = ben.flatten()\n",
    "            ben = np.sort(ben)\n",
    "            ben = ben[::-1]\n",
    "            temp = []\n",
    "            temp.append(ben[:100])\n",
    "\n",
    "            meanAbs_ben += compute_mean_abs_dev(temp)\n",
    "            \n",
    "            if attack == \"pgd\":\n",
    "                alpha = eps/10\n",
    "                steps = 20\n",
    "                input = projected_gradient_descent(model, input.unsqueeze(0), eps, alpha, steps, np.inf)[0]\n",
    "            elif attack == \"fgsm\":\n",
    "                input = fast_gradient_method(model, input.unsqueeze(0), eps, np.inf)[0]\n",
    "            elif attack == \"bim\":\n",
    "                alpha = eps/10\n",
    "                steps = 20\n",
    "                input = projected_gradient_descent(model, input.unsqueeze(0), eps, alpha, steps, np.inf, rand_init=False)[0]\n",
    "            \n",
    "            _, y = model(input.unsqueeze(0)).max(1)\n",
    "            \n",
    "            if defense == \"grad\":\n",
    "                adv = gradient(model, input, y).sum(axis=1).cpu().detach().numpy()\n",
    "            elif defense == \"ig\":\n",
    "                adv = ig(model, input, y).sum(axis=1).cpu().detach().numpy()\n",
    "            elif defense == \"m1\":\n",
    "                adv = m1(model, input, y).sum(axis=1).cpu().detach().numpy()\n",
    "            elif defense == \"m2,1\":\n",
    "                adv = m2(model, input, 1, y).sum(axis=1).cpu().detach().numpy()\n",
    "                \n",
    "            adv = adv.flatten()\n",
    "            adv = np.sort(adv)\n",
    "            adv = adv[::-1]\n",
    "            temp = []\n",
    "            temp.append(adv[:100])\n",
    "                \n",
    "            meanAbs_bena += compute_mean_abs_dev(temp)\n",
    "            \n",
    "            gc.collect()\n",
    "            torch.cuda.empty_cache()\n",
    "                   \n",
    "    print(\"Attribution Complete\")\n",
    "    \n",
    "    return meanAbs_ben, meanAbs_bena"
   ]
  },
  {
   "cell_type": "code",
   "execution_count": 19,
   "id": "d567341e-6c0a-45b6-a518-6a3092b36742",
   "metadata": {
    "tags": []
   },
   "outputs": [
    {
     "name": "stderr",
     "output_type": "stream",
     "text": [
      "/opt/conda/lib/python3.10/site-packages/captum/_utils/gradient.py:57: UserWarning: Input Tensor 0 did not already require gradients, required_grads has been set automatically.\n",
      "  warnings.warn(\n"
     ]
    },
    {
     "name": "stdout",
     "output_type": "stream",
     "text": [
      "Attribution Complete\n",
      "Attribution Complete\n",
      "Attribution Complete\n",
      "Attribution Complete\n"
     ]
    }
   ],
   "source": [
    "ben_res = [] \n",
    "adv_res = []\n",
    "for eps in ep:\n",
    "    x, y = runk(model, val_loader, eps, \"fgsm\", \"m1\")\n",
    "    ben_res.append(x)\n",
    "    adv_res.append(y)"
   ]
  },
  {
   "cell_type": "code",
   "execution_count": 20,
   "id": "25ea65c5-e694-4b1d-8c0a-177977289500",
   "metadata": {},
   "outputs": [
    {
     "data": {
      "image/png": "[encoded data removed]",
      "text/plain": [
       "<Figure size 640x480 with 1 Axes>"
      ]
     },
     "metadata": {},
     "output_type": "display_data"
    },
    {
     "name": "stdout",
     "output_type": "stream",
     "text": [
      "[0.1008174386920981, 0.0994550408719346, 0.10217983651226158, 0.0994550408719346]\n",
      "[0.444141689373297, 0.4318801089918256, 0.45776566757493187, 0.22479564032697547]\n"
     ]
    },
    {
     "data": {
      "image/png": "[encoded data removed]",
      "text/plain": [
       "<Figure size 640x480 with 1 Axes>"
      ]
     },
     "metadata": {},
     "output_type": "display_data"
    }
   ],
   "source": [
    "plt.hist(ben_res[0], label='Benign', color='blue', bins=30)\n",
    "plt.hist(adv_res[0], label='FGSM 4/255',color='red', alpha=0.7, bins=30)\n",
    "plt.hist(adv_res[1], label='FGSM 8/255',color='green', alpha=0.7, bins=30)\n",
    "plt.hist(adv_res[2], label='FGSM 16/255',color='purple', alpha=0.7, bins=30)\n",
    "plt.hist(adv_res[3], label='FGSM 32/255',color='yellow', alpha=0.7, bins=30)\n",
    "\n",
    "plt.legend()\n",
    "plt.show()\n",
    "import roc_curve\n",
    "x1, y1 = roc_curve.min_roc_curve(ben_res[0], adv_res[0], 1000)\n",
    "x2, y2 = roc_curve.min_roc_curve(ben_res[1], adv_res[1], 1000)\n",
    "x3, y3 = roc_curve.min_roc_curve(ben_res[2], adv_res[2], 1000)\n",
    "x4, y4 = roc_curve.min_roc_curve(ben_res[3], adv_res[3], 1000)\n",
    "\n",
    "fpr_res = [0, 0, 0, 0]\n",
    "tpr_res = [0, 0, 0, 0]\n",
    "i = 0\n",
    "for a, b, c, d in zip(x1, x2, x3, x4):\n",
    "    if abs(a - 0.1) < abs(fpr_res[0] - 0.1):\n",
    "        fpr_res[0] = a\n",
    "        tpr_res[0] = y1[i]\n",
    "    if abs(b - 0.1) < abs(fpr_res[1] - 0.1):\n",
    "        fpr_res[1] = b\n",
    "        tpr_res[1] = y2[i]\n",
    "    if abs(c - 0.1) < abs(fpr_res[2] - 0.1):\n",
    "        fpr_res[2] = c\n",
    "        tpr_res[2] = y3[i]\n",
    "    if abs(d - 0.1) < abs(fpr_res[3] - 0.1):\n",
    "        fpr_res[3] = d\n",
    "        tpr_res[3] = y4[i]\n",
    "    i+=1\n",
    "        \n",
    "print(fpr_res)\n",
    "print(tpr_res)\n",
    "\n",
    "plt.plot(x1, y1,   \"red\", linestyle = 'dotted', label = 'FGSM 4/255')\n",
    "plt.plot(x2, y2, \"blue\", linestyle = 'dotted', label = 'FGSM 8/255')\n",
    "plt.plot(x3, y3, \"green\", linestyle = 'dotted', label = 'FGSM 16/255')\n",
    "plt.plot(x4, y4, \"purple\", linestyle = 'dotted', label = 'FGSM 32/255')\n",
    "plt.show()"
   ]
  },
  {
   "cell_type": "code",
   "execution_count": 60,
   "id": "64f7494d-9967-41c4-8df8-675c6017a0c5",
   "metadata": {
    "tags": []
   },
   "outputs": [
    {
     "name": "stdout",
     "output_type": "stream",
     "text": [
      "Attribution for batch 0 complete\n",
      "Attribution for batch 1 complete\n",
      "Attribution for batch 2 complete\n",
      "Attribution for batch 3 complete\n",
      "Attribution for batch 4 complete\n",
      "Attribution for batch 5 complete\n",
      "Attribution for batch 6 complete\n",
      "Attribution for batch 7 complete\n",
      "Attribution for batch 8 complete\n",
      "Attribution for batch 9 complete\n",
      "Attribution for batch 10 complete\n",
      "Attribution for batch 11 complete\n",
      "Attribution for batch 12 complete\n",
      "Attribution for batch 13 complete\n",
      "Attribution for batch 14 complete\n",
      "Attribution for batch 15 complete\n",
      "Attribution for batch 16 complete\n",
      "Attribution for batch 17 complete\n",
      "Attribution for batch 18 complete\n",
      "Attribution for batch 19 complete\n",
      "Attribution for batch 20 complete\n",
      "Attribution for batch 21 complete\n",
      "Attribution for batch 22 complete\n",
      "Attribution for batch 23 complete\n",
      "Attribution for batch 24 complete\n",
      "Attribution for batch 25 complete\n",
      "Attribution for batch 26 complete\n",
      "Attribution for batch 27 complete\n",
      "Attribution for batch 28 complete\n",
      "Attribution for batch 29 complete\n",
      "Attribution for batch 30 complete\n",
      "Attribution for batch 31 complete\n",
      "Attribution for batch 32 complete\n",
      "Attribution for batch 33 complete\n",
      "Attribution for batch 34 complete\n",
      "Attribution for batch 35 complete\n",
      "Attribution for batch 36 complete\n",
      "Attribution for batch 37 complete\n",
      "Attribution for batch 38 complete\n",
      "Attribution for batch 39 complete\n",
      "Attribution for batch 40 complete\n",
      "Attribution for batch 41 complete\n",
      "Attribution for batch 42 complete\n",
      "Attribution for batch 43 complete\n",
      "Attribution for batch 44 complete\n",
      "Attribution for batch 45 complete\n",
      "Attribution Complete\n"
     ]
    }
   ],
   "source": [
    "ben_res, adv_res = run(model, val_loader, ep[0], \"fgsm\", \"m1\")"
   ]
  },
  {
   "cell_type": "code",
   "execution_count": 61,
   "id": "5c1eee9a-df8c-4425-a283-52224eeeeea8",
   "metadata": {
    "tags": []
   },
   "outputs": [
    {
     "data": {
      "image/png": "[encoded data removed]",
      "text/plain": [
       "<Figure size 640x480 with 1 Axes>"
      ]
     },
     "metadata": {},
     "output_type": "display_data"
    },
    {
     "name": "stdout",
     "output_type": "stream",
     "text": [
      "[0.1008174386920981, 0, 0, 0]\n",
      "[0.46321525885558584, 0, 0, 0]\n"
     ]
    },
    {
     "data": {
      "image/png": "[encoded data removed]",
      "text/plain": [
       "<Figure size 640x480 with 1 Axes>"
      ]
     },
     "metadata": {},
     "output_type": "display_data"
    }
   ],
   "source": [
    "ind = 0\n",
    "plt.hist(ben_res[ind], label='Benign', color='blue', bins=30)\n",
    "plt.hist(adv_res[ind], label='FGSM 8/255',color='red', alpha=0.7, bins=30)\n",
    "\n",
    "\n",
    "plt.legend()\n",
    "plt.show()\n",
    "import roc_curve\n",
    "x1, y1 = roc_curve.min_roc_curve(ben_res[ind], adv_res[ind], 1000)\n",
    "\n",
    "fpr_res = [0, 0, 0, 0]\n",
    "tpr_res = [0, 0, 0, 0]\n",
    "i = 0\n",
    "for a in x1:\n",
    "    if abs(a - 0.1) < abs(fpr_res[0] - 0.1):\n",
    "        fpr_res[0] = a\n",
    "        tpr_res[0] = y1[i]\n",
    "    i+=1\n",
    "        \n",
    "print(fpr_res)\n",
    "print(tpr_res)\n",
    "\n",
    "plt.plot(x1, y1, \"red\", linestyle = 'dotted')\n",
    "plt.show()"
   ]
  },
  {
   "cell_type": "code",
   "execution_count": 62,
   "id": "c095b865-eb2f-47f1-963a-741277598908",
   "metadata": {
    "tags": []
   },
   "outputs": [
    {
     "name": "stdout",
     "output_type": "stream",
     "text": [
      "Attribution for batch 0 complete\n",
      "Attribution for batch 1 complete\n",
      "Attribution for batch 2 complete\n",
      "Attribution for batch 3 complete\n",
      "Attribution for batch 4 complete\n",
      "Attribution for batch 5 complete\n",
      "Attribution for batch 6 complete\n",
      "Attribution for batch 7 complete\n",
      "Attribution for batch 8 complete\n",
      "Attribution for batch 9 complete\n",
      "Attribution for batch 10 complete\n",
      "Attribution for batch 11 complete\n",
      "Attribution for batch 12 complete\n",
      "Attribution for batch 13 complete\n",
      "Attribution for batch 14 complete\n",
      "Attribution for batch 15 complete\n",
      "Attribution for batch 16 complete\n",
      "Attribution for batch 17 complete\n",
      "Attribution for batch 18 complete\n",
      "Attribution for batch 19 complete\n",
      "Attribution for batch 20 complete\n",
      "Attribution for batch 21 complete\n",
      "Attribution for batch 22 complete\n",
      "Attribution for batch 23 complete\n",
      "Attribution for batch 24 complete\n",
      "Attribution for batch 25 complete\n",
      "Attribution for batch 26 complete\n",
      "Attribution for batch 27 complete\n",
      "Attribution for batch 28 complete\n",
      "Attribution for batch 29 complete\n",
      "Attribution for batch 30 complete\n",
      "Attribution for batch 31 complete\n",
      "Attribution for batch 32 complete\n",
      "Attribution for batch 33 complete\n",
      "Attribution for batch 34 complete\n",
      "Attribution for batch 35 complete\n",
      "Attribution for batch 36 complete\n",
      "Attribution for batch 37 complete\n",
      "Attribution for batch 38 complete\n",
      "Attribution for batch 39 complete\n",
      "Attribution for batch 40 complete\n",
      "Attribution for batch 41 complete\n",
      "Attribution for batch 42 complete\n",
      "Attribution for batch 43 complete\n",
      "Attribution for batch 44 complete\n",
      "Attribution for batch 45 complete\n",
      "Attribution Complete\n"
     ]
    }
   ],
   "source": [
    "ben_res, adv_res = run(model, val_loader, ep[0], \"fgsm\", \"m2,1\")"
   ]
  },
  {
   "cell_type": "code",
   "execution_count": 65,
   "id": "7ddbd7e6-1c10-4330-94c8-9f16f53a83d3",
   "metadata": {
    "tags": []
   },
   "outputs": [
    {
     "data": {
      "image/png": "[encoded data removed]",
      "text/plain": [
       "<Figure size 640x480 with 1 Axes>"
      ]
     },
     "metadata": {},
     "output_type": "display_data"
    },
    {
     "name": "stdout",
     "output_type": "stream",
     "text": [
      "[0.09809264305177112, 0, 0, 0]\n",
      "[0.3528610354223433, 0, 0, 0]\n"
     ]
    },
    {
     "data": {
      "image/png": "[encoded data removed]",
      "text/plain": [
       "<Figure size 640x480 with 1 Axes>"
      ]
     },
     "metadata": {},
     "output_type": "display_data"
    }
   ],
   "source": [
    "ind = 2\n",
    "plt.hist(ben_res[ind], label='Benign', color='blue', bins=30)\n",
    "plt.hist(adv_res[ind], label='FGSM 8/255',color='red', alpha=0.7, bins=30)\n",
    "\n",
    "\n",
    "plt.legend()\n",
    "plt.show()\n",
    "import roc_curve\n",
    "x1, y1 = roc_curve.min_roc_curve(ben_res[ind], adv_res[ind], 1000)\n",
    "\n",
    "fpr_res = [0, 0, 0, 0]\n",
    "tpr_res = [0, 0, 0, 0]\n",
    "i = 0\n",
    "for a in x1:\n",
    "    if abs(a - 0.1) < abs(fpr_res[0] - 0.1):\n",
    "        fpr_res[0] = a\n",
    "        tpr_res[0] = y1[i]\n",
    "    i+=1\n",
    "        \n",
    "print(fpr_res)\n",
    "print(tpr_res)\n",
    "\n",
    "plt.plot(x1, y1, \"red\", linestyle = 'dotted')\n",
    "plt.show()"
   ]
  },
  {
   "cell_type": "markdown",
   "id": "1d79814c-0bc2-47a4-aa35-495bd75e7da7",
   "metadata": {},
   "source": [
    "# Sensitivity"
   ]
  },
  {
   "cell_type": "code",
   "execution_count": 19,
   "id": "d4d8f0ae-e2f5-429d-bca2-a98bdfa72681",
   "metadata": {},
   "outputs": [],
   "source": [
    "from skimage.util import random_noise\n",
    "\n",
    "def m3(model, x, norm):\n",
    "    x = x.detach()\n",
    "    _, y = model(x.unsqueeze(0)).max(1)\n",
    "    grad = gradient(model, x, y)\n",
    "    x_not = x+grad\n",
    "    x_not = x_not.detach()\n",
    "    _, y_not = model(x_not.unsqueeze(0)).max(1)\n",
    "    grad_not = gradient(model, x_not, y_not)\n",
    "    return torch.cdist(grad, grad_not, norm).cpu().detach().numpy()[0][0]"
   ]
  },
  {
   "cell_type": "code",
   "execution_count": 20,
   "id": "5d76063d-e9ad-4405-a536-a281263952ae",
   "metadata": {},
   "outputs": [],
   "source": [
    "def m4(model, x, norm):\n",
    "    x = x.detach()\n",
    "    _, y = model(x.unsqueeze(0)).max(1)\n",
    "    grad = gradient(model, x, y)\n",
    "    x_not = random_noise(x.cpu(), mode='gaussian')\n",
    "    x_not = torch.from_numpy(x_not).to(device)\n",
    "    x_not = x_not.type(torch.cuda.FloatTensor)\n",
    "    _, y_not = model(x_not.unsqueeze(0)).max(1)\n",
    "    grad_not = gradient(model, x_not, y_not)\n",
    "    return torch.cdist(grad, grad_not, norm).cpu().detach().numpy()[0][0]"
   ]
  },
  {
   "cell_type": "code",
   "execution_count": 26,
   "id": "7aafc6d2-d33c-4b7f-bac3-73e2698a1c4c",
   "metadata": {},
   "outputs": [],
   "source": [
    "def run_m3(model, val_loader, eps, attack, defense):\n",
    "    gc.collect()\n",
    "    torch.cuda.empty_cache()\n",
    "    \n",
    "    dataiter = iter(val_loader)\n",
    "    \n",
    "    adv_res = []\n",
    "    ben_res= []\n",
    "    \n",
    "    for i in range(len(val_loader)):\n",
    "        images, labels = next(dataiter)\n",
    "        images = images.to(device)\n",
    "        labels = labels.to(device)\n",
    "        for ind in range(len(images)):\n",
    "            gc.collect()\n",
    "            torch.cuda.empty_cache()\n",
    "            input = images[ind]\n",
    "            \n",
    "            if defense == \"m3,1\":\n",
    "                ben = m3(model, input, 1)\n",
    "            elif defense == \"m3,2\":\n",
    "                ben = m3(model, input, 2)\n",
    "            elif defense == \"m3,inf\":\n",
    "                ben = m3(model, input, np.inf)\n",
    "                \n",
    "            ben_res.append(ben)\n",
    "            \n",
    "            if attack == \"pgd\":\n",
    "                alpha = eps/10\n",
    "                steps = 20\n",
    "                input = projected_gradient_descent(model, input.unsqueeze(0), eps, alpha, steps, np.inf)[0]\n",
    "            elif attack == \"fgsm\":\n",
    "                input = fast_gradient_method(model, input.unsqueeze(0), eps, np.inf)[0]\n",
    "            \n",
    "            \n",
    "            if defense == \"m3,1\":\n",
    "                adv = m3(model, input, 1)\n",
    "            elif defense == \"m3,2\":\n",
    "                adv = m3(model, input, 2)\n",
    "            elif defense == \"m3,inf\":\n",
    "                adv = m3(model, input, np.inf)\n",
    "                \n",
    "            adv_res.append(adv)\n",
    "            \n",
    "            gc.collect()\n",
    "            torch.cuda.empty_cache()\n",
    "                   \n",
    "    print(\"Attribution Complete\")\n",
    "    \n",
    "    return ben_res, adv_res"
   ]
  },
  {
   "cell_type": "code",
   "execution_count": null,
   "id": "4e340658-8298-49ff-9d9b-ebccfae5eafc",
   "metadata": {
    "tags": []
   },
   "outputs": [
    {
     "name": "stdout",
     "output_type": "stream",
     "text": [
      "Attribution Complete\n",
      "Attribution Complete\n"
     ]
    }
   ],
   "source": [
    "gc.collect()\n",
    "torch.cuda.empty_cache()\n",
    "\n",
    "ben_res = [] \n",
    "adv_res = []\n",
    "for eps in ep:\n",
    "    gc.collect()\n",
    "    torch.cuda.empty_cache()\n",
    "    x, y = run_m3(model, val_loader, eps, \"pgd\", \"m3,inf\")\n",
    "    ben_res.append(x)\n",
    "    adv_res.append(y)"
   ]
  },
  {
   "cell_type": "code",
   "execution_count": null,
   "id": "c020c038-73ac-4b9e-8152-1f4e7ba0ef56",
   "metadata": {
    "tags": []
   },
   "outputs": [],
   "source": [
    "plt.title(\"ISIC PGD E2\")\n",
    "plt.hist(ben_res[0][0], label='Benign', color='blue', bins=30)\n",
    "plt.hist(adv_res[0][0], label='PGD 4/255',color='red', alpha=0.7, bins=30)\n",
    "plt.hist(adv_res[1][0], label='PGD 8/255',color='green', alpha=0.7, bins=30)\n",
    "plt.hist(adv_res[2][0], label='PGD 16/255',color='purple', alpha=0.7, bins=30)\n",
    "plt.hist(adv_res[3][0], label='PGD 32/255',color='yellow', alpha=0.7, bins=30)\n",
    "\n",
    "plt.legend()\n",
    "plt.show()\n",
    "import roc_curve\n",
    "x1, y1 = roc_curve.max_roc_curve(ben_res[0][0], adv_res[0][0], 1000)\n",
    "x2, y2 = roc_curve.min_roc_curve(ben_res[1][0], adv_res[1][0], 1000)\n",
    "x3, y3 = roc_curve.min_roc_curve(ben_res[2][0], adv_res[2][0], 1000)\n",
    "x4, y4 = roc_curve.min_roc_curve(ben_res[3][0], adv_res[3][0], 1000)\n",
    "\n",
    "fpr_res = [0, 0, 0, 0]\n",
    "tpr_res = [0, 0, 0, 0]\n",
    "i = 0\n",
    "for a, b, c, d in zip(x1, x2, x3, x4):\n",
    "    if abs(a - 0.1) < abs(fpr_res[0] - 0.1):\n",
    "        fpr_res[0] = a\n",
    "        tpr_res[0] = y1[i]\n",
    "    if abs(b - 0.1) < abs(fpr_res[1] - 0.1):\n",
    "        fpr_res[1] = b\n",
    "        tpr_res[1] = y2[i]\n",
    "    if abs(c - 0.1) < abs(fpr_res[2] - 0.1):\n",
    "        fpr_res[2] = c\n",
    "        tpr_res[2] = y3[i]\n",
    "    if abs(d - 0.1) < abs(fpr_res[3] - 0.1):\n",
    "        fpr_res[3] = d\n",
    "        tpr_res[3] = y4[i]\n",
    "    i+=1\n",
    "        \n",
    "print(fpr_res)\n",
    "print(tpr_res)\n",
    "\n",
    "plt.title(\"ISIC PGD E2\")\n",
    "plt.plot(x1, y1, \"red\", linestyle = 'dotted', label = 'PGD 4/255')\n",
    "plt.plot(x2, y2, \"blue\", linestyle = 'dotted', label = 'PGD 8/255')\n",
    "plt.plot(x3, y3, \"green\", linestyle = 'dotted', label = 'PGD 16/255')\n",
    "plt.plot(x4, y4, \"purple\", linestyle = 'dotted', label = 'PGD 32/255')\n",
    "plt.show()"
   ]
  }
 ],
 "metadata": {
  "availableInstances": [
   {
    "_defaultOrder": 0,
    "_isFastLaunch": true,
    "category": "General purpose",
    "gpuNum": 0,
    "hideHardwareSpecs": false,
    "memoryGiB": 4,
    "name": "ml.t3.medium",
    "vcpuNum": 2
   },
   {
    "_defaultOrder": 1,
    "_isFastLaunch": false,
    "category": "General purpose",
    "gpuNum": 0,
    "hideHardwareSpecs": false,
    "memoryGiB": 8,
    "name": "ml.t3.large",
    "vcpuNum": 2
   },
   {
    "_defaultOrder": 2,
    "_isFastLaunch": false,
    "category": "General purpose",
    "gpuNum": 0,
    "hideHardwareSpecs": false,
    "memoryGiB": 16,
    "name": "ml.t3.xlarge",
    "vcpuNum": 4
   },
   {
    "_defaultOrder": 3,
    "_isFastLaunch": false,
    "category": "General purpose",
    "gpuNum": 0,
    "hideHardwareSpecs": false,
    "memoryGiB": 32,
    "name": "ml.t3.2xlarge",
    "vcpuNum": 8
   },
   {
    "_defaultOrder": 4,
    "_isFastLaunch": true,
    "category": "General purpose",
    "gpuNum": 0,
    "hideHardwareSpecs": false,
    "memoryGiB": 8,
    "name": "ml.m5.large",
    "vcpuNum": 2
   },
   {
    "_defaultOrder": 5,
    "_isFastLaunch": false,
    "category": "General purpose",
    "gpuNum": 0,
    "hideHardwareSpecs": false,
    "memoryGiB": 16,
    "name": "ml.m5.xlarge",
    "vcpuNum": 4
   },
   {
    "_defaultOrder": 6,
    "_isFastLaunch": false,
    "category": "General purpose",
    "gpuNum": 0,
    "hideHardwareSpecs": false,
    "memoryGiB": 32,
    "name": "ml.m5.2xlarge",
    "vcpuNum": 8
   },
   {
    "_defaultOrder": 7,
    "_isFastLaunch": false,
    "category": "General purpose",
    "gpuNum": 0,
    "hideHardwareSpecs": false,
    "memoryGiB": 64,
    "name": "ml.m5.4xlarge",
    "vcpuNum": 16
   },
   {
    "_defaultOrder": 8,
    "_isFastLaunch": false,
    "category": "General purpose",
    "gpuNum": 0,
    "hideHardwareSpecs": false,
    "memoryGiB": 128,
    "name": "ml.m5.8xlarge",
    "vcpuNum": 32
   },
   {
    "_defaultOrder": 9,
    "_isFastLaunch": false,
    "category": "General purpose",
    "gpuNum": 0,
    "hideHardwareSpecs": false,
    "memoryGiB": 192,
    "name": "ml.m5.12xlarge",
    "vcpuNum": 48
   },
   {
    "_defaultOrder": 10,
    "_isFastLaunch": false,
    "category": "General purpose",
    "gpuNum": 0,
    "hideHardwareSpecs": false,
    "memoryGiB": 256,
    "name": "ml.m5.16xlarge",
    "vcpuNum": 64
   },
   {
    "_defaultOrder": 11,
    "_isFastLaunch": false,
    "category": "General purpose",
    "gpuNum": 0,
    "hideHardwareSpecs": false,
    "memoryGiB": 384,
    "name": "ml.m5.24xlarge",
    "vcpuNum": 96
   },
   {
    "_defaultOrder": 12,
    "_isFastLaunch": false,
    "category": "General purpose",
    "gpuNum": 0,
    "hideHardwareSpecs": false,
    "memoryGiB": 8,
    "name": "ml.m5d.large",
    "vcpuNum": 2
   },
   {
    "_defaultOrder": 13,
    "_isFastLaunch": false,
    "category": "General purpose",
    "gpuNum": 0,
    "hideHardwareSpecs": false,
    "memoryGiB": 16,
    "name": "ml.m5d.xlarge",
    "vcpuNum": 4
   },
   {
    "_defaultOrder": 14,
    "_isFastLaunch": false,
    "category": "General purpose",
    "gpuNum": 0,
    "hideHardwareSpecs": false,
    "memoryGiB": 32,
    "name": "ml.m5d.2xlarge",
    "vcpuNum": 8
   },
   {
    "_defaultOrder": 15,
    "_isFastLaunch": false,
    "category": "General purpose",
    "gpuNum": 0,
    "hideHardwareSpecs": false,
    "memoryGiB": 64,
    "name": "ml.m5d.4xlarge",
    "vcpuNum": 16
   },
   {
    "_defaultOrder": 16,
    "_isFastLaunch": false,
    "category": "General purpose",
    "gpuNum": 0,
    "hideHardwareSpecs": false,
    "memoryGiB": 128,
    "name": "ml.m5d.8xlarge",
    "vcpuNum": 32
   },
   {
    "_defaultOrder": 17,
    "_isFastLaunch": false,
    "category": "General purpose",
    "gpuNum": 0,
    "hideHardwareSpecs": false,
    "memoryGiB": 192,
    "name": "ml.m5d.12xlarge",
    "vcpuNum": 48
   },
   {
    "_defaultOrder": 18,
    "_isFastLaunch": false,
    "category": "General purpose",
    "gpuNum": 0,
    "hideHardwareSpecs": false,
    "memoryGiB": 256,
    "name": "ml.m5d.16xlarge",
    "vcpuNum": 64
   },
   {
    "_defaultOrder": 19,
    "_isFastLaunch": false,
    "category": "General purpose",
    "gpuNum": 0,
    "hideHardwareSpecs": false,
    "memoryGiB": 384,
    "name": "ml.m5d.24xlarge",
    "vcpuNum": 96
   },
   {
    "_defaultOrder": 20,
    "_isFastLaunch": false,
    "category": "General purpose",
    "gpuNum": 0,
    "hideHardwareSpecs": true,
    "memoryGiB": 0,
    "name": "ml.geospatial.interactive",
    "supportedImageNames": [
     "sagemaker-geospatial-v1-0"
    ],
    "vcpuNum": 0
   },
   {
    "_defaultOrder": 21,
    "_isFastLaunch": true,
    "category": "Compute optimized",
    "gpuNum": 0,
    "hideHardwareSpecs": false,
    "memoryGiB": 4,
    "name": "ml.c5.large",
    "vcpuNum": 2
   },
   {
    "_defaultOrder": 22,
    "_isFastLaunch": false,
    "category": "Compute optimized",
    "gpuNum": 0,
    "hideHardwareSpecs": false,
    "memoryGiB": 8,
    "name": "ml.c5.xlarge",
    "vcpuNum": 4
   },
   {
    "_defaultOrder": 23,
    "_isFastLaunch": false,
    "category": "Compute optimized",
    "gpuNum": 0,
    "hideHardwareSpecs": false,
    "memoryGiB": 16,
    "name": "ml.c5.2xlarge",
    "vcpuNum": 8
   },
   {
    "_defaultOrder": 24,
    "_isFastLaunch": false,
    "category": "Compute optimized",
    "gpuNum": 0,
    "hideHardwareSpecs": false,
    "memoryGiB": 32,
    "name": "ml.c5.4xlarge",
    "vcpuNum": 16
   },
   {
    "_defaultOrder": 25,
    "_isFastLaunch": false,
    "category": "Compute optimized",
    "gpuNum": 0,
    "hideHardwareSpecs": false,
    "memoryGiB": 72,
    "name": "ml.c5.9xlarge",
    "vcpuNum": 36
   },
   {
    "_defaultOrder": 26,
    "_isFastLaunch": false,
    "category": "Compute optimized",
    "gpuNum": 0,
    "hideHardwareSpecs": false,
    "memoryGiB": 96,
    "name": "ml.c5.12xlarge",
    "vcpuNum": 48
   },
   {
    "_defaultOrder": 27,
    "_isFastLaunch": false,
    "category": "Compute optimized",
    "gpuNum": 0,
    "hideHardwareSpecs": false,
    "memoryGiB": 144,
    "name": "ml.c5.18xlarge",
    "vcpuNum": 72
   },
   {
    "_defaultOrder": 28,
    "_isFastLaunch": false,
    "category": "Compute optimized",
    "gpuNum": 0,
    "hideHardwareSpecs": false,
    "memoryGiB": 192,
    "name": "ml.c5.24xlarge",
    "vcpuNum": 96
   },
   {
    "_defaultOrder": 29,
    "_isFastLaunch": true,
    "category": "Accelerated computing",
    "gpuNum": 1,
    "hideHardwareSpecs": false,
    "memoryGiB": 16,
    "name": "ml.g4dn.xlarge",
    "vcpuNum": 4
   },
   {
    "_defaultOrder": 30,
    "_isFastLaunch": false,
    "category": "Accelerated computing",
    "gpuNum": 1,
    "hideHardwareSpecs": false,
    "memoryGiB": 32,
    "name": "ml.g4dn.2xlarge",
    "vcpuNum": 8
   },
   {
    "_defaultOrder": 31,
    "_isFastLaunch": false,
    "category": "Accelerated computing",
    "gpuNum": 1,
    "hideHardwareSpecs": false,
    "memoryGiB": 64,
    "name": "ml.g4dn.4xlarge",
    "vcpuNum": 16
   },
   {
    "_defaultOrder": 32,
    "_isFastLaunch": false,
    "category": "Accelerated computing",
    "gpuNum": 1,
    "hideHardwareSpecs": false,
    "memoryGiB": 128,
    "name": "ml.g4dn.8xlarge",
    "vcpuNum": 32
   },
   {
    "_defaultOrder": 33,
    "_isFastLaunch": false,
    "category": "Accelerated computing",
    "gpuNum": 4,
    "hideHardwareSpecs": false,
    "memoryGiB": 192,
    "name": "ml.g4dn.12xlarge",
    "vcpuNum": 48
   },
   {
    "_defaultOrder": 34,
    "_isFastLaunch": false,
    "category": "Accelerated computing",
    "gpuNum": 1,
    "hideHardwareSpecs": false,
    "memoryGiB": 256,
    "name": "ml.g4dn.16xlarge",
    "vcpuNum": 64
   },
   {
    "_defaultOrder": 35,
    "_isFastLaunch": false,
    "category": "Accelerated computing",
    "gpuNum": 1,
    "hideHardwareSpecs": false,
    "memoryGiB": 61,
    "name": "ml.p3.2xlarge",
    "vcpuNum": 8
   },
   {
    "_defaultOrder": 36,
    "_isFastLaunch": false,
    "category": "Accelerated computing",
    "gpuNum": 4,
    "hideHardwareSpecs": false,
    "memoryGiB": 244,
    "name": "ml.p3.8xlarge",
    "vcpuNum": 32
   },
   {
    "_defaultOrder": 37,
    "_isFastLaunch": false,
    "category": "Accelerated computing",
    "gpuNum": 8,
    "hideHardwareSpecs": false,
    "memoryGiB": 488,
    "name": "ml.p3.16xlarge",
    "vcpuNum": 64
   },
   {
    "_defaultOrder": 38,
    "_isFastLaunch": false,
    "category": "Accelerated computing",
    "gpuNum": 8,
    "hideHardwareSpecs": false,
    "memoryGiB": 768,
    "name": "ml.p3dn.24xlarge",
    "vcpuNum": 96
   },
   {
    "_defaultOrder": 39,
    "_isFastLaunch": false,
    "category": "Memory Optimized",
    "gpuNum": 0,
    "hideHardwareSpecs": false,
    "memoryGiB": 16,
    "name": "ml.r5.large",
    "vcpuNum": 2
   },
   {
    "_defaultOrder": 40,
    "_isFastLaunch": false,
    "category": "Memory Optimized",
    "gpuNum": 0,
    "hideHardwareSpecs": false,
    "memoryGiB": 32,
    "name": "ml.r5.xlarge",
    "vcpuNum": 4
   },
   {
    "_defaultOrder": 41,
    "_isFastLaunch": false,
    "category": "Memory Optimized",
    "gpuNum": 0,
    "hideHardwareSpecs": false,
    "memoryGiB": 64,
    "name": "ml.r5.2xlarge",
    "vcpuNum": 8
   },
   {
    "_defaultOrder": 42,
    "_isFastLaunch": false,
    "category": "Memory Optimized",
    "gpuNum": 0,
    "hideHardwareSpecs": false,
    "memoryGiB": 128,
    "name": "ml.r5.4xlarge",
    "vcpuNum": 16
   },
   {
    "_defaultOrder": 43,
    "_isFastLaunch": false,
    "category": "Memory Optimized",
    "gpuNum": 0,
    "hideHardwareSpecs": false,
    "memoryGiB": 256,
    "name": "ml.r5.8xlarge",
    "vcpuNum": 32
   },
   {
    "_defaultOrder": 44,
    "_isFastLaunch": false,
    "category": "Memory Optimized",
    "gpuNum": 0,
    "hideHardwareSpecs": false,
    "memoryGiB": 384,
    "name": "ml.r5.12xlarge",
    "vcpuNum": 48
   },
   {
    "_defaultOrder": 45,
    "_isFastLaunch": false,
    "category": "Memory Optimized",
    "gpuNum": 0,
    "hideHardwareSpecs": false,
    "memoryGiB": 512,
    "name": "ml.r5.16xlarge",
    "vcpuNum": 64
   },
   {
    "_defaultOrder": 46,
    "_isFastLaunch": false,
    "category": "Memory Optimized",
    "gpuNum": 0,
    "hideHardwareSpecs": false,
    "memoryGiB": 768,
    "name": "ml.r5.24xlarge",
    "vcpuNum": 96
   },
   {
    "_defaultOrder": 47,
    "_isFastLaunch": false,
    "category": "Accelerated computing",
    "gpuNum": 1,
    "hideHardwareSpecs": false,
    "memoryGiB": 16,
    "name": "ml.g5.xlarge",
    "vcpuNum": 4
   },
   {
    "_defaultOrder": 48,
    "_isFastLaunch": false,
    "category": "Accelerated computing",
    "gpuNum": 1,
    "hideHardwareSpecs": false,
    "memoryGiB": 32,
    "name": "ml.g5.2xlarge",
    "vcpuNum": 8
   },
   {
    "_defaultOrder": 49,
    "_isFastLaunch": false,
    "category": "Accelerated computing",
    "gpuNum": 1,
    "hideHardwareSpecs": false,
    "memoryGiB": 64,
    "name": "ml.g5.4xlarge",
    "vcpuNum": 16
   },
   {
    "_defaultOrder": 50,
    "_isFastLaunch": false,
    "category": "Accelerated computing",
    "gpuNum": 1,
    "hideHardwareSpecs": false,
    "memoryGiB": 128,
    "name": "ml.g5.8xlarge",
    "vcpuNum": 32
   },
   {
    "_defaultOrder": 51,
    "_isFastLaunch": false,
    "category": "Accelerated computing",
    "gpuNum": 1,
    "hideHardwareSpecs": false,
    "memoryGiB": 256,
    "name": "ml.g5.16xlarge",
    "vcpuNum": 64
   },
   {
    "_defaultOrder": 52,
    "_isFastLaunch": false,
    "category": "Accelerated computing",
    "gpuNum": 4,
    "hideHardwareSpecs": false,
    "memoryGiB": 192,
    "name": "ml.g5.12xlarge",
    "vcpuNum": 48
   },
   {
    "_defaultOrder": 53,
    "_isFastLaunch": false,
    "category": "Accelerated computing",
    "gpuNum": 4,
    "hideHardwareSpecs": false,
    "memoryGiB": 384,
    "name": "ml.g5.24xlarge",
    "vcpuNum": 96
   },
   {
    "_defaultOrder": 54,
    "_isFastLaunch": false,
    "category": "Accelerated computing",
    "gpuNum": 8,
    "hideHardwareSpecs": false,
    "memoryGiB": 768,
    "name": "ml.g5.48xlarge",
    "vcpuNum": 192
   },
   {
    "_defaultOrder": 55,
    "_isFastLaunch": false,
    "category": "Accelerated computing",
    "gpuNum": 8,
    "hideHardwareSpecs": false,
    "memoryGiB": 1152,
    "name": "ml.p4d.24xlarge",
    "vcpuNum": 96
   },
   {
    "_defaultOrder": 56,
    "_isFastLaunch": false,
    "category": "Accelerated computing",
    "gpuNum": 8,
    "hideHardwareSpecs": false,
    "memoryGiB": 1152,
    "name": "ml.p4de.24xlarge",
    "vcpuNum": 96
   },
   {
    "_defaultOrder": 57,
    "_isFastLaunch": false,
    "category": "Accelerated computing",
    "gpuNum": 0,
    "hideHardwareSpecs": false,
    "memoryGiB": 32,
    "name": "ml.trn1.2xlarge",
    "vcpuNum": 8
   },
   {
    "_defaultOrder": 58,
    "_isFastLaunch": false,
    "category": "Accelerated computing",
    "gpuNum": 0,
    "hideHardwareSpecs": false,
    "memoryGiB": 512,
    "name": "ml.trn1.32xlarge",
    "vcpuNum": 128
   },
   {
    "_defaultOrder": 59,
    "_isFastLaunch": false,
    "category": "Accelerated computing",
    "gpuNum": 0,
    "hideHardwareSpecs": false,
    "memoryGiB": 512,
    "name": "ml.trn1n.32xlarge",
    "vcpuNum": 128
   }
  ],
  "kernelspec": {
   "display_name": "Python 3 (Data Science 3.0)",
   "language": "python",
   "name": "python3__SAGEMAKER_INTERNAL__arn:aws:sagemaker:us-east-2:429704687514:image/sagemaker-data-science-310-v1"
  },
  "language_info": {
   "codemirror_mode": {
    "name": "ipython",
    "version": 3
   },
   "file_extension": ".py",
   "mimetype": "text/x-python",
   "name": "python",
   "nbconvert_exporter": "python",
   "pygments_lexer": "ipython3",
   "version": "3.10.6"
  }
 },
 "nbformat": 4,
 "nbformat_minor": 5
}
