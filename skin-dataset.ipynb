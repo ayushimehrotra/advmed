{
 "cells": [
  {
   "cell_type": "code",
   "execution_count": null,
   "id": "a533fdfa-6ffb-4449-a395-e1d77b308f71",
   "metadata": {},
   "outputs": [],
   "source": [
    "!pip install -q kaggle\n",
    "!mkdir ~/.kaggle\n",
    "!touch ~/.kaggle/kaggle.json\n",
    "\n",
    "api_token = {\"username\":\"\",\"key\":\"\"}\n",
    "\n",
    "import json\n",
    "\n",
    "with open('/root/.kaggle/kaggle.json', 'w') as file:\n",
    "    json.dump(api_token, file)\n",
    "\n",
    "!chmod 600 ~/.kaggle/kaggle.json\n",
    "\n",
    "!kaggle datasets download -d kmader/skin-cancer-mnist-ham10000\n",
    "\n",
    "import zipfile \n",
    "with zipfile.ZipFile('./skin-cancer-mnist-ham10000.zip', 'r') as zip_ref:\n",
    "    zip_ref.extractall('./data/skin')"
   ]
  }
 ],
 "metadata": {
  "kernelspec": {
   "display_name": "",
   "name": ""
  },
  "language_info": {
   "name": ""
  }
 },
 "nbformat": 4,
 "nbformat_minor": 5
}
